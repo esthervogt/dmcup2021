{
 "cells": [
  {
   "cell_type": "markdown",
   "metadata": {},
   "source": [
    "# Data Pre-Processing"
   ]
  },
  {
   "cell_type": "raw",
   "metadata": {},
   "source": [
    "# Author: Esther Vogt\n",
    "# Creation Date: 11.05.2021\n",
    "# Purpose: Pre-processing of raw data + external data / Generation of header-itemset\n",
    "\n",
    "# Todo:\n",
    "# - sentence embeddings @Estelle\n",
    "\n",
    "# In Progress:\n",
    "# - in google docs: language / publishing date matchen @Esther\n",
    "\n",
    "# Done:\n",
    "# - titel preprocessing: stop word removal / Kommentare wie taschenbuch/editions etc. @Esther\n",
    "# - create superset @Esther \n",
    "# - pull main topic and sub topic together @Esther"
   ]
  },
  {
   "cell_type": "markdown",
   "metadata": {},
   "source": [
    "## Settings & User Input"
   ]
  },
  {
   "cell_type": "code",
   "execution_count": 16,
   "metadata": {
    "pycharm": {
     "name": "#%%\n"
    }
   },
   "outputs": [],
   "source": [
    "########################################################################################################################\n",
    "# Imports & Settings\n",
    "########################################################################################################################\n",
    "\n",
    "import pandas as pd\n",
    "from collections import Counter\n",
    "import matplotlib.pyplot as plt\n",
    "import seaborn as sns\n",
    "import numpy as np\n",
    "import os\n",
    "import re\n",
    "import time\n",
    "import pycountry\n",
    "from pandas.core.common import flatten\n",
    "from functools import reduce"
   ]
  },
  {
   "cell_type": "code",
   "execution_count": 17,
   "metadata": {
    "pycharm": {
     "name": "#%%\n"
    }
   },
   "outputs": [],
   "source": [
    "# allow display of all rows (with scrollbar)\n",
    "pd.set_option(\"display.max_rows\", 10) #pd.set_option(\"display.max_rows\", None)"
   ]
  },
  {
   "cell_type": "code",
   "execution_count": 18,
   "metadata": {
    "pycharm": {
     "name": "#%%\n"
    }
   },
   "outputs": [],
   "source": [
    "########################################################################################################################\n",
    "# User Input\n",
    "########################################################################################################################\n",
    "\n",
    "# source data file paths\n",
    "transactions_path = '../data/external/transactions.csv'\n",
    "evaluation_path = '../data/external/evaluation.csv'\n",
    "items_path = '../data/external/items.csv'\n",
    "subject_cats_0_path = '../data/external/subject_cats_0.csv'\n",
    "gbooks_path = '../data/external/gbooks_final.json'\n",
    "\n",
    "# pre-processed data file paths (incl. language flags)\n",
    "transactions_path_pp = '../data/processed/transactions_pp.csv'\n",
    "items_path_pp = '../data/processed/items_pp.csv'\n",
    "header_items_path_pp = '../data/processed/header_items_pp.csv'\n",
    "gbooks_volumeInfo_path_pp = '../data/processed/gbooks_volumeInfo_pp.feather'\n",
    "\n",
    "# seaborn color palette\n",
    "palette_blue = \"Blues_d\"\n",
    "dark_blue = \"#011f4b\"\n",
    "middle_blue = \"#005b96\"\n",
    "light_blue = \"#b3cde0\"\n",
    "\n",
    "# determine: re-calculate certain details\n",
    "recompute_lg_flg = False # calculated language flags \n",
    "recompute_gbooks_volumeInfo = False # volumeInfo per book pulled from GoogleAPI"
   ]
  },
  {
   "cell_type": "markdown",
   "metadata": {},
   "source": [
    "## Functions"
   ]
  },
  {
   "cell_type": "code",
   "execution_count": 19,
   "metadata": {
    "pycharm": {
     "name": "#%%\n"
    }
   },
   "outputs": [],
   "source": [
    "########################################################################################################################\n",
    "# Functions\n",
    "########################################################################################################################\n",
    "\n",
    "def clean_alt_list(list_):\n",
    "#     list_ = list_.replace(', ', ',')\n",
    "    list_ = list_.replace('[', '')\n",
    "    list_ = list_.replace(']', '')\n",
    "    return list_\n",
    "\n",
    "\n",
    "def items_initial_col_processing(items_df, drop_original=True):\n",
    "    # add col: get len of mt string\n",
    "#     items_df['mt_len'] = items_df['main topic'].str.len()\n",
    "\n",
    "    # add col: get first element (top level category) of mt string\n",
    "#     items_df['mt_0'] = items_df['main topic'].str[0]\n",
    "\n",
    "    # add col: main topic as set (and converted back to list)\n",
    "    items_df['mt_cl'] = items_df['main topic'].astype(str).apply(lambda x: list(set(clean_alt_list(x).split(','))))\n",
    "\n",
    "    # adjust subtopics: set to None if subtopics list is empty\n",
    "    items_df['st_cl'] = items_df['subtopics'].astype(str).apply(lambda x: list(set(clean_alt_list(x).split(','))))\n",
    "    items_df.loc[items_df['st_cl']=={''}, 'st_cl'] = None\n",
    "\n",
    "    # add col: unique combination of main and subtopic\n",
    "    items_df['mt_st_cl'] = (items_df['st_cl'] + items_df['mt_cl']) #.apply(set)\n",
    "    \n",
    "    # drop initial topic cols\n",
    "    if drop_original:\n",
    "        items_df = items_df.drop(columns=['main topic', 'subtopics'])\n",
    "    \n",
    "    return items_df\n",
    "\n",
    "\n",
    "def tr_initial_col_processing(transactions_df):\n",
    "    # add col: get click / basket / order flag\n",
    "    transactions_df['click_flg'] = np.where(transactions_df['click'] > 0, 1, 0)\n",
    "    transactions_df['basket_flg'] = np.where(transactions_df['basket'] > 0, 1, 0)\n",
    "    transactions_df['order_flg'] = np.where(transactions_df['order'] > 0, 1, 0) \n",
    "    \n",
    "    return transactions_df\n",
    "\n",
    "\n",
    "def extract_gbook_volumeInfo(data, target_keys):\n",
    "\n",
    "    # initialize final details df\n",
    "    volumeInfo_df = pd.DataFrame()\n",
    "    total = len(data)\n",
    "\n",
    "    for index, row in data.iterrows():\n",
    "    \n",
    "        # print progress report\n",
    "        if int(index%1000) == 0:\n",
    "            print(f'{index}/{total}')\n",
    "    \n",
    "        # extract volumInfo if given\n",
    "        if row[\"items\"]:\n",
    "            for item in row[\"items\"]:\n",
    "\n",
    "                available_keys = list(item['volumeInfo'].keys())\n",
    "    #             print(f'available_keys: {available_keys}')\n",
    "\n",
    "                extraction_keys = list(frozenset(available_keys).intersection(target_keys))\n",
    "    #             print(f'extraction keys: {extraction_keys}')\n",
    "\n",
    "                volumeInfo_item_df = pd.DataFrame(item).loc[extraction_keys,'volumeInfo']\n",
    "                volumeInfo_item_df = pd.DataFrame(volumeInfo_item_df).transpose()\n",
    "                volumeInfo_item_df[\"itemIdx\"] = row[\"itemIdx\"]\n",
    "    #             display(volumeInfo_item_df)\n",
    "    #             print()\n",
    "\n",
    "                volumeInfo_df = pd.concat([volumeInfo_df,volumeInfo_item_df])\n",
    "\n",
    "    # reset index of volumeInfo df\n",
    "    volumeInfo_df.reset_index(inplace=True)\n",
    "    volumeInfo_df = volumeInfo_df.drop(columns='index')  \n",
    "    \n",
    "    return volumeInfo_df \n",
    "\n",
    "\n",
    "def remove_special_characters(list_):\n",
    "#     list_ = re.sub(r'^\\W+', r'', list_) #removes leading non-alphanumerics, e.g. \",william shakespeare\"\n",
    "\n",
    "    # Remove punctuation & special characters\n",
    "    list_ = re.sub(r'[®,\\.!?\\\"\\(\\)\\'\\:#]','',list_)\n",
    "    list_ = re.sub(r'-',' ',list_)\n",
    "    return list_\n",
    "\n",
    "\n",
    "def remove_next_sign(list_):\n",
    "#     list_ = re.sub(r'^\\W+', r'', list_) #removes leading non-alphanumerics, e.g. \",william shakespeare\"\n",
    "\n",
    "    # Remove punctuation & special characters\n",
    "    list_ = re.sub(r'[\\n]','',list_)\n",
    "    \n",
    "    return list_\n",
    "\n",
    "def remove_nontitle_substrings(list_):\n",
    "    list_ = str(list_)\n",
    "\n",
    "    # type of book\n",
    "    for book_type in ['taschenbuch','hardcover','hardback']:\n",
    "        list_ = re.sub(f'\\(.*{book_type}.*\\)?','',list_) #remove all content within brackets\n",
    "        list_ = re.sub(f'-\\s*(\\w*\\s*){book_type}.*','',list_)\n",
    "        list_ = re.sub(f':.*{book_type}.*','',list_)\n",
    "        list_ = re.sub(f'(.*{book_type}[\\w\\d\\s]*):','',list_)\n",
    "        list_ = re.sub(f'[(special)(book)(edition)\\s*]*{book_type}\\s*[(special)(book)(edition)\\s*]*','',list_)\n",
    "        list_ = re.sub(f'{book_type}','',list_)\n",
    "        \n",
    "    # (light novel)\n",
    "    list_ = re.sub(f'(light novel)','',list_)\n",
    "    list_ = re.sub(f'\\(novel\\)','',list_)\n",
    "    \n",
    "    # (edition)\n",
    "    list_ = re.sub(f'\\(.*edition.*\\)','',list_)  \n",
    "\n",
    "    return list_\n",
    "\n",
    "\n",
    "def convert_umlaute(list_):\n",
    "    list_ = list_.replace(\"ä\",\"ae\").replace(\"ü\",\"ue\").replace(\"ö\",\"oe\")\n",
    "    return list_\n",
    "\n",
    "\n",
    "def remove_duplicate_whitespace(list_):\n",
    "    list_ = re.sub(f' {2,}','',list_)\n",
    "    return list_\n",
    "\n",
    "\n",
    "def generate_header_set(items_df):\n",
    "    \"\"\"\n",
    "    generates header set of items that combines attributes of several items with same title that e.g. only differ in itemID\n",
    "    or other attributes\n",
    "    > headerID can be used to replace itemID in transactions_df\n",
    "    \"\"\"\n",
    "    # generate header attribute sets from sub-items -> important: generate sets to prevent duplication \n",
    "    header_items_author_df = items_df['author'].groupby([items_df.title]).apply(set).reset_index()\n",
    "    header_items_publisher_df = items_df['publisher'].groupby([items_df.title]).apply(set).reset_index()\n",
    "    header_items_mtst_df = items_df['mt_st_cl'].groupby([items_df.title]).apply(sum).apply(set).reset_index() # get unique list of topics\n",
    "\n",
    "    header_items_language_df = items_df['language'].groupby([items_df.title]).apply(set).reset_index()\n",
    "    header_items_number_pages_df = items_df['number_pages'].groupby([items_df.title]).apply(set).reset_index()\n",
    "    header_items_recommended_age_df = items_df['recommended_age'].groupby([items_df.title]).apply(set).reset_index()\n",
    "    header_items_release_date_df = items_df['release_date'].groupby([items_df.title]).apply(set).reset_index()\n",
    "    header_items_description_df = items_df['description'].groupby([items_df.title]).apply(set).reset_index()\n",
    "    \n",
    "    # compile the list of dataframes you want to merge\n",
    "    header_items_df_lst = [header_items_author_df, header_items_publisher_df, header_items_mtst_df, header_items_language_df,\n",
    "                           header_items_number_pages_df,header_items_recommended_age_df, header_items_release_date_df,\n",
    "                           header_items_description_df ]\n",
    "\n",
    "    # merge all attributes\n",
    "    header_items_df = reduce(lambda left,right: pd.merge(left,right,on=['title'],\n",
    "                                                how='outer'), header_items_df_lst)\n",
    "\n",
    "    # generate new header index\n",
    "    header_items_df = header_items_df.reset_index().rename(columns={'index':'headerID'})\n",
    "\n",
    "    # result inspection\n",
    "    print(f'shape of header_items_df vs. items_df: {header_items_df.shape} vs. {items_df.shape}')\n",
    "    print(f'cnt of duplicate \"title\" in header_df: {(header_items_df[\"title\"].value_counts() > 1).sum()}')\n",
    "\n",
    "#     print(f'\\nconverted df:')\n",
    "#     display(header_items_df[header_items_df['title'].isin(['(Heli-)opolis - Der verhängnisvolle Plan des Weltkoordinators',\n",
    "#                                                    '13 Kings',\n",
    "#                                                    'Ära der Lichtwächter'])].head(5))\n",
    "\n",
    "#     print(f'\\noriginal df:')\n",
    "#     display(items_df[items_df['title'].isin(['(Heli-)opolis - Der verhängnisvolle Plan des Weltkoordinators',\n",
    "#                                                    '13 Kings',\n",
    "#                                                    'Ära der Lichtwächter'])].head(5))\n",
    "\n",
    "    return header_items_df"
   ]
  },
  {
   "cell_type": "markdown",
   "metadata": {},
   "source": [
    "## Data load & initial pre-processing"
   ]
  },
  {
   "cell_type": "markdown",
   "metadata": {},
   "source": [
    "### DMC Source Data"
   ]
  },
  {
   "cell_type": "code",
   "execution_count": 20,
   "metadata": {
    "pycharm": {
     "name": "#%%\n"
    }
   },
   "outputs": [
    {
     "name": "stdout",
     "output_type": "stream",
     "text": [
      "items_df after first pre-processing:\n"
     ]
    },
    {
     "data": {
      "text/html": [
       "<div>\n",
       "<style scoped>\n",
       "    .dataframe tbody tr th:only-of-type {\n",
       "        vertical-align: middle;\n",
       "    }\n",
       "\n",
       "    .dataframe tbody tr th {\n",
       "        vertical-align: top;\n",
       "    }\n",
       "\n",
       "    .dataframe thead th {\n",
       "        text-align: right;\n",
       "    }\n",
       "</style>\n",
       "<table border=\"1\" class=\"dataframe\">\n",
       "  <thead>\n",
       "    <tr style=\"text-align: right;\">\n",
       "      <th></th>\n",
       "      <th>itemID</th>\n",
       "      <th>title</th>\n",
       "      <th>author</th>\n",
       "      <th>publisher</th>\n",
       "      <th>mt_cl</th>\n",
       "      <th>st_cl</th>\n",
       "      <th>mt_st_cl</th>\n",
       "    </tr>\n",
       "  </thead>\n",
       "  <tbody>\n",
       "    <tr>\n",
       "      <th>0</th>\n",
       "      <td>21310</td>\n",
       "      <td>Princess Poppy: The Big Mix Up</td>\n",
       "      <td>Janey Louise Jones</td>\n",
       "      <td>Penguin Random House Children's UK</td>\n",
       "      <td>[YFB]</td>\n",
       "      <td>[5AH]</td>\n",
       "      <td>[5AH, YFB]</td>\n",
       "    </tr>\n",
       "    <tr>\n",
       "      <th>1</th>\n",
       "      <td>73018</td>\n",
       "      <td>Einfach zeichnen! Step by Step</td>\n",
       "      <td>Wiebke Krabbe</td>\n",
       "      <td>Schwager und Steinlein</td>\n",
       "      <td>[AGZ]</td>\n",
       "      <td>[YBL, YBG, WFA, YNA, 5AJ, YPA, AGZ]</td>\n",
       "      <td>[YBL, YBG, WFA, YNA, 5AJ, YPA, AGZ, AGZ]</td>\n",
       "    </tr>\n",
       "  </tbody>\n",
       "</table>\n",
       "</div>"
      ],
      "text/plain": [
       "   itemID                           title              author  \\\n",
       "0   21310  Princess Poppy: The Big Mix Up  Janey Louise Jones   \n",
       "1   73018  Einfach zeichnen! Step by Step       Wiebke Krabbe   \n",
       "\n",
       "                            publisher  mt_cl  \\\n",
       "0  Penguin Random House Children's UK  [YFB]   \n",
       "1              Schwager und Steinlein  [AGZ]   \n",
       "\n",
       "                                 st_cl  \\\n",
       "0                                [5AH]   \n",
       "1  [YBL, YBG, WFA, YNA, 5AJ, YPA, AGZ]   \n",
       "\n",
       "                                   mt_st_cl  \n",
       "0                                [5AH, YFB]  \n",
       "1  [YBL, YBG, WFA, YNA, 5AJ, YPA, AGZ, AGZ]  "
      ]
     },
     "metadata": {},
     "output_type": "display_data"
    },
    {
     "name": "stdout",
     "output_type": "stream",
     "text": [
      "transactions_df after first pre-processing:\n"
     ]
    },
    {
     "data": {
      "text/html": [
       "<div>\n",
       "<style scoped>\n",
       "    .dataframe tbody tr th:only-of-type {\n",
       "        vertical-align: middle;\n",
       "    }\n",
       "\n",
       "    .dataframe tbody tr th {\n",
       "        vertical-align: top;\n",
       "    }\n",
       "\n",
       "    .dataframe thead th {\n",
       "        text-align: right;\n",
       "    }\n",
       "</style>\n",
       "<table border=\"1\" class=\"dataframe\">\n",
       "  <thead>\n",
       "    <tr style=\"text-align: right;\">\n",
       "      <th></th>\n",
       "      <th>sessionID</th>\n",
       "      <th>itemID</th>\n",
       "      <th>click</th>\n",
       "      <th>basket</th>\n",
       "      <th>order</th>\n",
       "      <th>click_flg</th>\n",
       "      <th>basket_flg</th>\n",
       "      <th>order_flg</th>\n",
       "    </tr>\n",
       "  </thead>\n",
       "  <tbody>\n",
       "    <tr>\n",
       "      <th>0</th>\n",
       "      <td>0</td>\n",
       "      <td>21310</td>\n",
       "      <td>1</td>\n",
       "      <td>0</td>\n",
       "      <td>0</td>\n",
       "      <td>1</td>\n",
       "      <td>0</td>\n",
       "      <td>0</td>\n",
       "    </tr>\n",
       "    <tr>\n",
       "      <th>1</th>\n",
       "      <td>1</td>\n",
       "      <td>73018</td>\n",
       "      <td>1</td>\n",
       "      <td>0</td>\n",
       "      <td>0</td>\n",
       "      <td>1</td>\n",
       "      <td>0</td>\n",
       "      <td>0</td>\n",
       "    </tr>\n",
       "  </tbody>\n",
       "</table>\n",
       "</div>"
      ],
      "text/plain": [
       "   sessionID  itemID  click  basket  order  click_flg  basket_flg  order_flg\n",
       "0          0   21310      1       0      0          1           0          0\n",
       "1          1   73018      1       0      0          1           0          0"
      ]
     },
     "metadata": {},
     "output_type": "display_data"
    }
   ],
   "source": [
    "########################################################################################################################\n",
    "# Load Data\n",
    "########################################################################################################################\n",
    "\n",
    "# Load the dmc source data\n",
    "\n",
    "# - clicks/baskets/order over a period of 3M\n",
    "# - rows: one transaction for single item\n",
    "transactions_df = pd.read_csv(transactions_path, delimiter='|', sep='.', encoding='utf-8')\n",
    "\n",
    "# - list of product ids (subset of products from items_df) to be used for prediction\n",
    "evaluation_df = pd.read_csv(evaluation_path, sep='.', encoding='utf-8')\n",
    "items_df = pd.read_csv(items_path, delimiter='|', sep='.', encoding='utf-8')\n",
    "\n",
    "# load category lookup table (manually created)\n",
    "subject_cats_0 = pd.read_csv(subject_cats_0_path, delimiter=';', encoding='utf-8')\n",
    "\n",
    "# Load pre-processed df (incl. language flags)\n",
    "# items_df_pp = pd.read_csv(items_path_pp, delimiter=',', encoding='utf-8')\n",
    "\n",
    "########################################################################################################################\n",
    "# Preprocessing for further inspection\n",
    "########################################################################################################################\n",
    "\n",
    "# extract list of base cols\n",
    "initial_cols= list(items_df.columns)\n",
    "\n",
    "# add/pre-process cols\n",
    "items_df = items_initial_col_processing(items_df, drop_original=True)\n",
    "transactions_df = tr_initial_col_processing(transactions_df)\n",
    "\n",
    "########################################################################################################################\n",
    "# Inspection of dfs after initial pre-processing\n",
    "########################################################################################################################\n",
    "\n",
    "# show dfs after initial pre-processing\n",
    "print(f'items_df after first pre-processing:')\n",
    "display(items_df.head(2))\n",
    "\n",
    "print(f'transactions_df after first pre-processing:')\n",
    "display(transactions_df.head(2))"
   ]
  },
  {
   "cell_type": "markdown",
   "metadata": {},
   "source": [
    "### [DEV] Google API Extract\n",
    "\n",
    "__To do:__\n",
    "1. process remaining batches\n",
    "2. reduce to one match per item\n",
    "3. include details into items_df"
   ]
  },
  {
   "cell_type": "markdown",
   "metadata": {},
   "source": [
    "#### Data Load & Pre-Processing"
   ]
  },
  {
   "cell_type": "raw",
   "metadata": {},
   "source": [
    "if recompute_gbooks_volumeInfo:\n",
    "    # TODO: insert calculation of volumeInfo\n",
    "else:\n",
    "    volumeInfo_df = pd.read_feather(gbooks_volumeInfo_path_pp)"
   ]
  },
  {
   "cell_type": "code",
   "execution_count": 169,
   "metadata": {
    "collapsed": true,
    "jupyter": {
     "outputs_hidden": true,
     "source_hidden": true
    }
   },
   "outputs": [
    {
     "ename": "ValueError",
     "evalue": "Expected object or value",
     "output_type": "error",
     "traceback": [
      "\u001b[0;31m---------------------------------------------------------------------------\u001b[0m",
      "\u001b[0;31mValueError\u001b[0m                                Traceback (most recent call last)",
      "\u001b[0;32m<ipython-input-169-ff960f7467bf>\u001b[0m in \u001b[0;36m<module>\u001b[0;34m\u001b[0m\n\u001b[1;32m      1\u001b[0m \u001b[0;31m# Load the gbooks details (df)\u001b[0m\u001b[0;34m\u001b[0m\u001b[0;34m\u001b[0m\u001b[0;34m\u001b[0m\u001b[0m\n\u001b[0;32m----> 2\u001b[0;31m \u001b[0mgbooks_df\u001b[0m \u001b[0;34m=\u001b[0m \u001b[0mpd\u001b[0m\u001b[0;34m.\u001b[0m\u001b[0mread_json\u001b[0m\u001b[0;34m(\u001b[0m\u001b[0mgbooks_path\u001b[0m\u001b[0;34m,\u001b[0m \u001b[0morient\u001b[0m\u001b[0;34m=\u001b[0m\u001b[0;34m'records'\u001b[0m\u001b[0;34m)\u001b[0m\u001b[0;34m\u001b[0m\u001b[0;34m\u001b[0m\u001b[0m\n\u001b[0m\u001b[1;32m      3\u001b[0m \u001b[0;34m\u001b[0m\u001b[0m\n\u001b[1;32m      4\u001b[0m \u001b[0;31m# reset index (to simplify later join with items_df)\u001b[0m\u001b[0;34m\u001b[0m\u001b[0;34m\u001b[0m\u001b[0;34m\u001b[0m\u001b[0m\n\u001b[1;32m      5\u001b[0m \u001b[0;32mif\u001b[0m \u001b[0;34m'index'\u001b[0m \u001b[0;32min\u001b[0m \u001b[0mgbooks_df\u001b[0m\u001b[0;34m.\u001b[0m\u001b[0mcolumns\u001b[0m\u001b[0;34m:\u001b[0m\u001b[0;34m\u001b[0m\u001b[0;34m\u001b[0m\u001b[0m\n",
      "\u001b[0;32m~/opt/anaconda3/lib/python3.8/site-packages/pandas/util/_decorators.py\u001b[0m in \u001b[0;36mwrapper\u001b[0;34m(*args, **kwargs)\u001b[0m\n\u001b[1;32m    197\u001b[0m                 \u001b[0;32melse\u001b[0m\u001b[0;34m:\u001b[0m\u001b[0;34m\u001b[0m\u001b[0;34m\u001b[0m\u001b[0m\n\u001b[1;32m    198\u001b[0m                     \u001b[0mkwargs\u001b[0m\u001b[0;34m[\u001b[0m\u001b[0mnew_arg_name\u001b[0m\u001b[0;34m]\u001b[0m \u001b[0;34m=\u001b[0m \u001b[0mnew_arg_value\u001b[0m\u001b[0;34m\u001b[0m\u001b[0;34m\u001b[0m\u001b[0m\n\u001b[0;32m--> 199\u001b[0;31m             \u001b[0;32mreturn\u001b[0m \u001b[0mfunc\u001b[0m\u001b[0;34m(\u001b[0m\u001b[0;34m*\u001b[0m\u001b[0margs\u001b[0m\u001b[0;34m,\u001b[0m \u001b[0;34m**\u001b[0m\u001b[0mkwargs\u001b[0m\u001b[0;34m)\u001b[0m\u001b[0;34m\u001b[0m\u001b[0;34m\u001b[0m\u001b[0m\n\u001b[0m\u001b[1;32m    200\u001b[0m \u001b[0;34m\u001b[0m\u001b[0m\n\u001b[1;32m    201\u001b[0m         \u001b[0;32mreturn\u001b[0m \u001b[0mcast\u001b[0m\u001b[0;34m(\u001b[0m\u001b[0mF\u001b[0m\u001b[0;34m,\u001b[0m \u001b[0mwrapper\u001b[0m\u001b[0;34m)\u001b[0m\u001b[0;34m\u001b[0m\u001b[0;34m\u001b[0m\u001b[0m\n",
      "\u001b[0;32m~/opt/anaconda3/lib/python3.8/site-packages/pandas/util/_decorators.py\u001b[0m in \u001b[0;36mwrapper\u001b[0;34m(*args, **kwargs)\u001b[0m\n\u001b[1;32m    294\u001b[0m                 )\n\u001b[1;32m    295\u001b[0m                 \u001b[0mwarnings\u001b[0m\u001b[0;34m.\u001b[0m\u001b[0mwarn\u001b[0m\u001b[0;34m(\u001b[0m\u001b[0mmsg\u001b[0m\u001b[0;34m,\u001b[0m \u001b[0mFutureWarning\u001b[0m\u001b[0;34m,\u001b[0m \u001b[0mstacklevel\u001b[0m\u001b[0;34m=\u001b[0m\u001b[0mstacklevel\u001b[0m\u001b[0;34m)\u001b[0m\u001b[0;34m\u001b[0m\u001b[0;34m\u001b[0m\u001b[0m\n\u001b[0;32m--> 296\u001b[0;31m             \u001b[0;32mreturn\u001b[0m \u001b[0mfunc\u001b[0m\u001b[0;34m(\u001b[0m\u001b[0;34m*\u001b[0m\u001b[0margs\u001b[0m\u001b[0;34m,\u001b[0m \u001b[0;34m**\u001b[0m\u001b[0mkwargs\u001b[0m\u001b[0;34m)\u001b[0m\u001b[0;34m\u001b[0m\u001b[0;34m\u001b[0m\u001b[0m\n\u001b[0m\u001b[1;32m    297\u001b[0m \u001b[0;34m\u001b[0m\u001b[0m\n\u001b[1;32m    298\u001b[0m         \u001b[0;32mreturn\u001b[0m \u001b[0mwrapper\u001b[0m\u001b[0;34m\u001b[0m\u001b[0;34m\u001b[0m\u001b[0m\n",
      "\u001b[0;32m~/opt/anaconda3/lib/python3.8/site-packages/pandas/io/json/_json.py\u001b[0m in \u001b[0;36mread_json\u001b[0;34m(path_or_buf, orient, typ, dtype, convert_axes, convert_dates, keep_default_dates, numpy, precise_float, date_unit, encoding, lines, chunksize, compression, nrows)\u001b[0m\n\u001b[1;32m    616\u001b[0m         \u001b[0;32mreturn\u001b[0m \u001b[0mjson_reader\u001b[0m\u001b[0;34m\u001b[0m\u001b[0;34m\u001b[0m\u001b[0m\n\u001b[1;32m    617\u001b[0m \u001b[0;34m\u001b[0m\u001b[0m\n\u001b[0;32m--> 618\u001b[0;31m     \u001b[0mresult\u001b[0m \u001b[0;34m=\u001b[0m \u001b[0mjson_reader\u001b[0m\u001b[0;34m.\u001b[0m\u001b[0mread\u001b[0m\u001b[0;34m(\u001b[0m\u001b[0;34m)\u001b[0m\u001b[0;34m\u001b[0m\u001b[0;34m\u001b[0m\u001b[0m\n\u001b[0m\u001b[1;32m    619\u001b[0m     \u001b[0;32mif\u001b[0m \u001b[0mshould_close\u001b[0m\u001b[0;34m:\u001b[0m\u001b[0;34m\u001b[0m\u001b[0;34m\u001b[0m\u001b[0m\n\u001b[1;32m    620\u001b[0m         \u001b[0mfilepath_or_buffer\u001b[0m\u001b[0;34m.\u001b[0m\u001b[0mclose\u001b[0m\u001b[0;34m(\u001b[0m\u001b[0;34m)\u001b[0m\u001b[0;34m\u001b[0m\u001b[0;34m\u001b[0m\u001b[0m\n",
      "\u001b[0;32m~/opt/anaconda3/lib/python3.8/site-packages/pandas/io/json/_json.py\u001b[0m in \u001b[0;36mread\u001b[0;34m(self)\u001b[0m\n\u001b[1;32m    753\u001b[0m                 \u001b[0mobj\u001b[0m \u001b[0;34m=\u001b[0m \u001b[0mself\u001b[0m\u001b[0;34m.\u001b[0m\u001b[0m_get_object_parser\u001b[0m\u001b[0;34m(\u001b[0m\u001b[0mself\u001b[0m\u001b[0;34m.\u001b[0m\u001b[0m_combine_lines\u001b[0m\u001b[0;34m(\u001b[0m\u001b[0mdata\u001b[0m\u001b[0;34m)\u001b[0m\u001b[0;34m)\u001b[0m\u001b[0;34m\u001b[0m\u001b[0;34m\u001b[0m\u001b[0m\n\u001b[1;32m    754\u001b[0m         \u001b[0;32melse\u001b[0m\u001b[0;34m:\u001b[0m\u001b[0;34m\u001b[0m\u001b[0;34m\u001b[0m\u001b[0m\n\u001b[0;32m--> 755\u001b[0;31m             \u001b[0mobj\u001b[0m \u001b[0;34m=\u001b[0m \u001b[0mself\u001b[0m\u001b[0;34m.\u001b[0m\u001b[0m_get_object_parser\u001b[0m\u001b[0;34m(\u001b[0m\u001b[0mself\u001b[0m\u001b[0;34m.\u001b[0m\u001b[0mdata\u001b[0m\u001b[0;34m)\u001b[0m\u001b[0;34m\u001b[0m\u001b[0;34m\u001b[0m\u001b[0m\n\u001b[0m\u001b[1;32m    756\u001b[0m         \u001b[0mself\u001b[0m\u001b[0;34m.\u001b[0m\u001b[0mclose\u001b[0m\u001b[0;34m(\u001b[0m\u001b[0;34m)\u001b[0m\u001b[0;34m\u001b[0m\u001b[0;34m\u001b[0m\u001b[0m\n\u001b[1;32m    757\u001b[0m         \u001b[0;32mreturn\u001b[0m \u001b[0mobj\u001b[0m\u001b[0;34m\u001b[0m\u001b[0;34m\u001b[0m\u001b[0m\n",
      "\u001b[0;32m~/opt/anaconda3/lib/python3.8/site-packages/pandas/io/json/_json.py\u001b[0m in \u001b[0;36m_get_object_parser\u001b[0;34m(self, json)\u001b[0m\n\u001b[1;32m    775\u001b[0m         \u001b[0mobj\u001b[0m \u001b[0;34m=\u001b[0m \u001b[0;32mNone\u001b[0m\u001b[0;34m\u001b[0m\u001b[0;34m\u001b[0m\u001b[0m\n\u001b[1;32m    776\u001b[0m         \u001b[0;32mif\u001b[0m \u001b[0mtyp\u001b[0m \u001b[0;34m==\u001b[0m \u001b[0;34m\"frame\"\u001b[0m\u001b[0;34m:\u001b[0m\u001b[0;34m\u001b[0m\u001b[0;34m\u001b[0m\u001b[0m\n\u001b[0;32m--> 777\u001b[0;31m             \u001b[0mobj\u001b[0m \u001b[0;34m=\u001b[0m \u001b[0mFrameParser\u001b[0m\u001b[0;34m(\u001b[0m\u001b[0mjson\u001b[0m\u001b[0;34m,\u001b[0m \u001b[0;34m**\u001b[0m\u001b[0mkwargs\u001b[0m\u001b[0;34m)\u001b[0m\u001b[0;34m.\u001b[0m\u001b[0mparse\u001b[0m\u001b[0;34m(\u001b[0m\u001b[0;34m)\u001b[0m\u001b[0;34m\u001b[0m\u001b[0;34m\u001b[0m\u001b[0m\n\u001b[0m\u001b[1;32m    778\u001b[0m \u001b[0;34m\u001b[0m\u001b[0m\n\u001b[1;32m    779\u001b[0m         \u001b[0;32mif\u001b[0m \u001b[0mtyp\u001b[0m \u001b[0;34m==\u001b[0m \u001b[0;34m\"series\"\u001b[0m \u001b[0;32mor\u001b[0m \u001b[0mobj\u001b[0m \u001b[0;32mis\u001b[0m \u001b[0;32mNone\u001b[0m\u001b[0;34m:\u001b[0m\u001b[0;34m\u001b[0m\u001b[0;34m\u001b[0m\u001b[0m\n",
      "\u001b[0;32m~/opt/anaconda3/lib/python3.8/site-packages/pandas/io/json/_json.py\u001b[0m in \u001b[0;36mparse\u001b[0;34m(self)\u001b[0m\n\u001b[1;32m    884\u001b[0m \u001b[0;34m\u001b[0m\u001b[0m\n\u001b[1;32m    885\u001b[0m         \u001b[0;32melse\u001b[0m\u001b[0;34m:\u001b[0m\u001b[0;34m\u001b[0m\u001b[0;34m\u001b[0m\u001b[0m\n\u001b[0;32m--> 886\u001b[0;31m             \u001b[0mself\u001b[0m\u001b[0;34m.\u001b[0m\u001b[0m_parse_no_numpy\u001b[0m\u001b[0;34m(\u001b[0m\u001b[0;34m)\u001b[0m\u001b[0;34m\u001b[0m\u001b[0;34m\u001b[0m\u001b[0m\n\u001b[0m\u001b[1;32m    887\u001b[0m \u001b[0;34m\u001b[0m\u001b[0m\n\u001b[1;32m    888\u001b[0m         \u001b[0;32mif\u001b[0m \u001b[0mself\u001b[0m\u001b[0;34m.\u001b[0m\u001b[0mobj\u001b[0m \u001b[0;32mis\u001b[0m \u001b[0;32mNone\u001b[0m\u001b[0;34m:\u001b[0m\u001b[0;34m\u001b[0m\u001b[0;34m\u001b[0m\u001b[0m\n",
      "\u001b[0;32m~/opt/anaconda3/lib/python3.8/site-packages/pandas/io/json/_json.py\u001b[0m in \u001b[0;36m_parse_no_numpy\u001b[0;34m(self)\u001b[0m\n\u001b[1;32m   1136\u001b[0m         \u001b[0;32melse\u001b[0m\u001b[0;34m:\u001b[0m\u001b[0;34m\u001b[0m\u001b[0;34m\u001b[0m\u001b[0m\n\u001b[1;32m   1137\u001b[0m             self.obj = DataFrame(\n\u001b[0;32m-> 1138\u001b[0;31m                 \u001b[0mloads\u001b[0m\u001b[0;34m(\u001b[0m\u001b[0mjson\u001b[0m\u001b[0;34m,\u001b[0m \u001b[0mprecise_float\u001b[0m\u001b[0;34m=\u001b[0m\u001b[0mself\u001b[0m\u001b[0;34m.\u001b[0m\u001b[0mprecise_float\u001b[0m\u001b[0;34m)\u001b[0m\u001b[0;34m,\u001b[0m \u001b[0mdtype\u001b[0m\u001b[0;34m=\u001b[0m\u001b[0;32mNone\u001b[0m\u001b[0;34m\u001b[0m\u001b[0;34m\u001b[0m\u001b[0m\n\u001b[0m\u001b[1;32m   1139\u001b[0m             )\n\u001b[1;32m   1140\u001b[0m \u001b[0;34m\u001b[0m\u001b[0m\n",
      "\u001b[0;31mValueError\u001b[0m: Expected object or value"
     ]
    }
   ],
   "source": [
    "# Load the gbooks details (df)\n",
    "gbooks_df = pd.read_json(gbooks_path, orient='records')\n",
    "\n",
    "# reset index (to simplify later join with items_df)\n",
    "if 'index' in gbooks_df.columns:\n",
    "    gbooks_df = gbooks_df.drop(columns='index')\n",
    "gbooks_df.reset_index(inplace=True)\n",
    "gbooks_df = gbooks_df.rename(columns={'index':'itemIdx'})\n",
    "\n",
    "# get df stats\n",
    "print(f'gbooks_df:')\n",
    "display(gbooks_df.head())\n",
    "\n",
    "print(f'shape gbooks_df: {gbooks_df.shape}')\n",
    "print(f'shape items_df: {items_df.shape}\\n')\n",
    "\n",
    "# inspect distribution ot total items\n",
    "# plt.hist(gbooks_df['totalItems'])"
   ]
  },
  {
   "cell_type": "code",
   "execution_count": 457,
   "metadata": {},
   "outputs": [
    {
     "data": {
      "text/plain": [
       "78334"
      ]
     },
     "execution_count": 457,
     "metadata": {},
     "output_type": "execute_result"
    }
   ],
   "source": [
    "len(gbooks_df)"
   ]
  },
  {
   "cell_type": "code",
   "execution_count": 461,
   "metadata": {
    "collapsed": true,
    "jupyter": {
     "outputs_hidden": true
    },
    "scrolled": true
   },
   "outputs": [
    {
     "name": "stdout",
     "output_type": "stream",
     "text": [
      "41000/38333\n",
      "42000/38333\n",
      "43000/38333\n",
      "44000/38333\n",
      "45000/38333\n",
      "46000/38333\n",
      "47000/38333\n",
      "48000/38333\n",
      "49000/38333\n",
      "50000/38333\n",
      "51000/38333\n",
      "52000/38333\n",
      "53000/38333\n",
      "54000/38333\n",
      "55000/38333\n",
      "56000/38333\n",
      "57000/38333\n",
      "58000/38333\n",
      "59000/38333\n",
      "60000/38333\n",
      "61000/38333\n",
      "62000/38333\n",
      "63000/38333\n",
      "64000/38333\n",
      "65000/38333\n",
      "66000/38333\n",
      "67000/38333\n",
      "68000/38333\n",
      "69000/38333\n",
      "70000/38333\n",
      "71000/38333\n",
      "72000/38333\n",
      "73000/38333\n",
      "74000/38333\n",
      "75000/38333\n",
      "76000/38333\n",
      "77000/38333\n",
      "78000/38333\n",
      "shape volumeInfo_df: (94825, 10)\n",
      "\n",
      "na per col: \n",
      "description       20057\n",
      "publisher         30355\n",
      "maturityRating        0\n",
      "title                 2\n",
      "authors            3674\n",
      "publishedDate      1477\n",
      "language              0\n",
      "categories        21522\n",
      "printType            70\n",
      "itemIdx               0\n",
      "dtype: int64\n",
      "\n"
     ]
    },
    {
     "data": {
      "text/html": [
       "<div>\n",
       "<style scoped>\n",
       "    .dataframe tbody tr th:only-of-type {\n",
       "        vertical-align: middle;\n",
       "    }\n",
       "\n",
       "    .dataframe tbody tr th {\n",
       "        vertical-align: top;\n",
       "    }\n",
       "\n",
       "    .dataframe thead th {\n",
       "        text-align: right;\n",
       "    }\n",
       "</style>\n",
       "<table border=\"1\" class=\"dataframe\">\n",
       "  <thead>\n",
       "    <tr style=\"text-align: right;\">\n",
       "      <th></th>\n",
       "      <th>NOT_MATURE</th>\n",
       "      <th>MATURE</th>\n",
       "    </tr>\n",
       "  </thead>\n",
       "  <tbody>\n",
       "    <tr>\n",
       "      <th>maturityRating</th>\n",
       "      <td>94225</td>\n",
       "      <td>600</td>\n",
       "    </tr>\n",
       "  </tbody>\n",
       "</table>\n",
       "</div>"
      ],
      "text/plain": [
       "                NOT_MATURE  MATURE\n",
       "maturityRating       94225     600"
      ]
     },
     "metadata": {},
     "output_type": "display_data"
    },
    {
     "data": {
      "text/html": [
       "<div>\n",
       "<style scoped>\n",
       "    .dataframe tbody tr th:only-of-type {\n",
       "        vertical-align: middle;\n",
       "    }\n",
       "\n",
       "    .dataframe tbody tr th {\n",
       "        vertical-align: top;\n",
       "    }\n",
       "\n",
       "    .dataframe thead th {\n",
       "        text-align: right;\n",
       "    }\n",
       "</style>\n",
       "<table border=\"1\" class=\"dataframe\">\n",
       "  <thead>\n",
       "    <tr style=\"text-align: right;\">\n",
       "      <th></th>\n",
       "      <th>BOOK</th>\n",
       "      <th>MAGAZINE</th>\n",
       "    </tr>\n",
       "  </thead>\n",
       "  <tbody>\n",
       "    <tr>\n",
       "      <th>printType</th>\n",
       "      <td>94726</td>\n",
       "      <td>29</td>\n",
       "    </tr>\n",
       "  </tbody>\n",
       "</table>\n",
       "</div>"
      ],
      "text/plain": [
       "            BOOK  MAGAZINE\n",
       "printType  94726        29"
      ]
     },
     "metadata": {},
     "output_type": "display_data"
    },
    {
     "data": {
      "text/html": [
       "<div>\n",
       "<style scoped>\n",
       "    .dataframe tbody tr th:only-of-type {\n",
       "        vertical-align: middle;\n",
       "    }\n",
       "\n",
       "    .dataframe tbody tr th {\n",
       "        vertical-align: top;\n",
       "    }\n",
       "\n",
       "    .dataframe thead th {\n",
       "        text-align: right;\n",
       "    }\n",
       "</style>\n",
       "<table border=\"1\" class=\"dataframe\">\n",
       "  <thead>\n",
       "    <tr style=\"text-align: right;\">\n",
       "      <th></th>\n",
       "      <th>en</th>\n",
       "      <th>de</th>\n",
       "      <th>es</th>\n",
       "      <th>fr</th>\n",
       "      <th>it</th>\n",
       "      <th>pt</th>\n",
       "      <th>nl</th>\n",
       "      <th>sv</th>\n",
       "      <th>hu</th>\n",
       "      <th>pt-BR</th>\n",
       "      <th>...</th>\n",
       "      <th>mk</th>\n",
       "      <th>ht</th>\n",
       "      <th>ms</th>\n",
       "      <th>br</th>\n",
       "      <th>gu</th>\n",
       "      <th>fy</th>\n",
       "      <th>zu</th>\n",
       "      <th>bn</th>\n",
       "      <th>ku</th>\n",
       "      <th>eu</th>\n",
       "    </tr>\n",
       "  </thead>\n",
       "  <tbody>\n",
       "    <tr>\n",
       "      <th>language</th>\n",
       "      <td>70340</td>\n",
       "      <td>11992</td>\n",
       "      <td>7927</td>\n",
       "      <td>1282</td>\n",
       "      <td>1195</td>\n",
       "      <td>473</td>\n",
       "      <td>249</td>\n",
       "      <td>229</td>\n",
       "      <td>218</td>\n",
       "      <td>97</td>\n",
       "      <td>...</td>\n",
       "      <td>1</td>\n",
       "      <td>1</td>\n",
       "      <td>1</td>\n",
       "      <td>1</td>\n",
       "      <td>1</td>\n",
       "      <td>1</td>\n",
       "      <td>1</td>\n",
       "      <td>1</td>\n",
       "      <td>1</td>\n",
       "      <td>1</td>\n",
       "    </tr>\n",
       "  </tbody>\n",
       "</table>\n",
       "<p>1 rows × 68 columns</p>\n",
       "</div>"
      ],
      "text/plain": [
       "             en     de    es    fr    it   pt   nl   sv   hu  pt-BR  ...  mk  \\\n",
       "language  70340  11992  7927  1282  1195  473  249  229  218     97  ...   1   \n",
       "\n",
       "          ht  ms  br  gu  fy  zu  bn  ku  eu  \n",
       "language   1   1   1   1   1   1   1   1   1  \n",
       "\n",
       "[1 rows x 68 columns]"
      ]
     },
     "metadata": {},
     "output_type": "display_data"
    }
   ],
   "source": [
    "# 11.05.2021 - 09:57 - max batch index = 20k\n",
    "# 11.05.2021 - 10:31 - 20k-30k\n",
    "# 11.05.2021 - 10:55 - 30k-40k\n",
    "\n",
    "batch_start_index = 40000\n",
    "batch_end_index = len(gbooks_df)\n",
    "volumeInfo_df = extract_gbook_volumeInfo(gbooks_df.iloc[batch_start_index+1:batch_end_index+1,:],\n",
    "                                        target_keys=['title','publisher','authors','publishedDate','description','printType',\n",
    "                                                       'categories','maturityRating', 'language'])\n",
    "# inspect head of df\n",
    "# display(volumeInfo_df.head())\n",
    "\n",
    "# shape\n",
    "print(f'shape volumeInfo_df: {volumeInfo_df.shape}\\n')\n",
    "\n",
    "# get cnt of nas\n",
    "print(f'na per col: \\n{volumeInfo_df.isna().sum()}\\n')\n",
    "\n",
    "# value counts specific cols\n",
    "for col in ['maturityRating', 'printType','language']:\n",
    "    display(pd.DataFrame(volumeInfo_df[col].value_counts()).transpose())"
   ]
  },
  {
   "cell_type": "code",
   "execution_count": 174,
   "metadata": {
    "collapsed": true,
    "jupyter": {
     "outputs_hidden": true
    }
   },
   "outputs": [
    {
     "data": {
      "text/html": [
       "<div>\n",
       "<style scoped>\n",
       "    .dataframe tbody tr th:only-of-type {\n",
       "        vertical-align: middle;\n",
       "    }\n",
       "\n",
       "    .dataframe tbody tr th {\n",
       "        vertical-align: top;\n",
       "    }\n",
       "\n",
       "    .dataframe thead th {\n",
       "        text-align: right;\n",
       "    }\n",
       "</style>\n",
       "<table border=\"1\" class=\"dataframe\">\n",
       "  <thead>\n",
       "    <tr style=\"text-align: right;\">\n",
       "      <th></th>\n",
       "      <th>description</th>\n",
       "      <th>publisher</th>\n",
       "      <th>maturityRating</th>\n",
       "      <th>title</th>\n",
       "      <th>authors</th>\n",
       "      <th>publishedDate</th>\n",
       "      <th>language</th>\n",
       "      <th>categories</th>\n",
       "      <th>printType</th>\n",
       "      <th>itemIdx</th>\n",
       "    </tr>\n",
       "  </thead>\n",
       "  <tbody>\n",
       "    <tr>\n",
       "      <th>28089</th>\n",
       "      <td>“Si vous pensiez que rien ne pouvait plus égaler la série L’anneau du Sorcier, vous vous trompiez. Dans LE REVEIL DES DRAGONS, Morgan Rice nous amène la promesse d’une nouvelle série à succès en nous immergeant dans un monde fantastique peuplé de trolls et de dragons et où l’honneur, le courage, la magie et la foi en son destin sont mis en avant. Une fois de plus, Morgan nous présente des personnages forts pour lesquels nous tremblons page après page… Ce livre trouvera immédiatement sa place dans la bibliothèque des amateurs de fantastique.” --Books and Movie Reviews, Roberto Mattos Le Bestseller #1! L’auteur #1 de Bestsellers, Morgan Rice, revient avec une nouvelle série fantasy : LE REVEIL DES DRAGONS (ROIS ET SORCIERS – Livre 1). Kyra a 15 ans et rêve de devenir une grande guerrière à l’image de son père, bien qu’elle soit l’unique fille vivant dans un fort rempli d’hommes. Elle a du mal à comprendre d’où lui viennent ses aptitudes particulières, son mystérieux pouvoir et elle finit par réaliser qu’elle est différente des autres. Elle apprend qu’on lui cache un secret depuis sa naissance et qu’il existe une prophétie à son sujet. Cela l’amène à se poser des questions sur qui elle est vraiment. Lorsque Kyra atteint l’âge légal et que le seigneur local vient pour l’enlever, son père veut la marier pour la protéger. Mais Kyra refuse et décide de partir seule dans les bois dangereux où elle rencontre un dragon. Cette rencontre déclenchera une série d’événements qui changeront à jamais l’avenir du royaume. Alec a 15 ans mais n’hésite pas à se sacrifier pour son frère et à prendre sa place en tant que recrue. Il est emmené pour servir Les Flammes, un mur de feu de dizaines de mètres de haut qui protège le royaume d’une armée de Trolls vivant à l’est. De l’autre côté du royaume, Merk est un mercenaire qui s’efforce de laisser son sombre passé derrière lui. Il s’élance dans une quête au travers des bois pour devenir un Guetteur dans l’une des Tours et défendre l’Épée de feu, une source magique à l’origine du pouvoir du royaume. Mais les Trolls veulent s’emparer de cette Épée et ils préparent une invasion massive qui anéantira à jamais le royaume. Avec une atmosphère puissante et des personnages complexes, LE REVEIL DES DRAGONS est une saga impressionnante de chevaliers, de guerriers et de rois qui met en avant courage et honneur, magie, destin, monstres et dragons. C’est une histoire d’amour et de cœurs brisés, de déception, d’ambition et de traîtrise. C’est épopée fantastique est finement menée et vous emportera dans un monde que vous n’êtes pas prêt d’oublier et qui convient à tous les âges. Livre #2 dans ROIS ET SORCIERS à paraître bientôt. “LE REVEIL DES DRAGONS est une réussite et ce, dès le début… Une fantaisie de qualité… Elle commence par le conflit intérieur d’une protagoniste et s’ouvre sur un cercle de chevaliers, de dragons, de magie, de monstres et de destinée… On y retrouve tous les éléments clefs d’une bonne fantaisie: batailles, soldats, confrontation avec soi-même… Á recommander à toute personne qui apprécie les épopées fantastiques regorgeant de jeux de pouvoir avec pour protagonistes de jeunes adultes.” --Midwest Book Review, D. Donovan, critique eBook</td>\n",
       "      <td>Morgan Rice</td>\n",
       "      <td>NOT_MATURE</td>\n",
       "      <td>Le Réveil des Dragons (Rois et Sorciers—Livre 1)</td>\n",
       "      <td>[Morgan Rice]</td>\n",
       "      <td>2015-02-07</td>\n",
       "      <td>fr</td>\n",
       "      <td>[Fiction]</td>\n",
       "      <td>BOOK</td>\n",
       "      <td>39999</td>\n",
       "    </tr>\n",
       "    <tr>\n",
       "      <th>28090</th>\n",
       "      <td>« Une fantasy pleine d'action qui saura plaire aux amateurs des romans précédents de Morgan Rice et aux fans de livres tels que le cycle L'Héritage par Christopher Paolini .... Les fans de fiction pour jeunes adultes dévoreront ce dernier ouvrage de Rice et en demanderont plus. » —The Wanderer, A Literary Journal (pour Le Réveil des Dragons) La série n 1 de best-sellers ! LE POIDS DE L’HONNEUR est le tome n 3 de ROIS ET SORCIERS, la série de fantasy épique à succès de Morgan Rice (qui commence par LE RÉVEIL DES DRAGONS, disponible en téléchargement gratuit) ! Dans LE POIDS DE L’HONNEUR, Kyra finit par rencontrer son oncle mystérieux et elle se rend compte avec surprise qu’il n’est pas l’homme auquel elle s’attendait. Elle entame une période d’entraînement qui mettra à l’épreuve son endurance et sa frustration, car elle rencontrera vite les limites de son pouvoir. Incapable de convoquer son dragon, incapable de partir à la conquête de son être profond et motivée par le besoin impérieux d’aider son père à faire la guerre, Kyra ne sait pas si elle deviendra un jour la guerrière qu’elle pensait être et quand, au coeur de la forêt, elle rencontre un garçon mystérieux et plus puissant qu’elle, elle se demande ce que son avenir lui réserve vraiment. Duncan doit descendre des pics de Kos avec sa nouvelle armée et, en grande infériorité numérique, lancer une invasion risquée de la capitale. S’il gagne, il sait que derrière ses anciennes murailles l’attendront le vieux roi et sa cour de nobles et d’aristocrates, qu’ils ont tous leurs intérêts propres et qu’ils mettront le même empressement à le trahir qu’à l’accueillir. En fait, il se pourrait qu’il soit plus difficile d’unifier Escalon que de le libérer. A Ur, Alec doit faire appel à ses compétences exceptionnelles de forgeron pour aider la résistance à avoir une chance de se défendre contre l’invasion pandésienne qui s’annonce. Il est frappé d’admiration quand il fait la rencontre de Dierdre, la fille la plus forte qu’il ait jamais rencontrée. Cette fois, elle a une chance de se révolter contre Pandésia et, alors qu’elle les affronte, elle se demande si son père et ses hommes accepteront de la reprendre cette fois-ci. Merk finit par entrer dans la tour de Ur et il est stupéfait par ce qu’il découvre. Initié à ses codes et ses règles étranges, il rencontre ses compagnons les Gardiens, les guerriers les plus coriaces qu’il ait jamais rencontrés, et il se rend compte qu’il sera difficile de gagner leur respect. Une invasion se profile à l’horizon et ils doivent tous préparer la tour; cependant, il se pourrait que même tous ses passages secrets ne puissent protéger les Gardiens contre la trahison qui rôde à l’intérieur. Vesuvius fait traverser un Escalon vulnérable à sa nation Troll et dévaste le pays pendant que Theos, furieux à cause de ce qui arrive à son fils, mène son propre saccage et ne s’arrêtera que quand tout Escalon sera réduit en cendres. Avec son atmosphère puissante et ses personnages complexes, UNE FORGE DE VALEUR est une saga spectaculaire de chevaliers et de guerriers, de rois et de seigneurs, d'honneur et de valeur, de magie, de destinée, de monstres et de dragons. C'est une histoire d'amour et de cœurs brisés, de tromperie, d'ambition et de trahison. C'est de la fantasy de haute qualité qui nous invite à découvrir un monde qui vivra en nous pour toujours, un monde qui plaira à tous les âges et à tous les sexes. Le tome n 4 de ROIS ET SORCIERS sera bientôt publié. « Si vous pensiez qu'il n'y avait plus aucune raison de vivre après la fin de la série de L'ANNEAU DU SORCIER, vous aviez tort. Dans LE RÉVEIL DES DRAGONS, Morgan Rice a imaginé ce qui promet d'être une autre série brillante et nous plonge dans une histoire de fantasy avec trolls et dragons, bravoure, honneur, courage, magie et foi en sa propre destinée. Morgan Rice a de nouveau réussi à produire un solide ensemble de personnages qui nous font les acclamer à chaque page .... Recommandé pour la bibliothèque permanente de tous les lecteurs qui aiment les histoires de fantasy bien écrites ». --Books and Movie Reviews, Roberto Mattos (pour Le Réveil des Dragons) « LE RÉVEIL DES DRAGONS est un succès dès le début .... C'est une histoire de qualité supérieure qui commence traditionnellement par les luttes d'un protagoniste puis évolue vers un cercle plus large de chevaliers, de dragons, de magie et de monstres et de destin.... Tous les signes extérieurs de la « high fantasy » sont ici, des soldats et des batailles aux affrontements avec soi-même .... Une histoire séduisante recommandée pour tous ceux qui aiment la fantasy épique alimentée par de jeunes protagonistes adultes puissants et crédibles. » —Midwest Book Review D. Donovan, critique de livres électroniques “Un roman à intrigue facile à lire le week-end … Le bon début d’une série prometteuse.” --San Francisco Book Review (pour Le Réveil Des Dragons)</td>\n",
       "      <td>Morgan Rice</td>\n",
       "      <td>NOT_MATURE</td>\n",
       "      <td>Le Poids de lHonneur (Rois et Sorciers  Livre 3)</td>\n",
       "      <td>[Morgan Rice]</td>\n",
       "      <td>2015-09-15</td>\n",
       "      <td>fr</td>\n",
       "      <td>[Juvenile Fiction]</td>\n",
       "      <td>BOOK</td>\n",
       "      <td>39999</td>\n",
       "    </tr>\n",
       "    <tr>\n",
       "      <th>28091</th>\n",
       "      <td>« L’Anneau du Sorcier a tous les ingrédients pour un succès immédiat : intrigue, contre-intrigue, mystère, de vaillants chevaliers, des relations s’épanouissant remplies de cœurs brisés, tromperie et trahison. Cela vous tiendra en haleine pour des heures, et conviendra à tous les âges. Recommandé pour les bibliothèques de tous les lecteurs de fantasy. » --Books and Movie Review, Roberto Mattos (à propos de la Quête des Héros) Le Don du Combat (Tome 17) est le final de la série bestseller de l’Anneau du Sorcier, qui a débuté avec La Quête des Héros (Tome 1) ! Dans Le Don du Combat, Thor rencontre son plus grand et dernier défi, tandis qu’il s’aventure plus profondément dans la Terre du Sang pour tenter de secourir Guwayne. Rencontrant des adversaires plus puissants qu’il n’aurait pu l’imaginer, Thor prend rapidement conscience qu’il affronte une armée de ténèbres, une contre laquelle ses pouvoirs ne font pas le poids. Quand il apprend qu’un objet sacré pourrait lui donner le pouvoir dont il besoin – un objet qui a été tenu secret pendant une éternité – il doit s’embarquer dans une dernière quête pour le récupérer avant qu’il ne soit trop tard, avec le destin de l’Anneau pesant dans la balance. Gwendolyn tient sa promesse faite au Roi de la Crête, entre dans la Tour se confronte au chef du culte pour apprendre le secret qu’il dissimule. La révélation l’envoie vers Argon, et en fin de compte au maître d’Argon – où elle apprend le plus grand des secrets, un qui pourrait changer le destin de son peuple. Quand la Crête est découverte par l’Empire, l’invasion commence et, attaqués par la plus grande des armées connues, il échoit à Gwendolyn de la défendre, et de mener pour un dernier exode de masse. Les frères de Légion de Thor, seuls, font face à des risques inimaginables, tandis qu’Ange est en train de succomber à sa lèpre. Darius se bat pour sa vie aux côtés de son père dans la capitale de l’Empire, jusqu’à ce qu’un développement inattendu le pousse, sans plus rien à perdre, à finalement exploiter ses propres pouvoirs. Erec et Alistair atteignent Volusia, se battant pour se frayer un chemin pour remonter la rivière, et ils poursuivent leur quête pour Gwendolyn et les exilés, tandis qu’ils font face à des batailles inopinées. Et Godfrey réalise qu’il doit, en fin de compte, prendre une décision pour être l’homme qu’il veut être. Volusia, encerclée par tous les pouvoirs des Chevaliers des Sept, doit se soumettre à un test en tant que déesse et découvrir si elle seule a le pouvoir d’écraser les hommes et diriger l’Empire. Pendant qu’Argon, qui fait face à la fin de ses jours, réalise que le temps est venu de se sacrifier. Tandis que le bien et le mal pèsent dans la balance, une dernière bataille épique – la plus grande de toutes – déterminera l’issue de l’Anneau pour toujours. Avec un univers élaboré et des personnages sophistiqués, Le Don du Combat est un récit épique d’amis et d’amants, de rivaux et de prétendants, de chevaliers et de dragons, d’intrigues et de machinations, de passage à l’âge adulte, de cœurs brisés, de déceptions, d’ambition et de trahisons. C’est une histoire d’honneur et de courage, de sort et de destinée, de sorcellerie. C’est un ouvrage de fantasy qui nous emmène dans un monde inoubliable, et qui plaira à tous. Le Don du Combat est le plus long des livres de la série, avec 93.000 mots ! Et la nouvelle série épique de fantasy de Morgan Rice, Le Réveil des Dragons (Rois et Sorciers – Tome 1) est aussi disponible ! « Rempli d’action… L’écriture de Rice est respectable et la prémisse intrigante. » —PublishersWeekly (à propos de La Quête des Héros)</td>\n",
       "      <td>Morgan Rice</td>\n",
       "      <td>NOT_MATURE</td>\n",
       "      <td>Le Don du Combat (Tome 17 De L’anneau Du Sorcier)</td>\n",
       "      <td>[Morgan Rice]</td>\n",
       "      <td>2016-08-29</td>\n",
       "      <td>fr</td>\n",
       "      <td>[Juvenile Fiction]</td>\n",
       "      <td>BOOK</td>\n",
       "      <td>39999</td>\n",
       "    </tr>\n",
       "    <tr>\n",
       "      <th>28092</th>\n",
       "      <td>« L'ANNEAU DU SORCIER a tous les ingrédients d'un succès immédiat : des intrigues, des contre-intrigues, du mystère, de vaillants chevaliers et des relations qui s’épanouissent entre les cœurs brisés, les tromperies et les trahisons. Ce roman vous occupera pendant des heures et satisfera toutes les tranches d'âge. À ajouter de façon permanente à la bibliothèque de tout bon lecteur de fantasy. » --Books and Movie Reviews, Roberto Mattos Dans UN SERMENT FRATERNEL, Thorgrin et ses frères quittent le monde des morts, plus déterminés que jamais à retrouver Guwayne. Ils font voile sur une mer hostile, qui les conduit dans des lieux dépassant l’imagination. Alors qu’ils touchent au but, ils se heurtent à des obstacles qui testeront leurs limites, les enseignements qu’ils ont reçus, et qui les forcera à faire front comme des frères. Darius défie l’Empire et rassemble une immense armée en libérant les villages d’esclaves, l’un après l’autre. Face à des cités fortifiées et à des armées bien plus fournis que la sienne, il fait appel à son instinct, son courage, sa détermination à vivre, à faire gagner la liberté, même aux dépens de sa propre vie. Gwendolyn n’a pas d’autre choix que de conduire son peuple dans le Grand Désert, plus loin qu’aucun homme, à la recherche du légendaire Second Anneau – le dernier espoir de son peuple en fuite, et le dernier espoir de Darius. En chemin, elle rencontrera des monstres, des territoires hostiles, et une révolte de son propre peuple pourrait bien la forcer à s’arrêter. Erec et Alistair font voile vers l’Empire pour sauver leurs amis, non sans faire halte dans des îles cachées pour tenter de lever une armée – même si cela signifie passer des accords avec des mercenaires douteux. Godfrey se retrouve dans la cité de Volusia et en grand danger. Emprisonné, il doit être exécuté. Même sa ruse ne peut trouver d’échappatoire. Volusia passe un marché avec le plus sombre des sorciers et poursuit son ascension en détruisant tout ceux qui se dressent sur son passage. Plus puissante que jamais, elle marche vers la Capitale Impériale, prête à affronter une armée encore plus grande que la sienne. Thorgrin trouvera-t-il Guwayne ? Gwendolyn et son peuple survivront-ils ? Godfrey parviendra-t-il à s’échapper ? Erec et Alistair atteindront-ils l’Empire ? Volusia deviendra-t-elle la nouvelle Impératrice ? Darius mènera-t-il son peuple à la victoire ? Entre univers sophistiqué et personnages bien construits, UN SERMENT FRATERNEL est un conte épique qui parle d’amis et d’amants, de rivaux et de prétendants, de chevaliers et de dragons, d’intrigues et de machinations politiques, de jeunes gens qui deviennent adultes, de cœurs brisés, de tromperie, d’ambition et de trahison. C’est un conte sur l’honneur et le courage, sur le destin et la sorcellerie. C’est un roman de fantasy qui nous entraîne dans un monde que nous n’oublierons jamais et qui plaira à toutes les tranches d’âge et à tous les lecteurs. « Epopée de fantasy pleine d’entrain, à l’intrigue prenante et saupoudrée d’un soupçon de mystère… Une série pour des lecteurs à la recherche d’aventures. Les protagonistes et l’action tissent une vigoureuse épopée qui se focalise principalement sur l’évolution de Thor. Enfant rêveur, il devient peu à peu un jeune adulte doué pour la survie… Et ce n’est que le début de ce qui promet d’être une série épique pour jeunes adultes. » —Midwest Book Review (D. Donovan, Critiques d’eBooks)</td>\n",
       "      <td>Morgan Rice</td>\n",
       "      <td>NOT_MATURE</td>\n",
       "      <td>Le Serment des Frères (Tome 14 de L’anneau Du Sorcier)</td>\n",
       "      <td>[Morgan Rice]</td>\n",
       "      <td>2016-04-06</td>\n",
       "      <td>fr</td>\n",
       "      <td>[Juvenile Fiction]</td>\n",
       "      <td>BOOK</td>\n",
       "      <td>39999</td>\n",
       "    </tr>\n",
       "    <tr>\n",
       "      <th>28093</th>\n",
       "      <td>A book written to encourage all African American boys to consider and behave as princes. This book was designed to help teach little boys that they are special and for them to remember to smile bright through all things. This is a great book to help with building the self-esteem and confidence of little boys. ...</td>\n",
       "      <td>NaN</td>\n",
       "      <td>NOT_MATURE</td>\n",
       "      <td>Smile Bright Chocolate Prince</td>\n",
       "      <td>[Sherrita Berry-Pettus]</td>\n",
       "      <td>2016-06-17</td>\n",
       "      <td>en</td>\n",
       "      <td>[Juvenile Fiction]</td>\n",
       "      <td>BOOK</td>\n",
       "      <td>40000</td>\n",
       "    </tr>\n",
       "  </tbody>\n",
       "</table>\n",
       "</div>"
      ],
      "text/plain": [
       "                                                                                                                                                                                                                                                                                                                                                                                                                                                                                                                                                                                                                                                                                                                                                                                                                                                                                                                                                                                                                                                                                                                                                                                                                                                                                                                                                                                                                                                                                                                                                                                                                                                                                                                                                                                                                                                                                                                                                                                                                                                                                                                                                                                                                                                                                                                                                                                                                                                                                                                                                                                                                                                                                                                                                                                                                                                                                                                                                                                                                                                                                                                                                                                                                                                                                                                                                                                                                                                                                                                                                                                                                                                                                                                                                                                                                                                                                                                                                                                                                                                                                                                                                                                                                                                                                                                                                                                                                                                                                                                                                                                                                                                                                                                                                                                                                                                                                                                                                                                                                                                                                                       description  \\\n",
       "28089                                                                                                                                                                                                                                                                                                                                                                                                                                                                                                                                                                                                                                                                                                                                                                                                                                                                                                                                                                                                                                                                                                                                                                                                                                                                                                                                                                                                                                                                                                                                                                                                                                                                                                                                                     “Si vous pensiez que rien ne pouvait plus égaler la série L’anneau du Sorcier, vous vous trompiez. Dans LE REVEIL DES DRAGONS, Morgan Rice nous amène la promesse d’une nouvelle série à succès en nous immergeant dans un monde fantastique peuplé de trolls et de dragons et où l’honneur, le courage, la magie et la foi en son destin sont mis en avant. Une fois de plus, Morgan nous présente des personnages forts pour lesquels nous tremblons page après page… Ce livre trouvera immédiatement sa place dans la bibliothèque des amateurs de fantastique.” --Books and Movie Reviews, Roberto Mattos Le Bestseller #1! L’auteur #1 de Bestsellers, Morgan Rice, revient avec une nouvelle série fantasy : LE REVEIL DES DRAGONS (ROIS ET SORCIERS – Livre 1). Kyra a 15 ans et rêve de devenir une grande guerrière à l’image de son père, bien qu’elle soit l’unique fille vivant dans un fort rempli d’hommes. Elle a du mal à comprendre d’où lui viennent ses aptitudes particulières, son mystérieux pouvoir et elle finit par réaliser qu’elle est différente des autres. Elle apprend qu’on lui cache un secret depuis sa naissance et qu’il existe une prophétie à son sujet. Cela l’amène à se poser des questions sur qui elle est vraiment. Lorsque Kyra atteint l’âge légal et que le seigneur local vient pour l’enlever, son père veut la marier pour la protéger. Mais Kyra refuse et décide de partir seule dans les bois dangereux où elle rencontre un dragon. Cette rencontre déclenchera une série d’événements qui changeront à jamais l’avenir du royaume. Alec a 15 ans mais n’hésite pas à se sacrifier pour son frère et à prendre sa place en tant que recrue. Il est emmené pour servir Les Flammes, un mur de feu de dizaines de mètres de haut qui protège le royaume d’une armée de Trolls vivant à l’est. De l’autre côté du royaume, Merk est un mercenaire qui s’efforce de laisser son sombre passé derrière lui. Il s’élance dans une quête au travers des bois pour devenir un Guetteur dans l’une des Tours et défendre l’Épée de feu, une source magique à l’origine du pouvoir du royaume. Mais les Trolls veulent s’emparer de cette Épée et ils préparent une invasion massive qui anéantira à jamais le royaume. Avec une atmosphère puissante et des personnages complexes, LE REVEIL DES DRAGONS est une saga impressionnante de chevaliers, de guerriers et de rois qui met en avant courage et honneur, magie, destin, monstres et dragons. C’est une histoire d’amour et de cœurs brisés, de déception, d’ambition et de traîtrise. C’est épopée fantastique est finement menée et vous emportera dans un monde que vous n’êtes pas prêt d’oublier et qui convient à tous les âges. Livre #2 dans ROIS ET SORCIERS à paraître bientôt. “LE REVEIL DES DRAGONS est une réussite et ce, dès le début… Une fantaisie de qualité… Elle commence par le conflit intérieur d’une protagoniste et s’ouvre sur un cercle de chevaliers, de dragons, de magie, de monstres et de destinée… On y retrouve tous les éléments clefs d’une bonne fantaisie: batailles, soldats, confrontation avec soi-même… Á recommander à toute personne qui apprécie les épopées fantastiques regorgeant de jeux de pouvoir avec pour protagonistes de jeunes adultes.” --Midwest Book Review, D. Donovan, critique eBook   \n",
       "28090  « Une fantasy pleine d'action qui saura plaire aux amateurs des romans précédents de Morgan Rice et aux fans de livres tels que le cycle L'Héritage par Christopher Paolini .... Les fans de fiction pour jeunes adultes dévoreront ce dernier ouvrage de Rice et en demanderont plus. » —The Wanderer, A Literary Journal (pour Le Réveil des Dragons) La série n 1 de best-sellers ! LE POIDS DE L’HONNEUR est le tome n 3 de ROIS ET SORCIERS, la série de fantasy épique à succès de Morgan Rice (qui commence par LE RÉVEIL DES DRAGONS, disponible en téléchargement gratuit) ! Dans LE POIDS DE L’HONNEUR, Kyra finit par rencontrer son oncle mystérieux et elle se rend compte avec surprise qu’il n’est pas l’homme auquel elle s’attendait. Elle entame une période d’entraînement qui mettra à l’épreuve son endurance et sa frustration, car elle rencontrera vite les limites de son pouvoir. Incapable de convoquer son dragon, incapable de partir à la conquête de son être profond et motivée par le besoin impérieux d’aider son père à faire la guerre, Kyra ne sait pas si elle deviendra un jour la guerrière qu’elle pensait être et quand, au coeur de la forêt, elle rencontre un garçon mystérieux et plus puissant qu’elle, elle se demande ce que son avenir lui réserve vraiment. Duncan doit descendre des pics de Kos avec sa nouvelle armée et, en grande infériorité numérique, lancer une invasion risquée de la capitale. S’il gagne, il sait que derrière ses anciennes murailles l’attendront le vieux roi et sa cour de nobles et d’aristocrates, qu’ils ont tous leurs intérêts propres et qu’ils mettront le même empressement à le trahir qu’à l’accueillir. En fait, il se pourrait qu’il soit plus difficile d’unifier Escalon que de le libérer. A Ur, Alec doit faire appel à ses compétences exceptionnelles de forgeron pour aider la résistance à avoir une chance de se défendre contre l’invasion pandésienne qui s’annonce. Il est frappé d’admiration quand il fait la rencontre de Dierdre, la fille la plus forte qu’il ait jamais rencontrée. Cette fois, elle a une chance de se révolter contre Pandésia et, alors qu’elle les affronte, elle se demande si son père et ses hommes accepteront de la reprendre cette fois-ci. Merk finit par entrer dans la tour de Ur et il est stupéfait par ce qu’il découvre. Initié à ses codes et ses règles étranges, il rencontre ses compagnons les Gardiens, les guerriers les plus coriaces qu’il ait jamais rencontrés, et il se rend compte qu’il sera difficile de gagner leur respect. Une invasion se profile à l’horizon et ils doivent tous préparer la tour; cependant, il se pourrait que même tous ses passages secrets ne puissent protéger les Gardiens contre la trahison qui rôde à l’intérieur. Vesuvius fait traverser un Escalon vulnérable à sa nation Troll et dévaste le pays pendant que Theos, furieux à cause de ce qui arrive à son fils, mène son propre saccage et ne s’arrêtera que quand tout Escalon sera réduit en cendres. Avec son atmosphère puissante et ses personnages complexes, UNE FORGE DE VALEUR est une saga spectaculaire de chevaliers et de guerriers, de rois et de seigneurs, d'honneur et de valeur, de magie, de destinée, de monstres et de dragons. C'est une histoire d'amour et de cœurs brisés, de tromperie, d'ambition et de trahison. C'est de la fantasy de haute qualité qui nous invite à découvrir un monde qui vivra en nous pour toujours, un monde qui plaira à tous les âges et à tous les sexes. Le tome n 4 de ROIS ET SORCIERS sera bientôt publié. « Si vous pensiez qu'il n'y avait plus aucune raison de vivre après la fin de la série de L'ANNEAU DU SORCIER, vous aviez tort. Dans LE RÉVEIL DES DRAGONS, Morgan Rice a imaginé ce qui promet d'être une autre série brillante et nous plonge dans une histoire de fantasy avec trolls et dragons, bravoure, honneur, courage, magie et foi en sa propre destinée. Morgan Rice a de nouveau réussi à produire un solide ensemble de personnages qui nous font les acclamer à chaque page .... Recommandé pour la bibliothèque permanente de tous les lecteurs qui aiment les histoires de fantasy bien écrites ». --Books and Movie Reviews, Roberto Mattos (pour Le Réveil des Dragons) « LE RÉVEIL DES DRAGONS est un succès dès le début .... C'est une histoire de qualité supérieure qui commence traditionnellement par les luttes d'un protagoniste puis évolue vers un cercle plus large de chevaliers, de dragons, de magie et de monstres et de destin.... Tous les signes extérieurs de la « high fantasy » sont ici, des soldats et des batailles aux affrontements avec soi-même .... Une histoire séduisante recommandée pour tous ceux qui aiment la fantasy épique alimentée par de jeunes protagonistes adultes puissants et crédibles. » —Midwest Book Review D. Donovan, critique de livres électroniques “Un roman à intrigue facile à lire le week-end … Le bon début d’une série prometteuse.” --San Francisco Book Review (pour Le Réveil Des Dragons)   \n",
       "28091                                                                                                                                                                                                                                                                                                                                                                                                                                                                                                                                                                                                                                                                                                                                                                                                                                                                                                                                                                                                                                                                                                                                                                                                                                                                                                                                  « L’Anneau du Sorcier a tous les ingrédients pour un succès immédiat : intrigue, contre-intrigue, mystère, de vaillants chevaliers, des relations s’épanouissant remplies de cœurs brisés, tromperie et trahison. Cela vous tiendra en haleine pour des heures, et conviendra à tous les âges. Recommandé pour les bibliothèques de tous les lecteurs de fantasy. » --Books and Movie Review, Roberto Mattos (à propos de la Quête des Héros) Le Don du Combat (Tome 17) est le final de la série bestseller de l’Anneau du Sorcier, qui a débuté avec La Quête des Héros (Tome 1) ! Dans Le Don du Combat, Thor rencontre son plus grand et dernier défi, tandis qu’il s’aventure plus profondément dans la Terre du Sang pour tenter de secourir Guwayne. Rencontrant des adversaires plus puissants qu’il n’aurait pu l’imaginer, Thor prend rapidement conscience qu’il affronte une armée de ténèbres, une contre laquelle ses pouvoirs ne font pas le poids. Quand il apprend qu’un objet sacré pourrait lui donner le pouvoir dont il besoin – un objet qui a été tenu secret pendant une éternité – il doit s’embarquer dans une dernière quête pour le récupérer avant qu’il ne soit trop tard, avec le destin de l’Anneau pesant dans la balance. Gwendolyn tient sa promesse faite au Roi de la Crête, entre dans la Tour se confronte au chef du culte pour apprendre le secret qu’il dissimule. La révélation l’envoie vers Argon, et en fin de compte au maître d’Argon – où elle apprend le plus grand des secrets, un qui pourrait changer le destin de son peuple. Quand la Crête est découverte par l’Empire, l’invasion commence et, attaqués par la plus grande des armées connues, il échoit à Gwendolyn de la défendre, et de mener pour un dernier exode de masse. Les frères de Légion de Thor, seuls, font face à des risques inimaginables, tandis qu’Ange est en train de succomber à sa lèpre. Darius se bat pour sa vie aux côtés de son père dans la capitale de l’Empire, jusqu’à ce qu’un développement inattendu le pousse, sans plus rien à perdre, à finalement exploiter ses propres pouvoirs. Erec et Alistair atteignent Volusia, se battant pour se frayer un chemin pour remonter la rivière, et ils poursuivent leur quête pour Gwendolyn et les exilés, tandis qu’ils font face à des batailles inopinées. Et Godfrey réalise qu’il doit, en fin de compte, prendre une décision pour être l’homme qu’il veut être. Volusia, encerclée par tous les pouvoirs des Chevaliers des Sept, doit se soumettre à un test en tant que déesse et découvrir si elle seule a le pouvoir d’écraser les hommes et diriger l’Empire. Pendant qu’Argon, qui fait face à la fin de ses jours, réalise que le temps est venu de se sacrifier. Tandis que le bien et le mal pèsent dans la balance, une dernière bataille épique – la plus grande de toutes – déterminera l’issue de l’Anneau pour toujours. Avec un univers élaboré et des personnages sophistiqués, Le Don du Combat est un récit épique d’amis et d’amants, de rivaux et de prétendants, de chevaliers et de dragons, d’intrigues et de machinations, de passage à l’âge adulte, de cœurs brisés, de déceptions, d’ambition et de trahisons. C’est une histoire d’honneur et de courage, de sort et de destinée, de sorcellerie. C’est un ouvrage de fantasy qui nous emmène dans un monde inoubliable, et qui plaira à tous. Le Don du Combat est le plus long des livres de la série, avec 93.000 mots ! Et la nouvelle série épique de fantasy de Morgan Rice, Le Réveil des Dragons (Rois et Sorciers – Tome 1) est aussi disponible ! « Rempli d’action… L’écriture de Rice est respectable et la prémisse intrigante. » —PublishersWeekly (à propos de La Quête des Héros)   \n",
       "28092                                                                                                                                                                                                                                                                                                                                                                                                                                                                                                                                                                                                                                                                                                                                                                                                                                                                                                                                                                                                                                                                                                                                                                                                                                                                                                                                                                                                                                                                                                                          « L'ANNEAU DU SORCIER a tous les ingrédients d'un succès immédiat : des intrigues, des contre-intrigues, du mystère, de vaillants chevaliers et des relations qui s’épanouissent entre les cœurs brisés, les tromperies et les trahisons. Ce roman vous occupera pendant des heures et satisfera toutes les tranches d'âge. À ajouter de façon permanente à la bibliothèque de tout bon lecteur de fantasy. » --Books and Movie Reviews, Roberto Mattos Dans UN SERMENT FRATERNEL, Thorgrin et ses frères quittent le monde des morts, plus déterminés que jamais à retrouver Guwayne. Ils font voile sur une mer hostile, qui les conduit dans des lieux dépassant l’imagination. Alors qu’ils touchent au but, ils se heurtent à des obstacles qui testeront leurs limites, les enseignements qu’ils ont reçus, et qui les forcera à faire front comme des frères. Darius défie l’Empire et rassemble une immense armée en libérant les villages d’esclaves, l’un après l’autre. Face à des cités fortifiées et à des armées bien plus fournis que la sienne, il fait appel à son instinct, son courage, sa détermination à vivre, à faire gagner la liberté, même aux dépens de sa propre vie. Gwendolyn n’a pas d’autre choix que de conduire son peuple dans le Grand Désert, plus loin qu’aucun homme, à la recherche du légendaire Second Anneau – le dernier espoir de son peuple en fuite, et le dernier espoir de Darius. En chemin, elle rencontrera des monstres, des territoires hostiles, et une révolte de son propre peuple pourrait bien la forcer à s’arrêter. Erec et Alistair font voile vers l’Empire pour sauver leurs amis, non sans faire halte dans des îles cachées pour tenter de lever une armée – même si cela signifie passer des accords avec des mercenaires douteux. Godfrey se retrouve dans la cité de Volusia et en grand danger. Emprisonné, il doit être exécuté. Même sa ruse ne peut trouver d’échappatoire. Volusia passe un marché avec le plus sombre des sorciers et poursuit son ascension en détruisant tout ceux qui se dressent sur son passage. Plus puissante que jamais, elle marche vers la Capitale Impériale, prête à affronter une armée encore plus grande que la sienne. Thorgrin trouvera-t-il Guwayne ? Gwendolyn et son peuple survivront-ils ? Godfrey parviendra-t-il à s’échapper ? Erec et Alistair atteindront-ils l’Empire ? Volusia deviendra-t-elle la nouvelle Impératrice ? Darius mènera-t-il son peuple à la victoire ? Entre univers sophistiqué et personnages bien construits, UN SERMENT FRATERNEL est un conte épique qui parle d’amis et d’amants, de rivaux et de prétendants, de chevaliers et de dragons, d’intrigues et de machinations politiques, de jeunes gens qui deviennent adultes, de cœurs brisés, de tromperie, d’ambition et de trahison. C’est un conte sur l’honneur et le courage, sur le destin et la sorcellerie. C’est un roman de fantasy qui nous entraîne dans un monde que nous n’oublierons jamais et qui plaira à toutes les tranches d’âge et à tous les lecteurs. « Epopée de fantasy pleine d’entrain, à l’intrigue prenante et saupoudrée d’un soupçon de mystère… Une série pour des lecteurs à la recherche d’aventures. Les protagonistes et l’action tissent une vigoureuse épopée qui se focalise principalement sur l’évolution de Thor. Enfant rêveur, il devient peu à peu un jeune adulte doué pour la survie… Et ce n’est que le début de ce qui promet d’être une série épique pour jeunes adultes. » —Midwest Book Review (D. Donovan, Critiques d’eBooks)   \n",
       "28093                                                                                                                                                                                                                                                                                                                                                                                                                                                                                                                                                                                                                                                                                                                                                                                                                                                                                                                                                                                                                                                                                                                                                                                                                                                                                                                                                                                                                                                                                                                                                                                                                                                                                                                                                                                                                                                                                                                                                                                                                                                                                                                                                                                                                                                                                                                                                                                                                                                                                                                                                                                                                                                                                                                                                                                                                                                                                                                                                                                                                                                                                                                                                                                                                                                                                                                                                                                                                                                                                                                                                                                                                                                                                                                                                                                                                                                                                                                                                                                                                                                                                                                                                                                                                                                                                                                                                                                                                                                                                                                                                                                                                                                                                                                                                                                   A book written to encourage all African American boys to consider and behave as princes. This book was designed to help teach little boys that they are special and for them to remember to smile bright through all things. This is a great book to help with building the self-esteem and confidence of little boys. ...   \n",
       "\n",
       "         publisher maturityRating  \\\n",
       "28089  Morgan Rice     NOT_MATURE   \n",
       "28090  Morgan Rice     NOT_MATURE   \n",
       "28091  Morgan Rice     NOT_MATURE   \n",
       "28092  Morgan Rice     NOT_MATURE   \n",
       "28093          NaN     NOT_MATURE   \n",
       "\n",
       "                                                        title  \\\n",
       "28089        Le Réveil des Dragons (Rois et Sorciers—Livre 1)   \n",
       "28090      Le Poids de lHonneur (Rois et Sorciers  Livre 3)   \n",
       "28091       Le Don du Combat (Tome 17 De L’anneau Du Sorcier)   \n",
       "28092  Le Serment des Frères (Tome 14 de L’anneau Du Sorcier)   \n",
       "28093                           Smile Bright Chocolate Prince   \n",
       "\n",
       "                       authors publishedDate language          categories  \\\n",
       "28089            [Morgan Rice]    2015-02-07       fr           [Fiction]   \n",
       "28090            [Morgan Rice]    2015-09-15       fr  [Juvenile Fiction]   \n",
       "28091            [Morgan Rice]    2016-08-29       fr  [Juvenile Fiction]   \n",
       "28092            [Morgan Rice]    2016-04-06       fr  [Juvenile Fiction]   \n",
       "28093  [Sherrita Berry-Pettus]    2016-06-17       en  [Juvenile Fiction]   \n",
       "\n",
       "      printType  itemIdx  \n",
       "28089      BOOK    39999  \n",
       "28090      BOOK    39999  \n",
       "28091      BOOK    39999  \n",
       "28092      BOOK    39999  \n",
       "28093      BOOK    40000  "
      ]
     },
     "execution_count": 174,
     "metadata": {},
     "output_type": "execute_result"
    }
   ],
   "source": [
    "volumeInfo_df.tail()"
   ]
  },
  {
   "cell_type": "code",
   "execution_count": 462,
   "metadata": {},
   "outputs": [],
   "source": [
    "# exclude magazines\n",
    "volumeInfo_df = volumeInfo_df.loc[volumeInfo_df['printType']=='BOOK',:]\n",
    "# volumeInfo_df = volumeInfo_df.drop(columns='printType') #check whether only books in subsequent batches\n",
    "\n",
    "# reset index before saving as feather\n",
    "volumeInfo_df.reset_index(inplace=True)\n",
    "volumeInfo_df = volumeInfo_df.drop(columns='index')"
   ]
  },
  {
   "cell_type": "code",
   "execution_count": 465,
   "metadata": {},
   "outputs": [],
   "source": [
    "# save table as feather file (for simplified later load)\n",
    "gbooks_volumeInfo_path_pp = f'../data/interim/gbooks_volumeInfo_{int(batch_start_index / 1000)}k-{int(batch_end_index / 1000)}k.feather'\n",
    "volumeInfo_df.to_feather(gbooks_volumeInfo_path_pp)"
   ]
  },
  {
   "cell_type": "markdown",
   "metadata": {},
   "source": [
    "#### Testing "
   ]
  },
  {
   "cell_type": "code",
   "execution_count": 136,
   "metadata": {
    "collapsed": true,
    "jupyter": {
     "outputs_hidden": true
    }
   },
   "outputs": [
    {
     "data": {
      "text/html": [
       "<div>\n",
       "<style scoped>\n",
       "    .dataframe tbody tr th:only-of-type {\n",
       "        vertical-align: middle;\n",
       "    }\n",
       "\n",
       "    .dataframe tbody tr th {\n",
       "        vertical-align: top;\n",
       "    }\n",
       "\n",
       "    .dataframe thead th {\n",
       "        text-align: right;\n",
       "    }\n",
       "</style>\n",
       "<table border=\"1\" class=\"dataframe\">\n",
       "  <thead>\n",
       "    <tr style=\"text-align: right;\">\n",
       "      <th></th>\n",
       "      <th>description</th>\n",
       "      <th>publisher</th>\n",
       "      <th>maturityRating</th>\n",
       "      <th>title</th>\n",
       "      <th>authors</th>\n",
       "      <th>publishedDate</th>\n",
       "      <th>language</th>\n",
       "      <th>categories</th>\n",
       "      <th>printType</th>\n",
       "      <th>itemIdx</th>\n",
       "    </tr>\n",
       "  </thead>\n",
       "  <tbody>\n",
       "    <tr>\n",
       "      <th>26732</th>\n",
       "      <td>The Advocate is a lesbian, gay, bisexual, tran...</td>\n",
       "      <td>NaN</td>\n",
       "      <td>NOT_MATURE</td>\n",
       "      <td>The Advocate</td>\n",
       "      <td>NaN</td>\n",
       "      <td>2004-01-20</td>\n",
       "      <td>en</td>\n",
       "      <td>NaN</td>\n",
       "      <td>MAGAZINE</td>\n",
       "      <td>9378</td>\n",
       "    </tr>\n",
       "    <tr>\n",
       "      <th>26733</th>\n",
       "      <td>NaN</td>\n",
       "      <td>NaN</td>\n",
       "      <td>NOT_MATURE</td>\n",
       "      <td>The Illustrated London News</td>\n",
       "      <td>NaN</td>\n",
       "      <td>1866</td>\n",
       "      <td>en</td>\n",
       "      <td>[Great Britain]</td>\n",
       "      <td>BOOK</td>\n",
       "      <td>9378</td>\n",
       "    </tr>\n",
       "    <tr>\n",
       "      <th>26734</th>\n",
       "      <td>NaN</td>\n",
       "      <td>NaN</td>\n",
       "      <td>NOT_MATURE</td>\n",
       "      <td>The Guardian Index</td>\n",
       "      <td>NaN</td>\n",
       "      <td>1999</td>\n",
       "      <td>en</td>\n",
       "      <td>[Guardian (Manchester, England)]</td>\n",
       "      <td>BOOK</td>\n",
       "      <td>9378</td>\n",
       "    </tr>\n",
       "    <tr>\n",
       "      <th>26735</th>\n",
       "      <td>NaN</td>\n",
       "      <td>NaN</td>\n",
       "      <td>NOT_MATURE</td>\n",
       "      <td>The Cultivator &amp; Country Gentleman</td>\n",
       "      <td>NaN</td>\n",
       "      <td>1874</td>\n",
       "      <td>en</td>\n",
       "      <td>[Agriculture]</td>\n",
       "      <td>BOOK</td>\n",
       "      <td>9378</td>\n",
       "    </tr>\n",
       "    <tr>\n",
       "      <th>26736</th>\n",
       "      <td>Originally published in 1982, this title suppl...</td>\n",
       "      <td>Routledge</td>\n",
       "      <td>NOT_MATURE</td>\n",
       "      <td>Concordances to Conrad's Typhoon and Other Sto...</td>\n",
       "      <td>[Todd K. Bender, Kirsten A. Bender]</td>\n",
       "      <td>2020-04-27</td>\n",
       "      <td>en</td>\n",
       "      <td>[Literary Criticism]</td>\n",
       "      <td>BOOK</td>\n",
       "      <td>9378</td>\n",
       "    </tr>\n",
       "    <tr>\n",
       "      <th>26737</th>\n",
       "      <td>NaN</td>\n",
       "      <td>Scottish National Dictionary Association Limited</td>\n",
       "      <td>NOT_MATURE</td>\n",
       "      <td>The Compact Scottish National Dictionary</td>\n",
       "      <td>[William Grant, David D. Murison, Scottish Nat...</td>\n",
       "      <td>1986</td>\n",
       "      <td>en</td>\n",
       "      <td>[Language Arts &amp; Disciplines]</td>\n",
       "      <td>BOOK</td>\n",
       "      <td>9378</td>\n",
       "    </tr>\n",
       "    <tr>\n",
       "      <th>26738</th>\n",
       "      <td>These volumes replace the 1933 Supplement to t...</td>\n",
       "      <td>NaN</td>\n",
       "      <td>NOT_MATURE</td>\n",
       "      <td>A Supplement to the Oxford English Dictionary</td>\n",
       "      <td>[R. W. Burchfield]</td>\n",
       "      <td>1972</td>\n",
       "      <td>en</td>\n",
       "      <td>[English language]</td>\n",
       "      <td>BOOK</td>\n",
       "      <td>9378</td>\n",
       "    </tr>\n",
       "  </tbody>\n",
       "</table>\n",
       "</div>"
      ],
      "text/plain": [
       "                                             description  \\\n",
       "26732  The Advocate is a lesbian, gay, bisexual, tran...   \n",
       "26733                                                NaN   \n",
       "26734                                                NaN   \n",
       "26735                                                NaN   \n",
       "26736  Originally published in 1982, this title suppl...   \n",
       "26737                                                NaN   \n",
       "26738  These volumes replace the 1933 Supplement to t...   \n",
       "\n",
       "                                              publisher maturityRating  \\\n",
       "26732                                               NaN     NOT_MATURE   \n",
       "26733                                               NaN     NOT_MATURE   \n",
       "26734                                               NaN     NOT_MATURE   \n",
       "26735                                               NaN     NOT_MATURE   \n",
       "26736                                         Routledge     NOT_MATURE   \n",
       "26737  Scottish National Dictionary Association Limited     NOT_MATURE   \n",
       "26738                                               NaN     NOT_MATURE   \n",
       "\n",
       "                                                   title  \\\n",
       "26732                                       The Advocate   \n",
       "26733                        The Illustrated London News   \n",
       "26734                                 The Guardian Index   \n",
       "26735                 The Cultivator & Country Gentleman   \n",
       "26736  Concordances to Conrad's Typhoon and Other Sto...   \n",
       "26737           The Compact Scottish National Dictionary   \n",
       "26738      A Supplement to the Oxford English Dictionary   \n",
       "\n",
       "                                                 authors publishedDate  \\\n",
       "26732                                                NaN    2004-01-20   \n",
       "26733                                                NaN          1866   \n",
       "26734                                                NaN          1999   \n",
       "26735                                                NaN          1874   \n",
       "26736                [Todd K. Bender, Kirsten A. Bender]    2020-04-27   \n",
       "26737  [William Grant, David D. Murison, Scottish Nat...          1986   \n",
       "26738                                 [R. W. Burchfield]          1972   \n",
       "\n",
       "      language                        categories printType  itemIdx  \n",
       "26732       en                               NaN  MAGAZINE     9378  \n",
       "26733       en                   [Great Britain]      BOOK     9378  \n",
       "26734       en  [Guardian (Manchester, England)]      BOOK     9378  \n",
       "26735       en                     [Agriculture]      BOOK     9378  \n",
       "26736       en              [Literary Criticism]      BOOK     9378  \n",
       "26737       en     [Language Arts & Disciplines]      BOOK     9378  \n",
       "26738       en                [English language]      BOOK     9378  "
      ]
     },
     "metadata": {},
     "output_type": "display_data"
    },
    {
     "data": {
      "text/plain": [
       "itemID                                                 46798\n",
       "title         The Lying Game 05. Cross My Heart, Hope to Die\n",
       "author                                          Sara Shepard\n",
       "publisher                           Harper Collins Publ. USA\n",
       "main topic                                              YFCF\n",
       "                                   ...                      \n",
       "mt_len                                                   4.0\n",
       "mt_0                                                       Y\n",
       "mt_cl                                                 [YFCF]\n",
       "st_cl                                            [5AQ, YXHL]\n",
       "mt_st_cl                                   [5AQ, YXHL, YFCF]\n",
       "Name: 9378, Length: 11, dtype: object"
      ]
     },
     "metadata": {},
     "output_type": "display_data"
    }
   ],
   "source": [
    "test_itemIdx = 9378\n",
    "\n",
    "display(volumeInfo_df.loc[volumeInfo_df['itemIdx']==test_itemIdx,:])\n",
    "display(items_df.iloc[test_itemIdx,:])"
   ]
  },
  {
   "cell_type": "raw",
   "metadata": {},
   "source": [
    "# check all items with just one match\n",
    "gbooks_df.loc[gbooks_df['totalItems'] ==1 ]\n",
    "\n",
    "# compare items_df vs. gbooks_df\n",
    "display(items_df.iloc[2,:])\n",
    "print()\n",
    "print(gbooks_df.iloc[2,0:2])\n",
    "display(gbooks_df.iloc[2,2])\n",
    "\n",
    "# generate subset of gbooks details for testing and further pre-processing\n",
    "gbooks_df_sub = gbooks_df.iloc[0:100,:]\n",
    "display(gbooks_df_sub)\n",
    "\n",
    "# generate json\n",
    "gbooks_json_sub = gbooks_df_sub.to_dict()\n",
    "# gbooks_json_sub"
   ]
  },
  {
   "cell_type": "markdown",
   "metadata": {},
   "source": [
    "## Thalia data"
   ]
  },
  {
   "cell_type": "code",
   "execution_count": 21,
   "metadata": {},
   "outputs": [
    {
     "name": "stdout",
     "output_type": "stream",
     "text": [
      "   itemID                                        description rating  \\\n",
      "0   21310  \\nA brand-new story in the best-selling Prince...      0   \n",
      "1   73018                                              \\n\\n       0   \n",
      "2   19194  \\nMare Barrow's world is divided by blood—thos...      4   \n",
      "3   40250                                               \\n\\n      0   \n",
      "4   46107  \\nDie Welt der wilden Tiere\\nMalen lernen war ...      0   \n",
      "\n",
      "  number_pages  recommended_age release_date  language thalia_ranking  \\\n",
      "0                 7 - 9 Jahr(e)   2010-11-30  Englisch                  \n",
      "1          224     ab 8 Jahr(e)   2020-12-02   Deutsch          37543   \n",
      "2               13 - 17 Jahr(e)   2016-02-03  Englisch                  \n",
      "3           64    3 - 6 Jahr(e)   2015-06-04   Deutsch          39540   \n",
      "4           16    3 - 6 Jahr(e)   2019-02-19   Deutsch          35647   \n",
      "\n",
      "                                           cover_url  \n",
      "0  https://assets.thalia.media/img/artikel/816c5c...  \n",
      "1  https://assets.thalia.media/img/artikel/dc6911...  \n",
      "2  https://assets.thalia.media/img/artikel/711b74...  \n",
      "3  https://assets.thalia.media/img/artikel/f8a160...  \n",
      "4  https://assets.thalia.media/img/artikel/49b027...  \n"
     ]
    }
   ],
   "source": [
    "thalia_data = pd.read_pickle('../data/external/thalia_features.pkl')\n",
    "print(thalia_data.head(5))"
   ]
  },
  {
   "cell_type": "code",
   "execution_count": 27,
   "metadata": {},
   "outputs": [],
   "source": [
    "items_df = items_df.merge(thalia_data, on='itemID')"
   ]
  },
  {
   "cell_type": "markdown",
   "metadata": {},
   "source": [
    "## [DEV] Outlier Detection\n",
    "- only for __transactions__: remove transactions with suspiciously high #of clicks/basket/order"
   ]
  },
  {
   "cell_type": "code",
   "execution_count": 7,
   "metadata": {},
   "outputs": [
    {
     "name": "stdout",
     "output_type": "stream",
     "text": [
      "Original shape: (365143, 8)\n"
     ]
    }
   ],
   "source": [
    "print('Original shape:', transactions_df.shape)"
   ]
  },
  {
   "cell_type": "code",
   "execution_count": 8,
   "metadata": {},
   "outputs": [
    {
     "name": "stderr",
     "output_type": "stream",
     "text": [
      "/Users/estelleweinstock/opt/anaconda3/lib/python3.8/site-packages/seaborn/_decorators.py:36: FutureWarning: Pass the following variable as a keyword arg: x. From version 0.12, the only valid positional argument will be `data`, and passing other arguments without an explicit keyword will result in an error or misinterpretation.\n",
      "  warnings.warn(\n"
     ]
    },
    {
     "data": {
      "text/plain": [
       "<AxesSubplot:xlabel='click'>"
      ]
     },
     "execution_count": 8,
     "metadata": {},
     "output_type": "execute_result"
    },
    {
     "data": {
      "image/png": "[encoded data removed]",
      "text/plain": [
       "<Figure size 432x288 with 1 Axes>"
      ]
     },
     "metadata": {
      "needs_background": "light"
     },
     "output_type": "display_data"
    }
   ],
   "source": [
    "sns.boxplot(transactions_df['click'])"
   ]
  },
  {
   "cell_type": "code",
   "execution_count": 9,
   "metadata": {},
   "outputs": [],
   "source": [
    "transactions_df = transactions_df[transactions_df['click'] < np.quantile(transactions_df.click, 0.99)]"
   ]
  },
  {
   "cell_type": "code",
   "execution_count": 10,
   "metadata": {},
   "outputs": [
    {
     "name": "stderr",
     "output_type": "stream",
     "text": [
      "/Users/estelleweinstock/opt/anaconda3/lib/python3.8/site-packages/seaborn/_decorators.py:36: FutureWarning: Pass the following variable as a keyword arg: x. From version 0.12, the only valid positional argument will be `data`, and passing other arguments without an explicit keyword will result in an error or misinterpretation.\n",
      "  warnings.warn(\n"
     ]
    },
    {
     "data": {
      "text/plain": [
       "<AxesSubplot:xlabel='basket'>"
      ]
     },
     "execution_count": 10,
     "metadata": {},
     "output_type": "execute_result"
    },
    {
     "data": {
      "image/png": "[encoded data removed]",
      "text/plain": [
       "<Figure size 432x288 with 1 Axes>"
      ]
     },
     "metadata": {
      "needs_background": "light"
     },
     "output_type": "display_data"
    }
   ],
   "source": [
    "sns.boxplot(transactions_df['basket'])"
   ]
  },
  {
   "cell_type": "code",
   "execution_count": 11,
   "metadata": {},
   "outputs": [],
   "source": [
    "transactions_df = transactions_df[transactions_df['basket'] < 2]"
   ]
  },
  {
   "cell_type": "code",
   "execution_count": 12,
   "metadata": {},
   "outputs": [
    {
     "name": "stderr",
     "output_type": "stream",
     "text": [
      "/Users/estelleweinstock/opt/anaconda3/lib/python3.8/site-packages/seaborn/_decorators.py:36: FutureWarning: Pass the following variable as a keyword arg: x. From version 0.12, the only valid positional argument will be `data`, and passing other arguments without an explicit keyword will result in an error or misinterpretation.\n",
      "  warnings.warn(\n"
     ]
    },
    {
     "data": {
      "text/plain": [
       "<AxesSubplot:xlabel='order'>"
      ]
     },
     "execution_count": 12,
     "metadata": {},
     "output_type": "execute_result"
    },
    {
     "data": {
      "image/png": "[encoded data removed]",
      "text/plain": [
       "<Figure size 432x288 with 1 Axes>"
      ]
     },
     "metadata": {
      "needs_background": "light"
     },
     "output_type": "display_data"
    }
   ],
   "source": [
    "sns.boxplot(transactions_df['order'])"
   ]
  },
  {
   "cell_type": "code",
   "execution_count": 13,
   "metadata": {},
   "outputs": [],
   "source": [
    "transactions_df = transactions_df[transactions_df['order'] < 2]"
   ]
  },
  {
   "cell_type": "code",
   "execution_count": 14,
   "metadata": {},
   "outputs": [
    {
     "name": "stdout",
     "output_type": "stream",
     "text": [
      "After outlier removal shape: (358086, 8)\n"
     ]
    }
   ],
   "source": [
    "print('After outlier removal shape:', transactions_df.shape)"
   ]
  },
  {
   "cell_type": "markdown",
   "metadata": {},
   "source": [
    "## String normalization\n",
    "\n",
    "__Applied:__\n",
    "1. conversion to lowercase, e.g. publisher = 'TEKTIME' or 'Tektime' to 'tektime'\n",
    "2. removal of leading special characters, e.g. \",william shakespeare\"\n",
    "3. conversion of unicode characters (ä,ö,ü)\n",
    "\n",
    "__No fix yet:__\n",
    "1. weird entries\n",
    "    - author: der Authhhhor\n",
    "    - diverse Autoren, Autoren\n",
    "3. unicode characters like (à,é,è,°o)"
   ]
  },
  {
   "cell_type": "markdown",
   "metadata": {},
   "source": [
    "# generate copy of original df for testing of pre-processing\n",
    "items_df_cl = items_df.copy()\n",
    "display(items_df_cl.head(5))"
   ]
  },
  {
   "cell_type": "code",
   "execution_count": 29,
   "metadata": {},
   "outputs": [
    {
     "data": {
      "text/html": [
       "<div>\n",
       "<style scoped>\n",
       "    .dataframe tbody tr th:only-of-type {\n",
       "        vertical-align: middle;\n",
       "    }\n",
       "\n",
       "    .dataframe tbody tr th {\n",
       "        vertical-align: top;\n",
       "    }\n",
       "\n",
       "    .dataframe thead th {\n",
       "        text-align: right;\n",
       "    }\n",
       "</style>\n",
       "<table border=\"1\" class=\"dataframe\">\n",
       "  <thead>\n",
       "    <tr style=\"text-align: right;\">\n",
       "      <th></th>\n",
       "      <th>itemID</th>\n",
       "      <th>mt_cl</th>\n",
       "      <th>st_cl</th>\n",
       "      <th>mt_st_cl</th>\n",
       "      <th>title</th>\n",
       "      <th>author</th>\n",
       "      <th>publisher</th>\n",
       "      <th>description</th>\n",
       "      <th>rating</th>\n",
       "      <th>number_pages</th>\n",
       "      <th>recommended_age</th>\n",
       "      <th>release_date</th>\n",
       "      <th>language</th>\n",
       "      <th>thalia_ranking</th>\n",
       "      <th>cover_url</th>\n",
       "    </tr>\n",
       "  </thead>\n",
       "  <tbody>\n",
       "    <tr>\n",
       "      <th>0</th>\n",
       "      <td>21310</td>\n",
       "      <td>[YFB]</td>\n",
       "      <td>[5AH]</td>\n",
       "      <td>[5AH, YFB]</td>\n",
       "      <td>princess poppy the big mix up</td>\n",
       "      <td>janey louise jones</td>\n",
       "      <td>penguin random house childrens uk</td>\n",
       "      <td>\\nA brand-new story in the best-selling Prince...</td>\n",
       "      <td>0</td>\n",
       "      <td></td>\n",
       "      <td>7 - 9 Jahr(e)</td>\n",
       "      <td>2010-11-30</td>\n",
       "      <td>Englisch</td>\n",
       "      <td></td>\n",
       "      <td>https://assets.thalia.media/img/artikel/816c5c...</td>\n",
       "    </tr>\n",
       "    <tr>\n",
       "      <th>1</th>\n",
       "      <td>73018</td>\n",
       "      <td>[AGZ]</td>\n",
       "      <td>[YBL, YBG, WFA, YNA, 5AJ, YPA, AGZ]</td>\n",
       "      <td>[YBL, YBG, WFA, YNA, 5AJ, YPA, AGZ, AGZ]</td>\n",
       "      <td>einfach zeichnen step by step</td>\n",
       "      <td>wiebke krabbe</td>\n",
       "      <td>schwager und steinlein</td>\n",
       "      <td>\\n\\n</td>\n",
       "      <td>0</td>\n",
       "      <td>224</td>\n",
       "      <td>ab 8 Jahr(e)</td>\n",
       "      <td>2020-12-02</td>\n",
       "      <td>Deutsch</td>\n",
       "      <td>37543</td>\n",
       "      <td>https://assets.thalia.media/img/artikel/dc6911...</td>\n",
       "    </tr>\n",
       "    <tr>\n",
       "      <th>2</th>\n",
       "      <td>19194</td>\n",
       "      <td>[YFH]</td>\n",
       "      <td>[5AP, FBA]</td>\n",
       "      <td>[5AP, FBA, YFH]</td>\n",
       "      <td>red queen 1</td>\n",
       "      <td>victoria aveyard</td>\n",
       "      <td>orion publishing group</td>\n",
       "      <td>\\nMare Barrow's world is divided by blood—thos...</td>\n",
       "      <td>4</td>\n",
       "      <td></td>\n",
       "      <td>13 - 17 Jahr(e)</td>\n",
       "      <td>2016-02-03</td>\n",
       "      <td>Englisch</td>\n",
       "      <td></td>\n",
       "      <td>https://assets.thalia.media/img/artikel/711b74...</td>\n",
       "    </tr>\n",
       "    <tr>\n",
       "      <th>3</th>\n",
       "      <td>40250</td>\n",
       "      <td>[YB]</td>\n",
       "      <td>[YF, YBL, 5AD, YBG, 5AC]</td>\n",
       "      <td>[YF, YBL, 5AD, YBG, 5AC, YB]</td>\n",
       "      <td>meine kindergarten freunde pirat</td>\n",
       "      <td>nan</td>\n",
       "      <td>ars edition gmbh</td>\n",
       "      <td>\\n\\n</td>\n",
       "      <td>0</td>\n",
       "      <td>64</td>\n",
       "      <td>3 - 6 Jahr(e)</td>\n",
       "      <td>2015-06-04</td>\n",
       "      <td>Deutsch</td>\n",
       "      <td>39540</td>\n",
       "      <td>https://assets.thalia.media/img/artikel/f8a160...</td>\n",
       "    </tr>\n",
       "    <tr>\n",
       "      <th>4</th>\n",
       "      <td>46107</td>\n",
       "      <td>[WFTM]</td>\n",
       "      <td>[WD, YBL, YBLD, YBG, YBLN1, WFTM]</td>\n",
       "      <td>[WD, YBL, YBLD, YBG, YBLN1, WFTM, WFTM]</td>\n",
       "      <td>mein großes schablonen buch   wilde tiere</td>\n",
       "      <td>elizabeth golding</td>\n",
       "      <td>edition michael fischer</td>\n",
       "      <td>\\nDie Welt der wilden Tiere\\nMalen lernen war ...</td>\n",
       "      <td>0</td>\n",
       "      <td>16</td>\n",
       "      <td>3 - 6 Jahr(e)</td>\n",
       "      <td>2019-02-19</td>\n",
       "      <td>Deutsch</td>\n",
       "      <td>35647</td>\n",
       "      <td>https://assets.thalia.media/img/artikel/49b027...</td>\n",
       "    </tr>\n",
       "  </tbody>\n",
       "</table>\n",
       "</div>"
      ],
      "text/plain": [
       "   itemID   mt_cl                                st_cl  \\\n",
       "0   21310   [YFB]                                [5AH]   \n",
       "1   73018   [AGZ]  [YBL, YBG, WFA, YNA, 5AJ, YPA, AGZ]   \n",
       "2   19194   [YFH]                           [5AP, FBA]   \n",
       "3   40250    [YB]             [YF, YBL, 5AD, YBG, 5AC]   \n",
       "4   46107  [WFTM]    [WD, YBL, YBLD, YBG, YBLN1, WFTM]   \n",
       "\n",
       "                                   mt_st_cl  \\\n",
       "0                                [5AH, YFB]   \n",
       "1  [YBL, YBG, WFA, YNA, 5AJ, YPA, AGZ, AGZ]   \n",
       "2                           [5AP, FBA, YFH]   \n",
       "3              [YF, YBL, 5AD, YBG, 5AC, YB]   \n",
       "4   [WD, YBL, YBLD, YBG, YBLN1, WFTM, WFTM]   \n",
       "\n",
       "                                       title              author  \\\n",
       "0              princess poppy the big mix up  janey louise jones   \n",
       "1              einfach zeichnen step by step       wiebke krabbe   \n",
       "2                                red queen 1    victoria aveyard   \n",
       "3           meine kindergarten freunde pirat                 nan   \n",
       "4  mein großes schablonen buch   wilde tiere   elizabeth golding   \n",
       "\n",
       "                           publisher  \\\n",
       "0  penguin random house childrens uk   \n",
       "1             schwager und steinlein   \n",
       "2             orion publishing group   \n",
       "3                   ars edition gmbh   \n",
       "4            edition michael fischer   \n",
       "\n",
       "                                         description rating number_pages  \\\n",
       "0  \\nA brand-new story in the best-selling Prince...      0                \n",
       "1                                              \\n\\n       0          224   \n",
       "2  \\nMare Barrow's world is divided by blood—thos...      4                \n",
       "3                                               \\n\\n      0           64   \n",
       "4  \\nDie Welt der wilden Tiere\\nMalen lernen war ...      0           16   \n",
       "\n",
       "   recommended_age release_date  language thalia_ranking  \\\n",
       "0    7 - 9 Jahr(e)   2010-11-30  Englisch                  \n",
       "1     ab 8 Jahr(e)   2020-12-02   Deutsch          37543   \n",
       "2  13 - 17 Jahr(e)   2016-02-03  Englisch                  \n",
       "3    3 - 6 Jahr(e)   2015-06-04   Deutsch          39540   \n",
       "4    3 - 6 Jahr(e)   2019-02-19   Deutsch          35647   \n",
       "\n",
       "                                           cover_url  \n",
       "0  https://assets.thalia.media/img/artikel/816c5c...  \n",
       "1  https://assets.thalia.media/img/artikel/dc6911...  \n",
       "2  https://assets.thalia.media/img/artikel/711b74...  \n",
       "3  https://assets.thalia.media/img/artikel/f8a160...  \n",
       "4  https://assets.thalia.media/img/artikel/49b027...  "
      ]
     },
     "metadata": {},
     "output_type": "display_data"
    }
   ],
   "source": [
    "items_df_cl = items_df.copy()\n",
    "display(items_df_cl.head(5))"
   ]
  },
  {
   "cell_type": "markdown",
   "metadata": {},
   "source": [
    "### pre-processing"
   ]
  },
  {
   "cell_type": "code",
   "execution_count": 30,
   "metadata": {},
   "outputs": [
    {
     "name": "stdout",
     "output_type": "stream",
     "text": [
      "# unique title (before preprocessing): 71669 / 78021\n",
      "# unique title (after preprocessing): 71669 / 78021\n",
      "# reduction in unique title: 0\n",
      "\n",
      "# unique author (before preprocessing): 35655 / 78021\n",
      "# unique author (after preprocessing): 35655 / 78021\n",
      "# reduction in unique author: 0\n",
      "\n",
      "# unique publisher (before preprocessing): 6896 / 78021\n",
      "# unique publisher (after preprocessing): 6896 / 78021\n",
      "# reduction in unique publisher: 0\n",
      "\n",
      "remove items with missing/empty title after pp: 0\n"
     ]
    },
    {
     "data": {
      "text/html": [
       "<div>\n",
       "<style scoped>\n",
       "    .dataframe tbody tr th:only-of-type {\n",
       "        vertical-align: middle;\n",
       "    }\n",
       "\n",
       "    .dataframe tbody tr th {\n",
       "        vertical-align: top;\n",
       "    }\n",
       "\n",
       "    .dataframe thead th {\n",
       "        text-align: right;\n",
       "    }\n",
       "</style>\n",
       "<table border=\"1\" class=\"dataframe\">\n",
       "  <thead>\n",
       "    <tr style=\"text-align: right;\">\n",
       "      <th></th>\n",
       "      <th>itemID</th>\n",
       "      <th>mt_cl</th>\n",
       "      <th>st_cl</th>\n",
       "      <th>mt_st_cl</th>\n",
       "      <th>description</th>\n",
       "      <th>rating</th>\n",
       "      <th>number_pages</th>\n",
       "      <th>recommended_age</th>\n",
       "      <th>release_date</th>\n",
       "      <th>language</th>\n",
       "      <th>thalia_ranking</th>\n",
       "      <th>cover_url</th>\n",
       "      <th>title</th>\n",
       "      <th>author</th>\n",
       "      <th>publisher</th>\n",
       "    </tr>\n",
       "  </thead>\n",
       "  <tbody>\n",
       "    <tr>\n",
       "      <th>0</th>\n",
       "      <td>21310</td>\n",
       "      <td>[YFB]</td>\n",
       "      <td>[5AH]</td>\n",
       "      <td>[5AH, YFB]</td>\n",
       "      <td>\\nA brand-new story in the best-selling Prince...</td>\n",
       "      <td>0</td>\n",
       "      <td></td>\n",
       "      <td>7 - 9 Jahr(e)</td>\n",
       "      <td>2010-11-30</td>\n",
       "      <td>Englisch</td>\n",
       "      <td></td>\n",
       "      <td>https://assets.thalia.media/img/artikel/816c5c...</td>\n",
       "      <td>princess poppy the big mix up</td>\n",
       "      <td>janey louise jones</td>\n",
       "      <td>penguin random house childrens uk</td>\n",
       "    </tr>\n",
       "    <tr>\n",
       "      <th>1</th>\n",
       "      <td>73018</td>\n",
       "      <td>[AGZ]</td>\n",
       "      <td>[YBL, YBG, WFA, YNA, 5AJ, YPA, AGZ]</td>\n",
       "      <td>[YBL, YBG, WFA, YNA, 5AJ, YPA, AGZ, AGZ]</td>\n",
       "      <td>\\n\\n</td>\n",
       "      <td>0</td>\n",
       "      <td>224</td>\n",
       "      <td>ab 8 Jahr(e)</td>\n",
       "      <td>2020-12-02</td>\n",
       "      <td>Deutsch</td>\n",
       "      <td>37543</td>\n",
       "      <td>https://assets.thalia.media/img/artikel/dc6911...</td>\n",
       "      <td>einfach zeichnen step by step</td>\n",
       "      <td>wiebke krabbe</td>\n",
       "      <td>schwager und steinlein</td>\n",
       "    </tr>\n",
       "    <tr>\n",
       "      <th>2</th>\n",
       "      <td>19194</td>\n",
       "      <td>[YFH]</td>\n",
       "      <td>[5AP, FBA]</td>\n",
       "      <td>[5AP, FBA, YFH]</td>\n",
       "      <td>\\nMare Barrow's world is divided by blood—thos...</td>\n",
       "      <td>4</td>\n",
       "      <td></td>\n",
       "      <td>13 - 17 Jahr(e)</td>\n",
       "      <td>2016-02-03</td>\n",
       "      <td>Englisch</td>\n",
       "      <td></td>\n",
       "      <td>https://assets.thalia.media/img/artikel/711b74...</td>\n",
       "      <td>red queen 1</td>\n",
       "      <td>victoria aveyard</td>\n",
       "      <td>orion publishing group</td>\n",
       "    </tr>\n",
       "    <tr>\n",
       "      <th>3</th>\n",
       "      <td>40250</td>\n",
       "      <td>[YB]</td>\n",
       "      <td>[YF, YBL, 5AD, YBG, 5AC]</td>\n",
       "      <td>[YF, YBL, 5AD, YBG, 5AC, YB]</td>\n",
       "      <td>\\n\\n</td>\n",
       "      <td>0</td>\n",
       "      <td>64</td>\n",
       "      <td>3 - 6 Jahr(e)</td>\n",
       "      <td>2015-06-04</td>\n",
       "      <td>Deutsch</td>\n",
       "      <td>39540</td>\n",
       "      <td>https://assets.thalia.media/img/artikel/f8a160...</td>\n",
       "      <td>meine kindergarten freunde pirat</td>\n",
       "      <td>nan</td>\n",
       "      <td>ars edition gmbh</td>\n",
       "    </tr>\n",
       "    <tr>\n",
       "      <th>4</th>\n",
       "      <td>46107</td>\n",
       "      <td>[WFTM]</td>\n",
       "      <td>[WD, YBL, YBLD, YBG, YBLN1, WFTM]</td>\n",
       "      <td>[WD, YBL, YBLD, YBG, YBLN1, WFTM, WFTM]</td>\n",
       "      <td>\\nDie Welt der wilden Tiere\\nMalen lernen war ...</td>\n",
       "      <td>0</td>\n",
       "      <td>16</td>\n",
       "      <td>3 - 6 Jahr(e)</td>\n",
       "      <td>2019-02-19</td>\n",
       "      <td>Deutsch</td>\n",
       "      <td>35647</td>\n",
       "      <td>https://assets.thalia.media/img/artikel/49b027...</td>\n",
       "      <td>mein großes schablonen buch   wilde tiere</td>\n",
       "      <td>elizabeth golding</td>\n",
       "      <td>edition michael fischer</td>\n",
       "    </tr>\n",
       "    <tr>\n",
       "      <th>5</th>\n",
       "      <td>34217</td>\n",
       "      <td>[FMR]</td>\n",
       "      <td>[FMX, 1KBB-US-NAK, 3MRBF, FRX]</td>\n",
       "      <td>[FMX, 1KBB-US-NAK, 3MRBF, FRX, FMR]</td>\n",
       "      <td>\\nRhage und Mary sind Geliebte und Seelenverwa...</td>\n",
       "      <td>5</td>\n",
       "      <td>368</td>\n",
       "      <td></td>\n",
       "      <td>2017-03-13</td>\n",
       "      <td>Deutsch</td>\n",
       "      <td>83624</td>\n",
       "      <td>https://assets.thalia.media/img/artikel/d308c5...</td>\n",
       "      <td>ewig geliebt</td>\n",
       "      <td>j r ward</td>\n",
       "      <td>heyne taschenbuch</td>\n",
       "    </tr>\n",
       "    <tr>\n",
       "      <th>6</th>\n",
       "      <td>31436</td>\n",
       "      <td>[YBG]</td>\n",
       "      <td>[YBG, 5AD, YBLL]</td>\n",
       "      <td>[YBG, 5AD, YBLL, YBG]</td>\n",
       "      <td>\\n\\n</td>\n",
       "      <td>0</td>\n",
       "      <td>40</td>\n",
       "      <td>ab 4 Jahr(e)</td>\n",
       "      <td>2021-07-30</td>\n",
       "      <td>Deutsch</td>\n",
       "      <td>127158</td>\n",
       "      <td>https://assets.thalia.media/img/artikel/5ad225...</td>\n",
       "      <td>meine sticker tiere</td>\n",
       "      <td>nan</td>\n",
       "      <td>ars edition gmbh</td>\n",
       "    </tr>\n",
       "    <tr>\n",
       "      <th>7</th>\n",
       "      <td>14576</td>\n",
       "      <td>[YFE]</td>\n",
       "      <td>[YFH, 5AQ, YFE, FM]</td>\n",
       "      <td>[YFH, 5AQ, YFE, FM, YFE]</td>\n",
       "      <td></td>\n",
       "      <td></td>\n",
       "      <td></td>\n",
       "      <td></td>\n",
       "      <td>NaT</td>\n",
       "      <td></td>\n",
       "      <td></td>\n",
       "      <td></td>\n",
       "      <td>unsterblich 01   tor der daemmerung</td>\n",
       "      <td>julie kagawa</td>\n",
       "      <td>heyne taschenbuch</td>\n",
       "    </tr>\n",
       "    <tr>\n",
       "      <th>8</th>\n",
       "      <td>17731</td>\n",
       "      <td>[YFH]</td>\n",
       "      <td>[YFH, 5AQ, YFE, FM]</td>\n",
       "      <td>[YFH, 5AQ, YFE, FM, YFH]</td>\n",
       "      <td>\\nIn einer Welt, in der die Menschen von den V...</td>\n",
       "      <td>5</td>\n",
       "      <td>544</td>\n",
       "      <td>14 - 17 Jahr(e)</td>\n",
       "      <td>NaT</td>\n",
       "      <td>Deutsch</td>\n",
       "      <td>47235</td>\n",
       "      <td>https://assets.thalia.media/img/artikel/f2e308...</td>\n",
       "      <td>unsterblich 02   tor der nacht</td>\n",
       "      <td>julie kagawa</td>\n",
       "      <td>heyne taschenbuch</td>\n",
       "    </tr>\n",
       "    <tr>\n",
       "      <th>9</th>\n",
       "      <td>58723</td>\n",
       "      <td>[YFB]</td>\n",
       "      <td>[5AM, 1KLSC]</td>\n",
       "      <td>[5AM, 1KLSC, YFB]</td>\n",
       "      <td>\\nDer Alltag in der kolumbianischen Stadt Cart...</td>\n",
       "      <td>4</td>\n",
       "      <td>160</td>\n",
       "      <td>11 - 99 Jahr(e)</td>\n",
       "      <td>1992-03-01</td>\n",
       "      <td>Deutsch</td>\n",
       "      <td>24250</td>\n",
       "      <td>https://assets.thalia.media/img/artikel/c8eb04...</td>\n",
       "      <td>pedro und die bettler von cartagena</td>\n",
       "      <td>ursula hasler</td>\n",
       "      <td>dtv verlagsgesellschaft</td>\n",
       "    </tr>\n",
       "  </tbody>\n",
       "</table>\n",
       "</div>"
      ],
      "text/plain": [
       "   itemID   mt_cl                                st_cl  \\\n",
       "0   21310   [YFB]                                [5AH]   \n",
       "1   73018   [AGZ]  [YBL, YBG, WFA, YNA, 5AJ, YPA, AGZ]   \n",
       "2   19194   [YFH]                           [5AP, FBA]   \n",
       "3   40250    [YB]             [YF, YBL, 5AD, YBG, 5AC]   \n",
       "4   46107  [WFTM]    [WD, YBL, YBLD, YBG, YBLN1, WFTM]   \n",
       "5   34217   [FMR]       [FMX, 1KBB-US-NAK, 3MRBF, FRX]   \n",
       "6   31436   [YBG]                     [YBG, 5AD, YBLL]   \n",
       "7   14576   [YFE]                  [YFH, 5AQ, YFE, FM]   \n",
       "8   17731   [YFH]                  [YFH, 5AQ, YFE, FM]   \n",
       "9   58723   [YFB]                         [5AM, 1KLSC]   \n",
       "\n",
       "                                   mt_st_cl  \\\n",
       "0                                [5AH, YFB]   \n",
       "1  [YBL, YBG, WFA, YNA, 5AJ, YPA, AGZ, AGZ]   \n",
       "2                           [5AP, FBA, YFH]   \n",
       "3              [YF, YBL, 5AD, YBG, 5AC, YB]   \n",
       "4   [WD, YBL, YBLD, YBG, YBLN1, WFTM, WFTM]   \n",
       "5       [FMX, 1KBB-US-NAK, 3MRBF, FRX, FMR]   \n",
       "6                     [YBG, 5AD, YBLL, YBG]   \n",
       "7                  [YFH, 5AQ, YFE, FM, YFE]   \n",
       "8                  [YFH, 5AQ, YFE, FM, YFH]   \n",
       "9                         [5AM, 1KLSC, YFB]   \n",
       "\n",
       "                                         description rating number_pages  \\\n",
       "0  \\nA brand-new story in the best-selling Prince...      0                \n",
       "1                                              \\n\\n       0          224   \n",
       "2  \\nMare Barrow's world is divided by blood—thos...      4                \n",
       "3                                               \\n\\n      0           64   \n",
       "4  \\nDie Welt der wilden Tiere\\nMalen lernen war ...      0           16   \n",
       "5  \\nRhage und Mary sind Geliebte und Seelenverwa...      5          368   \n",
       "6                                               \\n\\n      0           40   \n",
       "7                                                                          \n",
       "8  \\nIn einer Welt, in der die Menschen von den V...      5          544   \n",
       "9  \\nDer Alltag in der kolumbianischen Stadt Cart...      4          160   \n",
       "\n",
       "   recommended_age release_date  language thalia_ranking  \\\n",
       "0    7 - 9 Jahr(e)   2010-11-30  Englisch                  \n",
       "1     ab 8 Jahr(e)   2020-12-02   Deutsch          37543   \n",
       "2  13 - 17 Jahr(e)   2016-02-03  Englisch                  \n",
       "3    3 - 6 Jahr(e)   2015-06-04   Deutsch          39540   \n",
       "4    3 - 6 Jahr(e)   2019-02-19   Deutsch          35647   \n",
       "5                    2017-03-13   Deutsch          83624   \n",
       "6     ab 4 Jahr(e)   2021-07-30   Deutsch         127158   \n",
       "7                           NaT                            \n",
       "8  14 - 17 Jahr(e)          NaT   Deutsch          47235   \n",
       "9  11 - 99 Jahr(e)   1992-03-01   Deutsch          24250   \n",
       "\n",
       "                                           cover_url  \\\n",
       "0  https://assets.thalia.media/img/artikel/816c5c...   \n",
       "1  https://assets.thalia.media/img/artikel/dc6911...   \n",
       "2  https://assets.thalia.media/img/artikel/711b74...   \n",
       "3  https://assets.thalia.media/img/artikel/f8a160...   \n",
       "4  https://assets.thalia.media/img/artikel/49b027...   \n",
       "5  https://assets.thalia.media/img/artikel/d308c5...   \n",
       "6  https://assets.thalia.media/img/artikel/5ad225...   \n",
       "7                                                      \n",
       "8  https://assets.thalia.media/img/artikel/f2e308...   \n",
       "9  https://assets.thalia.media/img/artikel/c8eb04...   \n",
       "\n",
       "                                       title              author  \\\n",
       "0              princess poppy the big mix up  janey louise jones   \n",
       "1              einfach zeichnen step by step       wiebke krabbe   \n",
       "2                                red queen 1    victoria aveyard   \n",
       "3           meine kindergarten freunde pirat                 nan   \n",
       "4  mein großes schablonen buch   wilde tiere   elizabeth golding   \n",
       "5                               ewig geliebt            j r ward   \n",
       "6                        meine sticker tiere                 nan   \n",
       "7        unsterblich 01   tor der daemmerung        julie kagawa   \n",
       "8             unsterblich 02   tor der nacht        julie kagawa   \n",
       "9        pedro und die bettler von cartagena       ursula hasler   \n",
       "\n",
       "                           publisher  \n",
       "0  penguin random house childrens uk  \n",
       "1             schwager und steinlein  \n",
       "2             orion publishing group  \n",
       "3                   ars edition gmbh  \n",
       "4            edition michael fischer  \n",
       "5                  heyne taschenbuch  \n",
       "6                   ars edition gmbh  \n",
       "7                  heyne taschenbuch  \n",
       "8                  heyne taschenbuch  \n",
       "9            dtv verlagsgesellschaft  "
      ]
     },
     "metadata": {},
     "output_type": "display_data"
    }
   ],
   "source": [
    "cols_pp = ['title', 'author', 'publisher']\n",
    "\n",
    "# convert all strings to lowercase\n",
    "items_df[cols_pp] = items_df[cols_pp].applymap(lambda s:s.lower() if type(s) == str else s)\n",
    "\n",
    "for col in cols_pp:\n",
    "    \n",
    "    col_cl = col + '_cl'\n",
    "\n",
    "    # add additional col for pp titles\n",
    "    items_df[col_cl] = items_df[col]\n",
    "\n",
    "    # clean strings\n",
    "    if col == 'title':\n",
    "        items_df[col_cl] = items_df[col_cl].apply(remove_nontitle_substrings)\n",
    "    items_df[col_cl] = items_df[col_cl].astype(str).apply(remove_special_characters)\n",
    "    items_df[col_cl] = items_df[col_cl].apply(convert_umlaute)\n",
    "\n",
    "    # reduce all spaces in the articles to single spaces\n",
    "    items_df[col_cl] = items_df[col_cl].apply(remove_duplicate_whitespace)\n",
    "\n",
    "    # print stats\n",
    "    col_cnt_unique = items_df[col].nunique()\n",
    "    col_cl_cnt_unique = items_df[col_cl].nunique()\n",
    "    print(f'# unique {col} (before preprocessing): {col_cnt_unique} / {len(items_df)}')\n",
    "    print(f'# unique {col} (after preprocessing): {col_cnt_unique} / {len(items_df)}')\n",
    "    print(f'# reduction in unique {col}: {col_cnt_unique-col_cl_cnt_unique}\\n')\n",
    "    \n",
    "# replace original cols by pre-processed cols\n",
    "items_df = items_df.drop(columns=cols_pp)\n",
    "items_df = items_df.rename(columns={'title_cl': 'title', 'author_cl': 'author', 'publisher_cl': 'publisher'})\n",
    "\n",
    "# remove items with missing title after pre-processing\n",
    "print(f\"remove items with missing/empty title after pp: {(items_df['title']=='').sum()}\")\n",
    "items_df = items_df[items_df['title']!='']\n",
    "\n",
    "# display cleaned df head\n",
    "display(items_df.head(10))"
   ]
  },
  {
   "cell_type": "markdown",
   "metadata": {},
   "source": [
    "### validation"
   ]
  },
  {
   "cell_type": "markdown",
   "metadata": {},
   "source": [
    "#### title"
   ]
  },
  {
   "cell_type": "code",
   "execution_count": 10,
   "metadata": {
    "collapsed": true,
    "jupyter": {
     "outputs_hidden": true,
     "source_hidden": true
    },
    "pycharm": {
     "name": "#%%\n"
    }
   },
   "outputs": [
    {
     "name": "stdout",
     "output_type": "stream",
     "text": [
      "# unique titles (before preprocessing): 71677 / 71677\n",
      "# unique titles (after preprocessing): 71677 / 71677\n",
      "# reduction in unique titles: 0\n"
     ]
    },
    {
     "data": {
      "text/html": [
       "<div>\n",
       "<style scoped>\n",
       "    .dataframe tbody tr th:only-of-type {\n",
       "        vertical-align: middle;\n",
       "    }\n",
       "\n",
       "    .dataframe tbody tr th {\n",
       "        vertical-align: top;\n",
       "    }\n",
       "\n",
       "    .dataframe thead th {\n",
       "        text-align: right;\n",
       "    }\n",
       "</style>\n",
       "<table border=\"1\" class=\"dataframe\">\n",
       "  <thead>\n",
       "    <tr style=\"text-align: right;\">\n",
       "      <th></th>\n",
       "      <th>title</th>\n",
       "      <th>title_cl</th>\n",
       "    </tr>\n",
       "  </thead>\n",
       "  <tbody>\n",
       "    <tr>\n",
       "      <th>0</th>\n",
       "      <td>princess poppy the big mix up</td>\n",
       "      <td>princess poppy the big mix up</td>\n",
       "    </tr>\n",
       "    <tr>\n",
       "      <th>1</th>\n",
       "      <td>einfach zeichnen step by step</td>\n",
       "      <td>einfach zeichnen step by step</td>\n",
       "    </tr>\n",
       "    <tr>\n",
       "      <th>2</th>\n",
       "      <td>red queen 1</td>\n",
       "      <td>red queen 1</td>\n",
       "    </tr>\n",
       "    <tr>\n",
       "      <th>3</th>\n",
       "      <td>meine kindergarten freunde pirat</td>\n",
       "      <td>meine kindergarten freunde pirat</td>\n",
       "    </tr>\n",
       "    <tr>\n",
       "      <th>4</th>\n",
       "      <td>mein großes schablonen buch   wilde tiere</td>\n",
       "      <td>mein großes schablonen buch   wilde tiere</td>\n",
       "    </tr>\n",
       "    <tr>\n",
       "      <th>5</th>\n",
       "      <td>ewig geliebt</td>\n",
       "      <td>ewig geliebt</td>\n",
       "    </tr>\n",
       "    <tr>\n",
       "      <th>6</th>\n",
       "      <td>meine sticker tiere</td>\n",
       "      <td>meine sticker tiere</td>\n",
       "    </tr>\n",
       "    <tr>\n",
       "      <th>7</th>\n",
       "      <td>unsterblich 01   tor der daemmerung</td>\n",
       "      <td>unsterblich 01   tor der daemmerung</td>\n",
       "    </tr>\n",
       "    <tr>\n",
       "      <th>8</th>\n",
       "      <td>unsterblich 02   tor der nacht</td>\n",
       "      <td>unsterblich 02   tor der nacht</td>\n",
       "    </tr>\n",
       "    <tr>\n",
       "      <th>9</th>\n",
       "      <td>pedro und die bettler von cartagena</td>\n",
       "      <td>pedro und die bettler von cartagena</td>\n",
       "    </tr>\n",
       "  </tbody>\n",
       "</table>\n",
       "</div>"
      ],
      "text/plain": [
       "                                       title  \\\n",
       "0              princess poppy the big mix up   \n",
       "1              einfach zeichnen step by step   \n",
       "2                                red queen 1   \n",
       "3           meine kindergarten freunde pirat   \n",
       "4  mein großes schablonen buch   wilde tiere   \n",
       "5                               ewig geliebt   \n",
       "6                        meine sticker tiere   \n",
       "7        unsterblich 01   tor der daemmerung   \n",
       "8             unsterblich 02   tor der nacht   \n",
       "9        pedro und die bettler von cartagena   \n",
       "\n",
       "                                    title_cl  \n",
       "0              princess poppy the big mix up  \n",
       "1              einfach zeichnen step by step  \n",
       "2                                red queen 1  \n",
       "3           meine kindergarten freunde pirat  \n",
       "4  mein großes schablonen buch   wilde tiere  \n",
       "5                               ewig geliebt  \n",
       "6                        meine sticker tiere  \n",
       "7        unsterblich 01   tor der daemmerung  \n",
       "8             unsterblich 02   tor der nacht  \n",
       "9        pedro und die bettler von cartagena  "
      ]
     },
     "metadata": {},
     "output_type": "display_data"
    }
   ],
   "source": [
    "# generate titles df (with comparison column for original and cleaned title)\n",
    "titles_df = pd.DataFrame(items_df_cl[\"title\"].unique()).rename(columns={0: \"title\"})\n",
    "titles_df['title_cl'] = titles_df['title']\n",
    "\n",
    "# convert all strings to lowercase\n",
    "titles_df = titles_df.applymap(lambda s:s.lower() if type(s) == str else s)\n",
    "\n",
    "# clean strings\n",
    "titles_df['title_cl'] = titles_df['title_cl'].astype(str).apply(remove_special_characters)\n",
    "titles_df['title_cl'] = titles_df['title_cl'].apply(remove_nontitle_substrings)\n",
    "titles_df['title_cl'] = titles_df['title_cl'].apply(convert_umlaute)\n",
    "\n",
    "# reduce all spaces in the articles to single spaces\n",
    "titles_df['title_cl'] = titles_df['title_cl'].apply(remove_duplicate_whitespace)\n",
    "\n",
    "# print stats\n",
    "title_cnt_unique = titles_df[\"title\"].nunique()\n",
    "title_cl_cnt_unique = titles_df[\"title_cl\"].nunique()\n",
    "print(f'# unique titles (before preprocessing): {title_cnt_unique} / {len(titles_df)}')\n",
    "print(f'# unique titles (after preprocessing): {title_cl_cnt_unique} / {len(titles_df)}')\n",
    "print(f'# reduction in unique titles: {title_cnt_unique-title_cl_cnt_unique}')\n",
    "\n",
    "# display cleaned df head\n",
    "display(titles_df.head(10))"
   ]
  },
  {
   "cell_type": "raw",
   "metadata": {
    "jupyter": {
     "source_hidden": true
    }
   },
   "source": [
    "test_itemIdx = 3592\n",
    "\n",
    "display(volumeInfo_df.loc[volumeInfo_df['itemIdx']==test_itemIdx,:])\n",
    "display(items_df.iloc[test_itemIdx,:])"
   ]
  },
  {
   "cell_type": "code",
   "execution_count": 9,
   "metadata": {
    "jupyter": {
     "source_hidden": true
    },
    "pycharm": {
     "name": "#%%\n"
    }
   },
   "outputs": [
    {
     "name": "stdout",
     "output_type": "stream",
     "text": [
      "unsterblich 02   tor der nacht\n",
      "meine kindergarten freunde (pferde)\n"
     ]
    }
   ],
   "source": [
    "# Testing of removal    \n",
    "for book in ['unsterblich 02 - tor der nacht','meine kindergarten-freunde (pferde)']:\n",
    "    book = re.sub(r'-',' ',book)\n",
    "    print(book)"
   ]
  },
  {
   "cell_type": "code",
   "execution_count": 10,
   "metadata": {
    "jupyter": {
     "source_hidden": true
    },
    "pycharm": {
     "name": "#%%\n"
    }
   },
   "outputs": [
    {
     "name": "stdout",
     "output_type": "stream",
     "text": [
      "#items with title including:\n",
      "\thardcover: 0\n",
      "\ttaschenbuch: 0\n",
      "\tedition: 873\n",
      "\tnovel: 324\n",
      "\thardback: 0\n"
     ]
    }
   ],
   "source": [
    "# print cnt of items including special terms\n",
    "print(f'#items with title including:')\n",
    "col = \"title_cl\"\n",
    "for entry in ['hardcover','taschenbuch','edition','novel','hardback']:\n",
    "    cnt = titles_df[col].str.contains(f'{entry}').sum()\n",
    "    print(f'\\t{entry}: {cnt}')"
   ]
  },
  {
   "cell_type": "code",
   "execution_count": null,
   "metadata": {
    "jupyter": {
     "source_hidden": true
    },
    "pycharm": {
     "name": "#%%\n"
    }
   },
   "outputs": [],
   "source": [
    "# search for specific entry\n",
    "#pd.set_option(\"display.max_rows\", None)\n",
    "#pd.set_option('display.max_colwidth', None)\n",
    "\n",
    "#search_entry = r' +'\n",
    "#display(titles_df.loc[titles_df['title'].str.contains(f'{search_entry}'), :])"
   ]
  },
  {
   "cell_type": "code",
   "execution_count": 11,
   "metadata": {
    "jupyter": {
     "source_hidden": true
    },
    "pycharm": {
     "name": "#%%\n"
    }
   },
   "outputs": [
    {
     "data": {
      "text/html": [
       "<div>\n",
       "<style scoped>\n",
       "    .dataframe tbody tr th:only-of-type {\n",
       "        vertical-align: middle;\n",
       "    }\n",
       "\n",
       "    .dataframe tbody tr th {\n",
       "        vertical-align: top;\n",
       "    }\n",
       "\n",
       "    .dataframe thead th {\n",
       "        text-align: right;\n",
       "    }\n",
       "</style>\n",
       "<table border=\"1\" class=\"dataframe\">\n",
       "  <thead>\n",
       "    <tr style=\"text-align: right;\">\n",
       "      <th></th>\n",
       "      <th>0</th>\n",
       "    </tr>\n",
       "  </thead>\n",
       "  <tbody>\n",
       "    <tr>\n",
       "      <th>0</th>\n",
       "      <td>edition</td>\n",
       "    </tr>\n",
       "  </tbody>\n",
       "</table>\n",
       "</div>"
      ],
      "text/plain": [
       "         0\n",
       "0  edition"
      ]
     },
     "execution_count": 11,
     "metadata": {},
     "output_type": "execute_result"
    }
   ],
   "source": [
    "# inspect matches for specific terms/patterns\n",
    "pd.set_option(\"display.max_rows\", None)\n",
    "# p = re.compile('\\(.*\\)')\n",
    "p = re.compile(r'edition')\n",
    "col = \"title_cl\"\n",
    "matches = titles_df[col].apply(lambda s: p.findall(s))\n",
    "matches = pd.DataFrame(set(flatten([x for x in matches if x])))\n",
    "matches\n",
    "\n",
    "\n",
    "# (1) -> elfengeist (1)\n",
    "# (dt. ausgabe)\n",
    "# the dark artifices box set (3 bände im schuber)\n",
    "# star wars(tm) - schülerin der dunklen seite\n",
    "# (sammelband) / (filmausgabe)\n",
    "# (neuauflage) / (sonderausgabe)\n",
    "# (roman) / (light novel)\n",
    "# (großdruck)\n",
    "# (gift edition) / (signed limited edition)\n",
    "# (manga)\n",
    "# (1-3 jahre)\n",
    "# (greek edition) / (german edition) / (greek book for kids) -> additional column with language tag extracted?\n",
    "# (spanish language edition of the things m -> check if error during reading in\n",
    "# (hardback)"
   ]
  },
  {
   "cell_type": "code",
   "execution_count": 12,
   "metadata": {
    "jupyter": {
     "source_hidden": true
    }
   },
   "outputs": [
    {
     "name": "stdout",
     "output_type": "stream",
     "text": [
      "items with additional title matches: 0\n"
     ]
    }
   ],
   "source": [
    "# cnt unique items per title\n",
    "title_cnt_bpp = titles_df.groupby('title').count().reset_index().rename(columns={'title_cl': 'cnt'})\n",
    "title_cnt_app = titles_df.groupby('title_cl').count().reset_index().rename(columns={'title': 'cnt'})\n",
    "# display(title_cnt_bpp)\n",
    "# display(title_cnt_app)\n",
    "\n",
    "# merge both cnts to get comparison\n",
    "titles_w_cnt = titles_df.merge(title_cnt_bpp, on='title', how='left')\n",
    "titles_w_cnt = titles_w_cnt.merge(title_cnt_app, on='title_cl', how='left')\n",
    "# display(titles_w_cnt)\n",
    "\n",
    "# inspect differences\n",
    "print(f'items with additional title matches: {len(titles_w_cnt[(titles_w_cnt[\"cnt_x\"] < titles_w_cnt[\"cnt_y\"])].drop_duplicates())}')"
   ]
  },
  {
   "cell_type": "code",
   "execution_count": 13,
   "metadata": {},
   "outputs": [
    {
     "data": {
      "text/html": [
       "<div>\n",
       "<style scoped>\n",
       "    .dataframe tbody tr th:only-of-type {\n",
       "        vertical-align: middle;\n",
       "    }\n",
       "\n",
       "    .dataframe tbody tr th {\n",
       "        vertical-align: top;\n",
       "    }\n",
       "\n",
       "    .dataframe thead th {\n",
       "        text-align: right;\n",
       "    }\n",
       "</style>\n",
       "<table border=\"1\" class=\"dataframe\">\n",
       "  <thead>\n",
       "    <tr style=\"text-align: right;\">\n",
       "      <th></th>\n",
       "      <th>title</th>\n",
       "      <th>title_cl</th>\n",
       "      <th>cnt_x</th>\n",
       "      <th>cnt_y</th>\n",
       "    </tr>\n",
       "  </thead>\n",
       "  <tbody>\n",
       "  </tbody>\n",
       "</table>\n",
       "</div>"
      ],
      "text/plain": [
       "Empty DataFrame\n",
       "Columns: [title, title_cl, cnt_x, cnt_y]\n",
       "Index: []"
      ]
     },
     "metadata": {},
     "output_type": "display_data"
    }
   ],
   "source": [
    "display(titles_w_cnt[(titles_w_cnt['cnt_x'] < titles_w_cnt['cnt_y']) & \n",
    "                     (titles_w_cnt['cnt_y'] > 1)].drop_duplicates())"
   ]
  },
  {
   "cell_type": "code",
   "execution_count": 14,
   "metadata": {},
   "outputs": [
    {
     "data": {
      "text/html": [
       "<div>\n",
       "<style scoped>\n",
       "    .dataframe tbody tr th:only-of-type {\n",
       "        vertical-align: middle;\n",
       "    }\n",
       "\n",
       "    .dataframe tbody tr th {\n",
       "        vertical-align: top;\n",
       "    }\n",
       "\n",
       "    .dataframe thead th {\n",
       "        text-align: right;\n",
       "    }\n",
       "</style>\n",
       "<table border=\"1\" class=\"dataframe\">\n",
       "  <thead>\n",
       "    <tr style=\"text-align: right;\">\n",
       "      <th></th>\n",
       "      <th>title</th>\n",
       "      <th>title_cl</th>\n",
       "    </tr>\n",
       "  </thead>\n",
       "  <tbody>\n",
       "    <tr>\n",
       "      <th>71483</th>\n",
       "      <td>z rex</td>\n",
       "      <td>z rex</td>\n",
       "    </tr>\n",
       "  </tbody>\n",
       "</table>\n",
       "</div>"
      ],
      "text/plain": [
       "       title title_cl\n",
       "71483  z rex    z rex"
      ]
     },
     "execution_count": 14,
     "metadata": {},
     "output_type": "execute_result"
    }
   ],
   "source": [
    "# inspect exemplary item\n",
    "titles_df[titles_df['title_cl'] == 'the dungeon masters wife']\n",
    "titles_df[titles_df['title_cl'] == 'z rex']"
   ]
  },
  {
   "cell_type": "markdown",
   "metadata": {},
   "source": [
    "#### author"
   ]
  },
  {
   "cell_type": "code",
   "execution_count": 15,
   "metadata": {
    "collapsed": true,
    "jupyter": {
     "outputs_hidden": true,
     "source_hidden": true
    }
   },
   "outputs": [
    {
     "name": "stdout",
     "output_type": "stream",
     "text": [
      "# unique authors (before preprocessing): 35660 / 35660\n",
      "# unique authors (after preprocessing): 35660 / 35660\n",
      "# reduction in unique authors: 0\n"
     ]
    },
    {
     "data": {
      "text/html": [
       "<div>\n",
       "<style scoped>\n",
       "    .dataframe tbody tr th:only-of-type {\n",
       "        vertical-align: middle;\n",
       "    }\n",
       "\n",
       "    .dataframe tbody tr th {\n",
       "        vertical-align: top;\n",
       "    }\n",
       "\n",
       "    .dataframe thead th {\n",
       "        text-align: right;\n",
       "    }\n",
       "</style>\n",
       "<table border=\"1\" class=\"dataframe\">\n",
       "  <thead>\n",
       "    <tr style=\"text-align: right;\">\n",
       "      <th></th>\n",
       "      <th>author</th>\n",
       "      <th>author_cl</th>\n",
       "    </tr>\n",
       "  </thead>\n",
       "  <tbody>\n",
       "    <tr>\n",
       "      <th>0</th>\n",
       "      <td>janey louise jones</td>\n",
       "      <td>janey louise jones</td>\n",
       "    </tr>\n",
       "    <tr>\n",
       "      <th>1</th>\n",
       "      <td>wiebke krabbe</td>\n",
       "      <td>wiebke krabbe</td>\n",
       "    </tr>\n",
       "    <tr>\n",
       "      <th>2</th>\n",
       "      <td>victoria aveyard</td>\n",
       "      <td>victoria aveyard</td>\n",
       "    </tr>\n",
       "    <tr>\n",
       "      <th>3</th>\n",
       "      <td>nan</td>\n",
       "      <td>nan</td>\n",
       "    </tr>\n",
       "    <tr>\n",
       "      <th>4</th>\n",
       "      <td>elizabeth golding</td>\n",
       "      <td>elizabeth golding</td>\n",
       "    </tr>\n",
       "    <tr>\n",
       "      <th>5</th>\n",
       "      <td>j r ward</td>\n",
       "      <td>j r ward</td>\n",
       "    </tr>\n",
       "    <tr>\n",
       "      <th>6</th>\n",
       "      <td>julie kagawa</td>\n",
       "      <td>julie kagawa</td>\n",
       "    </tr>\n",
       "    <tr>\n",
       "      <th>7</th>\n",
       "      <td>ursula hasler</td>\n",
       "      <td>ursula hasler</td>\n",
       "    </tr>\n",
       "    <tr>\n",
       "      <th>8</th>\n",
       "      <td>anna lummfeld</td>\n",
       "      <td>anna lummfeld</td>\n",
       "    </tr>\n",
       "    <tr>\n",
       "      <th>9</th>\n",
       "      <td>swen harder</td>\n",
       "      <td>swen harder</td>\n",
       "    </tr>\n",
       "  </tbody>\n",
       "</table>\n",
       "</div>"
      ],
      "text/plain": [
       "               author           author_cl\n",
       "0  janey louise jones  janey louise jones\n",
       "1       wiebke krabbe       wiebke krabbe\n",
       "2    victoria aveyard    victoria aveyard\n",
       "3                 nan                 nan\n",
       "4   elizabeth golding   elizabeth golding\n",
       "5            j r ward            j r ward\n",
       "6        julie kagawa        julie kagawa\n",
       "7       ursula hasler       ursula hasler\n",
       "8       anna lummfeld       anna lummfeld\n",
       "9         swen harder         swen harder"
      ]
     },
     "metadata": {},
     "output_type": "display_data"
    }
   ],
   "source": [
    "# generate authors df (with comparison column for original and cleaned author)\n",
    "author_df = pd.DataFrame(items_df_cl[\"author\"].unique()).rename(columns={0: \"author\"})\n",
    "author_df['author_cl'] = author_df['author']\n",
    "\n",
    "# convert all strings to lowercase\n",
    "author_df = author_df.applymap(lambda s:s.lower() if type(s) == str else s)\n",
    "\n",
    "# clean strings\n",
    "author_df['author_cl'] = author_df['author_cl'].astype(str).apply(remove_special_characters)\n",
    "author_df['author_cl'] = author_df['author_cl'].apply(convert_umlaute)\n",
    "\n",
    "# reduce all spaces in the articles to single spaces\n",
    "author_df['author_cl'] = author_df['author_cl'].apply(remove_duplicate_whitespace)\n",
    "\n",
    "# print stats\n",
    "author_cnt_unique = author_df[\"author\"].nunique()\n",
    "author_cl_cnt_unique = author_df[\"author_cl\"].nunique()\n",
    "print(f'# unique authors (before preprocessing): {author_cnt_unique} / {len(author_df)}')\n",
    "print(f'# unique authors (after preprocessing): {author_cl_cnt_unique} / {len(author_df)}')\n",
    "print(f'# reduction in unique authors: {author_cnt_unique-author_cl_cnt_unique}')\n",
    "\n",
    "# display cleaned df head\n",
    "display(author_df.head(10))"
   ]
  },
  {
   "cell_type": "code",
   "execution_count": 16,
   "metadata": {
    "jupyter": {
     "source_hidden": true
    }
   },
   "outputs": [
    {
     "name": "stdout",
     "output_type": "stream",
     "text": [
      "items with additional author matches: 0\n"
     ]
    }
   ],
   "source": [
    "# cnt unique items per author\n",
    "author_cnt_bpp = author_df.groupby('author').count().reset_index().rename(columns={'author_cl': 'cnt'})\n",
    "author_cnt_app = author_df.groupby('author_cl').count().reset_index().rename(columns={'author': 'cnt'})\n",
    "# display(author_cnt_bpp)\n",
    "# display(author_cnt_app)\n",
    "\n",
    "# merge both cnts to get comparison\n",
    "authors_w_cnt = author_df.merge(author_cnt_bpp, on='author', how='left')\n",
    "authors_w_cnt = authors_w_cnt.merge(author_cnt_app, on='author_cl', how='left')\n",
    "# display(authors_w_cnt)\n",
    "\n",
    "# inspect differences\n",
    "print(f'items with additional author matches: {len(authors_w_cnt[(authors_w_cnt[\"cnt_x\"] < authors_w_cnt[\"cnt_y\"])].drop_duplicates())}')"
   ]
  },
  {
   "cell_type": "code",
   "execution_count": 17,
   "metadata": {},
   "outputs": [
    {
     "data": {
      "text/html": [
       "<div>\n",
       "<style scoped>\n",
       "    .dataframe tbody tr th:only-of-type {\n",
       "        vertical-align: middle;\n",
       "    }\n",
       "\n",
       "    .dataframe tbody tr th {\n",
       "        vertical-align: top;\n",
       "    }\n",
       "\n",
       "    .dataframe thead th {\n",
       "        text-align: right;\n",
       "    }\n",
       "</style>\n",
       "<table border=\"1\" class=\"dataframe\">\n",
       "  <thead>\n",
       "    <tr style=\"text-align: right;\">\n",
       "      <th></th>\n",
       "      <th>author</th>\n",
       "      <th>author_cl</th>\n",
       "      <th>cnt_x</th>\n",
       "      <th>cnt_y</th>\n",
       "    </tr>\n",
       "  </thead>\n",
       "  <tbody>\n",
       "  </tbody>\n",
       "</table>\n",
       "</div>"
      ],
      "text/plain": [
       "Empty DataFrame\n",
       "Columns: [author, author_cl, cnt_x, cnt_y]\n",
       "Index: []"
      ]
     },
     "metadata": {},
     "output_type": "display_data"
    }
   ],
   "source": [
    "display(authors_w_cnt[(authors_w_cnt['cnt_x'] < authors_w_cnt['cnt_y']) & \n",
    "                     (authors_w_cnt['cnt_y'] > 1)].drop_duplicates())"
   ]
  },
  {
   "cell_type": "code",
   "execution_count": 18,
   "metadata": {},
   "outputs": [
    {
     "data": {
      "text/html": [
       "<div>\n",
       "<style scoped>\n",
       "    .dataframe tbody tr th:only-of-type {\n",
       "        vertical-align: middle;\n",
       "    }\n",
       "\n",
       "    .dataframe tbody tr th {\n",
       "        vertical-align: top;\n",
       "    }\n",
       "\n",
       "    .dataframe thead th {\n",
       "        text-align: right;\n",
       "    }\n",
       "</style>\n",
       "<table border=\"1\" class=\"dataframe\">\n",
       "  <thead>\n",
       "    <tr style=\"text-align: right;\">\n",
       "      <th></th>\n",
       "      <th>author</th>\n",
       "      <th>author_cl</th>\n",
       "    </tr>\n",
       "  </thead>\n",
       "  <tbody>\n",
       "    <tr>\n",
       "      <th>33843</th>\n",
       "      <td>larry w miller jr</td>\n",
       "      <td>larry w miller jr</td>\n",
       "    </tr>\n",
       "  </tbody>\n",
       "</table>\n",
       "</div>"
      ],
      "text/plain": [
       "                  author          author_cl\n",
       "33843  larry w miller jr  larry w miller jr"
      ]
     },
     "execution_count": 18,
     "metadata": {},
     "output_type": "execute_result"
    }
   ],
   "source": [
    "# inspect exemplary item\n",
    "author_df[author_df['author_cl'] == 'larry w miller jr']"
   ]
  },
  {
   "cell_type": "markdown",
   "metadata": {},
   "source": [
    "#### publisher"
   ]
  },
  {
   "cell_type": "code",
   "execution_count": 19,
   "metadata": {
    "collapsed": true,
    "jupyter": {
     "outputs_hidden": true,
     "source_hidden": true
    }
   },
   "outputs": [
    {
     "name": "stdout",
     "output_type": "stream",
     "text": [
      "# unique publishers (before preprocessing): 6897 / 6897\n",
      "# unique publishers (after preprocessing): 6897 / 6897\n",
      "# reduction in unique publishers: 0\n"
     ]
    },
    {
     "data": {
      "text/html": [
       "<div>\n",
       "<style scoped>\n",
       "    .dataframe tbody tr th:only-of-type {\n",
       "        vertical-align: middle;\n",
       "    }\n",
       "\n",
       "    .dataframe tbody tr th {\n",
       "        vertical-align: top;\n",
       "    }\n",
       "\n",
       "    .dataframe thead th {\n",
       "        text-align: right;\n",
       "    }\n",
       "</style>\n",
       "<table border=\"1\" class=\"dataframe\">\n",
       "  <thead>\n",
       "    <tr style=\"text-align: right;\">\n",
       "      <th></th>\n",
       "      <th>publisher</th>\n",
       "      <th>publisher_cl</th>\n",
       "    </tr>\n",
       "  </thead>\n",
       "  <tbody>\n",
       "    <tr>\n",
       "      <th>0</th>\n",
       "      <td>penguin random house childrens uk</td>\n",
       "      <td>penguin random house childrens uk</td>\n",
       "    </tr>\n",
       "    <tr>\n",
       "      <th>1</th>\n",
       "      <td>schwager und steinlein</td>\n",
       "      <td>schwager und steinlein</td>\n",
       "    </tr>\n",
       "    <tr>\n",
       "      <th>2</th>\n",
       "      <td>orion publishing group</td>\n",
       "      <td>orion publishing group</td>\n",
       "    </tr>\n",
       "    <tr>\n",
       "      <th>3</th>\n",
       "      <td>ars edition gmbh</td>\n",
       "      <td>ars edition gmbh</td>\n",
       "    </tr>\n",
       "    <tr>\n",
       "      <th>4</th>\n",
       "      <td>edition michael fischer</td>\n",
       "      <td>edition michael fischer</td>\n",
       "    </tr>\n",
       "    <tr>\n",
       "      <th>5</th>\n",
       "      <td>heyne taschenbuch</td>\n",
       "      <td>heyne taschenbuch</td>\n",
       "    </tr>\n",
       "    <tr>\n",
       "      <th>6</th>\n",
       "      <td>dtv verlagsgesellschaft</td>\n",
       "      <td>dtv verlagsgesellschaft</td>\n",
       "    </tr>\n",
       "    <tr>\n",
       "      <th>7</th>\n",
       "      <td>coppenrath f</td>\n",
       "      <td>coppenrath f</td>\n",
       "    </tr>\n",
       "    <tr>\n",
       "      <th>8</th>\n",
       "      <td>books on demand</td>\n",
       "      <td>books on demand</td>\n",
       "    </tr>\n",
       "    <tr>\n",
       "      <th>9</th>\n",
       "      <td>mantikore verlag</td>\n",
       "      <td>mantikore verlag</td>\n",
       "    </tr>\n",
       "  </tbody>\n",
       "</table>\n",
       "</div>"
      ],
      "text/plain": [
       "                           publisher                       publisher_cl\n",
       "0  penguin random house childrens uk  penguin random house childrens uk\n",
       "1             schwager und steinlein             schwager und steinlein\n",
       "2             orion publishing group             orion publishing group\n",
       "3                   ars edition gmbh                   ars edition gmbh\n",
       "4            edition michael fischer            edition michael fischer\n",
       "5                  heyne taschenbuch                  heyne taschenbuch\n",
       "6            dtv verlagsgesellschaft            dtv verlagsgesellschaft\n",
       "7                       coppenrath f                       coppenrath f\n",
       "8                    books on demand                    books on demand\n",
       "9                   mantikore verlag                   mantikore verlag"
      ]
     },
     "metadata": {},
     "output_type": "display_data"
    }
   ],
   "source": [
    "# generate publishers df (with comparison column for original and cleaned publisher)\n",
    "publisher_df = pd.DataFrame(items_df_cl[\"publisher\"].unique()).rename(columns={0: \"publisher\"})\n",
    "publisher_df['publisher_cl'] = publisher_df['publisher']\n",
    "\n",
    "# convert all strings to lowercase\n",
    "publisher_df = publisher_df.applymap(lambda s:s.lower() if type(s) == str else s)\n",
    "\n",
    "# clean strings\n",
    "publisher_df['publisher_cl'] = publisher_df['publisher_cl'].astype(str).apply(remove_special_characters)\n",
    "publisher_df['publisher_cl'] = publisher_df['publisher_cl'].apply(convert_umlaute)\n",
    "\n",
    "# reduce all spaces in the articles to single spaces\n",
    "publisher_df['publisher_cl'] = publisher_df['publisher_cl'].apply(remove_duplicate_whitespace)\n",
    "\n",
    "# print stats\n",
    "publisher_cnt_unique = publisher_df[\"publisher\"].nunique()\n",
    "publisher_cl_cnt_unique = publisher_df[\"publisher_cl\"].nunique()\n",
    "print(f'# unique publishers (before preprocessing): {publisher_cnt_unique} / {len(publisher_df)}')\n",
    "print(f'# unique publishers (after preprocessing): {publisher_cl_cnt_unique} / {len(publisher_df)}')\n",
    "print(f'# reduction in unique publishers: {publisher_cnt_unique-publisher_cl_cnt_unique}')\n",
    "\n",
    "# display cleaned df head\n",
    "display(publisher_df.head(10))"
   ]
  },
  {
   "cell_type": "code",
   "execution_count": 20,
   "metadata": {
    "jupyter": {
     "source_hidden": true
    }
   },
   "outputs": [
    {
     "name": "stdout",
     "output_type": "stream",
     "text": [
      "items with additional publisher matches: 0\n"
     ]
    }
   ],
   "source": [
    "# cnt unique items per publisher\n",
    "publisher_cnt_bpp = publisher_df.groupby('publisher').count().reset_index().rename(columns={'publisher_cl': 'cnt'})\n",
    "publisher_cnt_app = publisher_df.groupby('publisher_cl').count().reset_index().rename(columns={'publisher': 'cnt'})\n",
    "# display(publisher_cnt_bpp)\n",
    "# display(publisher_cnt_app)\n",
    "\n",
    "# merge both cnts to get comparison\n",
    "publishers_w_cnt = publisher_df.merge(publisher_cnt_bpp, on='publisher', how='left')\n",
    "publishers_w_cnt = publishers_w_cnt.merge(publisher_cnt_app, on='publisher_cl', how='left')\n",
    "# display(publishers_w_cnt)\n",
    "\n",
    "# inspect differences\n",
    "print(f'items with additional publisher matches: {len(publishers_w_cnt[(publishers_w_cnt[\"cnt_x\"] < publishers_w_cnt[\"cnt_y\"])].drop_duplicates())}')"
   ]
  },
  {
   "cell_type": "code",
   "execution_count": 21,
   "metadata": {},
   "outputs": [
    {
     "data": {
      "text/html": [
       "<div>\n",
       "<style scoped>\n",
       "    .dataframe tbody tr th:only-of-type {\n",
       "        vertical-align: middle;\n",
       "    }\n",
       "\n",
       "    .dataframe tbody tr th {\n",
       "        vertical-align: top;\n",
       "    }\n",
       "\n",
       "    .dataframe thead th {\n",
       "        text-align: right;\n",
       "    }\n",
       "</style>\n",
       "<table border=\"1\" class=\"dataframe\">\n",
       "  <thead>\n",
       "    <tr style=\"text-align: right;\">\n",
       "      <th></th>\n",
       "      <th>publisher</th>\n",
       "      <th>publisher_cl</th>\n",
       "      <th>cnt_x</th>\n",
       "      <th>cnt_y</th>\n",
       "    </tr>\n",
       "  </thead>\n",
       "  <tbody>\n",
       "  </tbody>\n",
       "</table>\n",
       "</div>"
      ],
      "text/plain": [
       "Empty DataFrame\n",
       "Columns: [publisher, publisher_cl, cnt_x, cnt_y]\n",
       "Index: []"
      ]
     },
     "metadata": {},
     "output_type": "display_data"
    }
   ],
   "source": [
    "display(publishers_w_cnt[(publishers_w_cnt['cnt_x'] < publishers_w_cnt['cnt_y']) & \n",
    "                     (publishers_w_cnt['cnt_y'] > 1)].drop_duplicates())"
   ]
  },
  {
   "cell_type": "code",
   "execution_count": 22,
   "metadata": {},
   "outputs": [
    {
     "data": {
      "text/html": [
       "<div>\n",
       "<style scoped>\n",
       "    .dataframe tbody tr th:only-of-type {\n",
       "        vertical-align: middle;\n",
       "    }\n",
       "\n",
       "    .dataframe tbody tr th {\n",
       "        vertical-align: top;\n",
       "    }\n",
       "\n",
       "    .dataframe thead th {\n",
       "        text-align: right;\n",
       "    }\n",
       "</style>\n",
       "<table border=\"1\" class=\"dataframe\">\n",
       "  <thead>\n",
       "    <tr style=\"text-align: right;\">\n",
       "      <th></th>\n",
       "      <th>publisher</th>\n",
       "      <th>publisher_cl</th>\n",
       "    </tr>\n",
       "  </thead>\n",
       "  <tbody>\n",
       "    <tr>\n",
       "      <th>1759</th>\n",
       "      <td>digital scanning inc</td>\n",
       "      <td>digital scanning inc</td>\n",
       "    </tr>\n",
       "  </tbody>\n",
       "</table>\n",
       "</div>"
      ],
      "text/plain": [
       "                 publisher          publisher_cl\n",
       "1759  digital scanning inc  digital scanning inc"
      ]
     },
     "execution_count": 22,
     "metadata": {},
     "output_type": "execute_result"
    }
   ],
   "source": [
    "# inspect exemplary item\n",
    "publisher_df[publisher_df['publisher_cl'] == 'digital scanning inc']"
   ]
  },
  {
   "cell_type": "markdown",
   "metadata": {},
   "source": [
    "## Header-Set \n",
    "\n",
    "__Approach:__\n",
    "1. __[done]__ Generate new header-set with new IDs to unify same books that appear multiple times in the items and transactions table\n",
    "    a. generate new IDs\n",
    "    b. unify information\n",
    "2. __[done]__ Replace the subset IDs in transactions table by superset IDs\n",
    "\n",
    "3. Pull data on header level from external sources (e.g. google doc incl. publication date and language flag)"
   ]
  },
  {
   "cell_type": "markdown",
   "metadata": {},
   "source": [
    "### generation"
   ]
  },
  {
   "cell_type": "code",
   "execution_count": 31,
   "metadata": {},
   "outputs": [
    {
     "name": "stdout",
     "output_type": "stream",
     "text": [
      "shape of header_items_df vs. items_df: (71669, 10) vs. (78021, 15)\n",
      "cnt of duplicate \"title\" in header_df: 0\n"
     ]
    },
    {
     "data": {
      "text/html": [
       "<div>\n",
       "<style scoped>\n",
       "    .dataframe tbody tr th:only-of-type {\n",
       "        vertical-align: middle;\n",
       "    }\n",
       "\n",
       "    .dataframe tbody tr th {\n",
       "        vertical-align: top;\n",
       "    }\n",
       "\n",
       "    .dataframe thead th {\n",
       "        text-align: right;\n",
       "    }\n",
       "</style>\n",
       "<table border=\"1\" class=\"dataframe\">\n",
       "  <thead>\n",
       "    <tr style=\"text-align: right;\">\n",
       "      <th></th>\n",
       "      <th>headerID</th>\n",
       "      <th>title</th>\n",
       "      <th>author</th>\n",
       "      <th>publisher</th>\n",
       "      <th>mt_st_cl</th>\n",
       "      <th>language</th>\n",
       "      <th>number_pages</th>\n",
       "      <th>recommended_age</th>\n",
       "      <th>release_date</th>\n",
       "      <th>description</th>\n",
       "    </tr>\n",
       "  </thead>\n",
       "  <tbody>\n",
       "    <tr>\n",
       "      <th>0</th>\n",
       "      <td>0</td>\n",
       "      <td>and the word became a story</td>\n",
       "      <td>{the author}</td>\n",
       "      <td>{books on demand}</td>\n",
       "      <td>{FN, FM, FL}</td>\n",
       "      <td>{Englisch}</td>\n",
       "      <td>{304}</td>\n",
       "      <td>{}</td>\n",
       "      <td>{2018-04-17 00:00:00}</td>\n",
       "      <td>{\\nAt the beginning was the Word.\\nAnd from th...</td>\n",
       "    </tr>\n",
       "    <tr>\n",
       "      <th>1</th>\n",
       "      <td>1</td>\n",
       "      <td>evvai</td>\n",
       "      <td>{cristina polacchini}</td>\n",
       "      <td>{lulucom}</td>\n",
       "      <td>{, YFB}</td>\n",
       "      <td>{Italienisch}</td>\n",
       "      <td>{106}</td>\n",
       "      <td>{}</td>\n",
       "      <td>{2015-08-01 00:00:00}</td>\n",
       "      <td>{\\nAmicizia, scuola, amore, alti e bassi, in a...</td>\n",
       "    </tr>\n",
       "    <tr>\n",
       "      <th>2</th>\n",
       "      <td>2</td>\n",
       "      <td>leviathan wakes calibans war abaddons gate no...</td>\n",
       "      <td>{james s a corey}</td>\n",
       "      <td>{orbit}</td>\n",
       "      <td>{, FLS}</td>\n",
       "      <td>{Englisch}</td>\n",
       "      <td>{1792}</td>\n",
       "      <td>{}</td>\n",
       "      <td>{2019-11-19 00:00:00}</td>\n",
       "      <td>{\\nFor the first time in hardcover, the first ...</td>\n",
       "    </tr>\n",
       "    <tr>\n",
       "      <th>3</th>\n",
       "      <td>3</td>\n",
       "      <td>the ultimate vehicle colouring book for kids</td>\n",
       "      <td>{chetna }</td>\n",
       "      <td>{westland publications limited}</td>\n",
       "      <td>{, YBG}</td>\n",
       "      <td>{}</td>\n",
       "      <td>{104}</td>\n",
       "      <td>{}</td>\n",
       "      <td>{2020-08-17 00:00:00}</td>\n",
       "      <td>{\\n}</td>\n",
       "    </tr>\n",
       "    <tr>\n",
       "      <th>4</th>\n",
       "      <td>4</td>\n",
       "      <td>then he ate my boy entrancers</td>\n",
       "      <td>{louise rennison}</td>\n",
       "      <td>{harpercollins publishers}</td>\n",
       "      <td>{4Z-GB-ACN, YFM, YFQ}</td>\n",
       "      <td>{Englisch}</td>\n",
       "      <td>{334}</td>\n",
       "      <td>{12 - 15 Jahr(e)}</td>\n",
       "      <td>{2006-02-06 00:00:00}</td>\n",
       "      <td>{\\nBrilliantly funny, teenage angst author Lou...</td>\n",
       "    </tr>\n",
       "  </tbody>\n",
       "</table>\n",
       "</div>"
      ],
      "text/plain": [
       "   headerID                                              title  \\\n",
       "0         0                        and the word became a story   \n",
       "1         1                                              evvai   \n",
       "2         2   leviathan wakes calibans war abaddons gate no...   \n",
       "3         3       the ultimate vehicle colouring book for kids   \n",
       "4         4                      then he ate my boy entrancers   \n",
       "\n",
       "                  author                        publisher  \\\n",
       "0           {the author}                {books on demand}   \n",
       "1  {cristina polacchini}                        {lulucom}   \n",
       "2      {james s a corey}                          {orbit}   \n",
       "3              {chetna }  {westland publications limited}   \n",
       "4      {louise rennison}       {harpercollins publishers}   \n",
       "\n",
       "                mt_st_cl       language number_pages    recommended_age  \\\n",
       "0           {FN, FM, FL}     {Englisch}        {304}                 {}   \n",
       "1                {, YFB}  {Italienisch}        {106}                 {}   \n",
       "2                {, FLS}     {Englisch}       {1792}                 {}   \n",
       "3                {, YBG}             {}        {104}                 {}   \n",
       "4  {4Z-GB-ACN, YFM, YFQ}     {Englisch}        {334}  {12 - 15 Jahr(e)}   \n",
       "\n",
       "            release_date                                        description  \n",
       "0  {2018-04-17 00:00:00}  {\\nAt the beginning was the Word.\\nAnd from th...  \n",
       "1  {2015-08-01 00:00:00}  {\\nAmicizia, scuola, amore, alti e bassi, in a...  \n",
       "2  {2019-11-19 00:00:00}  {\\nFor the first time in hardcover, the first ...  \n",
       "3  {2020-08-17 00:00:00}                                               {\\n}  \n",
       "4  {2006-02-06 00:00:00}  {\\nBrilliantly funny, teenage angst author Lou...  "
      ]
     },
     "execution_count": 31,
     "metadata": {},
     "output_type": "execute_result"
    }
   ],
   "source": [
    "# generate header set with unique ids for \"super-items\"\n",
    "header_items_df = generate_header_set(items_df)\n",
    "header_items_df.head()"
   ]
  },
  {
   "cell_type": "code",
   "execution_count": 18,
   "metadata": {},
   "outputs": [],
   "source": [
    "## generate header set with unique ids for \"super-items\"\n",
    "#header_items_df = generate_header_set(items_df)\n",
    "#header_items_df.head()"
   ]
  },
  {
   "cell_type": "code",
   "execution_count": 32,
   "metadata": {},
   "outputs": [
    {
     "data": {
      "text/html": [
       "<div>\n",
       "<style scoped>\n",
       "    .dataframe tbody tr th:only-of-type {\n",
       "        vertical-align: middle;\n",
       "    }\n",
       "\n",
       "    .dataframe tbody tr th {\n",
       "        vertical-align: top;\n",
       "    }\n",
       "\n",
       "    .dataframe thead th {\n",
       "        text-align: right;\n",
       "    }\n",
       "</style>\n",
       "<table border=\"1\" class=\"dataframe\">\n",
       "  <thead>\n",
       "    <tr style=\"text-align: right;\">\n",
       "      <th></th>\n",
       "      <th>itemID</th>\n",
       "      <th>mt_cl</th>\n",
       "      <th>st_cl</th>\n",
       "      <th>mt_st_cl</th>\n",
       "      <th>description</th>\n",
       "      <th>rating</th>\n",
       "      <th>number_pages</th>\n",
       "      <th>recommended_age</th>\n",
       "      <th>release_date</th>\n",
       "      <th>language</th>\n",
       "      <th>thalia_ranking</th>\n",
       "      <th>cover_url</th>\n",
       "      <th>title</th>\n",
       "      <th>author</th>\n",
       "      <th>publisher</th>\n",
       "      <th>headerID</th>\n",
       "    </tr>\n",
       "  </thead>\n",
       "  <tbody>\n",
       "    <tr>\n",
       "      <th>0</th>\n",
       "      <td>21310</td>\n",
       "      <td>[YFB]</td>\n",
       "      <td>[5AH]</td>\n",
       "      <td>[5AH, YFB]</td>\n",
       "      <td>\\nA brand-new story in the best-selling Prince...</td>\n",
       "      <td>0</td>\n",
       "      <td></td>\n",
       "      <td>7 - 9 Jahr(e)</td>\n",
       "      <td>2010-11-30</td>\n",
       "      <td>Englisch</td>\n",
       "      <td></td>\n",
       "      <td>https://assets.thalia.media/img/artikel/816c5c...</td>\n",
       "      <td>princess poppy the big mix up</td>\n",
       "      <td>janey louise jones</td>\n",
       "      <td>penguin random house childrens uk</td>\n",
       "      <td>45065</td>\n",
       "    </tr>\n",
       "    <tr>\n",
       "      <th>1</th>\n",
       "      <td>73018</td>\n",
       "      <td>[AGZ]</td>\n",
       "      <td>[YBL, YBG, WFA, YNA, 5AJ, YPA, AGZ]</td>\n",
       "      <td>[YBL, YBG, WFA, YNA, 5AJ, YPA, AGZ, AGZ]</td>\n",
       "      <td>\\n\\n</td>\n",
       "      <td>0</td>\n",
       "      <td>224</td>\n",
       "      <td>ab 8 Jahr(e)</td>\n",
       "      <td>2020-12-02</td>\n",
       "      <td>Deutsch</td>\n",
       "      <td>37543</td>\n",
       "      <td>https://assets.thalia.media/img/artikel/dc6911...</td>\n",
       "      <td>einfach zeichnen step by step</td>\n",
       "      <td>wiebke krabbe</td>\n",
       "      <td>schwager und steinlein</td>\n",
       "      <td>18678</td>\n",
       "    </tr>\n",
       "    <tr>\n",
       "      <th>2</th>\n",
       "      <td>19194</td>\n",
       "      <td>[YFH]</td>\n",
       "      <td>[5AP, FBA]</td>\n",
       "      <td>[5AP, FBA, YFH]</td>\n",
       "      <td>\\nMare Barrow's world is divided by blood—thos...</td>\n",
       "      <td>4</td>\n",
       "      <td></td>\n",
       "      <td>13 - 17 Jahr(e)</td>\n",
       "      <td>2016-02-03</td>\n",
       "      <td>Englisch</td>\n",
       "      <td></td>\n",
       "      <td>https://assets.thalia.media/img/artikel/711b74...</td>\n",
       "      <td>red queen 1</td>\n",
       "      <td>victoria aveyard</td>\n",
       "      <td>orion publishing group</td>\n",
       "      <td>46286</td>\n",
       "    </tr>\n",
       "    <tr>\n",
       "      <th>3</th>\n",
       "      <td>40250</td>\n",
       "      <td>[YB]</td>\n",
       "      <td>[YF, YBL, 5AD, YBG, 5AC]</td>\n",
       "      <td>[YF, YBL, 5AD, YBG, 5AC, YB]</td>\n",
       "      <td>\\n\\n</td>\n",
       "      <td>0</td>\n",
       "      <td>64</td>\n",
       "      <td>3 - 6 Jahr(e)</td>\n",
       "      <td>2015-06-04</td>\n",
       "      <td>Deutsch</td>\n",
       "      <td>39540</td>\n",
       "      <td>https://assets.thalia.media/img/artikel/f8a160...</td>\n",
       "      <td>meine kindergarten freunde pirat</td>\n",
       "      <td>nan</td>\n",
       "      <td>ars edition gmbh</td>\n",
       "      <td>38117</td>\n",
       "    </tr>\n",
       "    <tr>\n",
       "      <th>4</th>\n",
       "      <td>46107</td>\n",
       "      <td>[WFTM]</td>\n",
       "      <td>[WD, YBL, YBLD, YBG, YBLN1, WFTM]</td>\n",
       "      <td>[WD, YBL, YBLD, YBG, YBLN1, WFTM, WFTM]</td>\n",
       "      <td>\\nDie Welt der wilden Tiere\\nMalen lernen war ...</td>\n",
       "      <td>0</td>\n",
       "      <td>16</td>\n",
       "      <td>3 - 6 Jahr(e)</td>\n",
       "      <td>2019-02-19</td>\n",
       "      <td>Deutsch</td>\n",
       "      <td>35647</td>\n",
       "      <td>https://assets.thalia.media/img/artikel/49b027...</td>\n",
       "      <td>mein großes schablonen buch   wilde tiere</td>\n",
       "      <td>elizabeth golding</td>\n",
       "      <td>edition michael fischer</td>\n",
       "      <td>37621</td>\n",
       "    </tr>\n",
       "  </tbody>\n",
       "</table>\n",
       "</div>"
      ],
      "text/plain": [
       "   itemID   mt_cl                                st_cl  \\\n",
       "0   21310   [YFB]                                [5AH]   \n",
       "1   73018   [AGZ]  [YBL, YBG, WFA, YNA, 5AJ, YPA, AGZ]   \n",
       "2   19194   [YFH]                           [5AP, FBA]   \n",
       "3   40250    [YB]             [YF, YBL, 5AD, YBG, 5AC]   \n",
       "4   46107  [WFTM]    [WD, YBL, YBLD, YBG, YBLN1, WFTM]   \n",
       "\n",
       "                                   mt_st_cl  \\\n",
       "0                                [5AH, YFB]   \n",
       "1  [YBL, YBG, WFA, YNA, 5AJ, YPA, AGZ, AGZ]   \n",
       "2                           [5AP, FBA, YFH]   \n",
       "3              [YF, YBL, 5AD, YBG, 5AC, YB]   \n",
       "4   [WD, YBL, YBLD, YBG, YBLN1, WFTM, WFTM]   \n",
       "\n",
       "                                         description rating number_pages  \\\n",
       "0  \\nA brand-new story in the best-selling Prince...      0                \n",
       "1                                              \\n\\n       0          224   \n",
       "2  \\nMare Barrow's world is divided by blood—thos...      4                \n",
       "3                                               \\n\\n      0           64   \n",
       "4  \\nDie Welt der wilden Tiere\\nMalen lernen war ...      0           16   \n",
       "\n",
       "   recommended_age release_date  language thalia_ranking  \\\n",
       "0    7 - 9 Jahr(e)   2010-11-30  Englisch                  \n",
       "1     ab 8 Jahr(e)   2020-12-02   Deutsch          37543   \n",
       "2  13 - 17 Jahr(e)   2016-02-03  Englisch                  \n",
       "3    3 - 6 Jahr(e)   2015-06-04   Deutsch          39540   \n",
       "4    3 - 6 Jahr(e)   2019-02-19   Deutsch          35647   \n",
       "\n",
       "                                           cover_url  \\\n",
       "0  https://assets.thalia.media/img/artikel/816c5c...   \n",
       "1  https://assets.thalia.media/img/artikel/dc6911...   \n",
       "2  https://assets.thalia.media/img/artikel/711b74...   \n",
       "3  https://assets.thalia.media/img/artikel/f8a160...   \n",
       "4  https://assets.thalia.media/img/artikel/49b027...   \n",
       "\n",
       "                                       title              author  \\\n",
       "0              princess poppy the big mix up  janey louise jones   \n",
       "1              einfach zeichnen step by step       wiebke krabbe   \n",
       "2                                red queen 1    victoria aveyard   \n",
       "3           meine kindergarten freunde pirat                 nan   \n",
       "4  mein großes schablonen buch   wilde tiere   elizabeth golding   \n",
       "\n",
       "                           publisher  headerID  \n",
       "0  penguin random house childrens uk     45065  \n",
       "1             schwager und steinlein     18678  \n",
       "2             orion publishing group     46286  \n",
       "3                   ars edition gmbh     38117  \n",
       "4            edition michael fischer     37621  "
      ]
     },
     "metadata": {},
     "output_type": "display_data"
    },
    {
     "name": "stdout",
     "output_type": "stream",
     "text": [
      "missing headerIDs in items_df: 0\n",
      "shape of items_df vs. header_items_lookup_df: (78021, 16) vs. (78021, 2)\n"
     ]
    }
   ],
   "source": [
    "# add headerID to items_df (drop before join if already existent)\n",
    "if 'headerID' in items_df.columns:\n",
    "    items_df = items_df.drop(columns=['headerID'])\n",
    "items_df = items_df.merge(header_items_df[['title','headerID']], left_on='title', right_on='title',how='left') \n",
    "display(items_df.head())\n",
    "print(f'missing headerIDs in items_df: {items_df[\"headerID\"].isnull().sum()}')\n",
    "\n",
    "# generate lookup table\n",
    "header_items_lookup_df = items_df[['itemID','headerID']].drop_duplicates()\n",
    "print(f'shape of items_df vs. header_items_lookup_df: {items_df.shape} vs. {header_items_lookup_df.shape}')"
   ]
  },
  {
   "cell_type": "code",
   "execution_count": 34,
   "metadata": {},
   "outputs": [
    {
     "data": {
      "text/html": [
       "<div>\n",
       "<style scoped>\n",
       "    .dataframe tbody tr th:only-of-type {\n",
       "        vertical-align: middle;\n",
       "    }\n",
       "\n",
       "    .dataframe tbody tr th {\n",
       "        vertical-align: top;\n",
       "    }\n",
       "\n",
       "    .dataframe thead th {\n",
       "        text-align: right;\n",
       "    }\n",
       "</style>\n",
       "<table border=\"1\" class=\"dataframe\">\n",
       "  <thead>\n",
       "    <tr style=\"text-align: right;\">\n",
       "      <th></th>\n",
       "      <th>sessionID</th>\n",
       "      <th>itemID</th>\n",
       "      <th>click</th>\n",
       "      <th>basket</th>\n",
       "      <th>order</th>\n",
       "      <th>click_flg</th>\n",
       "      <th>basket_flg</th>\n",
       "      <th>order_flg</th>\n",
       "      <th>headerID</th>\n",
       "    </tr>\n",
       "  </thead>\n",
       "  <tbody>\n",
       "    <tr>\n",
       "      <th>0</th>\n",
       "      <td>0</td>\n",
       "      <td>21310</td>\n",
       "      <td>1</td>\n",
       "      <td>0</td>\n",
       "      <td>0</td>\n",
       "      <td>1</td>\n",
       "      <td>0</td>\n",
       "      <td>0</td>\n",
       "      <td>45065.0</td>\n",
       "    </tr>\n",
       "    <tr>\n",
       "      <th>1</th>\n",
       "      <td>1</td>\n",
       "      <td>73018</td>\n",
       "      <td>1</td>\n",
       "      <td>0</td>\n",
       "      <td>0</td>\n",
       "      <td>1</td>\n",
       "      <td>0</td>\n",
       "      <td>0</td>\n",
       "      <td>18678.0</td>\n",
       "    </tr>\n",
       "    <tr>\n",
       "      <th>2</th>\n",
       "      <td>2</td>\n",
       "      <td>19194</td>\n",
       "      <td>1</td>\n",
       "      <td>0</td>\n",
       "      <td>0</td>\n",
       "      <td>1</td>\n",
       "      <td>0</td>\n",
       "      <td>0</td>\n",
       "      <td>46286.0</td>\n",
       "    </tr>\n",
       "    <tr>\n",
       "      <th>3</th>\n",
       "      <td>3</td>\n",
       "      <td>40250</td>\n",
       "      <td>1</td>\n",
       "      <td>0</td>\n",
       "      <td>0</td>\n",
       "      <td>1</td>\n",
       "      <td>0</td>\n",
       "      <td>0</td>\n",
       "      <td>38117.0</td>\n",
       "    </tr>\n",
       "    <tr>\n",
       "      <th>4</th>\n",
       "      <td>4</td>\n",
       "      <td>46107</td>\n",
       "      <td>1</td>\n",
       "      <td>0</td>\n",
       "      <td>0</td>\n",
       "      <td>1</td>\n",
       "      <td>0</td>\n",
       "      <td>0</td>\n",
       "      <td>37621.0</td>\n",
       "    </tr>\n",
       "  </tbody>\n",
       "</table>\n",
       "</div>"
      ],
      "text/plain": [
       "   sessionID  itemID  click  basket  order  click_flg  basket_flg  order_flg  \\\n",
       "0          0   21310      1       0      0          1           0          0   \n",
       "1          1   73018      1       0      0          1           0          0   \n",
       "2          2   19194      1       0      0          1           0          0   \n",
       "3          3   40250      1       0      0          1           0          0   \n",
       "4          4   46107      1       0      0          1           0          0   \n",
       "\n",
       "   headerID  \n",
       "0   45065.0  \n",
       "1   18678.0  \n",
       "2   46286.0  \n",
       "3   38117.0  \n",
       "4   37621.0  "
      ]
     },
     "metadata": {},
     "output_type": "display_data"
    },
    {
     "name": "stdout",
     "output_type": "stream",
     "text": [
      "# missing headerIDs in transactions_df: 7\n",
      "# unique items in transactions_df: 24909\n",
      "# unique headers in transactions_df: 23455\n"
     ]
    }
   ],
   "source": [
    "# add headerID to transactions_df (drop before join if already existent)\n",
    "if 'headerID' in transactions_df.columns:\n",
    "    transactions_df = transactions_df.drop(columns=['headerID'])\n",
    "transactions_df = transactions_df.merge(header_items_lookup_df, left_on='itemID', right_on='itemID',how='left') \n",
    "\n",
    "# inspect results\n",
    "display(transactions_df.head())\n",
    "print(f'# missing headerIDs in transactions_df: {transactions_df[\"headerID\"].isnull().sum()}')\n",
    "print(f'# unique items in transactions_df: {transactions_df[\"itemID\"].nunique()}')\n",
    "print(f'# unique headers in transactions_df: {transactions_df[\"headerID\"].nunique()}')"
   ]
  },
  {
   "cell_type": "markdown",
   "metadata": {},
   "source": [
    "### [DEV] merge with external data"
   ]
  },
  {
   "cell_type": "code",
   "execution_count": 89,
   "metadata": {},
   "outputs": [
    {
     "data": {
      "text/html": [
       "<div>\n",
       "<style scoped>\n",
       "    .dataframe tbody tr th:only-of-type {\n",
       "        vertical-align: middle;\n",
       "    }\n",
       "\n",
       "    .dataframe tbody tr th {\n",
       "        vertical-align: top;\n",
       "    }\n",
       "\n",
       "    .dataframe thead th {\n",
       "        text-align: right;\n",
       "    }\n",
       "</style>\n",
       "<table border=\"1\" class=\"dataframe\">\n",
       "  <thead>\n",
       "    <tr style=\"text-align: right;\">\n",
       "      <th></th>\n",
       "      <th>description</th>\n",
       "      <th>publisher</th>\n",
       "      <th>maturityRating</th>\n",
       "      <th>title</th>\n",
       "      <th>authors</th>\n",
       "      <th>publishedDate</th>\n",
       "      <th>language</th>\n",
       "      <th>categories</th>\n",
       "      <th>printType</th>\n",
       "      <th>itemIdx</th>\n",
       "    </tr>\n",
       "  </thead>\n",
       "  <tbody>\n",
       "    <tr>\n",
       "      <th>0</th>\n",
       "      <td>A brand-new story in the best-selling Princess...</td>\n",
       "      <td>Random House</td>\n",
       "      <td>NOT_MATURE</td>\n",
       "      <td>Princess Poppy: The Big Mix Up</td>\n",
       "      <td>[Janey Louise Jones]</td>\n",
       "      <td>2010-11-30</td>\n",
       "      <td>en</td>\n",
       "      <td>[Juvenile Fiction]</td>\n",
       "      <td>BOOK</td>\n",
       "      <td>0</td>\n",
       "    </tr>\n",
       "  </tbody>\n",
       "</table>\n",
       "</div>"
      ],
      "text/plain": [
       "                                         description     publisher  \\\n",
       "0  A brand-new story in the best-selling Princess...  Random House   \n",
       "\n",
       "  maturityRating                           title               authors  \\\n",
       "0     NOT_MATURE  Princess Poppy: The Big Mix Up  [Janey Louise Jones]   \n",
       "\n",
       "  publishedDate language          categories printType  itemIdx  \n",
       "0    2010-11-30       en  [Juvenile Fiction]      BOOK        0  "
      ]
     },
     "execution_count": 89,
     "metadata": {},
     "output_type": "execute_result"
    }
   ],
   "source": [
    "# read in preprocessed data\n",
    "g_data = pd.read_feather('../data/processed/gbooks_volumeInfo_pp.feather')\n",
    "g_data.head(1)"
   ]
  },
  {
   "cell_type": "code",
   "execution_count": 91,
   "metadata": {},
   "outputs": [],
   "source": [
    "cols_pp = ['title', 'authors', 'publisher']\n",
    "\n",
    "# convert all strings to lowercase\n",
    "g_data[cols_pp] = g_data[cols_pp].applymap(lambda s:s.lower() if type(s) == str else s)"
   ]
  },
  {
   "cell_type": "code",
   "execution_count": 100,
   "metadata": {},
   "outputs": [],
   "source": [
    "header_items_df.loc[:, 'author_'] = header_items_df.author.map(lambda x: next(iter(x)))\n",
    "header_items_df.loc[:, 'publisher_'] = header_items_df.publisher.map(lambda x: next(iter(x)))\n",
    "header_items_df.loc[:, 'release_date_'] = header_items_df.release_date.map(lambda x: next(iter(x)))"
   ]
  },
  {
   "cell_type": "code",
   "execution_count": 93,
   "metadata": {
    "scrolled": true
   },
   "outputs": [
    {
     "name": "stdout",
     "output_type": "stream",
     "text": [
      "remove items with missing/empty title after pp: 0\n"
     ]
    },
    {
     "data": {
      "text/html": [
       "<div>\n",
       "<style scoped>\n",
       "    .dataframe tbody tr th:only-of-type {\n",
       "        vertical-align: middle;\n",
       "    }\n",
       "\n",
       "    .dataframe tbody tr th {\n",
       "        vertical-align: top;\n",
       "    }\n",
       "\n",
       "    .dataframe thead th {\n",
       "        text-align: right;\n",
       "    }\n",
       "</style>\n",
       "<table border=\"1\" class=\"dataframe\">\n",
       "  <thead>\n",
       "    <tr style=\"text-align: right;\">\n",
       "      <th></th>\n",
       "      <th>description</th>\n",
       "      <th>maturityRating</th>\n",
       "      <th>publishedDate</th>\n",
       "      <th>language</th>\n",
       "      <th>categories</th>\n",
       "      <th>printType</th>\n",
       "      <th>itemIdx</th>\n",
       "      <th>title</th>\n",
       "      <th>authors_cl</th>\n",
       "      <th>publisher</th>\n",
       "    </tr>\n",
       "  </thead>\n",
       "  <tbody>\n",
       "    <tr>\n",
       "      <th>0</th>\n",
       "      <td>A brand-new story in the best-selling Princess...</td>\n",
       "      <td>NOT_MATURE</td>\n",
       "      <td>2010-11-30</td>\n",
       "      <td>en</td>\n",
       "      <td>[Juvenile Fiction]</td>\n",
       "      <td>BOOK</td>\n",
       "      <td>0</td>\n",
       "      <td>princess poppy the big mix up</td>\n",
       "      <td>[Janey Louise Jones]</td>\n",
       "      <td>random house</td>\n",
       "    </tr>\n",
       "    <tr>\n",
       "      <th>1</th>\n",
       "      <td>A brand-new story in the best-selling Princess...</td>\n",
       "      <td>NOT_MATURE</td>\n",
       "      <td>2010-07-28</td>\n",
       "      <td>en</td>\n",
       "      <td>[Juvenile Fiction]</td>\n",
       "      <td>BOOK</td>\n",
       "      <td>0</td>\n",
       "      <td>princess poppy the fashion princess</td>\n",
       "      <td>[Janey Louise Jones]</td>\n",
       "      <td>random house</td>\n",
       "    </tr>\n",
       "    <tr>\n",
       "      <th>2</th>\n",
       "      <td>A brand-new story in the best-selling Princess...</td>\n",
       "      <td>NOT_MATURE</td>\n",
       "      <td>2010-11-30</td>\n",
       "      <td>en</td>\n",
       "      <td>[Juvenile Fiction]</td>\n",
       "      <td>BOOK</td>\n",
       "      <td>0</td>\n",
       "      <td>princess poppy the haunted holiday</td>\n",
       "      <td>[Janey Louise Jones]</td>\n",
       "      <td>random house</td>\n",
       "    </tr>\n",
       "  </tbody>\n",
       "</table>\n",
       "</div>"
      ],
      "text/plain": [
       "                                         description maturityRating  \\\n",
       "0  A brand-new story in the best-selling Princess...     NOT_MATURE   \n",
       "1  A brand-new story in the best-selling Princess...     NOT_MATURE   \n",
       "2  A brand-new story in the best-selling Princess...     NOT_MATURE   \n",
       "\n",
       "  publishedDate language          categories printType  itemIdx  \\\n",
       "0    2010-11-30       en  [Juvenile Fiction]      BOOK        0   \n",
       "1    2010-07-28       en  [Juvenile Fiction]      BOOK        0   \n",
       "2    2010-11-30       en  [Juvenile Fiction]      BOOK        0   \n",
       "\n",
       "                                 title            authors_cl     publisher  \n",
       "0        princess poppy the big mix up  [Janey Louise Jones]  random house  \n",
       "1  princess poppy the fashion princess  [Janey Louise Jones]  random house  \n",
       "2   princess poppy the haunted holiday  [Janey Louise Jones]  random house  "
      ]
     },
     "metadata": {},
     "output_type": "display_data"
    }
   ],
   "source": [
    "for col in cols_pp:\n",
    "    \n",
    "    col_cl = col + '_cl'\n",
    "\n",
    "    # add additional col for pp titles\n",
    "    g_data[col_cl] = g_data[col]\n",
    "\n",
    "    # clean strings\n",
    "    if col == 'title':\n",
    "        g_data[col_cl] = g_data[col_cl].apply(remove_nontitle_substrings)\n",
    "    g_data[col_cl] = g_data[col_cl].astype(str).apply(remove_special_characters)\n",
    "    g_data[col_cl] = g_data[col_cl].apply(convert_umlaute)\n",
    "\n",
    "    # reduce all spaces in the articles to single spaces\n",
    "    g_data[col_cl] = g_data[col_cl].apply(remove_duplicate_whitespace)\n",
    "\n",
    "    # print stats\n",
    "    #col_cnt_unique = g_data[col].nunique()\n",
    "    #col_cl_cnt_unique = g_data[col_cl].nunique()\n",
    "    #print(f'# unique {col} (before preprocessing): {col_cnt_unique} / {len(items_df)}')\n",
    "    #print(f'# unique {col} (after preprocessing): {col_cnt_unique} / {len(items_df)}')\n",
    "    #print(f'# reduction in unique {col}: {col_cnt_unique-col_cl_cnt_unique}\\n')\n",
    "    \n",
    "# replace original cols by pre-processed cols\n",
    "g_data = g_data.drop(columns=cols_pp)\n",
    "g_data = g_data.rename(columns={'title_cl': 'title', 'author_cl': 'author', 'publisher_cl': 'publisher'})\n",
    "\n",
    "# remove items with missing title after pre-processing\n",
    "print(f\"remove items with missing/empty title after pp: {(g_data['title']=='').sum()}\")\n",
    "g_data = g_data[g_data['title']!='']\n",
    "\n",
    "# display cleaned df head\n",
    "display(g_data.head(3))"
   ]
  },
  {
   "cell_type": "code",
   "execution_count": 145,
   "metadata": {},
   "outputs": [],
   "source": [
    "#pd.merge(header_items_df, g_data[['title', 'publisher','publishedDate', 'language', 'maturityRating']], left_on=['title','release_date_'], right_on=['title', 'publishedDate'])"
   ]
  },
  {
   "cell_type": "markdown",
   "metadata": {},
   "source": [
    "## Feature Engineering"
   ]
  },
  {
   "cell_type": "markdown",
   "metadata": {},
   "source": [
    "### Language flag\n",
    "\n",
    "__Idea:__\n",
    "Flag Language of title in order to improve same language recommendations\n",
    "\n",
    "__Lookup Links:__\n",
    "1. [stackoverflow:](https://stackoverflow.com/questions/39142778/python-how-to-determine-the-language) comparison of different language detection modules\n",
    "2. [tds](https://towardsdatascience.com/benchmarking-language-detection-for-nlp-8250ea8b67c) performance evaluation -> recommends __fasttext__"
   ]
  },
  {
   "cell_type": "code",
   "execution_count": null,
   "metadata": {
    "pycharm": {
     "name": "#%%\n"
    }
   },
   "outputs": [],
   "source": [
    "# define test strings\n",
    "str_en = \"romeo and juliet: the graphic novel\"\n",
    "str_de = \"sternenschweif. zauberhafter schulanfang\"\n",
    "\n",
    "# define whether to use existing flags and df\n",
    "if not recompute_lg_flg:\n",
    "    items_df = items_df_pp"
   ]
  },
  {
   "cell_type": "markdown",
   "metadata": {},
   "source": [
    "#### module testing"
   ]
  },
  {
   "cell_type": "code",
   "execution_count": null,
   "metadata": {
    "pycharm": {
     "name": "#%%\n"
    }
   },
   "outputs": [],
   "source": [
    "# module detector dict\n",
    "lan_detector = {'ld': 'langdetect', 'gl': 'guess_language', 'lg': 'langid'}"
   ]
  },
  {
   "cell_type": "markdown",
   "metadata": {},
   "source": [
    "##### langdetect (=title_ld)\n",
    "[langdetect](https://pypi.org/project/langdetect/)\n",
    "- important: use try-catch block to handle e.g. numerics, urls etc\n",
    "- non-deterministic approach: remember to set seed for reproducible results"
   ]
  },
  {
   "cell_type": "code",
   "execution_count": null,
   "metadata": {
    "pycharm": {
     "name": "#%%\n"
    }
   },
   "outputs": [],
   "source": [
    "from langdetect import DetectorFactory, detect\n",
    "from langdetect.lang_detect_exception import LangDetectException"
   ]
  },
  {
   "cell_type": "code",
   "execution_count": null,
   "metadata": {
    "pycharm": {
     "name": "#%%\n"
    }
   },
   "outputs": [],
   "source": [
    "# test detector on sample strings\n",
    "print(detect(str_en))\n",
    "print(detect(str_de))"
   ]
  },
  {
   "cell_type": "code",
   "execution_count": null,
   "metadata": {
    "pycharm": {
     "name": "#%%\n"
    }
   },
   "outputs": [],
   "source": [
    "if recompute_lg_flg:\n",
    "    # get start time for performance evaluation\n",
    "    start_time_ld = time.time()\n",
    "\n",
    "    # set seed for reproducability\n",
    "    DetectorFactory.seed = 0\n",
    "\n",
    "    # option 1: pre-calculate list of languages\n",
    "    title_ld = []\n",
    "    for title in items_df['title']:\n",
    "        try:\n",
    "            title_ld.append(detect(title))\n",
    "    #         print(f'{title}: {detect(title)}')\n",
    "        except LangDetectException:\n",
    "            title_ld.append(None)\n",
    "    #         print(f'{title}: \"undefined\"')\n",
    "\n",
    "    # compute execution time\n",
    "    end_time_ld = time.time()\n",
    "    print(f'exection time langdetect: {end_time_ld - start_time_ld} seconds')\n",
    "\n",
    "    items_df['title_ld'] = title_ld\n",
    "\n",
    "    # option 2: use apply and title col\n",
    "    # items_df['title_ld'] = items_df['title'].apply(lambda x: detect(x) if not x.isnumeric() else None)"
   ]
  },
  {
   "cell_type": "code",
   "execution_count": null,
   "metadata": {
    "pycharm": {
     "name": "#%%\n"
    }
   },
   "outputs": [],
   "source": [
    "# inspect items w/o language specification -> only numeric !\n",
    "print(f'cnt of items without language flag: {items_df[\"title_ld\"].isnull().sum()}')\n",
    "display(items_df[items_df[\"title_ld\"].isnull()].head(10))\n",
    "\n",
    "# inspect results\n",
    "ld_vc = pd.DataFrame(items_df['title_ld'].value_counts().reset_index())\n",
    "display(ld_vc.transpose())\n",
    "\n",
    "# show barplot with # items with title in given language\n",
    "fig, ax = plt.subplots(figsize=(15, 5))\n",
    "sns.barplot(x='index', y='title_ld', ax=ax, data=ld_vc, palette=palette_blue).set(\n",
    "    xlabel='languages determined by \"langdetect\"',\n",
    "    ylabel='# items with title in given language'\n",
    ")\n",
    "plt.xticks(rotation=90)\n",
    "plt.show()"
   ]
  },
  {
   "cell_type": "markdown",
   "metadata": {},
   "source": [
    "##### guess_language (=title_gl)\n",
    "\n",
    "- Can detect very short samples"
   ]
  },
  {
   "cell_type": "code",
   "execution_count": 41,
   "metadata": {
    "pycharm": {
     "name": "#%%\n"
    }
   },
   "outputs": [
    {
     "ename": "ModuleNotFoundError",
     "evalue": "No module named 'guess_language'",
     "output_type": "error",
     "traceback": [
      "\u001b[0;31m---------------------------------------------------------------------------\u001b[0m",
      "\u001b[0;31mModuleNotFoundError\u001b[0m                       Traceback (most recent call last)",
      "\u001b[0;32m<ipython-input-41-3ae1d108b271>\u001b[0m in \u001b[0;36m<module>\u001b[0;34m\u001b[0m\n\u001b[0;32m----> 1\u001b[0;31m \u001b[0;32mfrom\u001b[0m \u001b[0mguess_language\u001b[0m \u001b[0;32mimport\u001b[0m \u001b[0mguess_language\u001b[0m\u001b[0;34m\u001b[0m\u001b[0;34m\u001b[0m\u001b[0m\n\u001b[0m",
      "\u001b[0;31mModuleNotFoundError\u001b[0m: No module named 'guess_language'"
     ]
    }
   ],
   "source": [
    "from guess_language import guess_language"
   ]
  },
  {
   "cell_type": "code",
   "execution_count": null,
   "metadata": {
    "pycharm": {
     "name": "#%%\n"
    }
   },
   "outputs": [],
   "source": [
    "print(guess_language(str_en))\n",
    "print(guess_language(str_de))"
   ]
  },
  {
   "cell_type": "code",
   "execution_count": null,
   "metadata": {
    "pycharm": {
     "name": "#%%\n"
    }
   },
   "outputs": [],
   "source": [
    "if recompute_lg_flg:\n",
    "\n",
    "    # get start time for performance evaluation\n",
    "    start_time_gl = time.time()\n",
    "\n",
    "    # detect langauge of titles\n",
    "    items_df['title_gl'] = items_df['title'].apply(lambda x: guess_language(x) if not x.isnumeric() else None)\n",
    "\n",
    "    # set 'UNKNOWN' to None\n",
    "    items_df.loc[items_df['title_gl']=='UNKNOWN','title_gl'] = None\n",
    "\n",
    "    # compute execution time\n",
    "    end_time_gl = time.time()\n",
    "    print(f'exection time guess_language: {end_time_gl - start_time_gl} seconds')"
   ]
  },
  {
   "cell_type": "code",
   "execution_count": null,
   "metadata": {
    "pycharm": {
     "name": "#%%\n"
    }
   },
   "outputs": [],
   "source": [
    "# inspect results\n",
    "gl_vc = pd.DataFrame(items_df['title_gl'].value_counts().reset_index())\n",
    "display(gl_vc.transpose())\n",
    "\n",
    "# show barplot with # items with title in given language\n",
    "fig, ax = plt.subplots(figsize=(15, 5))\n",
    "sns.barplot(x='index', y='title_gl', ax=ax, data=gl_vc, palette=palette_blue).set(\n",
    "    xlabel='languages determined by \"guess_language\"',\n",
    "    ylabel='# items with title in given language'\n",
    ")\n",
    "plt.xticks(rotation=90)\n",
    "plt.show()"
   ]
  },
  {
   "cell_type": "markdown",
   "metadata": {},
   "source": [
    "##### textblob\n",
    "Requires NLTK package, uses Google -> API blocked with \"HTTP Error 429: Too Many Requests\""
   ]
  },
  {
   "cell_type": "raw",
   "metadata": {},
   "source": [
    "from textblob import TextBlob\n",
    "from textblob.exceptions import TranslatorError"
   ]
  },
  {
   "cell_type": "raw",
   "metadata": {},
   "source": [
    "print(TextBlob(str_en).detect_language())\n",
    "print(TextBlob(str_de).detect_language())"
   ]
  },
  {
   "cell_type": "raw",
   "metadata": {},
   "source": [
    "# get start time for performance evaluation\n",
    "start_time_tb = time.time()\n",
    "\n",
    "# option 1: pre-calculate list of languages\n",
    "title_tb = []\n",
    "\n",
    "for title in items_df['title']:\n",
    "    try:\n",
    "#         title_tb.append(detect(title))\n",
    "        print(f'{title}: {TextBlob(title).detect_language()}')\n",
    "    except TranslatorError as te:\n",
    "#         title_tb.append(None)\n",
    "        print(f'{title}: {te}')\n",
    "\n",
    "items_df['title_tb'] = title_tb\n",
    "\n",
    "# option 2: use apply\n",
    "# items_df['title_tb'] = items_df['title'].apply(lambda x: TextBlob(x).detect_language() if not x.isnumeric() or  else None)\n",
    "\n",
    "# compute execution time\n",
    "end_time_tb = time.time()\n",
    "print(f'exection time langdetect: {end_time_tb - start_time_tb} seconds')"
   ]
  },
  {
   "cell_type": "markdown",
   "metadata": {},
   "source": [
    "##### spacy\n",
    "- [spacy doku](https://spacy.io/universe/project/spacy-langdetect): did not get it working"
   ]
  },
  {
   "cell_type": "raw",
   "metadata": {},
   "source": [
    "import spacy\n",
    "from spacy_langdetect import LanguageDetector"
   ]
  },
  {
   "cell_type": "markdown",
   "metadata": {},
   "source": [
    "##### langid (=title_lg)"
   ]
  },
  {
   "cell_type": "code",
   "execution_count": null,
   "metadata": {
    "pycharm": {
     "name": "#%%\n"
    }
   },
   "outputs": [],
   "source": [
    "import langid"
   ]
  },
  {
   "cell_type": "code",
   "execution_count": null,
   "metadata": {
    "pycharm": {
     "name": "#%%\n"
    }
   },
   "outputs": [],
   "source": [
    "langid.classify(str_en)\n",
    "langid.classify(str_de)"
   ]
  },
  {
   "cell_type": "code",
   "execution_count": null,
   "metadata": {
    "pycharm": {
     "name": "#%%\n"
    }
   },
   "outputs": [],
   "source": [
    "if recompute_lg_flg:\n",
    "\n",
    "    # get start time for performance evaluation\n",
    "    start_time_lg = time.time()\n",
    "\n",
    "    # option 1: pre-calculate list of languages\n",
    "    title_lg = []\n",
    "\n",
    "    for title in items_df['title']:\n",
    "        title_lg.append(langid.classify(title))\n",
    "        print(f'{title}: {langid.classify(title)}')\n",
    "\n",
    "    # compute execution time\n",
    "    end_time_lg = time.time()\n",
    "    print(f'exection time langid: {end_time_lg - start_time_lg} seconds')\n",
    "\n",
    "    # add col to df\n",
    "    items_df['title_lg'] = [t[0] for t in title_lg]\n",
    "\n",
    "    # option 2: use apply\n",
    "    # items_df['title_lg'] = items_df['title'].apply(lambda x: TextBlob(x).detect_language() if not x.isnumeric() or  else None)"
   ]
  },
  {
   "cell_type": "code",
   "execution_count": null,
   "metadata": {
    "pycharm": {
     "name": "#%%\n"
    }
   },
   "outputs": [],
   "source": [
    "# inspect items w/o language specification -> only numeric !\n",
    "print(f'cnt of items without language flag: {items_df[\"title_lg\"].isnull().sum()}')\n",
    "#display(items_df[items_df[\"title_lg\"].isnull()].head(10))\n",
    "\n",
    "# inspect results\n",
    "lg_vc = pd.DataFrame(items_df['title_lg'].value_counts().reset_index())\n",
    "display(lg_vc.transpose())\n",
    "\n",
    "# show barplot with # items with title in given language\n",
    "fig, ax = plt.subplots(figsize=(15, 5))\n",
    "sns.barplot(x='index', y='title_lg', ax=ax, data=lg_vc, palette=palette_blue).set(\n",
    "    xlabel='languages determined by \"langid\"',\n",
    "    ylabel='# items with title in given language'\n",
    ")\n",
    "plt.xticks(rotation=90)\n",
    "plt.show()"
   ]
  },
  {
   "cell_type": "markdown",
   "metadata": {},
   "source": [
    "##### fasttext\n",
    "- official Python binding module by Facebook\n",
    "- problems with installation on windows"
   ]
  },
  {
   "cell_type": "markdown",
   "metadata": {},
   "source": [
    "#### module performance evaluation"
   ]
  },
  {
   "cell_type": "code",
   "execution_count": null,
   "metadata": {
    "pycharm": {
     "name": "#%%\n"
    }
   },
   "outputs": [],
   "source": [
    "# compare execution time and items w/o flag\n",
    "if recompute_lg_flg:\n",
    "    lan_detector_eval_df = pd.DataFrame({'execution time [s]': [eval('end_time_'+det.split(\"_\")[1]) - eval('start_time_'+det.split(\"_\")[1]) for det in ['title_ld','title_gl','title_lg']],\n",
    "                                        '#items w/o language flg':[items_df[det].isnull().sum() for det in ['title_ld','title_gl','title_lg']]},\n",
    "                                       index=[det for det in lan_detector.values()])\n",
    "    display(lan_detector_eval_df)\n",
    "\n",
    "# merge results dfs\n",
    "ld_gl_vc = ld_vc.merge(gl_vc, left_on='index', right_on='index', how='outer')\n",
    "ld_gl_lg_vc = ld_gl_vc.merge(lg_vc, left_on='index', right_on='index', how='outer')\n",
    "display(ld_gl_lg_vc.transpose())\n",
    "ld_gl_lg_vc = ld_gl_lg_vc.head(10)\n",
    "\n",
    "# rename columns\n",
    "ld_gl_lg_vc.columns = ['index', 'langdetect','guess_language','langid']\n",
    "\n",
    "# add language name\n",
    "ld_gl_lg_vc['language_name'] = ld_gl_lg_vc['index'].apply(lambda l: pycountry.countries.get(alpha_2=l).name if l != 'en' else 'English')\n",
    "\n",
    "# transform model cols into identifier column for plotting\n",
    "ld_gl_lg_vc = pd.melt(ld_gl_lg_vc, id_vars=[\"index\", \"language_name\"],\n",
    "                  var_name=\"flag_m\", value_name=\"idCnt\")\n",
    "#display(ld_gl_lg_vc)\n",
    "\n",
    "# Draw a nested barplot by language detector\n",
    "sns.set_theme()\n",
    "fig, ax = plt.subplots(figsize=(5,4))\n",
    "g = sns.barplot(y=\"language_name\", x=\"idCnt\", hue=\"flag_m\", data=ld_gl_lg_vc, palette=palette_blue, orient='h')\n",
    "g.set(xlabel=\"# itemID\", ylabel = \"\")\n",
    "g.legend(loc='lower right')\n",
    "plt.show()"
   ]
  },
  {
   "cell_type": "markdown",
   "metadata": {},
   "source": [
    "### [DEV] Topic Similarity\n"
   ]
  },
  {
   "cell_type": "code",
   "execution_count": 11,
   "metadata": {},
   "outputs": [],
   "source": [
    "# creation of sentence embeddings for each category\n",
    "\n",
    "import pandas as pd\n",
    "from gensim.models import KeyedVectors\n",
    "\n",
    "# load embeddings\n",
    "model = KeyedVectors.load_word2vec_format('../tempData/fetchedData/fasttext.wiki.en.300.vocab_200K.vec')\n",
    "df = pd.read_json('../tempData/processedData/categories_translated.json', typ='series')\n",
    "\n",
    "# create cat strings\n",
    "def cats(row):\n",
    "    words = ''\n",
    "    cat_ins = ''\n",
    "    for char in row:\n",
    "        cat_ins = cat_ins + char\n",
    "        try:\n",
    "            words = words + df.loc[cat_ins].lower() +' '\n",
    "        except:\n",
    "            pass\n",
    "    return words\n",
    "\n",
    "# calculate averaged sentence embedding\n",
    "def calc(words):\n",
    "    summ = 0\n",
    "    i = 0\n",
    "    for word in set(words.split()):\n",
    "        try:\n",
    "            summ = summ + model[word]\n",
    "            i = i+1\n",
    "        except:\n",
    "            pass\n",
    "    return summ/i"
   ]
  },
  {
   "cell_type": "code",
   "execution_count": 12,
   "metadata": {},
   "outputs": [],
   "source": [
    "# loop trough all cats & save as list to be able to save in df\n",
    "avgs = []\n",
    "for i in df.index:\n",
    "    avgs.append([calc(cats(i))])"
   ]
  },
  {
   "cell_type": "code",
   "execution_count": 13,
   "metadata": {},
   "outputs": [
    {
     "data": {
      "text/html": [
       "<div>\n",
       "<style scoped>\n",
       "    .dataframe tbody tr th:only-of-type {\n",
       "        vertical-align: middle;\n",
       "    }\n",
       "\n",
       "    .dataframe tbody tr th {\n",
       "        vertical-align: top;\n",
       "    }\n",
       "\n",
       "    .dataframe thead th {\n",
       "        text-align: right;\n",
       "    }\n",
       "</style>\n",
       "<table border=\"1\" class=\"dataframe\">\n",
       "  <thead>\n",
       "    <tr style=\"text-align: right;\">\n",
       "      <th></th>\n",
       "      <th>fasttext_emb</th>\n",
       "    </tr>\n",
       "  </thead>\n",
       "  <tbody>\n",
       "    <tr>\n",
       "      <th>1</th>\n",
       "      <td>[-0.1892, -0.030574098, -0.010315008, 0.181903...</td>\n",
       "    </tr>\n",
       "    <tr>\n",
       "      <th>1A</th>\n",
       "      <td>[-0.23420997, -0.053331066, -0.009325569, 0.17...</td>\n",
       "    </tr>\n",
       "  </tbody>\n",
       "</table>\n",
       "</div>"
      ],
      "text/plain": [
       "                                         fasttext_emb\n",
       "1   [-0.1892, -0.030574098, -0.010315008, 0.181903...\n",
       "1A  [-0.23420997, -0.053331066, -0.009325569, 0.17..."
      ]
     },
     "execution_count": 13,
     "metadata": {},
     "output_type": "execute_result"
    }
   ],
   "source": [
    "embs = pd.DataFrame(avgs, index=df.index, columns=['fasttext_emb'])\n",
    "embs.head(2)"
   ]
  },
  {
   "cell_type": "code",
   "execution_count": 14,
   "metadata": {},
   "outputs": [],
   "source": [
    "def f(col):\n",
    "    s=0\n",
    "    try:\n",
    "        for e in col:\n",
    "            s = s + embs.loc[e][0]\n",
    "        return s / len(col)\n",
    "    except KeyError:\n",
    "        return 0"
   ]
  },
  {
   "cell_type": "code",
   "execution_count": 35,
   "metadata": {},
   "outputs": [],
   "source": [
    "# create list from set\n",
    "header_items_df.loc[:, 'mt_st_'] = header_items_df.mt_st_cl.map(lambda x: list(x))"
   ]
  },
  {
   "cell_type": "code",
   "execution_count": 36,
   "metadata": {},
   "outputs": [],
   "source": [
    "header_items_df.mt_st_ = header_items_df.mt_st_.map(lambda x: ' '.join(x).split())"
   ]
  },
  {
   "cell_type": "code",
   "execution_count": 37,
   "metadata": {},
   "outputs": [],
   "source": [
    "header_items_df.drop('mt_st_cl', axis=1, inplace=True)"
   ]
  },
  {
   "cell_type": "code",
   "execution_count": 38,
   "metadata": {},
   "outputs": [],
   "source": [
    "# add categorical embeddings\n",
    "header_items_df['emb_cats'] = header_items_df.apply(lambda x: f(x['mt_st_']), axis=1)"
   ]
  },
  {
   "cell_type": "markdown",
   "metadata": {},
   "source": [
    "## Descriptions"
   ]
  },
  {
   "cell_type": "code",
   "execution_count": 39,
   "metadata": {},
   "outputs": [],
   "source": [
    "header_items_df.loc[:, 'description_'] = header_items_df.description.map(lambda x: next(iter(x)))"
   ]
  },
  {
   "cell_type": "code",
   "execution_count": 40,
   "metadata": {},
   "outputs": [
    {
     "data": {
      "text/html": [
       "<div>\n",
       "<style scoped>\n",
       "    .dataframe tbody tr th:only-of-type {\n",
       "        vertical-align: middle;\n",
       "    }\n",
       "\n",
       "    .dataframe tbody tr th {\n",
       "        vertical-align: top;\n",
       "    }\n",
       "\n",
       "    .dataframe thead th {\n",
       "        text-align: right;\n",
       "    }\n",
       "</style>\n",
       "<table border=\"1\" class=\"dataframe\">\n",
       "  <thead>\n",
       "    <tr style=\"text-align: right;\">\n",
       "      <th></th>\n",
       "      <th>headerID</th>\n",
       "      <th>title</th>\n",
       "      <th>author</th>\n",
       "      <th>publisher</th>\n",
       "      <th>language</th>\n",
       "      <th>number_pages</th>\n",
       "      <th>recommended_age</th>\n",
       "      <th>release_date</th>\n",
       "      <th>description</th>\n",
       "      <th>mt_st_</th>\n",
       "      <th>emb_cats</th>\n",
       "      <th>description_</th>\n",
       "    </tr>\n",
       "  </thead>\n",
       "  <tbody>\n",
       "    <tr>\n",
       "      <th>0</th>\n",
       "      <td>0</td>\n",
       "      <td>and the word became a story</td>\n",
       "      <td>{the author}</td>\n",
       "      <td>{books on demand}</td>\n",
       "      <td>{Englisch}</td>\n",
       "      <td>{304}</td>\n",
       "      <td>{}</td>\n",
       "      <td>{2018-04-17 00:00:00}</td>\n",
       "      <td>{\\nAt the beginning was the Word.\\nAnd from th...</td>\n",
       "      <td>[FN, FM, FL]</td>\n",
       "      <td>[0.015625147, -0.051195245, -0.09722235, 0.295...</td>\n",
       "      <td>at the beginning was the wordand from the word...</td>\n",
       "    </tr>\n",
       "  </tbody>\n",
       "</table>\n",
       "</div>"
      ],
      "text/plain": [
       "   headerID                         title        author          publisher  \\\n",
       "0         0   and the word became a story  {the author}  {books on demand}   \n",
       "\n",
       "     language number_pages recommended_age           release_date  \\\n",
       "0  {Englisch}        {304}              {}  {2018-04-17 00:00:00}   \n",
       "\n",
       "                                         description        mt_st_  \\\n",
       "0  {\\nAt the beginning was the Word.\\nAnd from th...  [FN, FM, FL]   \n",
       "\n",
       "                                            emb_cats  \\\n",
       "0  [0.015625147, -0.051195245, -0.09722235, 0.295...   \n",
       "\n",
       "                                        description_  \n",
       "0  at the beginning was the wordand from the word...  "
      ]
     },
     "metadata": {},
     "output_type": "display_data"
    }
   ],
   "source": [
    "# Preprocessing\n",
    "# convert all strings to lowercase\n",
    "header_items_df['description_'] = header_items_df['description_'].apply(lambda s:s.lower() if type(s) == str else s)    \n",
    "header_items_df['description_'] = header_items_df['description_'].apply(remove_nontitle_substrings)\n",
    "header_items_df['description_'] = header_items_df['description_'].astype(str).apply(remove_special_characters)\n",
    "header_items_df['description_'] = header_items_df['description_'].apply(convert_umlaute)\n",
    "header_items_df['description_'] = header_items_df['description_'].apply(remove_next_sign)\n",
    "# reduce all spaces in the articles to single spaces\n",
    "header_items_df['description_'] = header_items_df['description_'].apply(remove_duplicate_whitespace)\n",
    "# display cleaned df head\n",
    "display(header_items_df.head(1))"
   ]
  },
  {
   "cell_type": "code",
   "execution_count": 41,
   "metadata": {},
   "outputs": [],
   "source": [
    "header_items_df.drop('description', axis=1, inplace=True)"
   ]
  },
  {
   "cell_type": "code",
   "execution_count": 43,
   "metadata": {},
   "outputs": [],
   "source": [
    "from googletrans import Translator\n",
    "translator = Translator()"
   ]
  },
  {
   "cell_type": "code",
   "execution_count": 55,
   "metadata": {},
   "outputs": [
    {
     "data": {
      "text/plain": [
       "1        amicizia scuola amore alti e bassi in and out ...\n",
       "6        il genere umano e destinato a scomparirequesto...\n",
       "214                                                       \n",
       "217                                                       \n",
       "411      sette storie sempre più in là nel tempo compon...\n",
       "                               ...                        \n",
       "69990    willie è un giovane ippopotamo birbantello che...\n",
       "71150    nella regione di dehugia koban un umile pastor...\n",
       "71473                                                     \n",
       "71476                                                     \n",
       "71536    zuppa di mitocondri contiene 16 racconti brevi...\n",
       "Name: description_, Length: 847, dtype: object"
      ]
     },
     "execution_count": 55,
     "metadata": {},
     "output_type": "execute_result"
    }
   ],
   "source": [
    "# header_items_df[header_items_df['language'] == {'Italienisch'}]['description_'].apply(translator.translate,src='it',  dest='en' ).apply(getattr, args=('text',))"
   ]
  },
  {
   "cell_type": "code",
   "execution_count": 56,
   "metadata": {},
   "outputs": [],
   "source": [
    "# header_items_df['descriptions_trans'] = header_items_df['description_'].apply(translator.translate, dest='en' ).apply(getattr, args=('text',))"
   ]
  },
  {
   "cell_type": "markdown",
   "metadata": {},
   "source": [
    "### Recommended age\n",
    "\n",
    "##### bin into children/ teenagers / adults\n",
    "##### fill empty values with adults"
   ]
  },
  {
   "cell_type": "code",
   "execution_count": 57,
   "metadata": {},
   "outputs": [],
   "source": [
    "# get rid of set structure (only get one value)\n",
    "header_items_df.loc[:, 'recommended_age'] = header_items_df.recommended_age.map(lambda x: next(iter(x)))"
   ]
  },
  {
   "cell_type": "code",
   "execution_count": 71,
   "metadata": {},
   "outputs": [],
   "source": [
    "header_items_df['rec_age'] = header_items_df.recommended_age.str.findall('\\d+')"
   ]
  },
  {
   "cell_type": "markdown",
   "metadata": {},
   "source": [
    "### Language Tag"
   ]
  },
  {
   "cell_type": "code",
   "execution_count": 76,
   "metadata": {},
   "outputs": [],
   "source": [
    "# create new lang tag (only get one value) but keep set\n",
    "\n",
    "header_items_df.loc[:, 'lang'] = header_items_df.language.map(lambda x: next(iter(x)))"
   ]
  },
  {
   "cell_type": "markdown",
   "metadata": {},
   "source": [
    "## Export of final pre-processed dfs"
   ]
  },
  {
   "cell_type": "raw",
   "metadata": {
    "pycharm": {
     "name": "#%%\n"
    }
   },
   "source": [
    "# replace original cols by pre-processed cols\n",
    "items_df = items_df.rename(columns={'mt_cl': 'mt', 'st_cl': 'st', 'mt_st_cl': 'mt_st'})\n",
    "items_df.head(2)\n",
    "\n",
    "# export items_df\n",
    "items_df.to_csv(items_path_pp)\n",
    "\n",
    "# export transactions_df\n",
    "transactions_df.to_csv(transactions_path_pp)\n",
    "\n",
    "# export header_items_df\n",
    "header_items_df.to_csv(header_items_path_pp)"
   ]
  },
  {
   "cell_type": "code",
   "execution_count": 87,
   "metadata": {},
   "outputs": [],
   "source": [
    "# export transactions_df\n",
    "transactions_df.to_csv(transactions_path_pp)"
   ]
  },
  {
   "cell_type": "code",
   "execution_count": 88,
   "metadata": {},
   "outputs": [],
   "source": [
    "transactions_df.to_csv('transactions_wo.csv')"
   ]
  },
  {
   "cell_type": "code",
   "execution_count": 68,
   "metadata": {},
   "outputs": [],
   "source": [
    "header_items_df.to_csv('header_items_df.csv')"
   ]
  },
  {
   "cell_type": "code",
   "execution_count": 70,
   "metadata": {},
   "outputs": [
    {
     "data": {
      "text/html": [
       "<div>\n",
       "<style scoped>\n",
       "    .dataframe tbody tr th:only-of-type {\n",
       "        vertical-align: middle;\n",
       "    }\n",
       "\n",
       "    .dataframe tbody tr th {\n",
       "        vertical-align: top;\n",
       "    }\n",
       "\n",
       "    .dataframe thead th {\n",
       "        text-align: right;\n",
       "    }\n",
       "</style>\n",
       "<table border=\"1\" class=\"dataframe\">\n",
       "  <thead>\n",
       "    <tr style=\"text-align: right;\">\n",
       "      <th></th>\n",
       "      <th>itemID</th>\n",
       "      <th>mt_cl</th>\n",
       "      <th>st_cl</th>\n",
       "      <th>mt_st_cl</th>\n",
       "      <th>description</th>\n",
       "      <th>rating</th>\n",
       "      <th>number_pages</th>\n",
       "      <th>recommended_age</th>\n",
       "      <th>release_date</th>\n",
       "      <th>language</th>\n",
       "      <th>thalia_ranking</th>\n",
       "      <th>cover_url</th>\n",
       "      <th>title</th>\n",
       "      <th>author</th>\n",
       "      <th>publisher</th>\n",
       "      <th>headerID</th>\n",
       "    </tr>\n",
       "  </thead>\n",
       "  <tbody>\n",
       "    <tr>\n",
       "      <th>0</th>\n",
       "      <td>21310</td>\n",
       "      <td>[YFB]</td>\n",
       "      <td>[5AH]</td>\n",
       "      <td>[5AH, YFB]</td>\n",
       "      <td>\\nA brand-new story in the best-selling Prince...</td>\n",
       "      <td>0</td>\n",
       "      <td></td>\n",
       "      <td>7 - 9 Jahr(e)</td>\n",
       "      <td>2010-11-30</td>\n",
       "      <td>Englisch</td>\n",
       "      <td></td>\n",
       "      <td>https://assets.thalia.media/img/artikel/816c5c...</td>\n",
       "      <td>princess poppy the big mix up</td>\n",
       "      <td>janey louise jones</td>\n",
       "      <td>penguin random house childrens uk</td>\n",
       "      <td>45065</td>\n",
       "    </tr>\n",
       "    <tr>\n",
       "      <th>1</th>\n",
       "      <td>73018</td>\n",
       "      <td>[AGZ]</td>\n",
       "      <td>[YNA, YBL, YPA, 5AJ, YBG, AGZ, WFA]</td>\n",
       "      <td>[YNA, YBL, YPA, 5AJ, YBG, AGZ, WFA, AGZ]</td>\n",
       "      <td>\\n\\n</td>\n",
       "      <td>0</td>\n",
       "      <td>224</td>\n",
       "      <td>ab 8 Jahr(e)</td>\n",
       "      <td>2020-12-02</td>\n",
       "      <td>Deutsch</td>\n",
       "      <td>37543</td>\n",
       "      <td>https://assets.thalia.media/img/artikel/dc6911...</td>\n",
       "      <td>einfach zeichnen step by step</td>\n",
       "      <td>wiebke krabbe</td>\n",
       "      <td>schwager und steinlein</td>\n",
       "      <td>18678</td>\n",
       "    </tr>\n",
       "    <tr>\n",
       "      <th>2</th>\n",
       "      <td>19194</td>\n",
       "      <td>[YFH]</td>\n",
       "      <td>[FBA, 5AP]</td>\n",
       "      <td>[FBA, 5AP, YFH]</td>\n",
       "      <td>\\nMare Barrow's world is divided by blood—thos...</td>\n",
       "      <td>4</td>\n",
       "      <td></td>\n",
       "      <td>13 - 17 Jahr(e)</td>\n",
       "      <td>2016-02-03</td>\n",
       "      <td>Englisch</td>\n",
       "      <td></td>\n",
       "      <td>https://assets.thalia.media/img/artikel/711b74...</td>\n",
       "      <td>red queen 1</td>\n",
       "      <td>victoria aveyard</td>\n",
       "      <td>orion publishing group</td>\n",
       "      <td>46286</td>\n",
       "    </tr>\n",
       "    <tr>\n",
       "      <th>3</th>\n",
       "      <td>40250</td>\n",
       "      <td>[YB]</td>\n",
       "      <td>[YF, YBL, 5AD, 5AC, YBG]</td>\n",
       "      <td>[YF, YBL, 5AD, 5AC, YBG, YB]</td>\n",
       "      <td>\\n\\n</td>\n",
       "      <td>0</td>\n",
       "      <td>64</td>\n",
       "      <td>3 - 6 Jahr(e)</td>\n",
       "      <td>2015-06-04</td>\n",
       "      <td>Deutsch</td>\n",
       "      <td>39540</td>\n",
       "      <td>https://assets.thalia.media/img/artikel/f8a160...</td>\n",
       "      <td>meine kindergarten freunde pirat</td>\n",
       "      <td>nan</td>\n",
       "      <td>ars edition gmbh</td>\n",
       "      <td>38117</td>\n",
       "    </tr>\n",
       "    <tr>\n",
       "      <th>4</th>\n",
       "      <td>46107</td>\n",
       "      <td>[WFTM]</td>\n",
       "      <td>[YBL, WFTM, YBLN1, YBLD, YBG, WD]</td>\n",
       "      <td>[YBL, WFTM, YBLN1, YBLD, YBG, WD, WFTM]</td>\n",
       "      <td>\\nDie Welt der wilden Tiere\\nMalen lernen war ...</td>\n",
       "      <td>0</td>\n",
       "      <td>16</td>\n",
       "      <td>3 - 6 Jahr(e)</td>\n",
       "      <td>2019-02-19</td>\n",
       "      <td>Deutsch</td>\n",
       "      <td>35647</td>\n",
       "      <td>https://assets.thalia.media/img/artikel/49b027...</td>\n",
       "      <td>mein großes schablonen buch   wilde tiere</td>\n",
       "      <td>elizabeth golding</td>\n",
       "      <td>edition michael fischer</td>\n",
       "      <td>37621</td>\n",
       "    </tr>\n",
       "    <tr>\n",
       "      <th>...</th>\n",
       "      <td>...</td>\n",
       "      <td>...</td>\n",
       "      <td>...</td>\n",
       "      <td>...</td>\n",
       "      <td>...</td>\n",
       "      <td>...</td>\n",
       "      <td>...</td>\n",
       "      <td>...</td>\n",
       "      <td>...</td>\n",
       "      <td>...</td>\n",
       "      <td>...</td>\n",
       "      <td>...</td>\n",
       "      <td>...</td>\n",
       "      <td>...</td>\n",
       "      <td>...</td>\n",
       "      <td>...</td>\n",
       "    </tr>\n",
       "    <tr>\n",
       "      <th>78016</th>\n",
       "      <td>37678</td>\n",
       "      <td>[YFA]</td>\n",
       "      <td>[YFJ]</td>\n",
       "      <td>[YFJ, YFA]</td>\n",
       "      <td>\\n</td>\n",
       "      <td>0</td>\n",
       "      <td>32</td>\n",
       "      <td>4 - 8 Jahr(e)</td>\n",
       "      <td>2016-01-15</td>\n",
       "      <td></td>\n",
       "      <td></td>\n",
       "      <td>https://assets.thalia.media/img/artikel/78ac71...</td>\n",
       "      <td>timeless fairy tales</td>\n",
       "      <td>brothers grimm marie catherine baroness daulnoy</td>\n",
       "      <td>mediamorphosis</td>\n",
       "      <td>65307</td>\n",
       "    </tr>\n",
       "    <tr>\n",
       "      <th>78017</th>\n",
       "      <td>68688</td>\n",
       "      <td>[FMB]</td>\n",
       "      <td>[]</td>\n",
       "      <td>[, FMB]</td>\n",
       "      <td>\\n</td>\n",
       "      <td>0</td>\n",
       "      <td></td>\n",
       "      <td></td>\n",
       "      <td>2020-05-23</td>\n",
       "      <td>Deutsch</td>\n",
       "      <td></td>\n",
       "      <td>https://assets.thalia.media/img/artikel/114bf3...</td>\n",
       "      <td>demon games</td>\n",
       "      <td>a witt timothy a witt</td>\n",
       "      <td>iuniverse</td>\n",
       "      <td>12921</td>\n",
       "    </tr>\n",
       "    <tr>\n",
       "      <th>78018</th>\n",
       "      <td>57291</td>\n",
       "      <td>[YFU]</td>\n",
       "      <td>[]</td>\n",
       "      <td>[, YFU]</td>\n",
       "      <td>\\n</td>\n",
       "      <td>0</td>\n",
       "      <td>88</td>\n",
       "      <td></td>\n",
       "      <td>2010-01-15</td>\n",
       "      <td>Englisch</td>\n",
       "      <td></td>\n",
       "      <td>https://assets.thalia.media/img/artikel/87060a...</td>\n",
       "      <td>lori and the lions den</td>\n",
       "      <td>a m glass</td>\n",
       "      <td>xlibris</td>\n",
       "      <td>34895</td>\n",
       "    </tr>\n",
       "    <tr>\n",
       "      <th>78019</th>\n",
       "      <td>78130</td>\n",
       "      <td>[YFC]</td>\n",
       "      <td>[YFG, YFH]</td>\n",
       "      <td>[YFG, YFH, YFC]</td>\n",
       "      <td></td>\n",
       "      <td></td>\n",
       "      <td></td>\n",
       "      <td></td>\n",
       "      <td>NaT</td>\n",
       "      <td></td>\n",
       "      <td></td>\n",
       "      <td></td>\n",
       "      <td>the everywhere armchair</td>\n",
       "      <td>ersila bee</td>\n",
       "      <td>eloquent books</td>\n",
       "      <td>56943</td>\n",
       "    </tr>\n",
       "    <tr>\n",
       "      <th>78020</th>\n",
       "      <td>68789</td>\n",
       "      <td>[FL]</td>\n",
       "      <td>[]</td>\n",
       "      <td>[, FL]</td>\n",
       "      <td>\\nQueens, countries, and cultures collided in ...</td>\n",
       "      <td>0</td>\n",
       "      <td></td>\n",
       "      <td></td>\n",
       "      <td>2018-01-23</td>\n",
       "      <td>Englisch</td>\n",
       "      <td></td>\n",
       "      <td>https://assets.thalia.media/img/artikel/a5d432...</td>\n",
       "      <td>the light voyager</td>\n",
       "      <td>orlando mardi orlando</td>\n",
       "      <td>trafford publishing</td>\n",
       "      <td>59396</td>\n",
       "    </tr>\n",
       "  </tbody>\n",
       "</table>\n",
       "<p>78021 rows × 16 columns</p>\n",
       "</div>"
      ],
      "text/plain": [
       "       itemID   mt_cl                                st_cl  \\\n",
       "0       21310   [YFB]                                [5AH]   \n",
       "1       73018   [AGZ]  [YNA, YBL, YPA, 5AJ, YBG, AGZ, WFA]   \n",
       "2       19194   [YFH]                           [FBA, 5AP]   \n",
       "3       40250    [YB]             [YF, YBL, 5AD, 5AC, YBG]   \n",
       "4       46107  [WFTM]    [YBL, WFTM, YBLN1, YBLD, YBG, WD]   \n",
       "...       ...     ...                                  ...   \n",
       "78016   37678   [YFA]                                [YFJ]   \n",
       "78017   68688   [FMB]                                   []   \n",
       "78018   57291   [YFU]                                   []   \n",
       "78019   78130   [YFC]                           [YFG, YFH]   \n",
       "78020   68789    [FL]                                   []   \n",
       "\n",
       "                                       mt_st_cl  \\\n",
       "0                                    [5AH, YFB]   \n",
       "1      [YNA, YBL, YPA, 5AJ, YBG, AGZ, WFA, AGZ]   \n",
       "2                               [FBA, 5AP, YFH]   \n",
       "3                  [YF, YBL, 5AD, 5AC, YBG, YB]   \n",
       "4       [YBL, WFTM, YBLN1, YBLD, YBG, WD, WFTM]   \n",
       "...                                         ...   \n",
       "78016                                [YFJ, YFA]   \n",
       "78017                                   [, FMB]   \n",
       "78018                                   [, YFU]   \n",
       "78019                           [YFG, YFH, YFC]   \n",
       "78020                                    [, FL]   \n",
       "\n",
       "                                             description rating number_pages  \\\n",
       "0      \\nA brand-new story in the best-selling Prince...      0                \n",
       "1                                                  \\n\\n       0          224   \n",
       "2      \\nMare Barrow's world is divided by blood—thos...      4                \n",
       "3                                                   \\n\\n      0           64   \n",
       "4      \\nDie Welt der wilden Tiere\\nMalen lernen war ...      0           16   \n",
       "...                                                  ...    ...          ...   \n",
       "78016                                                 \\n      0           32   \n",
       "78017                                                 \\n      0                \n",
       "78018                                                 \\n      0           88   \n",
       "78019                                                                          \n",
       "78020  \\nQueens, countries, and cultures collided in ...      0                \n",
       "\n",
       "       recommended_age release_date  language thalia_ranking  \\\n",
       "0        7 - 9 Jahr(e)   2010-11-30  Englisch                  \n",
       "1         ab 8 Jahr(e)   2020-12-02   Deutsch          37543   \n",
       "2      13 - 17 Jahr(e)   2016-02-03  Englisch                  \n",
       "3        3 - 6 Jahr(e)   2015-06-04   Deutsch          39540   \n",
       "4        3 - 6 Jahr(e)   2019-02-19   Deutsch          35647   \n",
       "...                ...          ...       ...            ...   \n",
       "78016    4 - 8 Jahr(e)   2016-01-15                            \n",
       "78017                    2020-05-23   Deutsch                  \n",
       "78018                    2010-01-15  Englisch                  \n",
       "78019                           NaT                            \n",
       "78020                    2018-01-23  Englisch                  \n",
       "\n",
       "                                               cover_url  \\\n",
       "0      https://assets.thalia.media/img/artikel/816c5c...   \n",
       "1      https://assets.thalia.media/img/artikel/dc6911...   \n",
       "2      https://assets.thalia.media/img/artikel/711b74...   \n",
       "3      https://assets.thalia.media/img/artikel/f8a160...   \n",
       "4      https://assets.thalia.media/img/artikel/49b027...   \n",
       "...                                                  ...   \n",
       "78016  https://assets.thalia.media/img/artikel/78ac71...   \n",
       "78017  https://assets.thalia.media/img/artikel/114bf3...   \n",
       "78018  https://assets.thalia.media/img/artikel/87060a...   \n",
       "78019                                                      \n",
       "78020  https://assets.thalia.media/img/artikel/a5d432...   \n",
       "\n",
       "                                           title  \\\n",
       "0                  princess poppy the big mix up   \n",
       "1                  einfach zeichnen step by step   \n",
       "2                                    red queen 1   \n",
       "3               meine kindergarten freunde pirat   \n",
       "4      mein großes schablonen buch   wilde tiere   \n",
       "...                                          ...   \n",
       "78016                       timeless fairy tales   \n",
       "78017                                demon games   \n",
       "78018                     lori and the lions den   \n",
       "78019                    the everywhere armchair   \n",
       "78020                          the light voyager   \n",
       "\n",
       "                                                author  \\\n",
       "0                                   janey louise jones   \n",
       "1                                        wiebke krabbe   \n",
       "2                                     victoria aveyard   \n",
       "3                                                  nan   \n",
       "4                                    elizabeth golding   \n",
       "...                                                ...   \n",
       "78016  brothers grimm marie catherine baroness daulnoy   \n",
       "78017                            a witt timothy a witt   \n",
       "78018                                        a m glass   \n",
       "78019                                       ersila bee   \n",
       "78020                            orlando mardi orlando   \n",
       "\n",
       "                               publisher  headerID  \n",
       "0      penguin random house childrens uk     45065  \n",
       "1                 schwager und steinlein     18678  \n",
       "2                 orion publishing group     46286  \n",
       "3                       ars edition gmbh     38117  \n",
       "4                edition michael fischer     37621  \n",
       "...                                  ...       ...  \n",
       "78016                     mediamorphosis     65307  \n",
       "78017                          iuniverse     12921  \n",
       "78018                            xlibris     34895  \n",
       "78019                     eloquent books     56943  \n",
       "78020                trafford publishing     59396  \n",
       "\n",
       "[78021 rows x 16 columns]"
      ]
     },
     "execution_count": 70,
     "metadata": {},
     "output_type": "execute_result"
    }
   ],
   "source": [
    "items_df[]"
   ]
  },
  {
   "cell_type": "code",
   "execution_count": 69,
   "metadata": {},
   "outputs": [
    {
     "data": {
      "text/html": [
       "<div>\n",
       "<style scoped>\n",
       "    .dataframe tbody tr th:only-of-type {\n",
       "        vertical-align: middle;\n",
       "    }\n",
       "\n",
       "    .dataframe tbody tr th {\n",
       "        vertical-align: top;\n",
       "    }\n",
       "\n",
       "    .dataframe thead th {\n",
       "        text-align: right;\n",
       "    }\n",
       "</style>\n",
       "<table border=\"1\" class=\"dataframe\">\n",
       "  <thead>\n",
       "    <tr style=\"text-align: right;\">\n",
       "      <th></th>\n",
       "      <th>headerID</th>\n",
       "      <th>title</th>\n",
       "      <th>author</th>\n",
       "      <th>publisher</th>\n",
       "      <th>language</th>\n",
       "      <th>number_pages</th>\n",
       "      <th>recommended_age</th>\n",
       "      <th>release_date</th>\n",
       "      <th>mt_st_</th>\n",
       "      <th>description_</th>\n",
       "    </tr>\n",
       "  </thead>\n",
       "  <tbody>\n",
       "    <tr>\n",
       "      <th>0</th>\n",
       "      <td>0</td>\n",
       "      <td>and the word became a story</td>\n",
       "      <td>{the author}</td>\n",
       "      <td>{books on demand}</td>\n",
       "      <td>{Englisch}</td>\n",
       "      <td>{304}</td>\n",
       "      <td>{}</td>\n",
       "      <td>{2018-04-17 00:00:00}</td>\n",
       "      <td>[FM, FN, FL]</td>\n",
       "      <td>at the beginning was the wordand from the word...</td>\n",
       "    </tr>\n",
       "    <tr>\n",
       "      <th>1</th>\n",
       "      <td>1</td>\n",
       "      <td>evvai</td>\n",
       "      <td>{cristina polacchini}</td>\n",
       "      <td>{lulucom}</td>\n",
       "      <td>{Italienisch}</td>\n",
       "      <td>{106}</td>\n",
       "      <td>{}</td>\n",
       "      <td>{2015-08-01 00:00:00}</td>\n",
       "      <td>[YFB]</td>\n",
       "      <td>amicizia scuola amore alti e bassi in and out ...</td>\n",
       "    </tr>\n",
       "    <tr>\n",
       "      <th>2</th>\n",
       "      <td>2</td>\n",
       "      <td>leviathan wakes calibans war abaddons gate no...</td>\n",
       "      <td>{james s a corey}</td>\n",
       "      <td>{orbit}</td>\n",
       "      <td>{Englisch}</td>\n",
       "      <td>{1792}</td>\n",
       "      <td>{}</td>\n",
       "      <td>{2019-11-19 00:00:00}</td>\n",
       "      <td>[FLS]</td>\n",
       "      <td>for the first tim the first three novels in co...</td>\n",
       "    </tr>\n",
       "    <tr>\n",
       "      <th>3</th>\n",
       "      <td>3</td>\n",
       "      <td>the ultimate vehicle colouring book for kids</td>\n",
       "      <td>{chetna }</td>\n",
       "      <td>{westland publications limited}</td>\n",
       "      <td>{}</td>\n",
       "      <td>{104}</td>\n",
       "      <td>{}</td>\n",
       "      <td>{2020-08-17 00:00:00}</td>\n",
       "      <td>[YBG]</td>\n",
       "      <td></td>\n",
       "    </tr>\n",
       "    <tr>\n",
       "      <th>4</th>\n",
       "      <td>4</td>\n",
       "      <td>then he ate my boy entrancers</td>\n",
       "      <td>{louise rennison}</td>\n",
       "      <td>{harpercollins publishers}</td>\n",
       "      <td>{Englisch}</td>\n",
       "      <td>{334}</td>\n",
       "      <td>{12 - 15 Jahr(e)}</td>\n",
       "      <td>{2006-02-06 00:00:00}</td>\n",
       "      <td>[YFQ, 4Z-GB-ACN, YFM]</td>\n",
       "      <td>brilliantly funny teenage angst author louise ...</td>\n",
       "    </tr>\n",
       "    <tr>\n",
       "      <th>...</th>\n",
       "      <td>...</td>\n",
       "      <td>...</td>\n",
       "      <td>...</td>\n",
       "      <td>...</td>\n",
       "      <td>...</td>\n",
       "      <td>...</td>\n",
       "      <td>...</td>\n",
       "      <td>...</td>\n",
       "      <td>...</td>\n",
       "      <td>...</td>\n",
       "    </tr>\n",
       "    <tr>\n",
       "      <th>71664</th>\n",
       "      <td>71664</td>\n",
       "      <td>órbitas míticas volume i</td>\n",
       "      <td>{kerry nietz}</td>\n",
       "      <td>{bear publications}</td>\n",
       "      <td>{Portugiesisch}</td>\n",
       "      <td>{266}</td>\n",
       "      <td>{}</td>\n",
       "      <td>{2020-05-30 00:00:00}</td>\n",
       "      <td>[FM, DNT]</td>\n",
       "      <td>quatorze das melhores histórias de ficção espe...</td>\n",
       "    </tr>\n",
       "    <tr>\n",
       "      <th>71665</th>\n",
       "      <td>71665</td>\n",
       "      <td>óscar el oso pardo aprende a ser agradecido</td>\n",
       "      <td>{misty black}</td>\n",
       "      <td>{berry patch press llc}</td>\n",
       "      <td>{Spanisch}</td>\n",
       "      <td>{36}</td>\n",
       "      <td>{}</td>\n",
       "      <td>{2020-11-05 00:00:00}</td>\n",
       "      <td>[YNMD, YFB, 5HCS]</td>\n",
       "      <td>¡la gratitud nos ayuda a ser felices aún cuand...</td>\n",
       "    </tr>\n",
       "    <tr>\n",
       "      <th>71666</th>\n",
       "      <td>71666</td>\n",
       "      <td>ô yrdann 1</td>\n",
       "      <td>{hadrien sins}</td>\n",
       "      <td>{books on demand}</td>\n",
       "      <td>{Französisch}</td>\n",
       "      <td>{332}</td>\n",
       "      <td>{ab 12 Jahr(e)}</td>\n",
       "      <td>{2020-05-23 00:00:00}</td>\n",
       "      <td>[FLS, FM, 5AX]</td>\n",
       "      <td>un cadeau des confins de lespace vient perturb...</td>\n",
       "    </tr>\n",
       "    <tr>\n",
       "      <th>71667</th>\n",
       "      <td>71667</td>\n",
       "      <td>øen læge moreau the island of dr moreau danish...</td>\n",
       "      <td>{herbert george wells}</td>\n",
       "      <td>{adizes inst}</td>\n",
       "      <td>{Dänisch}</td>\n",
       "      <td>{140}</td>\n",
       "      <td>{}</td>\n",
       "      <td>{2019-06-08 00:00:00}</td>\n",
       "      <td>[FL]</td>\n",
       "      <td>en skibbrudte herre strandet på en stillehavsø...</td>\n",
       "    </tr>\n",
       "    <tr>\n",
       "      <th>71668</th>\n",
       "      <td>71668</td>\n",
       "      <td>út a semmibe</td>\n",
       "      <td>{pócs ervin andrás}</td>\n",
       "      <td>{novum publishing}</td>\n",
       "      <td>{Ungarisch}</td>\n",
       "      <td>{}</td>\n",
       "      <td>{}</td>\n",
       "      <td>{2018-05-23 00:00:00}</td>\n",
       "      <td>[FB]</td>\n",
       "      <td>a foeld felszíne elpusztult a megmaradt emberi...</td>\n",
       "    </tr>\n",
       "  </tbody>\n",
       "</table>\n",
       "<p>71669 rows × 10 columns</p>\n",
       "</div>"
      ],
      "text/plain": [
       "       headerID                                              title  \\\n",
       "0             0                        and the word became a story   \n",
       "1             1                                              evvai   \n",
       "2             2   leviathan wakes calibans war abaddons gate no...   \n",
       "3             3       the ultimate vehicle colouring book for kids   \n",
       "4             4                      then he ate my boy entrancers   \n",
       "...         ...                                                ...   \n",
       "71664     71664                           órbitas míticas volume i   \n",
       "71665     71665        óscar el oso pardo aprende a ser agradecido   \n",
       "71666     71666                                         ô yrdann 1   \n",
       "71667     71667  øen læge moreau the island of dr moreau danish...   \n",
       "71668     71668                                       út a semmibe   \n",
       "\n",
       "                       author                        publisher  \\\n",
       "0                {the author}                {books on demand}   \n",
       "1       {cristina polacchini}                        {lulucom}   \n",
       "2           {james s a corey}                          {orbit}   \n",
       "3                   {chetna }  {westland publications limited}   \n",
       "4           {louise rennison}       {harpercollins publishers}   \n",
       "...                       ...                              ...   \n",
       "71664           {kerry nietz}              {bear publications}   \n",
       "71665           {misty black}          {berry patch press llc}   \n",
       "71666          {hadrien sins}                {books on demand}   \n",
       "71667  {herbert george wells}                    {adizes inst}   \n",
       "71668     {pócs ervin andrás}               {novum publishing}   \n",
       "\n",
       "              language number_pages    recommended_age           release_date  \\\n",
       "0           {Englisch}        {304}                 {}  {2018-04-17 00:00:00}   \n",
       "1        {Italienisch}        {106}                 {}  {2015-08-01 00:00:00}   \n",
       "2           {Englisch}       {1792}                 {}  {2019-11-19 00:00:00}   \n",
       "3                   {}        {104}                 {}  {2020-08-17 00:00:00}   \n",
       "4           {Englisch}        {334}  {12 - 15 Jahr(e)}  {2006-02-06 00:00:00}   \n",
       "...                ...          ...                ...                    ...   \n",
       "71664  {Portugiesisch}        {266}                 {}  {2020-05-30 00:00:00}   \n",
       "71665       {Spanisch}         {36}                 {}  {2020-11-05 00:00:00}   \n",
       "71666    {Französisch}        {332}    {ab 12 Jahr(e)}  {2020-05-23 00:00:00}   \n",
       "71667        {Dänisch}        {140}                 {}  {2019-06-08 00:00:00}   \n",
       "71668      {Ungarisch}           {}                 {}  {2018-05-23 00:00:00}   \n",
       "\n",
       "                      mt_st_  \\\n",
       "0               [FM, FN, FL]   \n",
       "1                      [YFB]   \n",
       "2                      [FLS]   \n",
       "3                      [YBG]   \n",
       "4      [YFQ, 4Z-GB-ACN, YFM]   \n",
       "...                      ...   \n",
       "71664              [FM, DNT]   \n",
       "71665      [YNMD, YFB, 5HCS]   \n",
       "71666         [FLS, FM, 5AX]   \n",
       "71667                   [FL]   \n",
       "71668                   [FB]   \n",
       "\n",
       "                                            description_  \n",
       "0      at the beginning was the wordand from the word...  \n",
       "1      amicizia scuola amore alti e bassi in and out ...  \n",
       "2      for the first tim the first three novels in co...  \n",
       "3                                                         \n",
       "4      brilliantly funny teenage angst author louise ...  \n",
       "...                                                  ...  \n",
       "71664  quatorze das melhores histórias de ficção espe...  \n",
       "71665  ¡la gratitud nos ayuda a ser felices aún cuand...  \n",
       "71666  un cadeau des confins de lespace vient perturb...  \n",
       "71667  en skibbrudte herre strandet på en stillehavsø...  \n",
       "71668  a foeld felszíne elpusztult a megmaradt emberi...  \n",
       "\n",
       "[71669 rows x 10 columns]"
      ]
     },
     "execution_count": 69,
     "metadata": {},
     "output_type": "execute_result"
    }
   ],
   "source": [
    "header_items_df"
   ]
  },
  {
   "cell_type": "code",
   "execution_count": null,
   "metadata": {},
   "outputs": [],
   "source": []
  }
 ],
 "metadata": {
  "kernelspec": {
   "display_name": "Python 3",
   "language": "python",
   "name": "python3"
  },
  "language_info": {
   "codemirror_mode": {
    "name": "ipython",
    "version": 3
   },
   "file_extension": ".py",
   "mimetype": "text/x-python",
   "name": "python",
   "nbconvert_exporter": "python",
   "pygments_lexer": "ipython3",
   "version": "3.8.5"
  },
  "toc": {
   "base_numbering": 1,
   "nav_menu": {},
   "number_sections": true,
   "sideBar": true,
   "skip_h1_title": true,
   "title_cell": "Table of Contents",
   "title_sidebar": "Contents",
   "toc_cell": false,
   "toc_position": {
    "height": "calc(100% - 180px)",
    "left": "10px",
    "top": "150px",
    "width": "426.667px"
   },
   "toc_section_display": true,
   "toc_window_display": true
  }
 },
 "nbformat": 4,
 "nbformat_minor": 4
}
