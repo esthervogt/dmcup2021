{
 "cells": [
  {
   "cell_type": "markdown",
   "id": "ccf74600",
   "metadata": {},
   "source": [
    "## 1. Preprocess Data"
   ]
  },
  {
   "cell_type": "code",
   "execution_count": null,
   "id": "2254cd28",
   "metadata": {},
   "outputs": [],
   "source": [
    "import pandas as pd\n",
    "import numpy as np\n",
    "from tqdm import tqdm\n",
    "\n",
    "from src.data.preprocessing import preprocess_books\n",
    "\n",
    "tqdm.pandas()"
   ]
  },
  {
   "cell_type": "code",
   "execution_count": null,
   "id": "e95a11a1",
   "metadata": {},
   "outputs": [],
   "source": [
    "items_path = '../data/processed/20210526_items_df.csv'\n",
    "books_path = \"../data/external/items.csv\"\n",
    "evaluation_books_path = \"../data/external/evaluation.csv\""
   ]
  },
  {
   "cell_type": "code",
   "execution_count": null,
   "id": "7d6cdf1f",
   "metadata": {},
   "outputs": [],
   "source": [
    "query,document = preprocess_books(items_path, books_path, evaluation_books_path)"
   ]
  },
  {
   "cell_type": "markdown",
   "id": "e2d8dda8",
   "metadata": {},
   "source": [
    "## 2. Filter on language"
   ]
  },
  {
   "cell_type": "markdown",
   "id": "15c1572c",
   "metadata": {},
   "source": [
    "We need to filter all possible books, based on having the same language."
   ]
  },
  {
   "cell_type": "code",
   "execution_count": null,
   "id": "3a75bf79",
   "metadata": {},
   "outputs": [],
   "source": [
    "document_en = document.copy()\n",
    "document_de = document.copy()\n",
    "document_es = document[document.language == \"Spanisch\"]\n",
    "document_it = document[document.language == \"Italienisch\"]\n",
    "document_fr = document[document.language == \"Französisch\"]\n",
    "document_pt = document[document.language == \"Portugiesisch\"]\n",
    "document_sw = document[document.language == \"Schwedisch\"]\n",
    "document_ba = document[document.language == \"Baltisch\"]\n",
    "document_fi = document[document.language == \"Finnisch\"]\n",
    "document_hi = document[document.language == \"Hindi\"]\n",
    "document_un = document[document.language == \"Ungarisch\"]"
   ]
  },
  {
   "cell_type": "code",
   "execution_count": null,
   "id": "3c7cf51e",
   "metadata": {},
   "outputs": [],
   "source": [
    "document_en.drop([\"language\"], axis = 1, inplace = True)\n",
    "document_de.drop([\"language\"], axis = 1, inplace = True)\n",
    "document_es.drop([\"language\"], axis = 1, inplace = True)\n",
    "document_it.drop([\"language\"], axis = 1, inplace = True)\n",
    "document_fr.drop([\"language\"], axis = 1, inplace = True)\n",
    "document_pt.drop([\"language\"], axis = 1, inplace = True)\n",
    "document_sw.drop([\"language\"], axis = 1, inplace = True)\n",
    "document_ba.drop([\"language\"], axis = 1, inplace = True)\n",
    "document_fi.drop([\"language\"], axis = 1, inplace = True)\n",
    "document_hi.drop([\"language\"], axis = 1, inplace = True)\n",
    "document_un.drop([\"language\"], axis = 1, inplace = True)"
   ]
  },
  {
   "cell_type": "code",
   "execution_count": null,
   "id": "8fb808ce",
   "metadata": {},
   "outputs": [],
   "source": [
    "query_en = query[query.language == \"Englisch\"]\n",
    "query_de = query[query.language == \"Deutsch\"]\n",
    "query_es = query[query.language == \"Spanisch\"]\n",
    "query_it = query[query.language == \"Italienisch\"]\n",
    "query_fr = query[query.language == \"Französisch\"]\n",
    "query_pt = query[query.language == \"Portugiesisch\"]\n",
    "query_sw = query[query.language == \"Schwedisch\"]\n",
    "query_ba = query[query.language == \"Baltisch\"]\n",
    "query_fi = query[query.language == \"Finnisch\"]\n",
    "query_hi = query[query.language == \"Hindi\"]\n",
    "query_un = query[query.language == \"Ungarisch\"]"
   ]
  },
  {
   "cell_type": "code",
   "execution_count": null,
   "id": "b9601e04",
   "metadata": {},
   "outputs": [],
   "source": [
    "query_en.drop([\"language\"], axis = 1, inplace = True)\n",
    "query_de.drop([\"language\"], axis = 1, inplace = True)\n",
    "query_es.drop([\"language\"], axis = 1, inplace = True)\n",
    "query_it.drop([\"language\"], axis = 1, inplace = True)\n",
    "query_fr.drop([\"language\"], axis = 1, inplace = True)\n",
    "query_pt.drop([\"language\"], axis = 1, inplace = True)\n",
    "query_sw.drop([\"language\"], axis = 1, inplace = True)\n",
    "query_ba.drop([\"language\"], axis = 1, inplace = True)\n",
    "query_fi.drop([\"language\"], axis = 1, inplace = True)\n",
    "query_hi.drop([\"language\"], axis = 1, inplace = True)\n",
    "query_un.drop([\"language\"], axis = 1, inplace = True)"
   ]
  },
  {
   "cell_type": "code",
   "execution_count": null,
   "id": "39a73188",
   "metadata": {},
   "outputs": [],
   "source": [
    "recommendation_en = {}\n",
    "for id in query_en.id_query:\n",
    "    recommendation_en[id] = []\n",
    "recommendation_de = {}\n",
    "for id in query_de.id_query:\n",
    "    recommendation_de[id] = []\n",
    "recommendation_es = {}\n",
    "for id in query_es.id_query:\n",
    "    recommendation_es[id] = []\n",
    "recommendation_it = {}\n",
    "for id in query_it.id_query:\n",
    "    recommendation_it[id] = []\n",
    "recommendation_fr = {}\n",
    "for id in query_fr.id_query:\n",
    "    recommendation_fr[id] = []\n",
    "recommendation_pt = {}\n",
    "for id in query_pt.id_query:\n",
    "    recommendation_pt[id] = []\n",
    "recommendation_sw = {}\n",
    "for id in query_sw.id_query:\n",
    "    recommendation_sw[id] = []\n",
    "recommendation_ba = {}\n",
    "for id in query_ba.id_query:\n",
    "    recommendation_ba[id] = []\n",
    "recommendation_fi = {}\n",
    "for id in query_fi.id_query:\n",
    "    recommendation_fi[id] = []\n",
    "recommendation_hi = {}\n",
    "for id in query_hi.id_query:\n",
    "    recommendation_hi[id] = []\n",
    "recommendation_un = {}\n",
    "for id in query_un.id_query:\n",
    "    recommendation_un[id] = []"
   ]
  },
  {
   "cell_type": "markdown",
   "id": "6b236f43",
   "metadata": {},
   "source": [
    "## 3. Englisch"
   ]
  },
  {
   "cell_type": "markdown",
   "id": "556af77d",
   "metadata": {},
   "source": [
    "### 3.1 Preprocess text"
   ]
  },
  {
   "cell_type": "code",
   "execution_count": null,
   "id": "20e64407",
   "metadata": {},
   "outputs": [],
   "source": [
    "import numpy as np\n",
    "import pandas as pd\n",
    "import spacy\n",
    "import en_core_web_sm\n",
    "from src.data.preprocessing import preprocess_language\n",
    "nlp_en = en_core_web_sm.load()\n",
    "nlp_en.get_pipe(\"lemmatizer\")"
   ]
  },
  {
   "cell_type": "code",
   "execution_count": null,
   "id": "fc14556d",
   "metadata": {},
   "outputs": [],
   "source": [
    "cross_en = preprocess_language(query_en, document_en, nlp_en)"
   ]
  },
  {
   "cell_type": "code",
   "execution_count": null,
   "id": "4456d08e",
   "metadata": {},
   "outputs": [],
   "source": [
    "from src.models.rule_based import search_recommendation"
   ]
  },
  {
   "cell_type": "code",
   "execution_count": null,
   "id": "7f8f60f2",
   "metadata": {},
   "outputs": [],
   "source": [
    "search_recommendation(cross_en, recommendation_en)"
   ]
  },
  {
   "cell_type": "code",
   "execution_count": null,
   "id": "431a7e36",
   "metadata": {},
   "outputs": [],
   "source": [
    "index_en = []\n",
    "for key, values in recommendation_en.items():\n",
    "    for value in values:\n",
    "        index_en.append((key, value))"
   ]
  },
  {
   "cell_type": "code",
   "execution_count": null,
   "id": "4e6819b2",
   "metadata": {},
   "outputs": [],
   "source": [
    "cross_en.set_index([\"id_query\", \"id_document\"], inplace = True)"
   ]
  },
  {
   "cell_type": "code",
   "execution_count": null,
   "id": "f0e27238",
   "metadata": {
    "scrolled": true
   },
   "outputs": [],
   "source": [
    "cross_en.loc[index_en]"
   ]
  },
  {
   "cell_type": "markdown",
   "id": "33f9ee2f",
   "metadata": {},
   "source": [
    "## 4. Deutsch"
   ]
  },
  {
   "cell_type": "code",
   "execution_count": null,
   "id": "41505d8c",
   "metadata": {},
   "outputs": [],
   "source": [
    "import de_core_news_sm\n",
    "nlp_de = de_core_news_sm.load()\n",
    "nlp_de.get_pipe(\"lemmatizer\")"
   ]
  },
  {
   "cell_type": "code",
   "execution_count": null,
   "id": "9c2d4c0a",
   "metadata": {},
   "outputs": [],
   "source": [
    "cross_de = preprocess_language(query_de, document_de, nlp_de)"
   ]
  },
  {
   "cell_type": "code",
   "execution_count": null,
   "id": "c2400692",
   "metadata": {},
   "outputs": [],
   "source": [
    "search_recommendation(cross_de, recommendation_de)"
   ]
  },
  {
   "cell_type": "code",
   "execution_count": null,
   "id": "8492616a",
   "metadata": {},
   "outputs": [],
   "source": [
    "cross_de.set_index([\"id_query\", \"id_document\"], inplace = True)"
   ]
  },
  {
   "cell_type": "code",
   "execution_count": null,
   "id": "6e468a1f",
   "metadata": {},
   "outputs": [],
   "source": [
    "index_de = []\n",
    "for key, values in recommendation_de.items():\n",
    "    for value in values:\n",
    "        index_de.append((key, value))"
   ]
  },
  {
   "cell_type": "code",
   "execution_count": null,
   "id": "52c43d8c",
   "metadata": {
    "scrolled": false
   },
   "outputs": [],
   "source": [
    "cross_de.loc[index_de]"
   ]
  },
  {
   "cell_type": "markdown",
   "id": "e08edc5d",
   "metadata": {},
   "source": [
    "## 5. Spanisch"
   ]
  },
  {
   "cell_type": "code",
   "execution_count": null,
   "id": "3a987a83",
   "metadata": {},
   "outputs": [],
   "source": [
    "import es_core_news_sm\n",
    "nlp_es = es_core_news_sm.load()\n",
    "nlp_es.get_pipe(\"lemmatizer\")"
   ]
  },
  {
   "cell_type": "code",
   "execution_count": null,
   "id": "88282563",
   "metadata": {},
   "outputs": [],
   "source": [
    "cross_es = preprocess_language(query_es, document_es, nlp_es)"
   ]
  },
  {
   "cell_type": "code",
   "execution_count": null,
   "id": "86f90515",
   "metadata": {},
   "outputs": [],
   "source": [
    "search_recommendation(cross_es, recommendation_es)"
   ]
  },
  {
   "cell_type": "code",
   "execution_count": null,
   "id": "f24fd42f",
   "metadata": {},
   "outputs": [],
   "source": [
    "cross_es.set_index([\"id_query\", \"id_document\"], inplace = True)"
   ]
  },
  {
   "cell_type": "code",
   "execution_count": null,
   "id": "e0cda19c",
   "metadata": {},
   "outputs": [],
   "source": [
    "index_es = []\n",
    "for key, values in recommendation_es.items():\n",
    "    for value in values:\n",
    "        index_es.append((key, value))"
   ]
  },
  {
   "cell_type": "code",
   "execution_count": null,
   "id": "c6e42987",
   "metadata": {
    "scrolled": false
   },
   "outputs": [],
   "source": [
    "cross_es.loc[index_es]"
   ]
  },
  {
   "cell_type": "markdown",
   "id": "f88377ba",
   "metadata": {},
   "source": [
    "## 6. Italienisch"
   ]
  },
  {
   "cell_type": "code",
   "execution_count": null,
   "id": "380d8b8e",
   "metadata": {},
   "outputs": [],
   "source": [
    "import it_core_news_sm\n",
    "nlp_it = it_core_news_sm.load()\n",
    "nlp_it.get_pipe(\"lemmatizer\")"
   ]
  },
  {
   "cell_type": "code",
   "execution_count": null,
   "id": "685dd402",
   "metadata": {},
   "outputs": [],
   "source": [
    "cross_it = preprocess_language(query_it, document_it, nlp_it)"
   ]
  },
  {
   "cell_type": "code",
   "execution_count": null,
   "id": "dbcf016b",
   "metadata": {},
   "outputs": [],
   "source": [
    "search_recommendation(cross_it, recommendation_it)"
   ]
  },
  {
   "cell_type": "code",
   "execution_count": null,
   "id": "b73fffc0",
   "metadata": {},
   "outputs": [],
   "source": [
    "cross_it.set_index([\"id_query\", \"id_document\"], inplace = True)"
   ]
  },
  {
   "cell_type": "code",
   "execution_count": null,
   "id": "3597aa1e",
   "metadata": {},
   "outputs": [],
   "source": [
    "index_it = []\n",
    "for key, values in recommendation_it.items():\n",
    "    for value in values:\n",
    "        index_it.append((key, value))"
   ]
  },
  {
   "cell_type": "code",
   "execution_count": null,
   "id": "fba09d59",
   "metadata": {
    "scrolled": false
   },
   "outputs": [],
   "source": [
    "cross_it.loc[index_it]"
   ]
  },
  {
   "cell_type": "markdown",
   "id": "25dd9e4c",
   "metadata": {},
   "source": [
    "## 6. Franzöisch"
   ]
  },
  {
   "cell_type": "code",
   "execution_count": null,
   "id": "cb203d28",
   "metadata": {},
   "outputs": [],
   "source": [
    "import fr_core_news_sm\n",
    "nlp_fr = fr_core_news_sm.load()\n",
    "nlp_fr.get_pipe(\"lemmatizer\")"
   ]
  },
  {
   "cell_type": "code",
   "execution_count": null,
   "id": "054ca876",
   "metadata": {},
   "outputs": [],
   "source": [
    "cross_fr = preprocess_language(query_fr, document_fr, nlp_fr)"
   ]
  },
  {
   "cell_type": "code",
   "execution_count": null,
   "id": "4e4cbc3c",
   "metadata": {},
   "outputs": [],
   "source": [
    "search_recommendation(cross_fr, recommendation_fr)"
   ]
  },
  {
   "cell_type": "code",
   "execution_count": null,
   "id": "e6c8d973",
   "metadata": {},
   "outputs": [],
   "source": [
    "cross_fr.set_index([\"id_query\", \"id_document\"], inplace = True)"
   ]
  },
  {
   "cell_type": "code",
   "execution_count": null,
   "id": "c2323e82",
   "metadata": {},
   "outputs": [],
   "source": [
    "index_fr = []\n",
    "for key, values in recommendation_fr.items():\n",
    "    for value in values:\n",
    "        index_fr.append((key, value))"
   ]
  },
  {
   "cell_type": "code",
   "execution_count": null,
   "id": "2cfae04a",
   "metadata": {
    "scrolled": false
   },
   "outputs": [],
   "source": [
    "cross_fr.loc[index_fr]"
   ]
  },
  {
   "cell_type": "markdown",
   "id": "61ef561b",
   "metadata": {},
   "source": [
    "## 7. Portugiesisch"
   ]
  },
  {
   "cell_type": "code",
   "execution_count": null,
   "id": "439459fd",
   "metadata": {},
   "outputs": [],
   "source": [
    "import pt_core_news_sm\n",
    "nlp_pt = pt_core_news_sm.load()\n",
    "nlp_pt.get_pipe(\"lemmatizer\")"
   ]
  },
  {
   "cell_type": "code",
   "execution_count": null,
   "id": "01662f1c",
   "metadata": {},
   "outputs": [],
   "source": [
    "cross_pt = preprocess_language(query_pt, document_pt, nlp_pt)"
   ]
  },
  {
   "cell_type": "code",
   "execution_count": null,
   "id": "403823c5",
   "metadata": {},
   "outputs": [],
   "source": [
    "search_recommendation(cross_pt, recommendation_pt)"
   ]
  },
  {
   "cell_type": "code",
   "execution_count": null,
   "id": "c3e0d61c",
   "metadata": {},
   "outputs": [],
   "source": [
    "cross_pt.set_index([\"id_query\", \"id_document\"], inplace = True)"
   ]
  },
  {
   "cell_type": "code",
   "execution_count": null,
   "id": "6107c255",
   "metadata": {},
   "outputs": [],
   "source": [
    "index_pt = []\n",
    "for key, values in recommendation_pt.items():\n",
    "    for value in values:\n",
    "        index_pt.append((key, value))"
   ]
  },
  {
   "cell_type": "code",
   "execution_count": null,
   "id": "b3cff3ca",
   "metadata": {
    "scrolled": true
   },
   "outputs": [],
   "source": [
    "cross_pt.loc[index_pt]"
   ]
  },
  {
   "cell_type": "markdown",
   "id": "fd1f6fc1",
   "metadata": {},
   "source": [
    "## 8. Schwedisch"
   ]
  },
  {
   "cell_type": "code",
   "execution_count": null,
   "id": "706545fd",
   "metadata": {},
   "outputs": [],
   "source": [
    "import xx_ent_wiki_sm\n",
    "nlp_sw = xx_ent_wiki_sm.load()"
   ]
  },
  {
   "cell_type": "code",
   "execution_count": null,
   "id": "10c843b8",
   "metadata": {},
   "outputs": [],
   "source": [
    "cross_sw = preprocess_language(query_sw, document_sw, nlp_sw)"
   ]
  },
  {
   "cell_type": "code",
   "execution_count": null,
   "id": "9fcc4039",
   "metadata": {},
   "outputs": [],
   "source": [
    "search_recommendation(cross_sw, recommendation_sw)"
   ]
  },
  {
   "cell_type": "code",
   "execution_count": null,
   "id": "a783d2e6",
   "metadata": {},
   "outputs": [],
   "source": [
    "cross_sw.set_index([\"id_query\", \"id_document\"], inplace = True)"
   ]
  },
  {
   "cell_type": "code",
   "execution_count": null,
   "id": "0fceb60c",
   "metadata": {},
   "outputs": [],
   "source": [
    "index_sw = []\n",
    "for key, values in recommendation_sw.items():\n",
    "    for value in values:\n",
    "        index_sw.append((key, value))"
   ]
  },
  {
   "cell_type": "code",
   "execution_count": null,
   "id": "db5d3939",
   "metadata": {
    "scrolled": false
   },
   "outputs": [],
   "source": [
    "cross_sw.loc[index_sw]"
   ]
  },
  {
   "cell_type": "markdown",
   "id": "f3e655a0",
   "metadata": {},
   "source": [
    "## 9. Baltisch"
   ]
  },
  {
   "cell_type": "code",
   "execution_count": null,
   "id": "4af560cd",
   "metadata": {},
   "outputs": [],
   "source": [
    "import xx_ent_wiki_sm\n",
    "nlp_ba = xx_ent_wiki_sm.load()"
   ]
  },
  {
   "cell_type": "code",
   "execution_count": null,
   "id": "f6829373",
   "metadata": {},
   "outputs": [],
   "source": [
    "cross_ba = preprocess_language(query_ba, document_ba, nlp_ba)"
   ]
  },
  {
   "cell_type": "code",
   "execution_count": null,
   "id": "82caa419",
   "metadata": {},
   "outputs": [],
   "source": [
    "search_recommendation(cross_ba, recommendation_ba)"
   ]
  },
  {
   "cell_type": "code",
   "execution_count": null,
   "id": "e2a4afd3",
   "metadata": {},
   "outputs": [],
   "source": [
    "cross_ba.set_index([\"id_query\", \"id_document\"], inplace = True)"
   ]
  },
  {
   "cell_type": "code",
   "execution_count": null,
   "id": "2f272f0f",
   "metadata": {},
   "outputs": [],
   "source": [
    "index_ba = []\n",
    "for key, values in recommendation_ba.items():\n",
    "    for value in values:\n",
    "        index_ba.append((key, value))"
   ]
  },
  {
   "cell_type": "code",
   "execution_count": null,
   "id": "f45b49ec",
   "metadata": {
    "scrolled": false
   },
   "outputs": [],
   "source": [
    "cross_ba.loc[index_ba]"
   ]
  },
  {
   "cell_type": "markdown",
   "id": "40197437",
   "metadata": {},
   "source": [
    "## 10. Finnisch"
   ]
  },
  {
   "cell_type": "code",
   "execution_count": null,
   "id": "5de49ba0",
   "metadata": {},
   "outputs": [],
   "source": [
    "import xx_ent_wiki_sm\n",
    "nlp_fi = xx_ent_wiki_sm.load()"
   ]
  },
  {
   "cell_type": "code",
   "execution_count": null,
   "id": "541d676a",
   "metadata": {},
   "outputs": [],
   "source": [
    "cross_fi = preprocess_language(query_fi, document_fi, nlp_fi)"
   ]
  },
  {
   "cell_type": "code",
   "execution_count": null,
   "id": "28ecfcd0",
   "metadata": {},
   "outputs": [],
   "source": [
    "search_recommendation(cross_fi, recommendation_fi)"
   ]
  },
  {
   "cell_type": "code",
   "execution_count": null,
   "id": "a675add6",
   "metadata": {},
   "outputs": [],
   "source": [
    "cross_fi.set_index([\"id_query\", \"id_document\"], inplace = True)"
   ]
  },
  {
   "cell_type": "code",
   "execution_count": null,
   "id": "d2a6bbb8",
   "metadata": {},
   "outputs": [],
   "source": [
    "index_fi = []\n",
    "for key, values in recommendation_fi.items():\n",
    "    for value in values:\n",
    "        index_fi.append((key, value))"
   ]
  },
  {
   "cell_type": "code",
   "execution_count": null,
   "id": "4925a117",
   "metadata": {
    "scrolled": false
   },
   "outputs": [],
   "source": [
    "cross_fi.loc[index_fi]"
   ]
  },
  {
   "cell_type": "markdown",
   "id": "93877a8f",
   "metadata": {},
   "source": [
    "## 11. Hindi"
   ]
  },
  {
   "cell_type": "code",
   "execution_count": null,
   "id": "ec4c96f8",
   "metadata": {},
   "outputs": [],
   "source": [
    "import xx_ent_wiki_sm\n",
    "nlp_hi = xx_ent_wiki_sm.load()"
   ]
  },
  {
   "cell_type": "code",
   "execution_count": null,
   "id": "f2240548",
   "metadata": {},
   "outputs": [],
   "source": [
    "cross_hi = preprocess_language(query_hi, document_hi, nlp_hi)"
   ]
  },
  {
   "cell_type": "code",
   "execution_count": null,
   "id": "5284ad9d",
   "metadata": {},
   "outputs": [],
   "source": [
    "search_recommendation(cross_hi, recommendation_hi)"
   ]
  },
  {
   "cell_type": "code",
   "execution_count": null,
   "id": "eb06c404",
   "metadata": {},
   "outputs": [],
   "source": [
    "cross_hi.set_index([\"id_query\", \"id_document\"], inplace = True)"
   ]
  },
  {
   "cell_type": "code",
   "execution_count": null,
   "id": "14b7c4a5",
   "metadata": {},
   "outputs": [],
   "source": [
    "index_hi = []\n",
    "for key, values in recommendation_hi.items():\n",
    "    for value in values:\n",
    "        index_hi.append((key, value))"
   ]
  },
  {
   "cell_type": "code",
   "execution_count": null,
   "id": "8fe92255",
   "metadata": {
    "scrolled": false
   },
   "outputs": [],
   "source": [
    "cross_hi.loc[index_hi]"
   ]
  },
  {
   "cell_type": "markdown",
   "id": "2b110646",
   "metadata": {},
   "source": [
    "## 12. Ungarisch"
   ]
  },
  {
   "cell_type": "code",
   "execution_count": null,
   "id": "6df51c5f",
   "metadata": {},
   "outputs": [],
   "source": [
    "import xx_ent_wiki_sm\n",
    "nlp_un = xx_ent_wiki_sm.load()"
   ]
  },
  {
   "cell_type": "code",
   "execution_count": null,
   "id": "61bcb7d0",
   "metadata": {},
   "outputs": [],
   "source": [
    "cross_un = preprocess_language(query_un, document_un, nlp_un)"
   ]
  },
  {
   "cell_type": "code",
   "execution_count": null,
   "id": "98b6f4e6",
   "metadata": {},
   "outputs": [],
   "source": [
    "document_un"
   ]
  },
  {
   "cell_type": "code",
   "execution_count": null,
   "id": "e8365650",
   "metadata": {},
   "outputs": [],
   "source": [
    "search_recommendation(cross_un, recommendation_un)"
   ]
  },
  {
   "cell_type": "code",
   "execution_count": null,
   "id": "1263b7cb",
   "metadata": {},
   "outputs": [],
   "source": [
    "cross_un.set_index([\"id_query\", \"id_document\"], inplace = True)"
   ]
  },
  {
   "cell_type": "code",
   "execution_count": null,
   "id": "c5f3b1f4",
   "metadata": {},
   "outputs": [],
   "source": [
    "index_un = []\n",
    "for key, values in recommendation_un.items():\n",
    "    for value in values:\n",
    "        index_un.append((key, value))"
   ]
  },
  {
   "cell_type": "code",
   "execution_count": null,
   "id": "2e50bdf3",
   "metadata": {
    "scrolled": false
   },
   "outputs": [],
   "source": [
    "cross_un.loc[index_un]"
   ]
  },
  {
   "cell_type": "markdown",
   "id": "e67523f8",
   "metadata": {},
   "source": [
    "## 13. All together"
   ]
  },
  {
   "cell_type": "code",
   "execution_count": null,
   "id": "7b413541",
   "metadata": {},
   "outputs": [],
   "source": [
    "recommendation = {}\n",
    "recommendation.update(recommendation_en)\n",
    "recommendation.update(recommendation_de)\n",
    "recommendation.update(recommendation_es)\n",
    "recommendation.update(recommendation_it)\n",
    "recommendation.update(recommendation_fr)\n",
    "recommendation.update(recommendation_pt)\n",
    "recommendation.update(recommendation_sw)\n",
    "recommendation.update(recommendation_ba)\n",
    "recommendation.update(recommendation_fi)\n",
    "recommendation.update(recommendation_hi)\n",
    "recommendation.update(recommendation_un)"
   ]
  },
  {
   "cell_type": "code",
   "execution_count": null,
   "id": "9fcdc8ee",
   "metadata": {},
   "outputs": [],
   "source": [
    "cross = query.merge(document, how='cross')"
   ]
  },
  {
   "cell_type": "code",
   "execution_count": null,
   "id": "458f420d",
   "metadata": {},
   "outputs": [],
   "source": [
    "cross.set_index([\"id_query\", \"id_document\"], inplace = True)"
   ]
  },
  {
   "cell_type": "code",
   "execution_count": null,
   "id": "405d1f54",
   "metadata": {},
   "outputs": [],
   "source": [
    "index = []\n",
    "for key, values in recommendation.items():\n",
    "    for value in values:\n",
    "        index.append((key, value))"
   ]
  },
  {
   "cell_type": "code",
   "execution_count": null,
   "id": "de6f349f",
   "metadata": {},
   "outputs": [],
   "source": [
    "test = cross.loc[index]"
   ]
  },
  {
   "cell_type": "code",
   "execution_count": null,
   "id": "4294914a",
   "metadata": {},
   "outputs": [],
   "source": [
    "result = pd.DataFrame(recommendation).transpose().reset_index().rename({\"index\":\"book_id\",\n",
    "                                                               0:\"recommendation_1\",\n",
    "                                                               1:\"recommendation_2\",\n",
    "                                                               2:\"recommendation_3\",\n",
    "                                                               3:\"recommendation_4\",\n",
    "                                                               4:\"recommendation_5\"}, axis = 1)"
   ]
  },
  {
   "cell_type": "code",
   "execution_count": null,
   "id": "6ae0edd8",
   "metadata": {},
   "outputs": [],
   "source": [
    "result[\"team_id\"] = \"dataminerz\"\n",
    "result[\"model_id\"] = \"rule_based\""
   ]
  },
  {
   "cell_type": "code",
   "execution_count": null,
   "id": "0d32b144",
   "metadata": {},
   "outputs": [],
   "source": [
    "result.to_csv(\"../data/processed/rule_based_dataminerz.csv\")"
   ]
  }
 ],
 "metadata": {
  "kernelspec": {
   "display_name": "Python 3",
   "language": "python",
   "name": "python3"
  },
  "language_info": {
   "codemirror_mode": {
    "name": "ipython",
    "version": 3
   },
   "file_extension": ".py",
   "mimetype": "text/x-python",
   "name": "python",
   "nbconvert_exporter": "python",
   "pygments_lexer": "ipython3",
   "version": "3.8.8"
  }
 },
 "nbformat": 4,
 "nbformat_minor": 5
}
