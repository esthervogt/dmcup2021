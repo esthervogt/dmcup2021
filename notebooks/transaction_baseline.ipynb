{
 "cells": [
  {
   "cell_type": "markdown",
   "metadata": {},
   "source": [
    "# Demo of Transaction Baseline"
   ]
  },
  {
   "cell_type": "code",
   "execution_count": null,
   "metadata": {},
   "outputs": [],
   "source": [
    "import pandas as pd\n",
    "import sys\n",
    "from src.models.baseline_transaction import recommend_based_on_transactions\n",
    "\n",
    "\n",
    "df_transactions = pd.read_csv(r'../data/external/transactions.csv', sep = '|')\n",
    "df_items = pd.read_csv(r'../data/external/items.csv', sep = '|')\n",
    "df_transactions.head()"
   ]
  },
  {
   "cell_type": "markdown",
   "metadata": {},
   "source": [
    "## Example of Recommendations"
   ]
  },
  {
   "cell_type": "code",
   "execution_count": null,
   "metadata": {},
   "outputs": [],
   "source": [
    "# Choose Item ID\n",
    "given_item_id = 73018\n",
    "\n",
    "recommend_based_on_transactions(df_transactions, df_items, given_item_id, sort_by=\"sum\", \n",
    "                                max_number_recommendation=5, verbose=1)"
   ]
  },
  {
   "cell_type": "code",
   "execution_count": null,
   "metadata": {},
   "outputs": [],
   "source": [
    "# Choose Item ID\n",
    "given_item_id = 54876\n",
    "\n",
    "recommend_based_on_transactions(df_transactions, df_items, given_item_id, sort_by=\"sum\", \n",
    "                                max_number_recommendation=5, verbose=1)"
   ]
  },
  {
   "cell_type": "code",
   "execution_count": null,
   "metadata": {},
   "outputs": [],
   "source": [
    "# Choose Item ID\n",
    "given_item_id = 15581\n",
    "\n",
    "recommend_based_on_transactions(df_transactions, df_items, given_item_id, sort_by=\"sum\", \n",
    "                                max_number_recommendation=5, verbose=1)"
   ]
  },
  {
   "cell_type": "markdown",
   "metadata": {},
   "source": [
    "## Example of not enough data"
   ]
  },
  {
   "cell_type": "code",
   "execution_count": null,
   "metadata": {},
   "outputs": [],
   "source": [
    "# Choose Item ID\n",
    "given_item_id = 21310\n",
    "\n",
    "recommend_based_on_transactions(df_transactions, df_items, given_item_id, sort_by=\"sum\", \n",
    "                                max_number_recommendation=5, verbose=1)"
   ]
  },
  {
   "cell_type": "code",
   "execution_count": null,
   "metadata": {},
   "outputs": [],
   "source": [
    "recommend_based_on_transactions(df_transactions, df_items, given_item_id, sort_by=\"sum\", \n",
    "                                max_number_recommendation=5, verbose=1)"
   ]
  }
 ],
 "metadata": {
  "kernelspec": {
   "display_name": "Python 3",
   "language": "python",
   "name": "python3"
  },
  "language_info": {
   "codemirror_mode": {
    "name": "ipython",
    "version": 3
   },
   "file_extension": ".py",
   "mimetype": "text/x-python",
   "name": "python",
   "nbconvert_exporter": "python",
   "pygments_lexer": "ipython3",
   "version": "3.8.8"
  }
 },
 "nbformat": 4,
 "nbformat_minor": 4
}
