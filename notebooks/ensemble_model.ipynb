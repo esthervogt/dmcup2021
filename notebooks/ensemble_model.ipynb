{
 "cells": [
  {
   "cell_type": "code",
   "execution_count": null,
   "metadata": {},
   "outputs": [],
   "source": [
    "import pandas as pd\n",
    "import numpy as np\n",
    "from tqdm import tqdm\n",
    "tqdm.pandas()"
   ]
  },
  {
   "cell_type": "code",
   "execution_count": null,
   "metadata": {},
   "outputs": [],
   "source": [
    "decisions = pd.read_csv(\"../data/processed/decisions.csv\")\n",
    "books =  pd.read_csv(\"../data/processed/books.csv\", index_col = \"Unnamed: 0\")\n",
    "evaluation =  pd.read_csv(\"../data/external/evaluation.csv\")"
   ]
  },
  {
   "cell_type": "code",
   "execution_count": null,
   "metadata": {},
   "outputs": [],
   "source": [
    "decisions_melt = pd.melt(decisions, id_vars = [\"book_id\", \"team\", \"decision\", \"time\"], value_vars=['recommendation_shown_0',\n",
    "                                                                                   'recommendation_shown_1',\n",
    "                                                                                   'recommendation_shown_2'])"
   ]
  },
  {
   "cell_type": "code",
   "execution_count": null,
   "metadata": {},
   "outputs": [],
   "source": [
    "decisions_melt.replace({\"variable\":{\"recommendation_shown_0\": \"recommendation_0\",\n",
    "                                  \"recommendation_shown_1\": \"recommendation_1\",\n",
    "                                  \"recommendation_shown_2\": \"recommendation_2\"}}, inplace = True)"
   ]
  },
  {
   "cell_type": "code",
   "execution_count": null,
   "metadata": {},
   "outputs": [],
   "source": [
    "decisions_melt[\"chosen\"] = (decisions_melt[\"decision\"] == decisions_melt[\"variable\"]).astype(int)"
   ]
  },
  {
   "cell_type": "code",
   "execution_count": null,
   "metadata": {},
   "outputs": [],
   "source": [
    "decisions_grouped = decisions_melt.groupby([\"book_id\", \"value\"]).agg([('average','mean'),('chosen','sum')])\n",
    "decisions_grouped.reset_index(inplace= True)"
   ]
  },
  {
   "cell_type": "code",
   "execution_count": null,
   "metadata": {},
   "outputs": [],
   "source": [
    "decisions_grouped.columns = ['book_id', 'recommendation_id', 'average', 'chosen']"
   ]
  },
  {
   "cell_type": "code",
   "execution_count": null,
   "metadata": {},
   "outputs": [],
   "source": [
    "recommendation = {}\n",
    "for book_id in evaluation.itemID:\n",
    "    recommendation[book_id] = []"
   ]
  },
  {
   "cell_type": "code",
   "execution_count": null,
   "metadata": {},
   "outputs": [],
   "source": [
    "def update_recommendation(level, recommendation):\n",
    "    for i in tqdm(range(level.shape[0])):\n",
    "            book_id = level.book_id[i]\n",
    "            recommendation_id = level.recommendation_id[i]\n",
    "            if recommendation_id not in recommendation[book_id] and len(recommendation[book_id]) < 5:\n",
    "                recommendation[book_id].append(recommendation_id)"
   ]
  },
  {
   "cell_type": "code",
   "execution_count": null,
   "metadata": {},
   "outputs": [],
   "source": [
    "level_one = decisions_grouped[\n",
    "    np.logical_and(decisions_grouped.chosen > 1,\n",
    "                   decisions_grouped.average > 0.5)].sort_values([\"average\",\"chosen\"],\n",
    "                                                                 ascending = False).reset_index(drop = True)"
   ]
  },
  {
   "cell_type": "code",
   "execution_count": null,
   "metadata": {},
   "outputs": [],
   "source": [
    "update_recommendation(level_one, recommendation)"
   ]
  },
  {
   "cell_type": "code",
   "execution_count": null,
   "metadata": {},
   "outputs": [],
   "source": [
    "level_two = decisions_grouped[\n",
    "    np.logical_or(decisions_grouped.chosen == 1,\n",
    "                  decisions_grouped.average <= 0.5)].sort_values([\"average\",\"chosen\"],\n",
    "                                                                 ascending = False).reset_index(drop = True)"
   ]
  },
  {
   "cell_type": "code",
   "execution_count": null,
   "metadata": {},
   "outputs": [],
   "source": [
    "update_recommendation(level_two, recommendation)"
   ]
  },
  {
   "cell_type": "code",
   "execution_count": null,
   "metadata": {},
   "outputs": [],
   "source": [
    "result = pd.DataFrame(recommendation).transpose().reset_index().rename({\"index\":\"book_id\",\n",
    "                                                               0:\"recommendation_1\",\n",
    "                                                               1:\"recommendation_2\",\n",
    "                                                               2:\"recommendation_3\",\n",
    "                                                               3:\"recommendation_4\",\n",
    "                                                               4:\"recommendation_5\"}, axis = 1)"
   ]
  },
  {
   "cell_type": "code",
   "execution_count": null,
   "metadata": {},
   "outputs": [],
   "source": [
    "result_shifted = result.rename({\"recommendation_1\": \"recommendation_2\",\n",
    "                  \"recommendation_2\": \"recommendation_3\",\n",
    "                  \"recommendation_3\": \"recommendation_4\",\n",
    "                  \"recommendation_4\": \"recommendation_5\",\n",
    "                  \"recommendation_5\": \"recommendation_1\"}, axis = 1)"
   ]
  },
  {
   "cell_type": "code",
   "execution_count": null,
   "metadata": {},
   "outputs": [],
   "source": [
    "result[\"team_id\"] = \"dataminerz\"\n",
    "result[\"model_id\"] = \"ensemble_v2\"\n",
    "result_shifted[\"team_id\"] = \"dataminerz\"\n",
    "result_shifted[\"model_id\"] = \"ensemble_v2_shifted\""
   ]
  },
  {
   "cell_type": "code",
   "execution_count": null,
   "metadata": {},
   "outputs": [],
   "source": [
    "result.to_csv(\"../data/processed/ensemble_v2_dataminerz.csv\")\n",
    "result_shifted.to_csv(\"../data/processed/ensemble_v2_shifted_dataminerz.csv\")"
   ]
  }
 ],
 "metadata": {
  "kernelspec": {
   "display_name": "Python 3",
   "language": "python",
   "name": "python3"
  },
  "language_info": {
   "codemirror_mode": {
    "name": "ipython",
    "version": 3
   },
   "file_extension": ".py",
   "mimetype": "text/x-python",
   "name": "python",
   "nbconvert_exporter": "python",
   "pygments_lexer": "ipython3",
   "version": "3.8.8"
  }
 },
 "nbformat": 4,
 "nbformat_minor": 1
}
