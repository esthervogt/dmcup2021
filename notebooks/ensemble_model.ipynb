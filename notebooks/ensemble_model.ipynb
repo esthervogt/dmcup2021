{
 "cells": [
  {
   "cell_type": "code",
   "execution_count": 1,
   "metadata": {},
   "outputs": [],
   "source": [
    "import pandas as pd\n",
    "import numpy as np\n",
    "from tqdm import tqdm\n",
    "tqdm.pandas()"
   ]
  },
  {
   "cell_type": "code",
   "execution_count": 2,
   "metadata": {},
   "outputs": [],
   "source": [
    "decisions = pd.read_csv(\"../data/processed/decisions.csv\")\n",
    "books =  pd.read_csv(\"../data/processed/books.csv\", index_col = \"Unnamed: 0\")\n",
    "evaluation =  pd.read_csv(\"../data/external/evaluation.csv\")"
   ]
  },
  {
   "cell_type": "code",
   "execution_count": 3,
   "metadata": {},
   "outputs": [],
   "source": [
    "decisions_melt = pd.melt(decisions, id_vars = [\"book_id\", \"decision\", \"time\"], value_vars=['recommendation_shown_0',\n",
    "                                                                                   'recommendation_shown_1',\n",
    "                                                                                   'recommendation_shown_2'])"
   ]
  },
  {
   "cell_type": "code",
   "execution_count": 4,
   "metadata": {},
   "outputs": [],
   "source": [
    "decisions_melt.drop_duplicates([\"book_id\", \"decision\", \"time\", \"value\"],inplace = True)"
   ]
  },
  {
   "cell_type": "code",
   "execution_count": 5,
   "metadata": {},
   "outputs": [],
   "source": [
    "decisions_melt.replace({\"variable\":{\"recommendation_shown_0\": \"recommendation_0\",\n",
    "                                  \"recommendation_shown_1\": \"recommendation_1\",\n",
    "                                  \"recommendation_shown_2\": \"recommendation_2\"}}, inplace = True)"
   ]
  },
  {
   "cell_type": "code",
   "execution_count": 6,
   "metadata": {},
   "outputs": [],
   "source": [
    "decisions_melt[\"chosen\"] = (decisions_melt[\"decision\"] == decisions_melt[\"variable\"]).astype(int)"
   ]
  },
  {
   "cell_type": "code",
   "execution_count": 7,
   "metadata": {},
   "outputs": [
    {
     "data": {
      "text/html": [
       "<div>\n",
       "<style scoped>\n",
       "    .dataframe tbody tr th:only-of-type {\n",
       "        vertical-align: middle;\n",
       "    }\n",
       "\n",
       "    .dataframe tbody tr th {\n",
       "        vertical-align: top;\n",
       "    }\n",
       "\n",
       "    .dataframe thead th {\n",
       "        text-align: right;\n",
       "    }\n",
       "</style>\n",
       "<table border=\"1\" class=\"dataframe\">\n",
       "  <thead>\n",
       "    <tr style=\"text-align: right;\">\n",
       "      <th></th>\n",
       "      <th>book_id</th>\n",
       "      <th>decision</th>\n",
       "      <th>time</th>\n",
       "      <th>variable</th>\n",
       "      <th>value</th>\n",
       "      <th>chosen</th>\n",
       "    </tr>\n",
       "  </thead>\n",
       "  <tbody>\n",
       "    <tr>\n",
       "      <th>0</th>\n",
       "      <td>77554</td>\n",
       "      <td>recommendation_1</td>\n",
       "      <td>2021-06-11 11:24:00.379000+00:00</td>\n",
       "      <td>recommendation_0</td>\n",
       "      <td>39220</td>\n",
       "      <td>0</td>\n",
       "    </tr>\n",
       "    <tr>\n",
       "      <th>1</th>\n",
       "      <td>46634</td>\n",
       "      <td>recommendation_2</td>\n",
       "      <td>2021-06-23 10:45:29.685000+00:00</td>\n",
       "      <td>recommendation_0</td>\n",
       "      <td>4277</td>\n",
       "      <td>0</td>\n",
       "    </tr>\n",
       "    <tr>\n",
       "      <th>2</th>\n",
       "      <td>18756</td>\n",
       "      <td>recommendation_1</td>\n",
       "      <td>2021-06-23 07:54:56.901000+00:00</td>\n",
       "      <td>recommendation_0</td>\n",
       "      <td>35061</td>\n",
       "      <td>0</td>\n",
       "    </tr>\n",
       "    <tr>\n",
       "      <th>3</th>\n",
       "      <td>25488</td>\n",
       "      <td>recommendation_1</td>\n",
       "      <td>2021-06-12 13:04:27.267000+00:00</td>\n",
       "      <td>recommendation_0</td>\n",
       "      <td>9911</td>\n",
       "      <td>0</td>\n",
       "    </tr>\n",
       "    <tr>\n",
       "      <th>4</th>\n",
       "      <td>39627</td>\n",
       "      <td>recommendation_1</td>\n",
       "      <td>2021-06-16 07:27:36.338000+00:00</td>\n",
       "      <td>recommendation_0</td>\n",
       "      <td>19702</td>\n",
       "      <td>0</td>\n",
       "    </tr>\n",
       "  </tbody>\n",
       "</table>\n",
       "</div>"
      ],
      "text/plain": [
       "   book_id          decision                              time  \\\n",
       "0    77554  recommendation_1  2021-06-11 11:24:00.379000+00:00   \n",
       "1    46634  recommendation_2  2021-06-23 10:45:29.685000+00:00   \n",
       "2    18756  recommendation_1  2021-06-23 07:54:56.901000+00:00   \n",
       "3    25488  recommendation_1  2021-06-12 13:04:27.267000+00:00   \n",
       "4    39627  recommendation_1  2021-06-16 07:27:36.338000+00:00   \n",
       "\n",
       "           variable  value  chosen  \n",
       "0  recommendation_0  39220       0  \n",
       "1  recommendation_0   4277       0  \n",
       "2  recommendation_0  35061       0  \n",
       "3  recommendation_0   9911       0  \n",
       "4  recommendation_0  19702       0  "
      ]
     },
     "execution_count": 7,
     "metadata": {},
     "output_type": "execute_result"
    }
   ],
   "source": [
    "decisions_melt.head()"
   ]
  },
  {
   "cell_type": "code",
   "execution_count": 8,
   "metadata": {},
   "outputs": [],
   "source": [
    "decisions_grouped = decisions_melt.groupby([\"book_id\", \"value\"]).agg([('average','mean'),('chosen','sum')])\n",
    "decisions_grouped.reset_index(inplace= True)"
   ]
  },
  {
   "cell_type": "code",
   "execution_count": 9,
   "metadata": {},
   "outputs": [],
   "source": [
    "decisions_grouped.columns = ['book_id', 'recommendation_id', 'average', 'chosen']"
   ]
  },
  {
   "cell_type": "code",
   "execution_count": 10,
   "metadata": {},
   "outputs": [
    {
     "data": {
      "text/html": [
       "<div>\n",
       "<style scoped>\n",
       "    .dataframe tbody tr th:only-of-type {\n",
       "        vertical-align: middle;\n",
       "    }\n",
       "\n",
       "    .dataframe tbody tr th {\n",
       "        vertical-align: top;\n",
       "    }\n",
       "\n",
       "    .dataframe thead th {\n",
       "        text-align: right;\n",
       "    }\n",
       "</style>\n",
       "<table border=\"1\" class=\"dataframe\">\n",
       "  <thead>\n",
       "    <tr style=\"text-align: right;\">\n",
       "      <th></th>\n",
       "      <th>book_id</th>\n",
       "      <th>recommendation_id</th>\n",
       "      <th>average</th>\n",
       "      <th>chosen</th>\n",
       "    </tr>\n",
       "  </thead>\n",
       "  <tbody>\n",
       "    <tr>\n",
       "      <th>0</th>\n",
       "      <td>12</td>\n",
       "      <td>1500</td>\n",
       "      <td>0.00</td>\n",
       "      <td>0</td>\n",
       "    </tr>\n",
       "    <tr>\n",
       "      <th>1</th>\n",
       "      <td>12</td>\n",
       "      <td>6452</td>\n",
       "      <td>0.00</td>\n",
       "      <td>0</td>\n",
       "    </tr>\n",
       "    <tr>\n",
       "      <th>2</th>\n",
       "      <td>12</td>\n",
       "      <td>10698</td>\n",
       "      <td>0.00</td>\n",
       "      <td>0</td>\n",
       "    </tr>\n",
       "    <tr>\n",
       "      <th>3</th>\n",
       "      <td>12</td>\n",
       "      <td>15978</td>\n",
       "      <td>0.00</td>\n",
       "      <td>0</td>\n",
       "    </tr>\n",
       "    <tr>\n",
       "      <th>4</th>\n",
       "      <td>12</td>\n",
       "      <td>16316</td>\n",
       "      <td>0.75</td>\n",
       "      <td>3</td>\n",
       "    </tr>\n",
       "  </tbody>\n",
       "</table>\n",
       "</div>"
      ],
      "text/plain": [
       "   book_id  recommendation_id  average  chosen\n",
       "0       12               1500     0.00       0\n",
       "1       12               6452     0.00       0\n",
       "2       12              10698     0.00       0\n",
       "3       12              15978     0.00       0\n",
       "4       12              16316     0.75       3"
      ]
     },
     "execution_count": 10,
     "metadata": {},
     "output_type": "execute_result"
    }
   ],
   "source": [
    "decisions_grouped.head()"
   ]
  },
  {
   "cell_type": "code",
   "execution_count": 11,
   "metadata": {},
   "outputs": [],
   "source": [
    "recommendation = {}\n",
    "for book_id in evaluation.itemID:\n",
    "    recommendation[book_id] = []"
   ]
  },
  {
   "cell_type": "code",
   "execution_count": 12,
   "metadata": {},
   "outputs": [],
   "source": [
    "def update_recommendation(level, recommendation):\n",
    "    for i in tqdm(range(level.shape[0])):\n",
    "            book_id = level.book_id[i]\n",
    "            recommendation_id = level.recommendation_id[i]\n",
    "            if recommendation_id not in recommendation[book_id] and len(recommendation[book_id]) < 5:\n",
    "                recommendation[book_id].append(recommendation_id)"
   ]
  },
  {
   "cell_type": "code",
   "execution_count": 13,
   "metadata": {},
   "outputs": [],
   "source": [
    "level_one = decisions_grouped[\n",
    "    np.logical_and(decisions_grouped.chosen > 1,\n",
    "                   decisions_grouped.average > 0.5)].sort_values([\"average\",\"chosen\"],\n",
    "                                                                 ascending = False).reset_index(drop = True)"
   ]
  },
  {
   "cell_type": "code",
   "execution_count": 14,
   "metadata": {},
   "outputs": [
    {
     "data": {
      "text/html": [
       "<div>\n",
       "<style scoped>\n",
       "    .dataframe tbody tr th:only-of-type {\n",
       "        vertical-align: middle;\n",
       "    }\n",
       "\n",
       "    .dataframe tbody tr th {\n",
       "        vertical-align: top;\n",
       "    }\n",
       "\n",
       "    .dataframe thead th {\n",
       "        text-align: right;\n",
       "    }\n",
       "</style>\n",
       "<table border=\"1\" class=\"dataframe\">\n",
       "  <thead>\n",
       "    <tr style=\"text-align: right;\">\n",
       "      <th></th>\n",
       "      <th>book_id</th>\n",
       "      <th>recommendation_id</th>\n",
       "      <th>average</th>\n",
       "      <th>chosen</th>\n",
       "    </tr>\n",
       "  </thead>\n",
       "  <tbody>\n",
       "    <tr>\n",
       "      <th>0</th>\n",
       "      <td>59879</td>\n",
       "      <td>28285</td>\n",
       "      <td>1.0</td>\n",
       "      <td>9</td>\n",
       "    </tr>\n",
       "    <tr>\n",
       "      <th>1</th>\n",
       "      <td>70627</td>\n",
       "      <td>73314</td>\n",
       "      <td>1.0</td>\n",
       "      <td>8</td>\n",
       "    </tr>\n",
       "    <tr>\n",
       "      <th>2</th>\n",
       "      <td>12209</td>\n",
       "      <td>31533</td>\n",
       "      <td>1.0</td>\n",
       "      <td>7</td>\n",
       "    </tr>\n",
       "    <tr>\n",
       "      <th>3</th>\n",
       "      <td>30806</td>\n",
       "      <td>55964</td>\n",
       "      <td>1.0</td>\n",
       "      <td>7</td>\n",
       "    </tr>\n",
       "    <tr>\n",
       "      <th>4</th>\n",
       "      <td>38197</td>\n",
       "      <td>78067</td>\n",
       "      <td>1.0</td>\n",
       "      <td>7</td>\n",
       "    </tr>\n",
       "  </tbody>\n",
       "</table>\n",
       "</div>"
      ],
      "text/plain": [
       "   book_id  recommendation_id  average  chosen\n",
       "0    59879              28285      1.0       9\n",
       "1    70627              73314      1.0       8\n",
       "2    12209              31533      1.0       7\n",
       "3    30806              55964      1.0       7\n",
       "4    38197              78067      1.0       7"
      ]
     },
     "execution_count": 14,
     "metadata": {},
     "output_type": "execute_result"
    }
   ],
   "source": [
    "level_one.head()"
   ]
  },
  {
   "cell_type": "code",
   "execution_count": 15,
   "metadata": {},
   "outputs": [
    {
     "name": "stderr",
     "output_type": "stream",
     "text": [
      "100%|██████████| 2153/2153 [00:00<00:00, 50804.72it/s]\n"
     ]
    }
   ],
   "source": [
    "update_recommendation(level_one, recommendation)"
   ]
  },
  {
   "cell_type": "code",
   "execution_count": 16,
   "metadata": {},
   "outputs": [],
   "source": [
    "level_two = decisions_grouped[\n",
    "    np.logical_or(decisions_grouped.chosen == 1,\n",
    "                  decisions_grouped.average <= 0.5)].sort_values([\"average\",\"chosen\"],\n",
    "                                                                 ascending = False).reset_index(drop = True)"
   ]
  },
  {
   "cell_type": "code",
   "execution_count": 17,
   "metadata": {},
   "outputs": [
    {
     "name": "stderr",
     "output_type": "stream",
     "text": [
      "100%|██████████| 21946/21946 [00:00<00:00, 82576.43it/s]\n"
     ]
    }
   ],
   "source": [
    "update_recommendation(level_two, recommendation)"
   ]
  },
  {
   "cell_type": "code",
   "execution_count": 18,
   "metadata": {},
   "outputs": [],
   "source": [
    "result = pd.DataFrame(recommendation).transpose().reset_index().rename({\"index\":\"book_id\",\n",
    "                                                               0:\"recommendation_1\",\n",
    "                                                               1:\"recommendation_2\",\n",
    "                                                               2:\"recommendation_3\",\n",
    "                                                               3:\"recommendation_4\",\n",
    "                                                               4:\"recommendation_5\"}, axis = 1)"
   ]
  },
  {
   "cell_type": "code",
   "execution_count": 19,
   "metadata": {},
   "outputs": [],
   "source": [
    "result[\"team_id\"] = \"dataminerz\"\n",
    "result[\"model_id\"] = \"ensemble\""
   ]
  },
  {
   "cell_type": "code",
   "execution_count": 20,
   "metadata": {},
   "outputs": [],
   "source": [
    "result.to_csv(\"../data/processed/ensemble_dataminerz.csv\")"
   ]
  }
 ],
 "metadata": {
  "kernelspec": {
   "display_name": "Python 3",
   "language": "python",
   "name": "python3"
  },
  "language_info": {
   "codemirror_mode": {
    "name": "ipython",
    "version": 3
   },
   "file_extension": ".py",
   "mimetype": "text/x-python",
   "name": "python",
   "nbconvert_exporter": "python",
   "pygments_lexer": "ipython3",
   "version": "3.8.8"
  }
 },
 "nbformat": 4,
 "nbformat_minor": 1
}