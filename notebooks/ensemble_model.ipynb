{
 "cells": [
  {
   "cell_type": "code",
   "execution_count": 121,
   "metadata": {},
   "outputs": [],
   "source": [
    "import pandas as pd\n",
    "import numpy as np\n",
    "from tqdm import tqdm\n",
    "tqdm.pandas()"
   ]
  },
  {
   "cell_type": "code",
   "execution_count": 122,
   "metadata": {},
   "outputs": [],
   "source": [
    "decisions = pd.read_csv(\"../data/processed/decisions.csv\")\n",
    "books =  pd.read_csv(\"../data/processed/books.csv\", index_col = \"Unnamed: 0\")\n",
    "evaluation =  pd.read_csv(\"../data/external/evaluation.csv\")"
   ]
  },
  {
   "cell_type": "code",
   "execution_count": 123,
   "metadata": {},
   "outputs": [],
   "source": [
    "decisions_melt = pd.melt(decisions, id_vars = [\"book_id\", \"decision\"], value_vars=['recommendation_shown_0',\n",
    "                                                                                   'recommendation_shown_1',\n",
    "                                                                                   'recommendation_shown_2'])"
   ]
  },
  {
   "cell_type": "code",
   "execution_count": 124,
   "metadata": {},
   "outputs": [],
   "source": [
    "decisions_melt.replace({\"variable\":{\"recommendation_shown_0\": \"recommendation_0\",\n",
    "                                  \"recommendation_shown_1\": \"recommendation_1\",\n",
    "                                  \"recommendation_shown_2\": \"recommendation_2\"}}, inplace = True)"
   ]
  },
  {
   "cell_type": "code",
   "execution_count": 125,
   "metadata": {},
   "outputs": [],
   "source": [
    "decisions_melt[\"chosen\"] = (decisions_melt[\"decision\"] == decisions_melt[\"variable\"]).astype(int)"
   ]
  },
  {
   "cell_type": "code",
   "execution_count": 127,
   "metadata": {},
   "outputs": [],
   "source": [
    "decisions_grouped = decisions_melt.groupby([\"book_id\", \"value\"]).agg([('average','mean'),('chosen','sum')])\n",
    "decisions_grouped.reset_index(inplace= True)"
   ]
  },
  {
   "cell_type": "code",
   "execution_count": 128,
   "metadata": {},
   "outputs": [],
   "source": [
    "decisions_grouped.columns = ['book_id', 'recommendation_id', 'average', 'chosen']"
   ]
  },
  {
   "cell_type": "code",
   "execution_count": 131,
   "metadata": {},
   "outputs": [],
   "source": [
    "recommendation = {}\n",
    "for book_id in evaluation.itemID:\n",
    "    recommendation[book_id] = []"
   ]
  },
  {
   "cell_type": "code",
   "execution_count": 132,
   "metadata": {},
   "outputs": [],
   "source": [
    "def update_recommendation(level, recommendation):\n",
    "    for i in tqdm(range(level.shape[0])):\n",
    "            book_id = level.book_id[i]\n",
    "            recommendation_id = level.recommendation_id[i]\n",
    "            if recommendation_id not in recommendation[book_id] and len(recommendation[book_id]) < 5:\n",
    "                recommendation[book_id].append(recommendation_id)"
   ]
  },
  {
   "cell_type": "code",
   "execution_count": 133,
   "metadata": {},
   "outputs": [],
   "source": [
    "level_one = decisions_grouped[\n",
    "    np.logical_and(decisions_grouped.chosen > 1,\n",
    "                   decisions_grouped.average > 0.5)].sort_values([\"average\",\"chosen\"],\n",
    "                                                                 ascending = False).reset_index(drop = True)"
   ]
  },
  {
   "cell_type": "code",
   "execution_count": 134,
   "metadata": {},
   "outputs": [
    {
     "name": "stderr",
     "output_type": "stream",
     "text": [
      "100%|██████████| 1659/1659 [00:00<00:00, 36142.96it/s]\n"
     ]
    }
   ],
   "source": [
    "update_recommendation(level_one, recommendation)"
   ]
  },
  {
   "cell_type": "code",
   "execution_count": 135,
   "metadata": {},
   "outputs": [],
   "source": [
    "level_two = decisions_grouped[\n",
    "    np.logical_or(decisions_grouped.chosen == 1,\n",
    "                  decisions_grouped.average <= 0.5)].sort_values([\"average\",\"chosen\"],\n",
    "                                                                 ascending = False).reset_index(drop = True)"
   ]
  },
  {
   "cell_type": "code",
   "execution_count": 136,
   "metadata": {},
   "outputs": [
    {
     "name": "stderr",
     "output_type": "stream",
     "text": [
      "100%|██████████| 17086/17086 [00:00<00:00, 78547.98it/s]\n"
     ]
    }
   ],
   "source": [
    "update_recommendation(level_two, recommendation)"
   ]
  },
  {
   "cell_type": "code",
   "execution_count": 137,
   "metadata": {},
   "outputs": [],
   "source": [
    "result = pd.DataFrame(recommendation).transpose().reset_index().rename({\"index\":\"book_id\",\n",
    "                                                               0:\"recommendation_1\",\n",
    "                                                               1:\"recommendation_2\",\n",
    "                                                               2:\"recommendation_3\",\n",
    "                                                               3:\"recommendation_4\",\n",
    "                                                               4:\"recommendation_5\"}, axis = 1)"
   ]
  },
  {
   "cell_type": "code",
   "execution_count": 138,
   "metadata": {},
   "outputs": [],
   "source": [
    "result[\"team_id\"] = \"dataminerz\"\n",
    "result[\"model_id\"] = \"ensemble\""
   ]
  },
  {
   "cell_type": "code",
   "execution_count": 139,
   "metadata": {},
   "outputs": [],
   "source": [
    "result.to_csv(\"../data/processed/ensemble_dataminerz.csv\")"
   ]
  }
 ],
 "metadata": {
  "kernelspec": {
   "display_name": "Python 3",
   "language": "python",
   "name": "python3"
  },
  "language_info": {
   "codemirror_mode": {
    "name": "ipython",
    "version": 3
   },
   "file_extension": ".py",
   "mimetype": "text/x-python",
   "name": "python",
   "nbconvert_exporter": "python",
   "pygments_lexer": "ipython3",
   "version": "3.8.8"
  }
 },
 "nbformat": 4,
 "nbformat_minor": 1
}