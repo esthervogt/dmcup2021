{
 "cells": [
  {
   "cell_type": "markdown",
   "metadata": {
    "collapsed": true
   },
   "source": [
    "# Code to work with the website"
   ]
  },
  {
   "cell_type": "markdown",
   "metadata": {},
   "source": [
    "This notebook showcases all processed with the website that Python can do. You need a Firebase Admin key to work with the Firestore database."
   ]
  },
  {
   "cell_type": "markdown",
   "metadata": {},
   "source": [
    "## Create array for the website of evaluation books"
   ]
  },
  {
   "cell_type": "code",
   "execution_count": null,
   "metadata": {},
   "outputs": [],
   "source": [
    "import pandas as pd"
   ]
  },
  {
   "cell_type": "code",
   "execution_count": null,
   "metadata": {},
   "outputs": [],
   "source": [
    "evaluation_books = pd.read_csv(\"../data/external/evaluation.csv\")"
   ]
  },
  {
   "cell_type": "code",
   "execution_count": null,
   "metadata": {},
   "outputs": [],
   "source": [
    "textfile = open(\"../data/interim/evaluation.txt\", \"w\")\n",
    "for element in evaluation_books.itemID.tolist():\n",
    "    textfile.write(str(element) + \",\")\n",
    "textfile.close()"
   ]
  },
  {
   "cell_type": "markdown",
   "metadata": {},
   "source": [
    "## Download Decision data"
   ]
  },
  {
   "cell_type": "code",
   "execution_count": null,
   "metadata": {},
   "outputs": [],
   "source": [
    "import pandas as pd\n",
    "from src.data.firestore import connect_to_firestore, retrieve_documents_from_collection"
   ]
  },
  {
   "cell_type": "code",
   "execution_count": null,
   "metadata": {},
   "outputs": [],
   "source": [
    "firestore_client = connect_to_firestore(credentials=\"../secrets/dmc-book-recommendation-firebase-adminsdk-yebqi-d805561028.json\",\n",
    "                         database_url=\"https://book-recommendation-website.firebaseio.com/\")"
   ]
  },
  {
   "cell_type": "code",
   "execution_count": null,
   "metadata": {},
   "outputs": [],
   "source": [
    "decisions_dict = retrieve_documents_from_collection(firestore_client, collection=\"decisions\")"
   ]
  },
  {
   "cell_type": "code",
   "execution_count": null,
   "metadata": {},
   "outputs": [],
   "source": [
    "decisions = pd.DataFrame(decisions_dict)"
   ]
  },
  {
   "cell_type": "code",
   "execution_count": null,
   "metadata": {},
   "outputs": [],
   "source": [
    "decisions.to_csv(\"../data/processed/decisions.csv\", index = False)"
   ]
  },
  {
   "cell_type": "markdown",
   "metadata": {},
   "source": [
    "## Upload book information to the website"
   ]
  },
  {
   "cell_type": "code",
   "execution_count": null,
   "metadata": {},
   "outputs": [],
   "source": [
    "import pandas as pd\n",
    "from src.data.firestore import connect_to_firestore, write_documents_to_collection"
   ]
  },
  {
   "cell_type": "code",
   "execution_count": null,
   "metadata": {},
   "outputs": [],
   "source": [
    "books_path = \"../data/processed/books.csv\"\n",
    "books_reduced_path = \"../data/processed/books_reduced.csv\""
   ]
  },
  {
   "cell_type": "code",
   "execution_count": null,
   "metadata": {},
   "outputs": [],
   "source": [
    "books = pd.read_csv(books_path,index_col = 0)\n",
    "books_reduced_index = pd.read_csv(books_reduced_path,index_col = 0)"
   ]
  },
  {
   "cell_type": "code",
   "execution_count": null,
   "metadata": {},
   "outputs": [],
   "source": [
    "books.set_index(\"itemID\", inplace = True)"
   ]
  },
  {
   "cell_type": "code",
   "execution_count": null,
   "metadata": {},
   "outputs": [],
   "source": [
    "books_reduced = books.filter(books_reduced_index.book_id.tolist(), axis = 0)"
   ]
  },
  {
   "cell_type": "code",
   "execution_count": null,
   "metadata": {},
   "outputs": [],
   "source": [
    "books_reduced.reset_index(inplace = True)"
   ]
  },
  {
   "cell_type": "code",
   "execution_count": null,
   "metadata": {},
   "outputs": [],
   "source": [
    "books_reduced"
   ]
  },
  {
   "cell_type": "code",
   "execution_count": null,
   "metadata": {},
   "outputs": [],
   "source": [
    "firestore_client = connect_to_firestore(credentials=\"../secrets/dmc-book-recommendation-firebase-adminsdk-yebqi-d805561028.json\",\n",
    "                         database_url=\"https://book-recommendation-website.firebaseio.com/\")"
   ]
  },
  {
   "cell_type": "markdown",
   "metadata": {},
   "source": [
    "Since we have a free tier on firebase we need to upload multiple days. In moment we have the first 10.000 online."
   ]
  },
  {
   "cell_type": "code",
   "execution_count": null,
   "metadata": {},
   "outputs": [],
   "source": [
    "write_documents_to_collection(firestore_client, books_reduced, collection=\"books\")"
   ]
  },
  {
   "cell_type": "markdown",
   "metadata": {},
   "source": [
    "## Upload a new model to the website"
   ]
  },
  {
   "cell_type": "markdown",
   "metadata": {},
   "source": [
    "If a team sends us a new model, we can upload it to the website with a simple function. Before we upload the recommendations, we have to create document in the model_scores collection for the new model. This requires to use the firebase backend."
   ]
  },
  {
   "cell_type": "code",
   "execution_count": null,
   "metadata": {},
   "outputs": [],
   "source": [
    "import pandas as pd\n",
    "from src.data.firestore import connect_to_firestore, write_documents_to_collection"
   ]
  },
  {
   "cell_type": "markdown",
   "metadata": {},
   "source": [
    "Code for Team DataMinerz"
   ]
  },
  {
   "cell_type": "code",
   "execution_count": null,
   "metadata": {},
   "outputs": [],
   "source": [
    "DataMinerz_path = \"../data/processed/rule_based_v2_dataminerz.csv\""
   ]
  },
  {
   "cell_type": "code",
   "execution_count": null,
   "metadata": {},
   "outputs": [],
   "source": [
    "DataMinerz_recommendations = pd.read_csv(DataMinerz_path,index_col = 0)"
   ]
  },
  {
   "cell_type": "code",
   "execution_count": null,
   "metadata": {},
   "outputs": [],
   "source": [
    "DataMinerz_recommendations"
   ]
  },
  {
   "cell_type": "code",
   "execution_count": null,
   "metadata": {},
   "outputs": [],
   "source": [
    "firestore_client = connect_to_firestore(credentials=\"../secrets/dmc-book-recommendation-firebase-adminsdk-yebqi-d805561028.json\",\n",
    "                         database_url=\"https://book-recommendation-website.firebaseio.com/\")"
   ]
  },
  {
   "cell_type": "code",
   "execution_count": null,
   "metadata": {},
   "outputs": [],
   "source": [
    "write_documents_to_collection(firestore_client, DataMinerz_recommendations, collection=\"recommendations\")"
   ]
  },
  {
   "cell_type": "markdown",
   "metadata": {},
   "source": [
    "Code for Team MannheimMiners"
   ]
  },
  {
   "cell_type": "code",
   "execution_count": null,
   "metadata": {},
   "outputs": [],
   "source": [
    "mannheimminers_path = \"../data/processed/MannheimMinersModel3.csv\""
   ]
  },
  {
   "cell_type": "code",
   "execution_count": null,
   "metadata": {},
   "outputs": [],
   "source": [
    "mannheimminers_recommendations = pd.read_csv(mannheimminers_path,index_col = 0)"
   ]
  },
  {
   "cell_type": "code",
   "execution_count": null,
   "metadata": {},
   "outputs": [],
   "source": [
    "mannheimminers_recommendations.reset_index(inplace = True)"
   ]
  },
  {
   "cell_type": "code",
   "execution_count": null,
   "metadata": {},
   "outputs": [],
   "source": [
    "mannheimminers_recommendations.dropna(inplace=True)"
   ]
  },
  {
   "cell_type": "code",
   "execution_count": null,
   "metadata": {},
   "outputs": [],
   "source": [
    "mannheimminers_processed = mannheimminers_recommendations.astype({\"book_id\": int, \"model_id\": str,\n",
    "                                                                        \"team_id\": str, \"recommendation_1\":int,\n",
    "                                                                        \"recommendation_2\":int,\n",
    "                                                                        \"recommendation_3\":int, \n",
    "                                                                        \"recommendation_4\":int,\n",
    "                                                                        \"recommendation_5\":int})"
   ]
  },
  {
   "cell_type": "code",
   "execution_count": null,
   "metadata": {},
   "outputs": [],
   "source": [
    "mannheimminers_processed.replace({\"model_id\":{\"3\":\"third\"}}, inplace = True)"
   ]
  },
  {
   "cell_type": "code",
   "execution_count": null,
   "metadata": {},
   "outputs": [],
   "source": [
    "mannheimminers_processed"
   ]
  },
  {
   "cell_type": "code",
   "execution_count": null,
   "metadata": {},
   "outputs": [],
   "source": [
    "firestore_client = connect_to_firestore(credentials=\"../secrets/dmc-book-recommendation-firebase-adminsdk-yebqi-d805561028.json\",\n",
    "                         database_url=\"https://book-recommendation-website.firebaseio.com/\")"
   ]
  },
  {
   "cell_type": "code",
   "execution_count": null,
   "metadata": {},
   "outputs": [],
   "source": [
    "write_documents_to_collection(firestore_client, mannheimminers_processed, collection=\"recommendations\")"
   ]
  },
  {
   "cell_type": "markdown",
   "metadata": {},
   "source": [
    "Code for Team team404"
   ]
  },
  {
   "cell_type": "code",
   "execution_count": null,
   "metadata": {},
   "outputs": [],
   "source": [
    "team404_path = \"../data/processed/team404_2.xlsx\""
   ]
  },
  {
   "cell_type": "code",
   "execution_count": null,
   "metadata": {},
   "outputs": [],
   "source": [
    "team404_recommendations = pd.read_excel(team404_path,index_col = 0)"
   ]
  },
  {
   "cell_type": "code",
   "execution_count": null,
   "metadata": {},
   "outputs": [],
   "source": [
    "team404_recommendations.dropna(inplace=True)"
   ]
  },
  {
   "cell_type": "code",
   "execution_count": null,
   "metadata": {},
   "outputs": [],
   "source": [
    "team404_recommendations.reset_index(inplace = True)"
   ]
  },
  {
   "cell_type": "code",
   "execution_count": null,
   "metadata": {},
   "outputs": [],
   "source": [
    "team404_processed = team404_recommendations.astype({\"book_id\": int, \"model_id\": str,\n",
    "                                                                        \"team_id\": str, \"recommendation_1\":int,\n",
    "                                                                        \"recommendation_2\":int,\n",
    "                                                                        \"recommendation_3\":int, \n",
    "                                                                        \"recommendation_4\":int,\n",
    "                                                                        \"recommendation_5\":int})"
   ]
  },
  {
   "cell_type": "code",
   "execution_count": null,
   "metadata": {},
   "outputs": [],
   "source": [
    "team404_processed"
   ]
  },
  {
   "cell_type": "code",
   "execution_count": null,
   "metadata": {},
   "outputs": [],
   "source": [
    "firestore_client = connect_to_firestore(credentials=\"../secrets/dmc-book-recommendation-firebase-adminsdk-yebqi-d805561028.json\",\n",
    "                         database_url=\"https://book-recommendation-website.firebaseio.com/\")"
   ]
  },
  {
   "cell_type": "code",
   "execution_count": null,
   "metadata": {},
   "outputs": [],
   "source": [
    "write_documents_to_collection(firestore_client, team404_processed, collection=\"recommendations\")"
   ]
  },
  {
   "cell_type": "markdown",
   "metadata": {},
   "source": [
    "Code for Team minefromhome"
   ]
  },
  {
   "cell_type": "code",
   "execution_count": null,
   "metadata": {},
   "outputs": [],
   "source": [
    "minefromhome_path = \"../data/processed/Team_05.csv\""
   ]
  },
  {
   "cell_type": "code",
   "execution_count": null,
   "metadata": {},
   "outputs": [],
   "source": [
    "minefromhome_recommendations = pd.read_csv(minefromhome_path,index_col = 0, names = [\"book_id\",\n",
    "                                                                                     \"model_id\",\n",
    "                                                                                     \"team_id\",\n",
    "                                                                                     \"recommendation_1\",\n",
    "                                                                                     \"recommendation_2\",\n",
    "                                                                                     \"recommendation_3\",\n",
    "                                                                                     \"recommendation_4\",\n",
    "                                                                                     \"recommendation_5\"])"
   ]
  },
  {
   "cell_type": "code",
   "execution_count": null,
   "metadata": {},
   "outputs": [],
   "source": [
    "minefromhome_recommendations.dropna(inplace=True)"
   ]
  },
  {
   "cell_type": "code",
   "execution_count": null,
   "metadata": {},
   "outputs": [],
   "source": [
    "minefromhome_recommendations.reset_index(inplace = True)"
   ]
  },
  {
   "cell_type": "code",
   "execution_count": null,
   "metadata": {},
   "outputs": [],
   "source": [
    "minefromhome_processed = minefromhome_recommendations.astype({\"book_id\": int, \"model_id\": str,\n",
    "                                                                        \"team_id\": str, \"recommendation_1\":int,\n",
    "                                                                        \"recommendation_2\":int,\n",
    "                                                                        \"recommendation_3\":int, \n",
    "                                                                        \"recommendation_4\":int,\n",
    "                                                                        \"recommendation_5\":int})"
   ]
  },
  {
   "cell_type": "code",
   "execution_count": null,
   "metadata": {},
   "outputs": [],
   "source": [
    "minefromhome_processed"
   ]
  },
  {
   "cell_type": "code",
   "execution_count": null,
   "metadata": {},
   "outputs": [],
   "source": [
    "firestore_client = connect_to_firestore(credentials=\"../secrets/dmc-book-recommendation-firebase-adminsdk-yebqi-d805561028.json\",\n",
    "                         database_url=\"https://book-recommendation-website.firebaseio.com/\")"
   ]
  },
  {
   "cell_type": "code",
   "execution_count": null,
   "metadata": {},
   "outputs": [],
   "source": [
    "write_documents_to_collection(firestore_client, minefromhome_processed, collection=\"recommendations\")"
   ]
  },
  {
   "cell_type": "markdown",
   "metadata": {},
   "source": [
    "Code for Team flying_chicken_wings"
   ]
  },
  {
   "cell_type": "code",
   "execution_count": null,
   "metadata": {},
   "outputs": [],
   "source": [
    "flying_chicken_wings_path = \"../data/processed/Team6_result_2ndModel.xlsx\""
   ]
  },
  {
   "cell_type": "code",
   "execution_count": null,
   "metadata": {},
   "outputs": [],
   "source": [
    "flying_chicken_wings_recommendations = pd.read_excel(flying_chicken_wings_path)"
   ]
  },
  {
   "cell_type": "code",
   "execution_count": null,
   "metadata": {},
   "outputs": [],
   "source": [
    "flying_chicken_wings_recommendations.dropna(inplace=True)"
   ]
  },
  {
   "cell_type": "code",
   "execution_count": null,
   "metadata": {},
   "outputs": [],
   "source": [
    "flying_chicken_wings_processed = flying_chicken_wings_recommendations.astype({\"book_id\": int, \"model_id\": str,\n",
    "                                                                        \"team_id\": str, \"recommendation_1\":int,\n",
    "                                                                        \"recommendation_2\":int,\n",
    "                                                                        \"recommendation_3\":int, \n",
    "                                                                        \"recommendation_4\":int,\n",
    "                                                                        \"recommendation_5\":int})"
   ]
  },
  {
   "cell_type": "code",
   "execution_count": null,
   "metadata": {},
   "outputs": [],
   "source": [
    "flying_chicken_wings_processed"
   ]
  },
  {
   "cell_type": "code",
   "execution_count": null,
   "metadata": {},
   "outputs": [],
   "source": [
    "firestore_client = connect_to_firestore(credentials=\"../secrets/dmc-book-recommendation-firebase-adminsdk-yebqi-d805561028.json\",\n",
    "                         database_url=\"https://book-recommendation-website.firebaseio.com/\")"
   ]
  },
  {
   "cell_type": "code",
   "execution_count": null,
   "metadata": {},
   "outputs": [],
   "source": [
    "write_documents_to_collection(firestore_client, flying_chicken_wings_processed, collection=\"recommendations\")"
   ]
  },
  {
   "cell_type": "markdown",
   "metadata": {},
   "source": [
    "Code for d2g2"
   ]
  },
  {
   "cell_type": "code",
   "execution_count": null,
   "metadata": {},
   "outputs": [],
   "source": [
    "d2g2_path = \"../data/processed/d2g2_results_2.xlsx\""
   ]
  },
  {
   "cell_type": "code",
   "execution_count": null,
   "metadata": {},
   "outputs": [],
   "source": [
    "d2g2_recommendations = pd.read_excel(d2g2_path)"
   ]
  },
  {
   "cell_type": "code",
   "execution_count": null,
   "metadata": {},
   "outputs": [],
   "source": [
    "d2g2_recommendations"
   ]
  },
  {
   "cell_type": "code",
   "execution_count": null,
   "metadata": {},
   "outputs": [],
   "source": [
    "d2g2_recommendations.dropna(inplace=True)"
   ]
  },
  {
   "cell_type": "code",
   "execution_count": null,
   "metadata": {},
   "outputs": [],
   "source": [
    "d2g2_processed = d2g2_recommendations.astype({\"book_id\": int, \"model_id\": str,\n",
    "                                                                        \"team_id\": str, \"recommendation_1\":int,\n",
    "                                                                        \"recommendation_2\":int,\n",
    "                                                                        \"recommendation_3\":int, \n",
    "                                                                        \"recommendation_4\":int,\n",
    "                                                                        \"recommendation_5\":int})"
   ]
  },
  {
   "cell_type": "code",
   "execution_count": null,
   "metadata": {},
   "outputs": [],
   "source": [
    "d2g2_processed[\"team_id\"] = \"d2g2\""
   ]
  },
  {
   "cell_type": "code",
   "execution_count": null,
   "metadata": {},
   "outputs": [],
   "source": [
    "d2g2_processed"
   ]
  },
  {
   "cell_type": "code",
   "execution_count": null,
   "metadata": {},
   "outputs": [],
   "source": [
    "firestore_client = connect_to_firestore(credentials=\"../secrets/dmc-book-recommendation-firebase-adminsdk-yebqi-d805561028.json\",\n",
    "                         database_url=\"https://book-recommendation-website.firebaseio.com/\")"
   ]
  },
  {
   "cell_type": "code",
   "execution_count": null,
   "metadata": {},
   "outputs": [],
   "source": [
    "write_documents_to_collection(firestore_client, d2g2_processed, collection=\"recommendations\")"
   ]
  },
  {
   "cell_type": "markdown",
   "metadata": {},
   "source": [
    "Code for dataworms"
   ]
  },
  {
   "cell_type": "code",
   "execution_count": null,
   "metadata": {},
   "outputs": [],
   "source": [
    "Dataworms_path = \"../data/processed/final_result_Dataworms.csv\""
   ]
  },
  {
   "cell_type": "code",
   "execution_count": null,
   "metadata": {},
   "outputs": [],
   "source": [
    "Dataworms_recommendations = pd.read_csv(Dataworms_path, \n",
    "                                   dtype={'recommendation_1': str, 'recommendation_2': str,\n",
    "                                          'recommendation_3': str, 'recommendation_4': str, \n",
    "                                          'recommendation_5': str})"
   ]
  },
  {
   "cell_type": "code",
   "execution_count": null,
   "metadata": {},
   "outputs": [],
   "source": [
    "Dataworms_recommendations"
   ]
  },
  {
   "cell_type": "code",
   "execution_count": null,
   "metadata": {},
   "outputs": [],
   "source": [
    "Dataworms_recommendations.dropna(inplace=True)"
   ]
  },
  {
   "cell_type": "code",
   "execution_count": null,
   "metadata": {},
   "outputs": [],
   "source": [
    "Dataworms_processed = Dataworms_recommendations.astype({\"book_id\": int, \"model_id\": str,\n",
    "                                                                        \"team_id\": str, \"recommendation_1\":int,\n",
    "                                                                        \"recommendation_2\":int,\n",
    "                                                                        \"recommendation_3\":int, \n",
    "                                                                        \"recommendation_4\":int,\n",
    "                                                                        \"recommendation_5\":int})"
   ]
  },
  {
   "cell_type": "code",
   "execution_count": null,
   "metadata": {},
   "outputs": [],
   "source": [
    "Dataworms_processed"
   ]
  },
  {
   "cell_type": "code",
   "execution_count": null,
   "metadata": {},
   "outputs": [],
   "source": [
    "firestore_client = connect_to_firestore(credentials=\"../secrets/dmc-book-recommendation-firebase-adminsdk-yebqi-d805561028.json\",\n",
    "                         database_url=\"https://book-recommendation-website.firebaseio.com/\")"
   ]
  },
  {
   "cell_type": "code",
   "execution_count": null,
   "metadata": {},
   "outputs": [],
   "source": [
    "write_documents_to_collection(firestore_client, Dataworms_processed, collection=\"recommendations\")"
   ]
  },
  {
   "cell_type": "markdown",
   "metadata": {},
   "source": [
    "## Update book information to the website"
   ]
  },
  {
   "cell_type": "code",
   "execution_count": null,
   "metadata": {},
   "outputs": [],
   "source": [
    "import pandas as pd\n",
    "import pickle\n",
    "from src.data.firestore import connect_to_firestore, write_documents_to_collection"
   ]
  },
  {
   "cell_type": "code",
   "execution_count": null,
   "metadata": {},
   "outputs": [],
   "source": [
    "books_path = \"../data/processed/books.csv\"\n",
    "books_reduced_path = \"../data/processed/books_reduced.pkl\""
   ]
  },
  {
   "cell_type": "code",
   "execution_count": null,
   "metadata": {},
   "outputs": [],
   "source": [
    "books = pd.read_csv(books_path,index_col = 0)\n",
    "books_reduced_index = pd.read_pickle(books_reduced_path)"
   ]
  },
  {
   "cell_type": "code",
   "execution_count": null,
   "metadata": {},
   "outputs": [],
   "source": [
    "books_added_index = set(pd.melt(DataMinerz_recommendations, value_vars=['recommendation_1',\n",
    "                                       'recommendation_2',\n",
    "                                       'recommendation_3',\n",
    "                                       'recommendation_4',\n",
    "                                       'recommendation_5']).value.tolist())"
   ]
  },
  {
   "cell_type": "code",
   "execution_count": null,
   "metadata": {},
   "outputs": [],
   "source": [
    "len(books_reduced_index)"
   ]
  },
  {
   "cell_type": "code",
   "execution_count": null,
   "metadata": {},
   "outputs": [],
   "source": [
    "len(books_added_index)"
   ]
  },
  {
   "cell_type": "code",
   "execution_count": null,
   "metadata": {},
   "outputs": [],
   "source": [
    "books_reduced_added_index = {index for index in books_added_index if index not in books_reduced_index}"
   ]
  },
  {
   "cell_type": "code",
   "execution_count": null,
   "metadata": {},
   "outputs": [],
   "source": [
    "len(books_reduced_added_index)"
   ]
  },
  {
   "cell_type": "code",
   "execution_count": null,
   "metadata": {},
   "outputs": [],
   "source": [
    "books.set_index(\"itemID\", inplace = True)"
   ]
  },
  {
   "cell_type": "code",
   "execution_count": null,
   "metadata": {},
   "outputs": [],
   "source": [
    "books_reduced_added = books.filter(books_reduced_added_index, axis = 0)"
   ]
  },
  {
   "cell_type": "code",
   "execution_count": null,
   "metadata": {},
   "outputs": [],
   "source": [
    "books_reduced_added.reset_index(inplace = True)"
   ]
  },
  {
   "cell_type": "code",
   "execution_count": null,
   "metadata": {},
   "outputs": [],
   "source": [
    "books_reduced_added"
   ]
  },
  {
   "cell_type": "code",
   "execution_count": null,
   "metadata": {},
   "outputs": [],
   "source": [
    "firestore_client = connect_to_firestore(credentials=\"../secrets/dmc-book-recommendation-firebase-adminsdk-yebqi-d805561028.json\",\n",
    "                         database_url=\"https://book-recommendation-website.firebaseio.com/\")"
   ]
  },
  {
   "cell_type": "code",
   "execution_count": null,
   "metadata": {},
   "outputs": [],
   "source": [
    "write_documents_to_collection(firestore_client, books_reduced_added, collection=\"books\")"
   ]
  },
  {
   "cell_type": "code",
   "execution_count": null,
   "metadata": {},
   "outputs": [],
   "source": [
    "len(books_reduced_index.union(books_reduced_added_index))"
   ]
  },
  {
   "cell_type": "code",
   "execution_count": null,
   "metadata": {},
   "outputs": [],
   "source": [
    "with open('../data/processed/books_reduced.pkl', 'wb') as file:\n",
    "    pickle.dump(books_reduced_index.union(books_reduced_added_index), file)"
   ]
  },
  {
   "cell_type": "markdown",
   "metadata": {},
   "source": [
    "## Delete error data"
   ]
  },
  {
   "cell_type": "code",
   "execution_count": null,
   "metadata": {},
   "outputs": [],
   "source": [
    "from src.data.firestore import connect_to_firestore, write_documents_to_collection"
   ]
  },
  {
   "cell_type": "code",
   "execution_count": null,
   "metadata": {},
   "outputs": [],
   "source": [
    "firestore_client = connect_to_firestore(credentials=\"../secrets/dmc-book-recommendation-firebase-adminsdk-yebqi-d805561028.json\",\n",
    "                         database_url=\"https://book-recommendation-website.firebaseio.com/\")"
   ]
  },
  {
   "cell_type": "code",
   "execution_count": null,
   "metadata": {},
   "outputs": [],
   "source": [
    "batch = firestore_client.batch()\n",
    "\n",
    "doc_ref = firestore_client.collection('model_scores').where('score', '!=', False).get()\n",
    "\n",
    "for doc in doc_ref:\n",
    "       batch.delete(doc.reference)\n",
    "\n",
    "batch.commit()"
   ]
  },
  {
   "cell_type": "code",
   "execution_count": null,
   "metadata": {},
   "outputs": [],
   "source": [
    "float('nan')"
   ]
  }
 ],
 "metadata": {
  "kernelspec": {
   "display_name": "Python 3",
   "language": "python",
   "name": "python3"
  },
  "language_info": {
   "codemirror_mode": {
    "name": "ipython",
    "version": 3
   },
   "file_extension": ".py",
   "mimetype": "text/x-python",
   "name": "python",
   "nbconvert_exporter": "python",
   "pygments_lexer": "ipython3",
   "version": "3.8.8"
  }
 },
 "nbformat": 4,
 "nbformat_minor": 1
}