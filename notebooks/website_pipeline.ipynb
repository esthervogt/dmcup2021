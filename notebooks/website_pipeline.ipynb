{
 "cells": [
  {
   "cell_type": "markdown",
   "metadata": {
    "collapsed": true
   },
   "source": [
    "# Code to work with the website"
   ]
  },
  {
   "cell_type": "markdown",
   "metadata": {},
   "source": [
    "This notebook showcases all processed with the website that Python can do. You need a Firebase Admin key to work with the Firestore database."
   ]
  },
  {
   "cell_type": "markdown",
   "metadata": {},
   "source": [
    "## Create array for the website of evaluation books"
   ]
  },
  {
   "cell_type": "code",
   "execution_count": null,
   "metadata": {},
   "outputs": [],
   "source": [
    "import pandas as pd"
   ]
  },
  {
   "cell_type": "code",
   "execution_count": null,
   "metadata": {},
   "outputs": [],
   "source": [
    "evaluation_books = pd.read_csv(\"../data/external/evaluation.csv\")"
   ]
  },
  {
   "cell_type": "code",
   "execution_count": null,
   "metadata": {},
   "outputs": [],
   "source": [
    "textfile = open(\"../data/interim/evaluation.txt\", \"w\")\n",
    "for element in evaluation_books.itemID.tolist():\n",
    "    textfile.write(str(element) + \",\")\n",
    "textfile.close()"
   ]
  },
  {
   "cell_type": "markdown",
   "metadata": {},
   "source": [
    "## Download Decision data"
   ]
  },
  {
   "cell_type": "code",
   "execution_count": null,
   "metadata": {},
   "outputs": [],
   "source": [
    "import pandas as pd\n",
    "from src.data.firestore import connect_to_firestore, retrieve_documents_from_collection"
   ]
  },
  {
   "cell_type": "code",
   "execution_count": null,
   "metadata": {},
   "outputs": [],
   "source": [
    "firestore_client = connect_to_firestore(credentials=\"../secrets/dmc-book-recommendation-firebase-adminsdk-yebqi-d805561028.json\",\n",
    "                         database_url=\"https://book-recommendation-website.firebaseio.com/\")"
   ]
  },
  {
   "cell_type": "code",
   "execution_count": null,
   "metadata": {},
   "outputs": [],
   "source": [
    "decisions_dict = retrieve_documents_from_collection(firestore_client, collection=\"decisions\")"
   ]
  },
  {
   "cell_type": "code",
   "execution_count": null,
   "metadata": {},
   "outputs": [],
   "source": [
    "decisions = pd.DataFrame(decisions_dict)"
   ]
  },
  {
   "cell_type": "code",
   "execution_count": null,
   "metadata": {},
   "outputs": [],
   "source": [
    "decisions.to_csv(\"../data/processed/decisions.csv\", index = False)"
   ]
  },
  {
   "cell_type": "markdown",
   "metadata": {},
   "source": [
    "## Upload book information to the website"
   ]
  },
  {
   "cell_type": "code",
   "execution_count": null,
   "metadata": {},
   "outputs": [],
   "source": [
    "import pandas as pd\n",
    "from src.data.firestore import connect_to_firestore, write_documents_to_collection"
   ]
  },
  {
   "cell_type": "code",
   "execution_count": null,
   "metadata": {},
   "outputs": [],
   "source": [
    "books_path = \"../data/processed/books.csv\"\n",
    "books_reduced_path = \"../data/processed/books_reduced.csv\""
   ]
  },
  {
   "cell_type": "code",
   "execution_count": null,
   "metadata": {},
   "outputs": [],
   "source": [
    "books = pd.read_csv(books_path,index_col = 0)\n",
    "books_reduced_index = pd.read_csv(books_reduced_path,index_col = 0)"
   ]
  },
  {
   "cell_type": "code",
   "execution_count": null,
   "metadata": {},
   "outputs": [],
   "source": [
    "books.set_index(\"itemID\", inplace = True)"
   ]
  },
  {
   "cell_type": "code",
   "execution_count": null,
   "metadata": {},
   "outputs": [],
   "source": [
    "books_reduced = books.filter(books_reduced_index.book_id.tolist(), axis = 0)"
   ]
  },
  {
   "cell_type": "code",
   "execution_count": null,
   "metadata": {},
   "outputs": [],
   "source": [
    "books_reduced.reset_index(inplace = True)"
   ]
  },
  {
   "cell_type": "code",
   "execution_count": null,
   "metadata": {},
   "outputs": [],
   "source": [
    "books_reduced"
   ]
  },
  {
   "cell_type": "code",
   "execution_count": null,
   "metadata": {},
   "outputs": [],
   "source": [
    "firestore_client = connect_to_firestore(credentials=\"../secrets/dmc-book-recommendation-firebase-adminsdk-yebqi-d805561028.json\",\n",
    "                         database_url=\"https://book-recommendation-website.firebaseio.com/\")"
   ]
  },
  {
   "cell_type": "markdown",
   "metadata": {},
   "source": [
    "Since we have a free tier on firebase we need to upload multiple days. In moment we have the first 10.000 online."
   ]
  },
  {
   "cell_type": "code",
   "execution_count": null,
   "metadata": {},
   "outputs": [],
   "source": [
    "write_documents_to_collection(firestore_client, books_reduced, collection=\"books\")"
   ]
  },
  {
   "cell_type": "markdown",
   "metadata": {},
   "source": [
    "## Upload a new model to the website"
   ]
  },
  {
   "cell_type": "markdown",
   "metadata": {},
   "source": [
    "If a team sends us a new model, we can upload it to the website with a simple function. Before we upload the recommendations, we have to create document in the model_scores collection for the new model. This requires to use the firebase backend."
   ]
  },
  {
   "cell_type": "code",
   "execution_count": 1,
   "metadata": {},
   "outputs": [],
   "source": [
    "import pandas as pd\n",
    "from src.data.firestore import connect_to_firestore, write_documents_to_collection"
   ]
  },
  {
   "cell_type": "markdown",
   "metadata": {},
   "source": [
    "Code for Team DataMinerz"
   ]
  },
  {
   "cell_type": "code",
   "execution_count": null,
   "metadata": {},
   "outputs": [],
   "source": [
    "DataMinerz_path = \"../data/processed/rule_based_dataminerz.csv\""
   ]
  },
  {
   "cell_type": "code",
   "execution_count": null,
   "metadata": {},
   "outputs": [],
   "source": [
    "DataMinerz_recommendations = pd.read_csv(DataMinerz_path,index_col = 0)"
   ]
  },
  {
   "cell_type": "code",
   "execution_count": null,
   "metadata": {},
   "outputs": [],
   "source": [
    "DataMinerz_recommendations"
   ]
  },
  {
   "cell_type": "code",
   "execution_count": null,
   "metadata": {},
   "outputs": [],
   "source": [
    "firestore_client = connect_to_firestore(credentials=\"../secrets/dmc-book-recommendation-firebase-adminsdk-yebqi-d805561028.json\",\n",
    "                         database_url=\"https://book-recommendation-website.firebaseio.com/\")"
   ]
  },
  {
   "cell_type": "code",
   "execution_count": null,
   "metadata": {},
   "outputs": [],
   "source": [
    "write_documents_to_collection(firestore_client, DataMinerz_recommendations, collection=\"recommendations\")"
   ]
  },
  {
   "cell_type": "markdown",
   "metadata": {},
   "source": [
    "Code for Team MannheimMiners"
   ]
  },
  {
   "cell_type": "code",
   "execution_count": null,
   "metadata": {},
   "outputs": [],
   "source": [
    "mannheimminers_path = \"../data/processed/MannheimMinersModel3.csv\""
   ]
  },
  {
   "cell_type": "code",
   "execution_count": null,
   "metadata": {},
   "outputs": [],
   "source": [
    "mannheimminers_recommendations = pd.read_csv(mannheimminers_path,index_col = 0)"
   ]
  },
  {
   "cell_type": "code",
   "execution_count": null,
   "metadata": {},
   "outputs": [],
   "source": [
    "mannheimminers_recommendations.reset_index(inplace = True)"
   ]
  },
  {
   "cell_type": "code",
   "execution_count": null,
   "metadata": {},
   "outputs": [],
   "source": [
    "mannheimminers_recommendations.dropna(inplace=True)"
   ]
  },
  {
   "cell_type": "code",
   "execution_count": null,
   "metadata": {},
   "outputs": [],
   "source": [
    "mannheimminers_processed = mannheimminers_recommendations.astype({\"book_id\": int, \"model_id\": str,\n",
    "                                                                        \"team_id\": str, \"recommendation_1\":int,\n",
    "                                                                        \"recommendation_2\":int,\n",
    "                                                                        \"recommendation_3\":int, \n",
    "                                                                        \"recommendation_4\":int,\n",
    "                                                                        \"recommendation_5\":int})"
   ]
  },
  {
   "cell_type": "code",
   "execution_count": null,
   "metadata": {},
   "outputs": [],
   "source": [
    "mannheimminers_processed.replace({\"model_id\":{\"3\":\"third\"}}, inplace = True)"
   ]
  },
  {
   "cell_type": "code",
   "execution_count": null,
   "metadata": {},
   "outputs": [],
   "source": [
    "mannheimminers_processed"
   ]
  },
  {
   "cell_type": "code",
   "execution_count": null,
   "metadata": {},
   "outputs": [],
   "source": [
    "firestore_client = connect_to_firestore(credentials=\"../secrets/dmc-book-recommendation-firebase-adminsdk-yebqi-d805561028.json\",\n",
    "                         database_url=\"https://book-recommendation-website.firebaseio.com/\")"
   ]
  },
  {
   "cell_type": "code",
   "execution_count": null,
   "metadata": {},
   "outputs": [],
   "source": [
    "write_documents_to_collection(firestore_client, mannheimminers_processed, collection=\"recommendations\")"
   ]
  },
  {
   "cell_type": "markdown",
   "metadata": {},
   "source": [
    "Code for Team team404"
   ]
  },
  {
   "cell_type": "code",
   "execution_count": null,
   "metadata": {},
   "outputs": [],
   "source": [
    "team404_path = \"../data/processed/team404_2.xlsx\""
   ]
  },
  {
   "cell_type": "code",
   "execution_count": null,
   "metadata": {},
   "outputs": [],
   "source": [
    "team404_recommendations = pd.read_excel(team404_path,index_col = 0)"
   ]
  },
  {
   "cell_type": "code",
   "execution_count": null,
   "metadata": {},
   "outputs": [],
   "source": [
    "team404_recommendations.dropna(inplace=True)"
   ]
  },
  {
   "cell_type": "code",
   "execution_count": null,
   "metadata": {},
   "outputs": [],
   "source": [
    "team404_recommendations.reset_index(inplace = True)"
   ]
  },
  {
   "cell_type": "code",
   "execution_count": null,
   "metadata": {},
   "outputs": [],
   "source": [
    "team404_processed = team404_recommendations.astype({\"book_id\": int, \"model_id\": str,\n",
    "                                                                        \"team_id\": str, \"recommendation_1\":int,\n",
    "                                                                        \"recommendation_2\":int,\n",
    "                                                                        \"recommendation_3\":int, \n",
    "                                                                        \"recommendation_4\":int,\n",
    "                                                                        \"recommendation_5\":int})"
   ]
  },
  {
   "cell_type": "code",
   "execution_count": null,
   "metadata": {},
   "outputs": [],
   "source": [
    "team404_processed"
   ]
  },
  {
   "cell_type": "code",
   "execution_count": null,
   "metadata": {},
   "outputs": [],
   "source": [
    "firestore_client = connect_to_firestore(credentials=\"../secrets/dmc-book-recommendation-firebase-adminsdk-yebqi-d805561028.json\",\n",
    "                         database_url=\"https://book-recommendation-website.firebaseio.com/\")"
   ]
  },
  {
   "cell_type": "code",
   "execution_count": null,
   "metadata": {},
   "outputs": [],
   "source": [
    "write_documents_to_collection(firestore_client, team404_processed, collection=\"recommendations\")"
   ]
  },
  {
   "cell_type": "markdown",
   "metadata": {},
   "source": [
    "Code for Team minefromhome"
   ]
  },
  {
   "cell_type": "code",
   "execution_count": null,
   "metadata": {},
   "outputs": [],
   "source": [
    "minefromhome_path = \"../data/processed/Team_05.csv\""
   ]
  },
  {
   "cell_type": "code",
   "execution_count": null,
   "metadata": {},
   "outputs": [],
   "source": [
    "minefromhome_recommendations = pd.read_csv(minefromhome_path,index_col = 0, names = [\"book_id\",\n",
    "                                                                                     \"model_id\",\n",
    "                                                                                     \"team_id\",\n",
    "                                                                                     \"recommendation_1\",\n",
    "                                                                                     \"recommendation_2\",\n",
    "                                                                                     \"recommendation_3\",\n",
    "                                                                                     \"recommendation_4\",\n",
    "                                                                                     \"recommendation_5\"])"
   ]
  },
  {
   "cell_type": "code",
   "execution_count": null,
   "metadata": {},
   "outputs": [],
   "source": [
    "minefromhome_recommendations.dropna(inplace=True)"
   ]
  },
  {
   "cell_type": "code",
   "execution_count": null,
   "metadata": {},
   "outputs": [],
   "source": [
    "minefromhome_recommendations.reset_index(inplace = True)"
   ]
  },
  {
   "cell_type": "code",
   "execution_count": null,
   "metadata": {},
   "outputs": [],
   "source": [
    "minefromhome_processed = minefromhome_recommendations.astype({\"book_id\": int, \"model_id\": str,\n",
    "                                                                        \"team_id\": str, \"recommendation_1\":int,\n",
    "                                                                        \"recommendation_2\":int,\n",
    "                                                                        \"recommendation_3\":int, \n",
    "                                                                        \"recommendation_4\":int,\n",
    "                                                                        \"recommendation_5\":int})"
   ]
  },
  {
   "cell_type": "code",
   "execution_count": null,
   "metadata": {},
   "outputs": [],
   "source": [
    "minefromhome_processed"
   ]
  },
  {
   "cell_type": "code",
   "execution_count": null,
   "metadata": {},
   "outputs": [],
   "source": [
    "firestore_client = connect_to_firestore(credentials=\"../secrets/dmc-book-recommendation-firebase-adminsdk-yebqi-d805561028.json\",\n",
    "                         database_url=\"https://book-recommendation-website.firebaseio.com/\")"
   ]
  },
  {
   "cell_type": "code",
   "execution_count": null,
   "metadata": {},
   "outputs": [],
   "source": [
    "write_documents_to_collection(firestore_client, minefromhome_processed, collection=\"recommendations\")"
   ]
  },
  {
   "cell_type": "markdown",
   "metadata": {},
   "source": [
    "Code for Team flying_chicken_wings"
   ]
  },
  {
   "cell_type": "code",
   "execution_count": null,
   "metadata": {},
   "outputs": [],
   "source": [
    "flying_chicken_wings_path = \"../data/processed/Team6_result_2ndModel.xlsx\""
   ]
  },
  {
   "cell_type": "code",
   "execution_count": null,
   "metadata": {},
   "outputs": [],
   "source": [
    "flying_chicken_wings_recommendations = pd.read_excel(flying_chicken_wings_path)"
   ]
  },
  {
   "cell_type": "code",
   "execution_count": null,
   "metadata": {},
   "outputs": [],
   "source": [
    "flying_chicken_wings_recommendations.dropna(inplace=True)"
   ]
  },
  {
   "cell_type": "code",
   "execution_count": null,
   "metadata": {},
   "outputs": [],
   "source": [
    "flying_chicken_wings_processed = flying_chicken_wings_recommendations.astype({\"book_id\": int, \"model_id\": str,\n",
    "                                                                        \"team_id\": str, \"recommendation_1\":int,\n",
    "                                                                        \"recommendation_2\":int,\n",
    "                                                                        \"recommendation_3\":int, \n",
    "                                                                        \"recommendation_4\":int,\n",
    "                                                                        \"recommendation_5\":int})"
   ]
  },
  {
   "cell_type": "code",
   "execution_count": null,
   "metadata": {},
   "outputs": [],
   "source": [
    "flying_chicken_wings_processed"
   ]
  },
  {
   "cell_type": "code",
   "execution_count": null,
   "metadata": {},
   "outputs": [],
   "source": [
    "firestore_client = connect_to_firestore(credentials=\"../secrets/dmc-book-recommendation-firebase-adminsdk-yebqi-d805561028.json\",\n",
    "                         database_url=\"https://book-recommendation-website.firebaseio.com/\")"
   ]
  },
  {
   "cell_type": "code",
   "execution_count": null,
   "metadata": {},
   "outputs": [],
   "source": [
    "write_documents_to_collection(firestore_client, flying_chicken_wings_processed, collection=\"recommendations\")"
   ]
  },
  {
   "cell_type": "markdown",
   "metadata": {},
   "source": [
    "Code for d2g2"
   ]
  },
  {
   "cell_type": "code",
   "execution_count": null,
   "metadata": {},
   "outputs": [],
   "source": [
    "d2g2_path = \"../data/processed/d2g2_results_2.xlsx\""
   ]
  },
  {
   "cell_type": "code",
   "execution_count": null,
   "metadata": {},
   "outputs": [],
   "source": [
    "d2g2_recommendations = pd.read_excel(d2g2_path)"
   ]
  },
  {
   "cell_type": "code",
   "execution_count": null,
   "metadata": {},
   "outputs": [],
   "source": [
    "d2g2_recommendations"
   ]
  },
  {
   "cell_type": "code",
   "execution_count": null,
   "metadata": {},
   "outputs": [],
   "source": [
    "d2g2_recommendations.dropna(inplace=True)"
   ]
  },
  {
   "cell_type": "code",
   "execution_count": null,
   "metadata": {},
   "outputs": [],
   "source": [
    "d2g2_processed = d2g2_recommendations.astype({\"book_id\": int, \"model_id\": str,\n",
    "                                                                        \"team_id\": str, \"recommendation_1\":int,\n",
    "                                                                        \"recommendation_2\":int,\n",
    "                                                                        \"recommendation_3\":int, \n",
    "                                                                        \"recommendation_4\":int,\n",
    "                                                                        \"recommendation_5\":int})"
   ]
  },
  {
   "cell_type": "code",
   "execution_count": null,
   "metadata": {},
   "outputs": [],
   "source": [
    "d2g2_processed[\"team_id\"] = \"d2g2\""
   ]
  },
  {
   "cell_type": "code",
   "execution_count": null,
   "metadata": {},
   "outputs": [],
   "source": [
    "d2g2_processed"
   ]
  },
  {
   "cell_type": "code",
   "execution_count": null,
   "metadata": {},
   "outputs": [],
   "source": [
    "firestore_client = connect_to_firestore(credentials=\"../secrets/dmc-book-recommendation-firebase-adminsdk-yebqi-d805561028.json\",\n",
    "                         database_url=\"https://book-recommendation-website.firebaseio.com/\")"
   ]
  },
  {
   "cell_type": "code",
   "execution_count": null,
   "metadata": {},
   "outputs": [],
   "source": [
    "write_documents_to_collection(firestore_client, d2g2_processed, collection=\"recommendations\")"
   ]
  },
  {
   "cell_type": "markdown",
   "metadata": {},
   "source": [
    "Code for dataworms"
   ]
  },
  {
   "cell_type": "code",
   "execution_count": 2,
   "metadata": {},
   "outputs": [],
   "source": [
    "Dataworms_path = \"../data/processed/final_result_Dataworms.csv\""
   ]
  },
  {
   "cell_type": "code",
   "execution_count": 3,
   "metadata": {},
   "outputs": [],
   "source": [
    "Dataworms_recommendations = pd.read_csv(Dataworms_path, \n",
    "                                   dtype={'recommendation_1': str, 'recommendation_2': str,\n",
    "                                          'recommendation_3': str, 'recommendation_4': str, \n",
    "                                          'recommendation_5': str})"
   ]
  },
  {
   "cell_type": "code",
   "execution_count": 4,
   "metadata": {},
   "outputs": [
    {
     "data": {
      "text/html": [
       "<div>\n",
       "<style scoped>\n",
       "    .dataframe tbody tr th:only-of-type {\n",
       "        vertical-align: middle;\n",
       "    }\n",
       "\n",
       "    .dataframe tbody tr th {\n",
       "        vertical-align: top;\n",
       "    }\n",
       "\n",
       "    .dataframe thead th {\n",
       "        text-align: right;\n",
       "    }\n",
       "</style>\n",
       "<table border=\"1\" class=\"dataframe\">\n",
       "  <thead>\n",
       "    <tr style=\"text-align: right;\">\n",
       "      <th></th>\n",
       "      <th>book_id</th>\n",
       "      <th>model_id</th>\n",
       "      <th>team_id</th>\n",
       "      <th>recommendation_1</th>\n",
       "      <th>recommendation_2</th>\n",
       "      <th>recommendation_3</th>\n",
       "      <th>recommendation_4</th>\n",
       "      <th>recommendation_5</th>\n",
       "    </tr>\n",
       "  </thead>\n",
       "  <tbody>\n",
       "    <tr>\n",
       "      <th>0</th>\n",
       "      <td>12</td>\n",
       "      <td>Hybrid_RS</td>\n",
       "      <td>the_dataworms</td>\n",
       "      <td>38044</td>\n",
       "      <td>15978</td>\n",
       "      <td>18081</td>\n",
       "      <td>37565</td>\n",
       "      <td>27058</td>\n",
       "    </tr>\n",
       "    <tr>\n",
       "      <th>1</th>\n",
       "      <td>45274</td>\n",
       "      <td>Hybrid_RS</td>\n",
       "      <td>the_dataworms</td>\n",
       "      <td>1746</td>\n",
       "      <td>63413</td>\n",
       "      <td>7262</td>\n",
       "      <td>6210</td>\n",
       "      <td>62473</td>\n",
       "    </tr>\n",
       "    <tr>\n",
       "      <th>2</th>\n",
       "      <td>10104</td>\n",
       "      <td>Hybrid_RS</td>\n",
       "      <td>the_dataworms</td>\n",
       "      <td>10143</td>\n",
       "      <td>41762</td>\n",
       "      <td>71798</td>\n",
       "      <td>20416</td>\n",
       "      <td>40979</td>\n",
       "    </tr>\n",
       "    <tr>\n",
       "      <th>3</th>\n",
       "      <td>41371</td>\n",
       "      <td>Hybrid_RS</td>\n",
       "      <td>the_dataworms</td>\n",
       "      <td>70558</td>\n",
       "      <td>64698</td>\n",
       "      <td>64050</td>\n",
       "      <td>72736</td>\n",
       "      <td>58150</td>\n",
       "    </tr>\n",
       "    <tr>\n",
       "      <th>4</th>\n",
       "      <td>14015</td>\n",
       "      <td>Hybrid_RS</td>\n",
       "      <td>the_dataworms</td>\n",
       "      <td>13103</td>\n",
       "      <td>47952</td>\n",
       "      <td>19563</td>\n",
       "      <td>66672</td>\n",
       "      <td>21188</td>\n",
       "    </tr>\n",
       "    <tr>\n",
       "      <th>...</th>\n",
       "      <td>...</td>\n",
       "      <td>...</td>\n",
       "      <td>...</td>\n",
       "      <td>...</td>\n",
       "      <td>...</td>\n",
       "      <td>...</td>\n",
       "      <td>...</td>\n",
       "      <td>...</td>\n",
       "    </tr>\n",
       "    <tr>\n",
       "      <th>995</th>\n",
       "      <td>78384</td>\n",
       "      <td>Hybrid_RS</td>\n",
       "      <td>the_dataworms</td>\n",
       "      <td>56354</td>\n",
       "      <td>72389</td>\n",
       "      <td>22154</td>\n",
       "      <td>40979</td>\n",
       "      <td>71593</td>\n",
       "    </tr>\n",
       "    <tr>\n",
       "      <th>996</th>\n",
       "      <td>68157</td>\n",
       "      <td>Hybrid_RS</td>\n",
       "      <td>the_dataworms</td>\n",
       "      <td>21470</td>\n",
       "      <td>19503</td>\n",
       "      <td>66167</td>\n",
       "      <td>55547</td>\n",
       "      <td>58623</td>\n",
       "    </tr>\n",
       "    <tr>\n",
       "      <th>997</th>\n",
       "      <td>44964</td>\n",
       "      <td>Hybrid_RS</td>\n",
       "      <td>the_dataworms</td>\n",
       "      <td>75198</td>\n",
       "      <td>25989</td>\n",
       "      <td>68320</td>\n",
       "      <td>70107</td>\n",
       "      <td>23343</td>\n",
       "    </tr>\n",
       "    <tr>\n",
       "      <th>998</th>\n",
       "      <td>12971</td>\n",
       "      <td>Hybrid_RS</td>\n",
       "      <td>the_dataworms</td>\n",
       "      <td>32816</td>\n",
       "      <td>15800</td>\n",
       "      <td>49248</td>\n",
       "      <td>56107</td>\n",
       "      <td>21904</td>\n",
       "    </tr>\n",
       "    <tr>\n",
       "      <th>999</th>\n",
       "      <td>41078</td>\n",
       "      <td>Hybrid_RS</td>\n",
       "      <td>the_dataworms</td>\n",
       "      <td>23733</td>\n",
       "      <td>11950</td>\n",
       "      <td>36214</td>\n",
       "      <td>22179</td>\n",
       "      <td>43828</td>\n",
       "    </tr>\n",
       "  </tbody>\n",
       "</table>\n",
       "<p>1000 rows × 8 columns</p>\n",
       "</div>"
      ],
      "text/plain": [
       "     book_id   model_id        team_id recommendation_1 recommendation_2  \\\n",
       "0         12  Hybrid_RS  the_dataworms            38044            15978   \n",
       "1      45274  Hybrid_RS  the_dataworms             1746            63413   \n",
       "2      10104  Hybrid_RS  the_dataworms            10143            41762   \n",
       "3      41371  Hybrid_RS  the_dataworms            70558            64698   \n",
       "4      14015  Hybrid_RS  the_dataworms            13103            47952   \n",
       "..       ...        ...            ...              ...              ...   \n",
       "995    78384  Hybrid_RS  the_dataworms            56354            72389   \n",
       "996    68157  Hybrid_RS  the_dataworms            21470            19503   \n",
       "997    44964  Hybrid_RS  the_dataworms            75198            25989   \n",
       "998    12971  Hybrid_RS  the_dataworms            32816            15800   \n",
       "999    41078  Hybrid_RS  the_dataworms            23733            11950   \n",
       "\n",
       "    recommendation_3 recommendation_4 recommendation_5  \n",
       "0              18081            37565            27058  \n",
       "1               7262             6210            62473  \n",
       "2              71798            20416            40979  \n",
       "3              64050            72736            58150  \n",
       "4              19563            66672            21188  \n",
       "..               ...              ...              ...  \n",
       "995            22154            40979            71593  \n",
       "996            66167            55547            58623  \n",
       "997            68320            70107            23343  \n",
       "998            49248            56107            21904  \n",
       "999            36214            22179            43828  \n",
       "\n",
       "[1000 rows x 8 columns]"
      ]
     },
     "execution_count": 4,
     "metadata": {},
     "output_type": "execute_result"
    }
   ],
   "source": [
    "Dataworms_recommendations"
   ]
  },
  {
   "cell_type": "code",
   "execution_count": 5,
   "metadata": {},
   "outputs": [],
   "source": [
    "Dataworms_recommendations.dropna(inplace=True)"
   ]
  },
  {
   "cell_type": "code",
   "execution_count": 6,
   "metadata": {},
   "outputs": [],
   "source": [
    "Dataworms_processed = Dataworms_recommendations.astype({\"book_id\": int, \"model_id\": str,\n",
    "                                                                        \"team_id\": str, \"recommendation_1\":int,\n",
    "                                                                        \"recommendation_2\":int,\n",
    "                                                                        \"recommendation_3\":int, \n",
    "                                                                        \"recommendation_4\":int,\n",
    "                                                                        \"recommendation_5\":int})"
   ]
  },
  {
   "cell_type": "code",
   "execution_count": 7,
   "metadata": {},
   "outputs": [
    {
     "data": {
      "text/html": [
       "<div>\n",
       "<style scoped>\n",
       "    .dataframe tbody tr th:only-of-type {\n",
       "        vertical-align: middle;\n",
       "    }\n",
       "\n",
       "    .dataframe tbody tr th {\n",
       "        vertical-align: top;\n",
       "    }\n",
       "\n",
       "    .dataframe thead th {\n",
       "        text-align: right;\n",
       "    }\n",
       "</style>\n",
       "<table border=\"1\" class=\"dataframe\">\n",
       "  <thead>\n",
       "    <tr style=\"text-align: right;\">\n",
       "      <th></th>\n",
       "      <th>book_id</th>\n",
       "      <th>model_id</th>\n",
       "      <th>team_id</th>\n",
       "      <th>recommendation_1</th>\n",
       "      <th>recommendation_2</th>\n",
       "      <th>recommendation_3</th>\n",
       "      <th>recommendation_4</th>\n",
       "      <th>recommendation_5</th>\n",
       "    </tr>\n",
       "  </thead>\n",
       "  <tbody>\n",
       "    <tr>\n",
       "      <th>0</th>\n",
       "      <td>12</td>\n",
       "      <td>Hybrid_RS</td>\n",
       "      <td>the_dataworms</td>\n",
       "      <td>38044</td>\n",
       "      <td>15978</td>\n",
       "      <td>18081</td>\n",
       "      <td>37565</td>\n",
       "      <td>27058</td>\n",
       "    </tr>\n",
       "    <tr>\n",
       "      <th>1</th>\n",
       "      <td>45274</td>\n",
       "      <td>Hybrid_RS</td>\n",
       "      <td>the_dataworms</td>\n",
       "      <td>1746</td>\n",
       "      <td>63413</td>\n",
       "      <td>7262</td>\n",
       "      <td>6210</td>\n",
       "      <td>62473</td>\n",
       "    </tr>\n",
       "    <tr>\n",
       "      <th>2</th>\n",
       "      <td>10104</td>\n",
       "      <td>Hybrid_RS</td>\n",
       "      <td>the_dataworms</td>\n",
       "      <td>10143</td>\n",
       "      <td>41762</td>\n",
       "      <td>71798</td>\n",
       "      <td>20416</td>\n",
       "      <td>40979</td>\n",
       "    </tr>\n",
       "    <tr>\n",
       "      <th>3</th>\n",
       "      <td>41371</td>\n",
       "      <td>Hybrid_RS</td>\n",
       "      <td>the_dataworms</td>\n",
       "      <td>70558</td>\n",
       "      <td>64698</td>\n",
       "      <td>64050</td>\n",
       "      <td>72736</td>\n",
       "      <td>58150</td>\n",
       "    </tr>\n",
       "    <tr>\n",
       "      <th>4</th>\n",
       "      <td>14015</td>\n",
       "      <td>Hybrid_RS</td>\n",
       "      <td>the_dataworms</td>\n",
       "      <td>13103</td>\n",
       "      <td>47952</td>\n",
       "      <td>19563</td>\n",
       "      <td>66672</td>\n",
       "      <td>21188</td>\n",
       "    </tr>\n",
       "    <tr>\n",
       "      <th>...</th>\n",
       "      <td>...</td>\n",
       "      <td>...</td>\n",
       "      <td>...</td>\n",
       "      <td>...</td>\n",
       "      <td>...</td>\n",
       "      <td>...</td>\n",
       "      <td>...</td>\n",
       "      <td>...</td>\n",
       "    </tr>\n",
       "    <tr>\n",
       "      <th>995</th>\n",
       "      <td>78384</td>\n",
       "      <td>Hybrid_RS</td>\n",
       "      <td>the_dataworms</td>\n",
       "      <td>56354</td>\n",
       "      <td>72389</td>\n",
       "      <td>22154</td>\n",
       "      <td>40979</td>\n",
       "      <td>71593</td>\n",
       "    </tr>\n",
       "    <tr>\n",
       "      <th>996</th>\n",
       "      <td>68157</td>\n",
       "      <td>Hybrid_RS</td>\n",
       "      <td>the_dataworms</td>\n",
       "      <td>21470</td>\n",
       "      <td>19503</td>\n",
       "      <td>66167</td>\n",
       "      <td>55547</td>\n",
       "      <td>58623</td>\n",
       "    </tr>\n",
       "    <tr>\n",
       "      <th>997</th>\n",
       "      <td>44964</td>\n",
       "      <td>Hybrid_RS</td>\n",
       "      <td>the_dataworms</td>\n",
       "      <td>75198</td>\n",
       "      <td>25989</td>\n",
       "      <td>68320</td>\n",
       "      <td>70107</td>\n",
       "      <td>23343</td>\n",
       "    </tr>\n",
       "    <tr>\n",
       "      <th>998</th>\n",
       "      <td>12971</td>\n",
       "      <td>Hybrid_RS</td>\n",
       "      <td>the_dataworms</td>\n",
       "      <td>32816</td>\n",
       "      <td>15800</td>\n",
       "      <td>49248</td>\n",
       "      <td>56107</td>\n",
       "      <td>21904</td>\n",
       "    </tr>\n",
       "    <tr>\n",
       "      <th>999</th>\n",
       "      <td>41078</td>\n",
       "      <td>Hybrid_RS</td>\n",
       "      <td>the_dataworms</td>\n",
       "      <td>23733</td>\n",
       "      <td>11950</td>\n",
       "      <td>36214</td>\n",
       "      <td>22179</td>\n",
       "      <td>43828</td>\n",
       "    </tr>\n",
       "  </tbody>\n",
       "</table>\n",
       "<p>998 rows × 8 columns</p>\n",
       "</div>"
      ],
      "text/plain": [
       "     book_id   model_id        team_id  recommendation_1  recommendation_2  \\\n",
       "0         12  Hybrid_RS  the_dataworms             38044             15978   \n",
       "1      45274  Hybrid_RS  the_dataworms              1746             63413   \n",
       "2      10104  Hybrid_RS  the_dataworms             10143             41762   \n",
       "3      41371  Hybrid_RS  the_dataworms             70558             64698   \n",
       "4      14015  Hybrid_RS  the_dataworms             13103             47952   \n",
       "..       ...        ...            ...               ...               ...   \n",
       "995    78384  Hybrid_RS  the_dataworms             56354             72389   \n",
       "996    68157  Hybrid_RS  the_dataworms             21470             19503   \n",
       "997    44964  Hybrid_RS  the_dataworms             75198             25989   \n",
       "998    12971  Hybrid_RS  the_dataworms             32816             15800   \n",
       "999    41078  Hybrid_RS  the_dataworms             23733             11950   \n",
       "\n",
       "     recommendation_3  recommendation_4  recommendation_5  \n",
       "0               18081             37565             27058  \n",
       "1                7262              6210             62473  \n",
       "2               71798             20416             40979  \n",
       "3               64050             72736             58150  \n",
       "4               19563             66672             21188  \n",
       "..                ...               ...               ...  \n",
       "995             22154             40979             71593  \n",
       "996             66167             55547             58623  \n",
       "997             68320             70107             23343  \n",
       "998             49248             56107             21904  \n",
       "999             36214             22179             43828  \n",
       "\n",
       "[998 rows x 8 columns]"
      ]
     },
     "execution_count": 7,
     "metadata": {},
     "output_type": "execute_result"
    }
   ],
   "source": [
    "Dataworms_processed"
   ]
  },
  {
   "cell_type": "code",
   "execution_count": 8,
   "metadata": {},
   "outputs": [],
   "source": [
    "firestore_client = connect_to_firestore(credentials=\"../secrets/dmc-book-recommendation-firebase-adminsdk-yebqi-d805561028.json\",\n",
    "                         database_url=\"https://book-recommendation-website.firebaseio.com/\")"
   ]
  },
  {
   "cell_type": "code",
   "execution_count": 9,
   "metadata": {},
   "outputs": [
    {
     "name": "stderr",
     "output_type": "stream",
     "text": [
      "100%|██████████| 998/998 [03:25<00:00,  4.85it/s]\n"
     ]
    }
   ],
   "source": [
    "write_documents_to_collection(firestore_client, Dataworms_processed, collection=\"recommendations\")"
   ]
  },
  {
   "cell_type": "markdown",
   "metadata": {},
   "source": [
    "## Update book information to the website"
   ]
  },
  {
   "cell_type": "code",
   "execution_count": 10,
   "metadata": {},
   "outputs": [],
   "source": [
    "import pandas as pd\n",
    "import pickle\n",
    "from src.data.firestore import connect_to_firestore, write_documents_to_collection"
   ]
  },
  {
   "cell_type": "code",
   "execution_count": 11,
   "metadata": {},
   "outputs": [],
   "source": [
    "books_path = \"../data/processed/books.csv\"\n",
    "books_reduced_path = \"../data/processed/books_reduced.pkl\""
   ]
  },
  {
   "cell_type": "code",
   "execution_count": 12,
   "metadata": {},
   "outputs": [],
   "source": [
    "books = pd.read_csv(books_path,index_col = 0)\n",
    "books_reduced_index = pd.read_pickle(books_reduced_path)"
   ]
  },
  {
   "cell_type": "code",
   "execution_count": 13,
   "metadata": {},
   "outputs": [],
   "source": [
    "books_added_index = set(pd.melt(Dataworms_processed, value_vars=['recommendation_1',\n",
    "                                       'recommendation_2',\n",
    "                                       'recommendation_3',\n",
    "                                       'recommendation_4',\n",
    "                                       'recommendation_5']).value.tolist())"
   ]
  },
  {
   "cell_type": "code",
   "execution_count": 14,
   "metadata": {},
   "outputs": [
    {
     "data": {
      "text/plain": [
       "25621"
      ]
     },
     "execution_count": 14,
     "metadata": {},
     "output_type": "execute_result"
    }
   ],
   "source": [
    "len(books_reduced_index)"
   ]
  },
  {
   "cell_type": "code",
   "execution_count": 15,
   "metadata": {},
   "outputs": [
    {
     "data": {
      "text/plain": [
       "3359"
      ]
     },
     "execution_count": 15,
     "metadata": {},
     "output_type": "execute_result"
    }
   ],
   "source": [
    "len(books_added_index)"
   ]
  },
  {
   "cell_type": "code",
   "execution_count": 16,
   "metadata": {},
   "outputs": [],
   "source": [
    "books_reduced_added_index = {index for index in books_added_index if index not in books_reduced_index}"
   ]
  },
  {
   "cell_type": "code",
   "execution_count": 17,
   "metadata": {},
   "outputs": [
    {
     "data": {
      "text/plain": [
       "770"
      ]
     },
     "execution_count": 17,
     "metadata": {},
     "output_type": "execute_result"
    }
   ],
   "source": [
    "len(books_reduced_added_index)"
   ]
  },
  {
   "cell_type": "code",
   "execution_count": 18,
   "metadata": {},
   "outputs": [],
   "source": [
    "books.set_index(\"itemID\", inplace = True)"
   ]
  },
  {
   "cell_type": "code",
   "execution_count": 19,
   "metadata": {},
   "outputs": [],
   "source": [
    "books_reduced_added = books.filter(books_reduced_added_index, axis = 0)"
   ]
  },
  {
   "cell_type": "code",
   "execution_count": 20,
   "metadata": {},
   "outputs": [],
   "source": [
    "books_reduced_added.reset_index(inplace = True)"
   ]
  },
  {
   "cell_type": "code",
   "execution_count": 21,
   "metadata": {},
   "outputs": [
    {
     "data": {
      "text/html": [
       "<div>\n",
       "<style scoped>\n",
       "    .dataframe tbody tr th:only-of-type {\n",
       "        vertical-align: middle;\n",
       "    }\n",
       "\n",
       "    .dataframe tbody tr th {\n",
       "        vertical-align: top;\n",
       "    }\n",
       "\n",
       "    .dataframe thead th {\n",
       "        text-align: right;\n",
       "    }\n",
       "</style>\n",
       "<table border=\"1\" class=\"dataframe\">\n",
       "  <thead>\n",
       "    <tr style=\"text-align: right;\">\n",
       "      <th></th>\n",
       "      <th>itemID</th>\n",
       "      <th>title</th>\n",
       "      <th>author</th>\n",
       "      <th>publisher</th>\n",
       "      <th>category_names</th>\n",
       "      <th>cover_url</th>\n",
       "    </tr>\n",
       "  </thead>\n",
       "  <tbody>\n",
       "    <tr>\n",
       "      <th>0</th>\n",
       "      <td>12289</td>\n",
       "      <td>Master Bun the Bakers' Boy</td>\n",
       "      <td>Allan Ahlberg</td>\n",
       "      <td>Penguin Random House Children's UK</td>\n",
       "      <td>Children’s / Teenage fiction: General fiction</td>\n",
       "      <td>https://assets.thalia.media/img/artikel/7d7bc8...</td>\n",
       "    </tr>\n",
       "    <tr>\n",
       "      <th>1</th>\n",
       "      <td>36866</td>\n",
       "      <td>The Wheels -The Friendship Race (Turkish Edition)</td>\n",
       "      <td>Kidkiddos Books, Inna Nusinsky</td>\n",
       "      <td>KIDKIDDOS BOOKS LTD</td>\n",
       "      <td>Early years: time and seasons</td>\n",
       "      <td>https://assets.thalia.media/img/artikel/b7f5b7...</td>\n",
       "    </tr>\n",
       "    <tr>\n",
       "      <th>2</th>\n",
       "      <td>73731</td>\n",
       "      <td>There Are No Ants in My Pants! for Boys Only(r)</td>\n",
       "      <td>Penelope Dyan</td>\n",
       "      <td>Bellissima Publishing LLC</td>\n",
       "      <td>Early years: numbers and counting</td>\n",
       "      <td>https://assets.thalia.media/img/artikel/4c73c5...</td>\n",
       "    </tr>\n",
       "    <tr>\n",
       "      <th>3</th>\n",
       "      <td>40964</td>\n",
       "      <td>The Crayola Counting Book</td>\n",
       "      <td>Mari C. Schuh</td>\n",
       "      <td>LERNER PUBN</td>\n",
       "      <td>Early years: numbers and counting</td>\n",
       "      <td>https://assets.thalia.media/img/artikel/9437bb...</td>\n",
       "    </tr>\n",
       "    <tr>\n",
       "      <th>4</th>\n",
       "      <td>4101</td>\n",
       "      <td>Cohasset from A to Z</td>\n",
       "      <td>Gael Daly</td>\n",
       "      <td>Converpage</td>\n",
       "      <td>Early years: letters and words</td>\n",
       "      <td>https://assets.thalia.media/img/artikel/5da861...</td>\n",
       "    </tr>\n",
       "    <tr>\n",
       "      <th>...</th>\n",
       "      <td>...</td>\n",
       "      <td>...</td>\n",
       "      <td>...</td>\n",
       "      <td>...</td>\n",
       "      <td>...</td>\n",
       "      <td>...</td>\n",
       "    </tr>\n",
       "    <tr>\n",
       "      <th>765</th>\n",
       "      <td>73712</td>\n",
       "      <td>The Muddlemoor Mysteries: Peril at the Bake Off</td>\n",
       "      <td>Ruth Quayle</td>\n",
       "      <td>Andersen Press Ltd</td>\n",
       "      <td>Children’s / Teenage fiction: Crime and myster...</td>\n",
       "      <td>https://assets.thalia.media/img/artikel/5f6e6f...</td>\n",
       "    </tr>\n",
       "    <tr>\n",
       "      <th>766</th>\n",
       "      <td>67569</td>\n",
       "      <td>Charlottas fantastische Reise nach Flüsterleise</td>\n",
       "      <td>Frank Didden</td>\n",
       "      <td>epubli</td>\n",
       "      <td>Science fiction</td>\n",
       "      <td>https://assets.thalia.media/img/artikel/5d4625...</td>\n",
       "    </tr>\n",
       "    <tr>\n",
       "      <th>767</th>\n",
       "      <td>8181</td>\n",
       "      <td>The Mermaid's Dolphin</td>\n",
       "      <td>Coral Ripley</td>\n",
       "      <td>Hachette Children's Group</td>\n",
       "      <td>Children’s / Teenage fiction: Fantasy</td>\n",
       "      <td>https://assets.thalia.media/img/artikel/00c12a...</td>\n",
       "    </tr>\n",
       "    <tr>\n",
       "      <th>768</th>\n",
       "      <td>67575</td>\n",
       "      <td>Im Zug</td>\n",
       "      <td>Steve Martin, Putri Febriana</td>\n",
       "      <td>Ars Edition GmbH</td>\n",
       "      <td>Children’s interactive and activity books and ...</td>\n",
       "      <td>https://assets.thalia.media/img/artikel/68c2fd...</td>\n",
       "    </tr>\n",
       "    <tr>\n",
       "      <th>769</th>\n",
       "      <td>4095</td>\n",
       "      <td>9 für Santa Claus</td>\n",
       "      <td>Iris Fitzner, Iris Brandt</td>\n",
       "      <td>epubli</td>\n",
       "      <td>Fantasy</td>\n",
       "      <td>https://assets.thalia.media/img/artikel/0cb0bd...</td>\n",
       "    </tr>\n",
       "  </tbody>\n",
       "</table>\n",
       "<p>770 rows × 6 columns</p>\n",
       "</div>"
      ],
      "text/plain": [
       "     itemID                                              title  \\\n",
       "0     12289                         Master Bun the Bakers' Boy   \n",
       "1     36866  The Wheels -The Friendship Race (Turkish Edition)   \n",
       "2     73731    There Are No Ants in My Pants! for Boys Only(r)   \n",
       "3     40964                          The Crayola Counting Book   \n",
       "4      4101                               Cohasset from A to Z   \n",
       "..      ...                                                ...   \n",
       "765   73712    The Muddlemoor Mysteries: Peril at the Bake Off   \n",
       "766   67569    Charlottas fantastische Reise nach Flüsterleise   \n",
       "767    8181                              The Mermaid's Dolphin   \n",
       "768   67575                                             Im Zug   \n",
       "769    4095                                  9 für Santa Claus   \n",
       "\n",
       "                             author                           publisher  \\\n",
       "0                     Allan Ahlberg  Penguin Random House Children's UK   \n",
       "1    Kidkiddos Books, Inna Nusinsky                 KIDKIDDOS BOOKS LTD   \n",
       "2                     Penelope Dyan           Bellissima Publishing LLC   \n",
       "3                     Mari C. Schuh                         LERNER PUBN   \n",
       "4                         Gael Daly                          Converpage   \n",
       "..                              ...                                 ...   \n",
       "765                     Ruth Quayle                  Andersen Press Ltd   \n",
       "766                    Frank Didden                              epubli   \n",
       "767                    Coral Ripley           Hachette Children's Group   \n",
       "768    Steve Martin, Putri Febriana                    Ars Edition GmbH   \n",
       "769       Iris Fitzner, Iris Brandt                              epubli   \n",
       "\n",
       "                                        category_names  \\\n",
       "0        Children’s / Teenage fiction: General fiction   \n",
       "1                        Early years: time and seasons   \n",
       "2                    Early years: numbers and counting   \n",
       "3                    Early years: numbers and counting   \n",
       "4                       Early years: letters and words   \n",
       "..                                                 ...   \n",
       "765  Children’s / Teenage fiction: Crime and myster...   \n",
       "766                                    Science fiction   \n",
       "767              Children’s / Teenage fiction: Fantasy   \n",
       "768  Children’s interactive and activity books and ...   \n",
       "769                                            Fantasy   \n",
       "\n",
       "                                             cover_url  \n",
       "0    https://assets.thalia.media/img/artikel/7d7bc8...  \n",
       "1    https://assets.thalia.media/img/artikel/b7f5b7...  \n",
       "2    https://assets.thalia.media/img/artikel/4c73c5...  \n",
       "3    https://assets.thalia.media/img/artikel/9437bb...  \n",
       "4    https://assets.thalia.media/img/artikel/5da861...  \n",
       "..                                                 ...  \n",
       "765  https://assets.thalia.media/img/artikel/5f6e6f...  \n",
       "766  https://assets.thalia.media/img/artikel/5d4625...  \n",
       "767  https://assets.thalia.media/img/artikel/00c12a...  \n",
       "768  https://assets.thalia.media/img/artikel/68c2fd...  \n",
       "769  https://assets.thalia.media/img/artikel/0cb0bd...  \n",
       "\n",
       "[770 rows x 6 columns]"
      ]
     },
     "execution_count": 21,
     "metadata": {},
     "output_type": "execute_result"
    }
   ],
   "source": [
    "books_reduced_added"
   ]
  },
  {
   "cell_type": "code",
   "execution_count": 22,
   "metadata": {},
   "outputs": [
    {
     "ename": "ValueError",
     "evalue": "The default Firebase app already exists. This means you called initialize_app() more than once without providing an app name as the second argument. In most cases you only need to call initialize_app() once. But if you do want to initialize multiple apps, pass a second argument to initialize_app() to give each app a unique name.",
     "output_type": "error",
     "traceback": [
      "\u001B[0;31m---------------------------------------------------------------------------\u001B[0m",
      "\u001B[0;31mValueError\u001B[0m                                Traceback (most recent call last)",
      "\u001B[0;32m<ipython-input-22-8a57e9b3b0ea>\u001B[0m in \u001B[0;36m<module>\u001B[0;34m\u001B[0m\n\u001B[0;32m----> 1\u001B[0;31m firestore_client = connect_to_firestore(credentials=\"../secrets/dmc-book-recommendation-firebase-adminsdk-yebqi-d805561028.json\",\n\u001B[0m\u001B[1;32m      2\u001B[0m                          database_url=\"https://book-recommendation-website.firebaseio.com/\")\n",
      "\u001B[0;32m~/PycharmProjects/dmcup2021/src/data/firestore.py\u001B[0m in \u001B[0;36mconnect_to_firestore\u001B[0;34m(credentials, database_url)\u001B[0m\n\u001B[1;32m     36\u001B[0m \u001B[0;34m\u001B[0m\u001B[0m\n\u001B[1;32m     37\u001B[0m     \u001B[0mcred\u001B[0m \u001B[0;34m=\u001B[0m \u001B[0mfirebase_admin\u001B[0m\u001B[0;34m.\u001B[0m\u001B[0mcredentials\u001B[0m\u001B[0;34m.\u001B[0m\u001B[0mCertificate\u001B[0m\u001B[0;34m(\u001B[0m\u001B[0mcredentials\u001B[0m\u001B[0;34m)\u001B[0m\u001B[0;34m\u001B[0m\u001B[0;34m\u001B[0m\u001B[0m\n\u001B[0;32m---> 38\u001B[0;31m     firebase_admin.initialize_app(cred, {\n\u001B[0m\u001B[1;32m     39\u001B[0m         \u001B[0;34m\"databaseURL\"\u001B[0m\u001B[0;34m:\u001B[0m \u001B[0mdatabase_url\u001B[0m\u001B[0;34m\u001B[0m\u001B[0;34m\u001B[0m\u001B[0m\n\u001B[1;32m     40\u001B[0m     })\n",
      "\u001B[0;32m~/opt/miniconda3/envs/dmcup2021/lib/python3.8/site-packages/firebase_admin/__init__.py\u001B[0m in \u001B[0;36minitialize_app\u001B[0;34m(credential, options, name)\u001B[0m\n\u001B[1;32m     69\u001B[0m \u001B[0;34m\u001B[0m\u001B[0m\n\u001B[1;32m     70\u001B[0m     \u001B[0;32mif\u001B[0m \u001B[0mname\u001B[0m \u001B[0;34m==\u001B[0m \u001B[0m_DEFAULT_APP_NAME\u001B[0m\u001B[0;34m:\u001B[0m\u001B[0;34m\u001B[0m\u001B[0;34m\u001B[0m\u001B[0m\n\u001B[0;32m---> 71\u001B[0;31m         raise ValueError((\n\u001B[0m\u001B[1;32m     72\u001B[0m             \u001B[0;34m'The default Firebase app already exists. This means you called '\u001B[0m\u001B[0;34m\u001B[0m\u001B[0;34m\u001B[0m\u001B[0m\n\u001B[1;32m     73\u001B[0m             \u001B[0;34m'initialize_app() more than once without providing an app name as '\u001B[0m\u001B[0;34m\u001B[0m\u001B[0;34m\u001B[0m\u001B[0m\n",
      "\u001B[0;31mValueError\u001B[0m: The default Firebase app already exists. This means you called initialize_app() more than once without providing an app name as the second argument. In most cases you only need to call initialize_app() once. But if you do want to initialize multiple apps, pass a second argument to initialize_app() to give each app a unique name."
     ]
    }
   ],
   "source": [
    "firestore_client = connect_to_firestore(credentials=\"../secrets/dmc-book-recommendation-firebase-adminsdk-yebqi-d805561028.json\",\n",
    "                         database_url=\"https://book-recommendation-website.firebaseio.com/\")"
   ]
  },
  {
   "cell_type": "code",
   "execution_count": 23,
   "metadata": {},
   "outputs": [
    {
     "name": "stderr",
     "output_type": "stream",
     "text": [
      "100%|██████████| 770/770 [01:45<00:00,  7.29it/s]\n"
     ]
    }
   ],
   "source": [
    "write_documents_to_collection(firestore_client, books_reduced_added, collection=\"books\")"
   ]
  },
  {
   "cell_type": "code",
   "execution_count": 24,
   "metadata": {},
   "outputs": [
    {
     "data": {
      "text/plain": [
       "26391"
      ]
     },
     "execution_count": 24,
     "metadata": {},
     "output_type": "execute_result"
    }
   ],
   "source": [
    "len(books_reduced_index.union(books_reduced_added_index))"
   ]
  },
  {
   "cell_type": "code",
   "execution_count": 25,
   "metadata": {},
   "outputs": [],
   "source": [
    "with open('../data/processed/books_reduced.pkl', 'wb') as file:\n",
    "    pickle.dump(books_reduced_index.union(books_reduced_added_index), file)"
   ]
  },
  {
   "cell_type": "markdown",
   "metadata": {},
   "source": [
    "## Delete error data"
   ]
  },
  {
   "cell_type": "code",
   "execution_count": null,
   "metadata": {},
   "outputs": [],
   "source": [
    "from src.data.firestore import connect_to_firestore, write_documents_to_collection"
   ]
  },
  {
   "cell_type": "code",
   "execution_count": null,
   "metadata": {},
   "outputs": [],
   "source": [
    "firestore_client = connect_to_firestore(credentials=\"../secrets/dmc-book-recommendation-firebase-adminsdk-yebqi-d805561028.json\",\n",
    "                         database_url=\"https://book-recommendation-website.firebaseio.com/\")"
   ]
  },
  {
   "cell_type": "code",
   "execution_count": null,
   "metadata": {},
   "outputs": [],
   "source": [
    "batch = firestore_client.batch()\n",
    "\n",
    "doc_ref = firestore_client.collection('model_scores').where('score', '!=', False).get()\n",
    "\n",
    "for doc in doc_ref:\n",
    "       batch.delete(doc.reference)\n",
    "\n",
    "batch.commit()"
   ]
  },
  {
   "cell_type": "code",
   "execution_count": null,
   "metadata": {},
   "outputs": [],
   "source": [
    "float('nan')"
   ]
  }
 ],
 "metadata": {
  "kernelspec": {
   "display_name": "Python 3",
   "language": "python",
   "name": "python3"
  },
  "language_info": {
   "codemirror_mode": {
    "name": "ipython",
    "version": 3
   },
   "file_extension": ".py",
   "mimetype": "text/x-python",
   "name": "python",
   "nbconvert_exporter": "python",
   "pygments_lexer": "ipython3",
   "version": "3.8.8"
  }
 },
 "nbformat": 4,
 "nbformat_minor": 1
}