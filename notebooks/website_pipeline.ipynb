{
 "cells": [
  {
   "cell_type": "markdown",
   "metadata": {
    "collapsed": true
   },
   "source": [
    "# Code to work with the website"
   ]
  },
  {
   "cell_type": "markdown",
   "metadata": {},
   "source": [
    "This notebook showcases all processed with the website that Python can do. You need a Firebase Admin key to work with the Firestore database."
   ]
  },
  {
   "cell_type": "markdown",
   "metadata": {},
   "source": [
    "## Create array for the website of evaluation books"
   ]
  },
  {
   "cell_type": "code",
   "execution_count": null,
   "metadata": {},
   "outputs": [],
   "source": [
    "import pandas as pd"
   ]
  },
  {
   "cell_type": "code",
   "execution_count": null,
   "metadata": {},
   "outputs": [],
   "source": [
    "evaluation_books = pd.read_csv(\"../data/external/evaluation.csv\")"
   ]
  },
  {
   "cell_type": "code",
   "execution_count": null,
   "metadata": {},
   "outputs": [],
   "source": [
    "textfile = open(\"../data/interim/evaluation.txt\", \"w\")\n",
    "for element in evaluation_books.itemID.tolist():\n",
    "    textfile.write(str(element) + \",\")\n",
    "textfile.close()"
   ]
  },
  {
   "cell_type": "markdown",
   "metadata": {},
   "source": [
    "## Download Decision data"
   ]
  },
  {
   "cell_type": "code",
   "execution_count": 1,
   "metadata": {},
   "outputs": [],
   "source": [
    "import pandas as pd\n",
    "from src.data.firestore import connect_to_firestore, retrieve_documents_from_collection"
   ]
  },
  {
   "cell_type": "code",
   "execution_count": 2,
   "metadata": {},
   "outputs": [],
   "source": [
    "firestore_client = connect_to_firestore(credentials=\"../secrets/dmc-book-recommendation-firebase-adminsdk-yebqi-d805561028.json\",\n",
    "                         database_url=\"https://book-recommendation-website.firebaseio.com/\")"
   ]
  },
  {
   "cell_type": "code",
   "execution_count": 3,
   "metadata": {},
   "outputs": [],
   "source": [
    "decisions_dict = retrieve_documents_from_collection(firestore_client, collection=\"decisions\")"
   ]
  },
  {
   "cell_type": "code",
   "execution_count": 7,
   "metadata": {},
   "outputs": [],
   "source": [
    "decisions = pd.DataFrame(decisions_dict)"
   ]
  },
  {
   "cell_type": "code",
   "execution_count": 8,
   "metadata": {},
   "outputs": [
    {
     "data": {
      "text/html": [
       "<div>\n",
       "<style scoped>\n",
       "    .dataframe tbody tr th:only-of-type {\n",
       "        vertical-align: middle;\n",
       "    }\n",
       "\n",
       "    .dataframe tbody tr th {\n",
       "        vertical-align: top;\n",
       "    }\n",
       "\n",
       "    .dataframe thead th {\n",
       "        text-align: right;\n",
       "    }\n",
       "</style>\n",
       "<table border=\"1\" class=\"dataframe\">\n",
       "  <thead>\n",
       "    <tr style=\"text-align: right;\">\n",
       "      <th></th>\n",
       "      <th>team</th>\n",
       "      <th>recommendation_shown_2</th>\n",
       "      <th>recommendation_shown_1</th>\n",
       "      <th>book_id</th>\n",
       "      <th>alias</th>\n",
       "      <th>model_1_id</th>\n",
       "      <th>decision</th>\n",
       "      <th>model_0_id</th>\n",
       "      <th>time</th>\n",
       "      <th>recommendation_shown_0</th>\n",
       "      <th>model_2_id</th>\n",
       "    </tr>\n",
       "  </thead>\n",
       "  <tbody>\n",
       "    <tr>\n",
       "      <th>0</th>\n",
       "      <td>MannheimMiners</td>\n",
       "      <td>69193</td>\n",
       "      <td>62101</td>\n",
       "      <td>77554</td>\n",
       "      <td>DP</td>\n",
       "      <td>model_2</td>\n",
       "      <td>recommendation_1</td>\n",
       "      <td>team404_base_model</td>\n",
       "      <td>2021-06-11 11:24:00.379000+00:00</td>\n",
       "      <td>39220</td>\n",
       "      <td>teamfivemodel</td>\n",
       "    </tr>\n",
       "    <tr>\n",
       "      <th>1</th>\n",
       "      <td>The Dataworms</td>\n",
       "      <td>3286</td>\n",
       "      <td>8732</td>\n",
       "      <td>25488</td>\n",
       "      <td>Mimimi</td>\n",
       "      <td>team404_base_model</td>\n",
       "      <td>recommendation_1</td>\n",
       "      <td>Hybrid_MeanAllClassifiers</td>\n",
       "      <td>2021-06-12 13:04:27.267000+00:00</td>\n",
       "      <td>9911</td>\n",
       "      <td>model_2</td>\n",
       "    </tr>\n",
       "    <tr>\n",
       "      <th>2</th>\n",
       "      <td>DataMinerz</td>\n",
       "      <td>41819</td>\n",
       "      <td>22378</td>\n",
       "      <td>31827</td>\n",
       "      <td>Jakob</td>\n",
       "      <td>Hybrid_MeanAllClassifiers</td>\n",
       "      <td>recommendation_1</td>\n",
       "      <td>team404_base_model</td>\n",
       "      <td>2021-06-08 09:51:03.521000+00:00</td>\n",
       "      <td>18009</td>\n",
       "      <td>teamfivemodel</td>\n",
       "    </tr>\n",
       "    <tr>\n",
       "      <th>3</th>\n",
       "      <td>The Dataworms</td>\n",
       "      <td>17252</td>\n",
       "      <td>17252</td>\n",
       "      <td>58236</td>\n",
       "      <td>Keyvan Amiri Elyasi</td>\n",
       "      <td>model_2</td>\n",
       "      <td>recommendation_2</td>\n",
       "      <td>Hybrid_MeanAllClassifiers</td>\n",
       "      <td>2021-06-13 14:07:45.203000+00:00</td>\n",
       "      <td>58236</td>\n",
       "      <td>first</td>\n",
       "    </tr>\n",
       "    <tr>\n",
       "      <th>4</th>\n",
       "      <td>D2G2</td>\n",
       "      <td>18048</td>\n",
       "      <td>14903</td>\n",
       "      <td>13970</td>\n",
       "      <td>seb</td>\n",
       "      <td>first</td>\n",
       "      <td>recommendation_2</td>\n",
       "      <td>teamfivemodel</td>\n",
       "      <td>2021-06-10 07:30:03.276000+00:00</td>\n",
       "      <td>23529</td>\n",
       "      <td>Hybrid_MeanAllClassifiers</td>\n",
       "    </tr>\n",
       "    <tr>\n",
       "      <th>...</th>\n",
       "      <td>...</td>\n",
       "      <td>...</td>\n",
       "      <td>...</td>\n",
       "      <td>...</td>\n",
       "      <td>...</td>\n",
       "      <td>...</td>\n",
       "      <td>...</td>\n",
       "      <td>...</td>\n",
       "      <td>...</td>\n",
       "      <td>...</td>\n",
       "      <td>...</td>\n",
       "    </tr>\n",
       "    <tr>\n",
       "      <th>6308</th>\n",
       "      <td>The Dataworms</td>\n",
       "      <td>43537</td>\n",
       "      <td>69203</td>\n",
       "      <td>1460</td>\n",
       "      <td>Keyvan Amiri Elyasi</td>\n",
       "      <td>Hybrid_MeanAllClassifiers</td>\n",
       "      <td>recommendation_1</td>\n",
       "      <td>model_2</td>\n",
       "      <td>2021-06-13 09:49:02.868000+00:00</td>\n",
       "      <td>9211</td>\n",
       "      <td>first</td>\n",
       "    </tr>\n",
       "    <tr>\n",
       "      <th>6309</th>\n",
       "      <td>Dataworms</td>\n",
       "      <td>32762</td>\n",
       "      <td>70706</td>\n",
       "      <td>77956</td>\n",
       "      <td>Nazanin</td>\n",
       "      <td>model_2</td>\n",
       "      <td>recommendation_2</td>\n",
       "      <td>team404_base_model</td>\n",
       "      <td>2021-06-13 08:53:22.354000+00:00</td>\n",
       "      <td>33972</td>\n",
       "      <td>first</td>\n",
       "    </tr>\n",
       "    <tr>\n",
       "      <th>6310</th>\n",
       "      <td>flying chicken wings</td>\n",
       "      <td>60471</td>\n",
       "      <td>51370</td>\n",
       "      <td>13382</td>\n",
       "      <td>Guszti</td>\n",
       "      <td>teamfivemodel</td>\n",
       "      <td>recommendation_0</td>\n",
       "      <td>team404_base_model</td>\n",
       "      <td>2021-06-12 09:22:04.701000+00:00</td>\n",
       "      <td>69023</td>\n",
       "      <td>model_2</td>\n",
       "    </tr>\n",
       "    <tr>\n",
       "      <th>6311</th>\n",
       "      <td>MannheimMiners</td>\n",
       "      <td>1041</td>\n",
       "      <td>1041</td>\n",
       "      <td>8542</td>\n",
       "      <td>bechtify</td>\n",
       "      <td>teamfivemodel</td>\n",
       "      <td>recommendation_0</td>\n",
       "      <td>first</td>\n",
       "      <td>2021-06-11 11:57:13.815000+00:00</td>\n",
       "      <td>1041</td>\n",
       "      <td>model_2</td>\n",
       "    </tr>\n",
       "    <tr>\n",
       "      <th>6312</th>\n",
       "      <td>DataMinerz</td>\n",
       "      <td>73625</td>\n",
       "      <td>15993</td>\n",
       "      <td>33558</td>\n",
       "      <td>Tim Bleil</td>\n",
       "      <td>first</td>\n",
       "      <td>recommendation_1</td>\n",
       "      <td>teamfivemodel</td>\n",
       "      <td>2021-06-14 12:48:41.310000+00:00</td>\n",
       "      <td>35233</td>\n",
       "      <td>team404_base_model</td>\n",
       "    </tr>\n",
       "  </tbody>\n",
       "</table>\n",
       "<p>6313 rows × 11 columns</p>\n",
       "</div>"
      ],
      "text/plain": [
       "                      team  recommendation_shown_2  recommendation_shown_1  \\\n",
       "0           MannheimMiners                   69193                   62101   \n",
       "1            The Dataworms                    3286                    8732   \n",
       "2               DataMinerz                   41819                   22378   \n",
       "3            The Dataworms                   17252                   17252   \n",
       "4                     D2G2                   18048                   14903   \n",
       "...                    ...                     ...                     ...   \n",
       "6308         The Dataworms                   43537                   69203   \n",
       "6309             Dataworms                   32762                   70706   \n",
       "6310  flying chicken wings                   60471                   51370   \n",
       "6311        MannheimMiners                    1041                    1041   \n",
       "6312            DataMinerz                   73625                   15993   \n",
       "\n",
       "      book_id                alias                 model_1_id  \\\n",
       "0       77554                   DP                    model_2   \n",
       "1       25488               Mimimi         team404_base_model   \n",
       "2       31827                Jakob  Hybrid_MeanAllClassifiers   \n",
       "3       58236  Keyvan Amiri Elyasi                    model_2   \n",
       "4       13970                  seb                      first   \n",
       "...       ...                  ...                        ...   \n",
       "6308     1460  Keyvan Amiri Elyasi  Hybrid_MeanAllClassifiers   \n",
       "6309    77956              Nazanin                    model_2   \n",
       "6310    13382               Guszti              teamfivemodel   \n",
       "6311     8542             bechtify              teamfivemodel   \n",
       "6312    33558            Tim Bleil                      first   \n",
       "\n",
       "              decision                 model_0_id  \\\n",
       "0     recommendation_1         team404_base_model   \n",
       "1     recommendation_1  Hybrid_MeanAllClassifiers   \n",
       "2     recommendation_1         team404_base_model   \n",
       "3     recommendation_2  Hybrid_MeanAllClassifiers   \n",
       "4     recommendation_2              teamfivemodel   \n",
       "...                ...                        ...   \n",
       "6308  recommendation_1                    model_2   \n",
       "6309  recommendation_2         team404_base_model   \n",
       "6310  recommendation_0         team404_base_model   \n",
       "6311  recommendation_0                      first   \n",
       "6312  recommendation_1              teamfivemodel   \n",
       "\n",
       "                                 time  recommendation_shown_0  \\\n",
       "0    2021-06-11 11:24:00.379000+00:00                   39220   \n",
       "1    2021-06-12 13:04:27.267000+00:00                    9911   \n",
       "2    2021-06-08 09:51:03.521000+00:00                   18009   \n",
       "3    2021-06-13 14:07:45.203000+00:00                   58236   \n",
       "4    2021-06-10 07:30:03.276000+00:00                   23529   \n",
       "...                               ...                     ...   \n",
       "6308 2021-06-13 09:49:02.868000+00:00                    9211   \n",
       "6309 2021-06-13 08:53:22.354000+00:00                   33972   \n",
       "6310 2021-06-12 09:22:04.701000+00:00                   69023   \n",
       "6311 2021-06-11 11:57:13.815000+00:00                    1041   \n",
       "6312 2021-06-14 12:48:41.310000+00:00                   35233   \n",
       "\n",
       "                     model_2_id  \n",
       "0                 teamfivemodel  \n",
       "1                       model_2  \n",
       "2                 teamfivemodel  \n",
       "3                         first  \n",
       "4     Hybrid_MeanAllClassifiers  \n",
       "...                         ...  \n",
       "6308                      first  \n",
       "6309                      first  \n",
       "6310                    model_2  \n",
       "6311                    model_2  \n",
       "6312         team404_base_model  \n",
       "\n",
       "[6313 rows x 11 columns]"
      ]
     },
     "execution_count": 8,
     "metadata": {},
     "output_type": "execute_result"
    }
   ],
   "source": [
    "decisions.to_csv(\"../decisions.csv\", index = False)"
   ]
  },
  {
   "cell_type": "markdown",
   "metadata": {},
   "source": [
    "## Upload book information to the website"
   ]
  },
  {
   "cell_type": "code",
   "execution_count": null,
   "metadata": {},
   "outputs": [],
   "source": [
    "import pandas as pd\n",
    "from src.data.firestore import connect_to_firestore, write_documents_to_collection"
   ]
  },
  {
   "cell_type": "code",
   "execution_count": null,
   "metadata": {},
   "outputs": [],
   "source": [
    "books_path = \"../data/processed/books.csv\"\n",
    "books_reduced_path = \"../data/processed/books_reduced.csv\""
   ]
  },
  {
   "cell_type": "code",
   "execution_count": null,
   "metadata": {},
   "outputs": [],
   "source": [
    "books = pd.read_csv(books_path,index_col = 0)\n",
    "books_reduced_index = pd.read_csv(books_reduced_path,index_col = 0)"
   ]
  },
  {
   "cell_type": "code",
   "execution_count": null,
   "metadata": {},
   "outputs": [],
   "source": [
    "books.set_index(\"itemID\", inplace = True)"
   ]
  },
  {
   "cell_type": "code",
   "execution_count": null,
   "metadata": {},
   "outputs": [],
   "source": [
    "books_reduced = books.filter(books_reduced_index.book_id.tolist(), axis = 0)"
   ]
  },
  {
   "cell_type": "code",
   "execution_count": null,
   "metadata": {},
   "outputs": [],
   "source": [
    "books_reduced.reset_index(inplace = True)"
   ]
  },
  {
   "cell_type": "code",
   "execution_count": null,
   "metadata": {},
   "outputs": [],
   "source": [
    "books_reduced"
   ]
  },
  {
   "cell_type": "code",
   "execution_count": null,
   "metadata": {},
   "outputs": [],
   "source": [
    "firestore_client = connect_to_firestore(credentials=\"../secrets/dmc-book-recommendation-firebase-adminsdk-yebqi-d805561028.json\",\n",
    "                         database_url=\"https://book-recommendation-website.firebaseio.com/\")"
   ]
  },
  {
   "cell_type": "markdown",
   "metadata": {},
   "source": [
    "Since we have a free tier on firebase we need to upload multiple days. In moment we have the first 10.000 online."
   ]
  },
  {
   "cell_type": "code",
   "execution_count": null,
   "metadata": {},
   "outputs": [],
   "source": [
    "write_documents_to_collection(firestore_client, books_reduced, collection=\"books\")"
   ]
  },
  {
   "cell_type": "markdown",
   "metadata": {},
   "source": [
    "## Upload a new model to the website"
   ]
  },
  {
   "cell_type": "markdown",
   "metadata": {},
   "source": [
    "If a team sends us a new model, we can upload it to the website with a simple function. Before we upload the recommendations, we have to create document in the model_scores collection for the new model. This requires to use the firebase backend."
   ]
  },
  {
   "cell_type": "code",
   "execution_count": null,
   "metadata": {},
   "outputs": [],
   "source": [
    "import pandas as pd\n",
    "from src.data.firestore import connect_to_firestore, write_documents_to_collection"
   ]
  },
  {
   "cell_type": "markdown",
   "metadata": {},
   "source": [
    "Code for Team DataMinerz"
   ]
  },
  {
   "cell_type": "code",
   "execution_count": null,
   "metadata": {},
   "outputs": [],
   "source": [
    "DataMinerz_path = \"../data/processed/recommendations.csv\""
   ]
  },
  {
   "cell_type": "code",
   "execution_count": null,
   "metadata": {},
   "outputs": [],
   "source": [
    "DataMinerz_recommendations = pd.read_csv(DataMinerz_path,index_col = 0)"
   ]
  },
  {
   "cell_type": "code",
   "execution_count": null,
   "metadata": {},
   "outputs": [],
   "source": [
    "DataMinerz_recommendations"
   ]
  },
  {
   "cell_type": "code",
   "execution_count": null,
   "metadata": {},
   "outputs": [],
   "source": [
    "firestore_client = connect_to_firestore(credentials=\"../secrets/dmc-book-recommendation-firebase-adminsdk-yebqi-d805561028.json\",\n",
    "                         database_url=\"https://book-recommendation-website.firebaseio.com/\")"
   ]
  },
  {
   "cell_type": "code",
   "execution_count": null,
   "metadata": {},
   "outputs": [],
   "source": [
    "write_documents_to_collection(firestore_client, DataMinerz_recommendations, collection=\"recommendations\")"
   ]
  },
  {
   "cell_type": "markdown",
   "metadata": {},
   "source": [
    "Code for Team MannheimMiners"
   ]
  },
  {
   "cell_type": "code",
   "execution_count": null,
   "metadata": {},
   "outputs": [],
   "source": [
    "mannheimminers_path = \"../data/processed/MannheimMiners.csv\""
   ]
  },
  {
   "cell_type": "code",
   "execution_count": null,
   "metadata": {},
   "outputs": [],
   "source": [
    "mannheimminers_recommendations = pd.read_csv(mannheimminers_path,index_col = 0)"
   ]
  },
  {
   "cell_type": "code",
   "execution_count": null,
   "metadata": {},
   "outputs": [],
   "source": [
    "mannheimminers_recommendations.dropna(inplace=True)"
   ]
  },
  {
   "cell_type": "code",
   "execution_count": null,
   "metadata": {},
   "outputs": [],
   "source": [
    "mannheimminers_processed = mannheimminers_recommendations.astype({\"book_id\": int, \"model_id\": str,\n",
    "                                                                        \"team_id\": str, \"recommendation_1\":int,\n",
    "                                                                        \"recommendation_2\":int,\n",
    "                                                                        \"recommendation_3\":int, \n",
    "                                                                        \"recommendation_4\":int,\n",
    "                                                                        \"recommendation_5\":int})"
   ]
  },
  {
   "cell_type": "code",
   "execution_count": null,
   "metadata": {},
   "outputs": [],
   "source": [
    "mannheimminers_processed"
   ]
  },
  {
   "cell_type": "code",
   "execution_count": null,
   "metadata": {},
   "outputs": [],
   "source": [
    "firestore_client = connect_to_firestore(credentials=\"../secrets/dmc-book-recommendation-firebase-adminsdk-yebqi-d805561028.json\",\n",
    "                         database_url=\"https://book-recommendation-website.firebaseio.com/\")"
   ]
  },
  {
   "cell_type": "code",
   "execution_count": null,
   "metadata": {},
   "outputs": [],
   "source": [
    "write_documents_to_collection(firestore_client, mannheimminers_processed, collection=\"recommendations\")"
   ]
  },
  {
   "cell_type": "markdown",
   "metadata": {},
   "source": [
    "Code for Team team404"
   ]
  },
  {
   "cell_type": "code",
   "execution_count": null,
   "metadata": {},
   "outputs": [],
   "source": [
    "team404_path = \"../data/processed/Team_02.xlsx\""
   ]
  },
  {
   "cell_type": "code",
   "execution_count": null,
   "metadata": {},
   "outputs": [],
   "source": [
    "team404_recommendations = pd.read_excel(team404_path,index_col = 0)"
   ]
  },
  {
   "cell_type": "code",
   "execution_count": null,
   "metadata": {},
   "outputs": [],
   "source": [
    "team404_recommendations.dropna(inplace=True)"
   ]
  },
  {
   "cell_type": "code",
   "execution_count": null,
   "metadata": {},
   "outputs": [],
   "source": [
    "team404_recommendations.reset_index(inplace = True)"
   ]
  },
  {
   "cell_type": "code",
   "execution_count": null,
   "metadata": {},
   "outputs": [],
   "source": [
    "team404_processed = team404_recommendations.astype({\"book_id\": int, \"model_id\": str,\n",
    "                                                                        \"team_id\": str, \"recommendation_1\":int,\n",
    "                                                                        \"recommendation_2\":int,\n",
    "                                                                        \"recommendation_3\":int, \n",
    "                                                                        \"recommendation_4\":int,\n",
    "                                                                        \"recommendation_5\":int})"
   ]
  },
  {
   "cell_type": "code",
   "execution_count": null,
   "metadata": {},
   "outputs": [],
   "source": [
    "team404_processed"
   ]
  },
  {
   "cell_type": "code",
   "execution_count": null,
   "metadata": {},
   "outputs": [],
   "source": [
    "firestore_client = connect_to_firestore(credentials=\"../secrets/dmc-book-recommendation-firebase-adminsdk-yebqi-d805561028.json\",\n",
    "                         database_url=\"https://book-recommendation-website.firebaseio.com/\")"
   ]
  },
  {
   "cell_type": "code",
   "execution_count": null,
   "metadata": {},
   "outputs": [],
   "source": [
    "write_documents_to_collection(firestore_client, team404_processed, collection=\"recommendations\")"
   ]
  },
  {
   "cell_type": "markdown",
   "metadata": {},
   "source": [
    "Code for Team minefromhome"
   ]
  },
  {
   "cell_type": "code",
   "execution_count": null,
   "metadata": {},
   "outputs": [],
   "source": [
    "minefromhome_path = \"../data/processed/Team_05.csv\""
   ]
  },
  {
   "cell_type": "code",
   "execution_count": null,
   "metadata": {},
   "outputs": [],
   "source": [
    "minefromhome_recommendations = pd.read_csv(minefromhome_path,index_col = 0, names = [\"book_id\",\n",
    "                                                                                     \"model_id\",\n",
    "                                                                                     \"team_id\",\n",
    "                                                                                     \"recommendation_1\",\n",
    "                                                                                     \"recommendation_2\",\n",
    "                                                                                     \"recommendation_3\",\n",
    "                                                                                     \"recommendation_4\",\n",
    "                                                                                     \"recommendation_5\"])"
   ]
  },
  {
   "cell_type": "code",
   "execution_count": null,
   "metadata": {},
   "outputs": [],
   "source": [
    "minefromhome_recommendations"
   ]
  },
  {
   "cell_type": "code",
   "execution_count": null,
   "metadata": {},
   "outputs": [],
   "source": [
    "minefromhome_recommendations.dropna(inplace=True)"
   ]
  },
  {
   "cell_type": "code",
   "execution_count": null,
   "metadata": {},
   "outputs": [],
   "source": [
    "minefromhome_recommendations.reset_index(inplace = True)"
   ]
  },
  {
   "cell_type": "code",
   "execution_count": null,
   "metadata": {},
   "outputs": [],
   "source": [
    "minefromhome_processed = minefromhome_recommendations.astype({\"book_id\": int, \"model_id\": str,\n",
    "                                                                        \"team_id\": str, \"recommendation_1\":int,\n",
    "                                                                        \"recommendation_2\":int,\n",
    "                                                                        \"recommendation_3\":int, \n",
    "                                                                        \"recommendation_4\":int,\n",
    "                                                                        \"recommendation_5\":int})"
   ]
  },
  {
   "cell_type": "code",
   "execution_count": null,
   "metadata": {},
   "outputs": [],
   "source": [
    "minefromhome_processed"
   ]
  },
  {
   "cell_type": "code",
   "execution_count": null,
   "metadata": {},
   "outputs": [],
   "source": [
    "firestore_client = connect_to_firestore(credentials=\"../secrets/dmc-book-recommendation-firebase-adminsdk-yebqi-d805561028.json\",\n",
    "                         database_url=\"https://book-recommendation-website.firebaseio.com/\")"
   ]
  },
  {
   "cell_type": "code",
   "execution_count": null,
   "metadata": {},
   "outputs": [],
   "source": [
    "write_documents_to_collection(firestore_client, minefromhome_processed, collection=\"recommendations\")"
   ]
  },
  {
   "cell_type": "markdown",
   "metadata": {},
   "source": [
    "Code for Team flying_chicken_wings"
   ]
  },
  {
   "cell_type": "code",
   "execution_count": null,
   "metadata": {},
   "outputs": [],
   "source": [
    "flying_chicken_wings_path = \"../data/processed/Team_06.xlsx\""
   ]
  },
  {
   "cell_type": "code",
   "execution_count": null,
   "metadata": {},
   "outputs": [],
   "source": [
    "flying_chicken_wings_recommendations = pd.read_excel(flying_chicken_wings_path)"
   ]
  },
  {
   "cell_type": "code",
   "execution_count": null,
   "metadata": {},
   "outputs": [],
   "source": [
    "flying_chicken_wings_recommendations.dropna(inplace=True)"
   ]
  },
  {
   "cell_type": "code",
   "execution_count": null,
   "metadata": {},
   "outputs": [],
   "source": [
    "flying_chicken_wings_processed = flying_chicken_wings_recommendations.astype({\"book_id\": int, \"model_id\": str,\n",
    "                                                                        \"team_id\": str, \"recommendation_1\":int,\n",
    "                                                                        \"recommendation_2\":int,\n",
    "                                                                        \"recommendation_3\":int, \n",
    "                                                                        \"recommendation_4\":int,\n",
    "                                                                        \"recommendation_5\":int})"
   ]
  },
  {
   "cell_type": "code",
   "execution_count": null,
   "metadata": {},
   "outputs": [],
   "source": [
    "flying_chicken_wings_processed"
   ]
  },
  {
   "cell_type": "code",
   "execution_count": null,
   "metadata": {},
   "outputs": [],
   "source": [
    "\"team404_base_model\", \"teamfivemodel\", \"Hybrid_MeanAllClassifiers\"]"
   ]
  },
  {
   "cell_type": "code",
   "execution_count": null,
   "metadata": {},
   "outputs": [],
   "source": [
    "firestore_client = connect_to_firestore(credentials=\"../secrets/dmc-book-recommendation-firebase-adminsdk-yebqi-d805561028.json\",\n",
    "                         database_url=\"https://book-recommendation-website.firebaseio.com/\")"
   ]
  },
  {
   "cell_type": "code",
   "execution_count": null,
   "metadata": {},
   "outputs": [],
   "source": [
    "write_documents_to_collection(firestore_client, flying_chicken_wings_processed, collection=\"recommendations\")"
   ]
  },
  {
   "cell_type": "markdown",
   "metadata": {},
   "source": [
    "Code for Team flying_chicken_wings"
   ]
  },
  {
   "cell_type": "code",
   "execution_count": null,
   "metadata": {},
   "outputs": [],
   "source": [
    "flying_chicken_wings_path = \"../data/processed/Team_06.xlsx\""
   ]
  },
  {
   "cell_type": "code",
   "execution_count": null,
   "metadata": {},
   "outputs": [],
   "source": [
    "flying_chicken_wings_recommendations = pd.read_excel(flying_chicken_wings_path)"
   ]
  },
  {
   "cell_type": "code",
   "execution_count": null,
   "metadata": {},
   "outputs": [],
   "source": [
    "flying_chicken_wings_recommendations.dropna(inplace=True)"
   ]
  },
  {
   "cell_type": "code",
   "execution_count": null,
   "metadata": {},
   "outputs": [],
   "source": [
    "flying_chicken_wings_processed = flying_chicken_wings_recommendations.astype({\"book_id\": int, \"model_id\": str,\n",
    "                                                                        \"team_id\": str, \"recommendation_1\":int,\n",
    "                                                                        \"recommendation_2\":int,\n",
    "                                                                        \"recommendation_3\":int, \n",
    "                                                                        \"recommendation_4\":int,\n",
    "                                                                        \"recommendation_5\":int})"
   ]
  },
  {
   "cell_type": "code",
   "execution_count": null,
   "metadata": {},
   "outputs": [],
   "source": [
    "flying_chicken_wings_processed"
   ]
  },
  {
   "cell_type": "code",
   "execution_count": null,
   "metadata": {},
   "outputs": [],
   "source": [
    "\"team404_base_model\", \"teamfivemodel\", \"Hybrid_MeanAllClassifiers\"]"
   ]
  },
  {
   "cell_type": "code",
   "execution_count": null,
   "metadata": {},
   "outputs": [],
   "source": [
    "firestore_client = connect_to_firestore(credentials=\"../secrets/dmc-book-recommendation-firebase-adminsdk-yebqi-d805561028.json\",\n",
    "                         database_url=\"https://book-recommendation-website.firebaseio.com/\")"
   ]
  },
  {
   "cell_type": "code",
   "execution_count": null,
   "metadata": {},
   "outputs": [],
   "source": [
    "write_documents_to_collection(firestore_client, flying_chicken_wings_processed, collection=\"recommendations\")"
   ]
  },
  {
   "cell_type": "markdown",
   "metadata": {},
   "source": [
    "Code for d2g2"
   ]
  },
  {
   "cell_type": "code",
   "execution_count": null,
   "metadata": {},
   "outputs": [],
   "source": [
    "d2g2_path = \"../data/processed/hybrid_linear_bpe_graph.csv\""
   ]
  },
  {
   "cell_type": "code",
   "execution_count": null,
   "metadata": {},
   "outputs": [],
   "source": [
    "d2g2_recommendations = pd.read_csv(d2g2_path)"
   ]
  },
  {
   "cell_type": "code",
   "execution_count": null,
   "metadata": {},
   "outputs": [],
   "source": [
    "d2g2_recommendations"
   ]
  },
  {
   "cell_type": "code",
   "execution_count": null,
   "metadata": {},
   "outputs": [],
   "source": [
    "d2g2_recommendations.dropna(inplace=True)"
   ]
  },
  {
   "cell_type": "code",
   "execution_count": null,
   "metadata": {},
   "outputs": [],
   "source": [
    "d2g2_processed = d2g2_recommendations.astype({\"book_id\": int, \"model_id\": str,\n",
    "                                                                        \"team_id\": str, \"recommendation_1\":int,\n",
    "                                                                        \"recommendation_2\":int,\n",
    "                                                                        \"recommendation_3\":int, \n",
    "                                                                        \"recommendation_4\":int,\n",
    "                                                                        \"recommendation_5\":int})"
   ]
  },
  {
   "cell_type": "code",
   "execution_count": null,
   "metadata": {},
   "outputs": [],
   "source": [
    "d2g2_processed"
   ]
  },
  {
   "cell_type": "code",
   "execution_count": null,
   "metadata": {},
   "outputs": [],
   "source": [
    "firestore_client = connect_to_firestore(credentials=\"../secrets/dmc-book-recommendation-firebase-adminsdk-yebqi-d805561028.json\",\n",
    "                         database_url=\"https://book-recommendation-website.firebaseio.com/\")"
   ]
  },
  {
   "cell_type": "code",
   "execution_count": null,
   "metadata": {},
   "outputs": [],
   "source": [
    "write_documents_to_collection(firestore_client, d2g2_processed, collection=\"recommendations\")"
   ]
  },
  {
   "cell_type": "markdown",
   "metadata": {},
   "source": [
    "## Update book information to the website"
   ]
  },
  {
   "cell_type": "code",
   "execution_count": null,
   "metadata": {},
   "outputs": [],
   "source": [
    "import pandas as pd\n",
    "import pickle\n",
    "from src.data.firestore import connect_to_firestore, write_documents_to_collection"
   ]
  },
  {
   "cell_type": "code",
   "execution_count": null,
   "metadata": {},
   "outputs": [],
   "source": [
    "books_path = \"../data/processed/books.csv\"\n",
    "books_reduced_path = \"../data/processed/books_reduced.pkl\""
   ]
  },
  {
   "cell_type": "code",
   "execution_count": null,
   "metadata": {},
   "outputs": [],
   "source": [
    "books = pd.read_csv(books_path,index_col = 0)\n",
    "books_reduced_index = pd.read_pickle(books_reduced_path)"
   ]
  },
  {
   "cell_type": "code",
   "execution_count": null,
   "metadata": {},
   "outputs": [],
   "source": [
    "books_added_index = set(pd.melt(d2g2_processed, value_vars=['recommendation_1',\n",
    "                                       'recommendation_2',\n",
    "                                       'recommendation_3',\n",
    "                                       'recommendation_4',\n",
    "                                       'recommendation_5']).value.tolist())"
   ]
  },
  {
   "cell_type": "code",
   "execution_count": null,
   "metadata": {},
   "outputs": [],
   "source": [
    "len(books_reduced_index)"
   ]
  },
  {
   "cell_type": "code",
   "execution_count": null,
   "metadata": {},
   "outputs": [],
   "source": [
    "len(books_added_index)"
   ]
  },
  {
   "cell_type": "code",
   "execution_count": null,
   "metadata": {},
   "outputs": [],
   "source": [
    "books_reduced_added_index = {index for index in books_added_index if index not in books_reduced_index}"
   ]
  },
  {
   "cell_type": "code",
   "execution_count": null,
   "metadata": {},
   "outputs": [],
   "source": [
    "len(books_reduced_added_index)"
   ]
  },
  {
   "cell_type": "code",
   "execution_count": null,
   "metadata": {},
   "outputs": [],
   "source": [
    "books.set_index(\"itemID\", inplace = True)"
   ]
  },
  {
   "cell_type": "code",
   "execution_count": null,
   "metadata": {},
   "outputs": [],
   "source": [
    "books_reduced_added = books.filter(books_reduced_added_index, axis = 0)"
   ]
  },
  {
   "cell_type": "code",
   "execution_count": null,
   "metadata": {},
   "outputs": [],
   "source": [
    "books_reduced_added.reset_index(inplace = True)"
   ]
  },
  {
   "cell_type": "code",
   "execution_count": null,
   "metadata": {},
   "outputs": [],
   "source": [
    "books_reduced_added"
   ]
  },
  {
   "cell_type": "code",
   "execution_count": null,
   "metadata": {},
   "outputs": [],
   "source": [
    "firestore_client = connect_to_firestore(credentials=\"../secrets/dmc-book-recommendation-firebase-adminsdk-yebqi-d805561028.json\",\n",
    "                         database_url=\"https://book-recommendation-website.firebaseio.com/\")"
   ]
  },
  {
   "cell_type": "code",
   "execution_count": null,
   "metadata": {},
   "outputs": [],
   "source": [
    "write_documents_to_collection(firestore_client, books_reduced_added, collection=\"books\")"
   ]
  },
  {
   "cell_type": "code",
   "execution_count": null,
   "metadata": {},
   "outputs": [],
   "source": [
    "len(books_reduced_index.union(books_reduced_added_index))"
   ]
  },
  {
   "cell_type": "code",
   "execution_count": null,
   "metadata": {},
   "outputs": [],
   "source": [
    "with open('../data/processed/books_reduced.pkl', 'wb') as file:\n",
    "    pickle.dump(books_reduced_index.union(books_reduced_added_index), file)"
   ]
  },
  {
   "cell_type": "markdown",
   "metadata": {},
   "source": [
    "## Delete error data"
   ]
  },
  {
   "cell_type": "code",
   "execution_count": null,
   "metadata": {},
   "outputs": [],
   "source": [
    "from src.data.firestore import connect_to_firestore, write_documents_to_collection"
   ]
  },
  {
   "cell_type": "code",
   "execution_count": null,
   "metadata": {},
   "outputs": [],
   "source": [
    "firestore_client = connect_to_firestore(credentials=\"../secrets/dmc-book-recommendation-firebase-adminsdk-yebqi-d805561028.json\",\n",
    "                         database_url=\"https://book-recommendation-website.firebaseio.com/\")"
   ]
  },
  {
   "cell_type": "code",
   "execution_count": null,
   "metadata": {},
   "outputs": [],
   "source": [
    "batch = firestore_client.batch()\n",
    "\n",
    "doc_ref = firestore_client.collection('model_scores').where('score', '!=', False).get()\n",
    "\n",
    "for doc in doc_ref:\n",
    "       batch.delete(doc.reference)\n",
    "\n",
    "batch.commit()"
   ]
  },
  {
   "cell_type": "code",
   "execution_count": null,
   "metadata": {},
   "outputs": [],
   "source": [
    "float('nan')"
   ]
  }
 ],
 "metadata": {
  "kernelspec": {
   "display_name": "Python 3",
   "language": "python",
   "name": "python3"
  },
  "language_info": {
   "codemirror_mode": {
    "name": "ipython",
    "version": 3
   },
   "file_extension": ".py",
   "mimetype": "text/x-python",
   "name": "python",
   "nbconvert_exporter": "python",
   "pygments_lexer": "ipython3",
   "version": "3.8.8"
  }
 },
 "nbformat": 4,
 "nbformat_minor": 1
}