{
 "cells": [
  {
   "cell_type": "markdown",
   "metadata": {
    "collapsed": true
   },
   "source": [
    "# Code to work with the website"
   ]
  },
  {
   "cell_type": "markdown",
   "metadata": {},
   "source": [
    "This notebook showcases all processed with the website that Python can do. You need a Firebase Admin key to work with the Firestore database."
   ]
  },
  {
   "cell_type": "markdown",
   "metadata": {},
   "source": [
    "## Create array for the website of evaluation books"
   ]
  },
  {
   "cell_type": "code",
   "execution_count": null,
   "metadata": {},
   "outputs": [],
   "source": [
    "import pandas as pd"
   ]
  },
  {
   "cell_type": "code",
   "execution_count": null,
   "metadata": {},
   "outputs": [],
   "source": [
    "evaluation_books = pd.read_csv(\"../data/external/evaluation.csv\")"
   ]
  },
  {
   "cell_type": "code",
   "execution_count": null,
   "metadata": {},
   "outputs": [],
   "source": [
    "textfile = open(\"../data/interim/evaluation.txt\", \"w\")\n",
    "for element in evaluation_books.itemID.tolist():\n",
    "    textfile.write(str(element) + \",\")\n",
    "textfile.close()"
   ]
  },
  {
   "cell_type": "markdown",
   "metadata": {},
   "source": [
    "## Download Decision data"
   ]
  },
  {
   "cell_type": "code",
   "execution_count": 1,
   "metadata": {},
   "outputs": [],
   "source": [
    "import pandas as pd\n",
    "from src.data.firestore import connect_to_firestore, retrieve_documents_from_collection"
   ]
  },
  {
   "cell_type": "code",
   "execution_count": 2,
   "metadata": {},
   "outputs": [],
   "source": [
    "firestore_client = connect_to_firestore(credentials=\"../secrets/dmc-book-recommendation-firebase-adminsdk-yebqi-d805561028.json\",\n",
    "                         database_url=\"https://book-recommendation-website.firebaseio.com/\")"
   ]
  },
  {
   "cell_type": "code",
   "execution_count": 3,
   "metadata": {},
   "outputs": [],
   "source": [
    "decisions_dict = retrieve_documents_from_collection(firestore_client, collection=\"decisions\")"
   ]
  },
  {
   "cell_type": "code",
   "execution_count": 4,
   "metadata": {},
   "outputs": [],
   "source": [
    "decisions = pd.DataFrame(decisions_dict)"
   ]
  },
  {
   "cell_type": "code",
   "execution_count": 5,
   "metadata": {},
   "outputs": [],
   "source": [
    "decisions.to_csv(\"../data/processed/decisions.csv\", index = False)"
   ]
  },
  {
   "cell_type": "markdown",
   "metadata": {},
   "source": [
    "## Upload book information to the website"
   ]
  },
  {
   "cell_type": "code",
   "execution_count": null,
   "metadata": {},
   "outputs": [],
   "source": [
    "import pandas as pd\n",
    "from src.data.firestore import connect_to_firestore, write_documents_to_collection"
   ]
  },
  {
   "cell_type": "code",
   "execution_count": null,
   "metadata": {},
   "outputs": [],
   "source": [
    "books_path = \"../data/processed/books.csv\"\n",
    "books_reduced_path = \"../data/processed/books_reduced.csv\""
   ]
  },
  {
   "cell_type": "code",
   "execution_count": null,
   "metadata": {},
   "outputs": [],
   "source": [
    "books = pd.read_csv(books_path,index_col = 0)\n",
    "books_reduced_index = pd.read_csv(books_reduced_path,index_col = 0)"
   ]
  },
  {
   "cell_type": "code",
   "execution_count": null,
   "metadata": {},
   "outputs": [],
   "source": [
    "books.set_index(\"itemID\", inplace = True)"
   ]
  },
  {
   "cell_type": "code",
   "execution_count": null,
   "metadata": {},
   "outputs": [],
   "source": [
    "books_reduced = books.filter(books_reduced_index.book_id.tolist(), axis = 0)"
   ]
  },
  {
   "cell_type": "code",
   "execution_count": null,
   "metadata": {},
   "outputs": [],
   "source": [
    "books_reduced.reset_index(inplace = True)"
   ]
  },
  {
   "cell_type": "code",
   "execution_count": null,
   "metadata": {},
   "outputs": [],
   "source": [
    "books_reduced"
   ]
  },
  {
   "cell_type": "code",
   "execution_count": null,
   "metadata": {},
   "outputs": [],
   "source": [
    "firestore_client = connect_to_firestore(credentials=\"../secrets/dmc-book-recommendation-firebase-adminsdk-yebqi-d805561028.json\",\n",
    "                         database_url=\"https://book-recommendation-website.firebaseio.com/\")"
   ]
  },
  {
   "cell_type": "markdown",
   "metadata": {},
   "source": [
    "Since we have a free tier on firebase we need to upload multiple days. In moment we have the first 10.000 online."
   ]
  },
  {
   "cell_type": "code",
   "execution_count": null,
   "metadata": {},
   "outputs": [],
   "source": [
    "write_documents_to_collection(firestore_client, books_reduced, collection=\"books\")"
   ]
  },
  {
   "cell_type": "markdown",
   "metadata": {},
   "source": [
    "## Upload a new model to the website"
   ]
  },
  {
   "cell_type": "markdown",
   "metadata": {},
   "source": [
    "If a team sends us a new model, we can upload it to the website with a simple function. Before we upload the recommendations, we have to create document in the model_scores collection for the new model. This requires to use the firebase backend."
   ]
  },
  {
   "cell_type": "code",
   "execution_count": 10,
   "metadata": {},
   "outputs": [],
   "source": [
    "import pandas as pd\n",
    "from src.data.firestore import connect_to_firestore, write_documents_to_collection"
   ]
  },
  {
   "cell_type": "markdown",
   "metadata": {},
   "source": [
    "Code for Team DataMinerz"
   ]
  },
  {
   "cell_type": "code",
   "execution_count": 11,
   "metadata": {},
   "outputs": [],
   "source": [
    "DataMinerz_path = \"../data/processed/ensemble_dataminerz.csv\""
   ]
  },
  {
   "cell_type": "code",
   "execution_count": 12,
   "metadata": {},
   "outputs": [],
   "source": [
    "DataMinerz_recommendations = pd.read_csv(DataMinerz_path,index_col = 0)"
   ]
  },
  {
   "cell_type": "code",
   "execution_count": 17,
   "metadata": {},
   "outputs": [
    {
     "data": {
      "text/html": [
       "<div>\n",
       "<style scoped>\n",
       "    .dataframe tbody tr th:only-of-type {\n",
       "        vertical-align: middle;\n",
       "    }\n",
       "\n",
       "    .dataframe tbody tr th {\n",
       "        vertical-align: top;\n",
       "    }\n",
       "\n",
       "    .dataframe thead th {\n",
       "        text-align: right;\n",
       "    }\n",
       "</style>\n",
       "<table border=\"1\" class=\"dataframe\">\n",
       "  <thead>\n",
       "    <tr style=\"text-align: right;\">\n",
       "      <th></th>\n",
       "      <th>book_id</th>\n",
       "      <th>recommendation_1</th>\n",
       "      <th>recommendation_2</th>\n",
       "      <th>recommendation_3</th>\n",
       "      <th>recommendation_4</th>\n",
       "      <th>recommendation_5</th>\n",
       "      <th>team_id</th>\n",
       "      <th>model_id</th>\n",
       "    </tr>\n",
       "  </thead>\n",
       "  <tbody>\n",
       "    <tr>\n",
       "      <th>0</th>\n",
       "      <td>12</td>\n",
       "      <td>33530</td>\n",
       "      <td>47083</td>\n",
       "      <td>72004</td>\n",
       "      <td>16316</td>\n",
       "      <td>72766</td>\n",
       "      <td>dataminerz</td>\n",
       "      <td>ensemble</td>\n",
       "    </tr>\n",
       "    <tr>\n",
       "      <th>1</th>\n",
       "      <td>45274</td>\n",
       "      <td>1746</td>\n",
       "      <td>32053</td>\n",
       "      <td>39721</td>\n",
       "      <td>41456</td>\n",
       "      <td>15116</td>\n",
       "      <td>dataminerz</td>\n",
       "      <td>ensemble</td>\n",
       "    </tr>\n",
       "    <tr>\n",
       "      <th>2</th>\n",
       "      <td>10104</td>\n",
       "      <td>43813</td>\n",
       "      <td>69803</td>\n",
       "      <td>72922</td>\n",
       "      <td>10143</td>\n",
       "      <td>37075</td>\n",
       "      <td>dataminerz</td>\n",
       "      <td>ensemble</td>\n",
       "    </tr>\n",
       "    <tr>\n",
       "      <th>3</th>\n",
       "      <td>41371</td>\n",
       "      <td>8189</td>\n",
       "      <td>15312</td>\n",
       "      <td>60507</td>\n",
       "      <td>20699</td>\n",
       "      <td>25637</td>\n",
       "      <td>dataminerz</td>\n",
       "      <td>ensemble</td>\n",
       "    </tr>\n",
       "    <tr>\n",
       "      <th>4</th>\n",
       "      <td>14015</td>\n",
       "      <td>59077</td>\n",
       "      <td>35707</td>\n",
       "      <td>13103</td>\n",
       "      <td>10180</td>\n",
       "      <td>38444</td>\n",
       "      <td>dataminerz</td>\n",
       "      <td>ensemble</td>\n",
       "    </tr>\n",
       "    <tr>\n",
       "      <th>...</th>\n",
       "      <td>...</td>\n",
       "      <td>...</td>\n",
       "      <td>...</td>\n",
       "      <td>...</td>\n",
       "      <td>...</td>\n",
       "      <td>...</td>\n",
       "      <td>...</td>\n",
       "      <td>...</td>\n",
       "    </tr>\n",
       "    <tr>\n",
       "      <th>995</th>\n",
       "      <td>78384</td>\n",
       "      <td>26409</td>\n",
       "      <td>43318</td>\n",
       "      <td>58015</td>\n",
       "      <td>8775</td>\n",
       "      <td>11695</td>\n",
       "      <td>dataminerz</td>\n",
       "      <td>ensemble</td>\n",
       "    </tr>\n",
       "    <tr>\n",
       "      <th>996</th>\n",
       "      <td>68157</td>\n",
       "      <td>55547</td>\n",
       "      <td>6253</td>\n",
       "      <td>41558</td>\n",
       "      <td>3381</td>\n",
       "      <td>21470</td>\n",
       "      <td>dataminerz</td>\n",
       "      <td>ensemble</td>\n",
       "    </tr>\n",
       "    <tr>\n",
       "      <th>997</th>\n",
       "      <td>44964</td>\n",
       "      <td>3086</td>\n",
       "      <td>19533</td>\n",
       "      <td>3817</td>\n",
       "      <td>42765</td>\n",
       "      <td>48838</td>\n",
       "      <td>dataminerz</td>\n",
       "      <td>ensemble</td>\n",
       "    </tr>\n",
       "    <tr>\n",
       "      <th>998</th>\n",
       "      <td>12971</td>\n",
       "      <td>35540</td>\n",
       "      <td>32816</td>\n",
       "      <td>67562</td>\n",
       "      <td>26291</td>\n",
       "      <td>49248</td>\n",
       "      <td>dataminerz</td>\n",
       "      <td>ensemble</td>\n",
       "    </tr>\n",
       "    <tr>\n",
       "      <th>999</th>\n",
       "      <td>41078</td>\n",
       "      <td>43828</td>\n",
       "      <td>51490</td>\n",
       "      <td>11023</td>\n",
       "      <td>22238</td>\n",
       "      <td>22179</td>\n",
       "      <td>dataminerz</td>\n",
       "      <td>ensemble</td>\n",
       "    </tr>\n",
       "  </tbody>\n",
       "</table>\n",
       "<p>1000 rows × 8 columns</p>\n",
       "</div>"
      ],
      "text/plain": [
       "     book_id  recommendation_1  recommendation_2  recommendation_3  \\\n",
       "0         12             33530             47083             72004   \n",
       "1      45274              1746             32053             39721   \n",
       "2      10104             43813             69803             72922   \n",
       "3      41371              8189             15312             60507   \n",
       "4      14015             59077             35707             13103   \n",
       "..       ...               ...               ...               ...   \n",
       "995    78384             26409             43318             58015   \n",
       "996    68157             55547              6253             41558   \n",
       "997    44964              3086             19533              3817   \n",
       "998    12971             35540             32816             67562   \n",
       "999    41078             43828             51490             11023   \n",
       "\n",
       "     recommendation_4  recommendation_5     team_id  model_id  \n",
       "0               16316             72766  dataminerz  ensemble  \n",
       "1               41456             15116  dataminerz  ensemble  \n",
       "2               10143             37075  dataminerz  ensemble  \n",
       "3               20699             25637  dataminerz  ensemble  \n",
       "4               10180             38444  dataminerz  ensemble  \n",
       "..                ...               ...         ...       ...  \n",
       "995              8775             11695  dataminerz  ensemble  \n",
       "996              3381             21470  dataminerz  ensemble  \n",
       "997             42765             48838  dataminerz  ensemble  \n",
       "998             26291             49248  dataminerz  ensemble  \n",
       "999             22238             22179  dataminerz  ensemble  \n",
       "\n",
       "[1000 rows x 8 columns]"
      ]
     },
     "execution_count": 17,
     "metadata": {},
     "output_type": "execute_result"
    }
   ],
   "source": [
    "DataMinerz_recommendations"
   ]
  },
  {
   "cell_type": "code",
   "execution_count": 15,
   "metadata": {},
   "outputs": [
    {
     "ename": "ValueError",
     "evalue": "The default Firebase app already exists. This means you called initialize_app() more than once without providing an app name as the second argument. In most cases you only need to call initialize_app() once. But if you do want to initialize multiple apps, pass a second argument to initialize_app() to give each app a unique name.",
     "output_type": "error",
     "traceback": [
      "\u001B[0;31m---------------------------------------------------------------------------\u001B[0m",
      "\u001B[0;31mValueError\u001B[0m                                Traceback (most recent call last)",
      "\u001B[0;32m<ipython-input-15-8a57e9b3b0ea>\u001B[0m in \u001B[0;36m<module>\u001B[0;34m\u001B[0m\n\u001B[0;32m----> 1\u001B[0;31m firestore_client = connect_to_firestore(credentials=\"../secrets/dmc-book-recommendation-firebase-adminsdk-yebqi-d805561028.json\",\n\u001B[0m\u001B[1;32m      2\u001B[0m                          database_url=\"https://book-recommendation-website.firebaseio.com/\")\n",
      "\u001B[0;32m~/PycharmProjects/dmcup2021/src/data/firestore.py\u001B[0m in \u001B[0;36mconnect_to_firestore\u001B[0;34m(credentials, database_url)\u001B[0m\n\u001B[1;32m     36\u001B[0m \u001B[0;34m\u001B[0m\u001B[0m\n\u001B[1;32m     37\u001B[0m     \u001B[0mcred\u001B[0m \u001B[0;34m=\u001B[0m \u001B[0mfirebase_admin\u001B[0m\u001B[0;34m.\u001B[0m\u001B[0mcredentials\u001B[0m\u001B[0;34m.\u001B[0m\u001B[0mCertificate\u001B[0m\u001B[0;34m(\u001B[0m\u001B[0mcredentials\u001B[0m\u001B[0;34m)\u001B[0m\u001B[0;34m\u001B[0m\u001B[0;34m\u001B[0m\u001B[0m\n\u001B[0;32m---> 38\u001B[0;31m     firebase_admin.initialize_app(cred, {\n\u001B[0m\u001B[1;32m     39\u001B[0m         \u001B[0;34m\"databaseURL\"\u001B[0m\u001B[0;34m:\u001B[0m \u001B[0mdatabase_url\u001B[0m\u001B[0;34m\u001B[0m\u001B[0;34m\u001B[0m\u001B[0m\n\u001B[1;32m     40\u001B[0m     })\n",
      "\u001B[0;32m~/opt/miniconda3/envs/dmcup2021/lib/python3.8/site-packages/firebase_admin/__init__.py\u001B[0m in \u001B[0;36minitialize_app\u001B[0;34m(credential, options, name)\u001B[0m\n\u001B[1;32m     69\u001B[0m \u001B[0;34m\u001B[0m\u001B[0m\n\u001B[1;32m     70\u001B[0m     \u001B[0;32mif\u001B[0m \u001B[0mname\u001B[0m \u001B[0;34m==\u001B[0m \u001B[0m_DEFAULT_APP_NAME\u001B[0m\u001B[0;34m:\u001B[0m\u001B[0;34m\u001B[0m\u001B[0;34m\u001B[0m\u001B[0m\n\u001B[0;32m---> 71\u001B[0;31m         raise ValueError((\n\u001B[0m\u001B[1;32m     72\u001B[0m             \u001B[0;34m'The default Firebase app already exists. This means you called '\u001B[0m\u001B[0;34m\u001B[0m\u001B[0;34m\u001B[0m\u001B[0m\n\u001B[1;32m     73\u001B[0m             \u001B[0;34m'initialize_app() more than once without providing an app name as '\u001B[0m\u001B[0;34m\u001B[0m\u001B[0;34m\u001B[0m\u001B[0m\n",
      "\u001B[0;31mValueError\u001B[0m: The default Firebase app already exists. This means you called initialize_app() more than once without providing an app name as the second argument. In most cases you only need to call initialize_app() once. But if you do want to initialize multiple apps, pass a second argument to initialize_app() to give each app a unique name."
     ]
    }
   ],
   "source": [
    "firestore_client = connect_to_firestore(credentials=\"../secrets/dmc-book-recommendation-firebase-adminsdk-yebqi-d805561028.json\",\n",
    "                         database_url=\"https://book-recommendation-website.firebaseio.com/\")"
   ]
  },
  {
   "cell_type": "code",
   "execution_count": 16,
   "metadata": {},
   "outputs": [
    {
     "name": "stderr",
     "output_type": "stream",
     "text": [
      "100%|██████████| 1000/1000 [01:08<00:00, 14.63it/s]\n"
     ]
    }
   ],
   "source": [
    "write_documents_to_collection(firestore_client, DataMinerz_recommendations, collection=\"recommendations\")"
   ]
  },
  {
   "cell_type": "markdown",
   "metadata": {},
   "source": [
    "Code for Team MannheimMiners"
   ]
  },
  {
   "cell_type": "code",
   "execution_count": null,
   "metadata": {},
   "outputs": [],
   "source": [
    "mannheimminers_path = \"../data/processed/MannheimMinersModel3.csv\""
   ]
  },
  {
   "cell_type": "code",
   "execution_count": null,
   "metadata": {},
   "outputs": [],
   "source": [
    "mannheimminers_recommendations = pd.read_csv(mannheimminers_path,index_col = 0)"
   ]
  },
  {
   "cell_type": "code",
   "execution_count": null,
   "metadata": {},
   "outputs": [],
   "source": [
    "mannheimminers_recommendations.reset_index(inplace = True)"
   ]
  },
  {
   "cell_type": "code",
   "execution_count": null,
   "metadata": {},
   "outputs": [],
   "source": [
    "mannheimminers_recommendations.dropna(inplace=True)"
   ]
  },
  {
   "cell_type": "code",
   "execution_count": null,
   "metadata": {},
   "outputs": [],
   "source": [
    "mannheimminers_processed = mannheimminers_recommendations.astype({\"book_id\": int, \"model_id\": str,\n",
    "                                                                        \"team_id\": str, \"recommendation_1\":int,\n",
    "                                                                        \"recommendation_2\":int,\n",
    "                                                                        \"recommendation_3\":int, \n",
    "                                                                        \"recommendation_4\":int,\n",
    "                                                                        \"recommendation_5\":int})"
   ]
  },
  {
   "cell_type": "code",
   "execution_count": null,
   "metadata": {},
   "outputs": [],
   "source": [
    "mannheimminers_processed.replace({\"model_id\":{\"3\":\"third\"}}, inplace = True)"
   ]
  },
  {
   "cell_type": "code",
   "execution_count": null,
   "metadata": {},
   "outputs": [],
   "source": [
    "mannheimminers_processed"
   ]
  },
  {
   "cell_type": "code",
   "execution_count": null,
   "metadata": {},
   "outputs": [],
   "source": [
    "firestore_client = connect_to_firestore(credentials=\"../secrets/dmc-book-recommendation-firebase-adminsdk-yebqi-d805561028.json\",\n",
    "                         database_url=\"https://book-recommendation-website.firebaseio.com/\")"
   ]
  },
  {
   "cell_type": "code",
   "execution_count": null,
   "metadata": {},
   "outputs": [],
   "source": [
    "write_documents_to_collection(firestore_client, mannheimminers_processed, collection=\"recommendations\")"
   ]
  },
  {
   "cell_type": "markdown",
   "metadata": {},
   "source": [
    "Code for Team team404"
   ]
  },
  {
   "cell_type": "code",
   "execution_count": null,
   "metadata": {},
   "outputs": [],
   "source": [
    "team404_path = \"../data/processed/team404_2.xlsx\""
   ]
  },
  {
   "cell_type": "code",
   "execution_count": null,
   "metadata": {},
   "outputs": [],
   "source": [
    "team404_recommendations = pd.read_excel(team404_path,index_col = 0)"
   ]
  },
  {
   "cell_type": "code",
   "execution_count": null,
   "metadata": {},
   "outputs": [],
   "source": [
    "team404_recommendations.dropna(inplace=True)"
   ]
  },
  {
   "cell_type": "code",
   "execution_count": null,
   "metadata": {},
   "outputs": [],
   "source": [
    "team404_recommendations.reset_index(inplace = True)"
   ]
  },
  {
   "cell_type": "code",
   "execution_count": null,
   "metadata": {},
   "outputs": [],
   "source": [
    "team404_processed = team404_recommendations.astype({\"book_id\": int, \"model_id\": str,\n",
    "                                                                        \"team_id\": str, \"recommendation_1\":int,\n",
    "                                                                        \"recommendation_2\":int,\n",
    "                                                                        \"recommendation_3\":int, \n",
    "                                                                        \"recommendation_4\":int,\n",
    "                                                                        \"recommendation_5\":int})"
   ]
  },
  {
   "cell_type": "code",
   "execution_count": null,
   "metadata": {},
   "outputs": [],
   "source": [
    "team404_processed"
   ]
  },
  {
   "cell_type": "code",
   "execution_count": null,
   "metadata": {},
   "outputs": [],
   "source": [
    "firestore_client = connect_to_firestore(credentials=\"../secrets/dmc-book-recommendation-firebase-adminsdk-yebqi-d805561028.json\",\n",
    "                         database_url=\"https://book-recommendation-website.firebaseio.com/\")"
   ]
  },
  {
   "cell_type": "code",
   "execution_count": null,
   "metadata": {},
   "outputs": [],
   "source": [
    "write_documents_to_collection(firestore_client, team404_processed, collection=\"recommendations\")"
   ]
  },
  {
   "cell_type": "markdown",
   "metadata": {},
   "source": [
    "Code for Team minefromhome"
   ]
  },
  {
   "cell_type": "code",
   "execution_count": null,
   "metadata": {},
   "outputs": [],
   "source": [
    "minefromhome_path = \"../data/processed/Team_05.csv\""
   ]
  },
  {
   "cell_type": "code",
   "execution_count": null,
   "metadata": {},
   "outputs": [],
   "source": [
    "minefromhome_recommendations = pd.read_csv(minefromhome_path,index_col = 0, names = [\"book_id\",\n",
    "                                                                                     \"model_id\",\n",
    "                                                                                     \"team_id\",\n",
    "                                                                                     \"recommendation_1\",\n",
    "                                                                                     \"recommendation_2\",\n",
    "                                                                                     \"recommendation_3\",\n",
    "                                                                                     \"recommendation_4\",\n",
    "                                                                                     \"recommendation_5\"])"
   ]
  },
  {
   "cell_type": "code",
   "execution_count": null,
   "metadata": {},
   "outputs": [],
   "source": [
    "minefromhome_recommendations.dropna(inplace=True)"
   ]
  },
  {
   "cell_type": "code",
   "execution_count": null,
   "metadata": {},
   "outputs": [],
   "source": [
    "minefromhome_recommendations.reset_index(inplace = True)"
   ]
  },
  {
   "cell_type": "code",
   "execution_count": null,
   "metadata": {},
   "outputs": [],
   "source": [
    "minefromhome_processed = minefromhome_recommendations.astype({\"book_id\": int, \"model_id\": str,\n",
    "                                                                        \"team_id\": str, \"recommendation_1\":int,\n",
    "                                                                        \"recommendation_2\":int,\n",
    "                                                                        \"recommendation_3\":int, \n",
    "                                                                        \"recommendation_4\":int,\n",
    "                                                                        \"recommendation_5\":int})"
   ]
  },
  {
   "cell_type": "code",
   "execution_count": null,
   "metadata": {},
   "outputs": [],
   "source": [
    "minefromhome_processed"
   ]
  },
  {
   "cell_type": "code",
   "execution_count": null,
   "metadata": {},
   "outputs": [],
   "source": [
    "firestore_client = connect_to_firestore(credentials=\"../secrets/dmc-book-recommendation-firebase-adminsdk-yebqi-d805561028.json\",\n",
    "                         database_url=\"https://book-recommendation-website.firebaseio.com/\")"
   ]
  },
  {
   "cell_type": "code",
   "execution_count": null,
   "metadata": {},
   "outputs": [],
   "source": [
    "write_documents_to_collection(firestore_client, minefromhome_processed, collection=\"recommendations\")"
   ]
  },
  {
   "cell_type": "markdown",
   "metadata": {},
   "source": [
    "Code for Team flying_chicken_wings"
   ]
  },
  {
   "cell_type": "code",
   "execution_count": null,
   "metadata": {},
   "outputs": [],
   "source": [
    "flying_chicken_wings_path = \"../data/processed/Team6_result_2ndModel.xlsx\""
   ]
  },
  {
   "cell_type": "code",
   "execution_count": null,
   "metadata": {},
   "outputs": [],
   "source": [
    "flying_chicken_wings_recommendations = pd.read_excel(flying_chicken_wings_path)"
   ]
  },
  {
   "cell_type": "code",
   "execution_count": null,
   "metadata": {},
   "outputs": [],
   "source": [
    "flying_chicken_wings_recommendations.dropna(inplace=True)"
   ]
  },
  {
   "cell_type": "code",
   "execution_count": null,
   "metadata": {},
   "outputs": [],
   "source": [
    "flying_chicken_wings_processed = flying_chicken_wings_recommendations.astype({\"book_id\": int, \"model_id\": str,\n",
    "                                                                        \"team_id\": str, \"recommendation_1\":int,\n",
    "                                                                        \"recommendation_2\":int,\n",
    "                                                                        \"recommendation_3\":int, \n",
    "                                                                        \"recommendation_4\":int,\n",
    "                                                                        \"recommendation_5\":int})"
   ]
  },
  {
   "cell_type": "code",
   "execution_count": null,
   "metadata": {},
   "outputs": [],
   "source": [
    "flying_chicken_wings_processed"
   ]
  },
  {
   "cell_type": "code",
   "execution_count": null,
   "metadata": {},
   "outputs": [],
   "source": [
    "firestore_client = connect_to_firestore(credentials=\"../secrets/dmc-book-recommendation-firebase-adminsdk-yebqi-d805561028.json\",\n",
    "                         database_url=\"https://book-recommendation-website.firebaseio.com/\")"
   ]
  },
  {
   "cell_type": "code",
   "execution_count": null,
   "metadata": {},
   "outputs": [],
   "source": [
    "write_documents_to_collection(firestore_client, flying_chicken_wings_processed, collection=\"recommendations\")"
   ]
  },
  {
   "cell_type": "markdown",
   "metadata": {},
   "source": [
    "Code for d2g2"
   ]
  },
  {
   "cell_type": "code",
   "execution_count": null,
   "metadata": {},
   "outputs": [],
   "source": [
    "d2g2_path = \"../data/processed/d2g2_results_2.xlsx\""
   ]
  },
  {
   "cell_type": "code",
   "execution_count": null,
   "metadata": {},
   "outputs": [],
   "source": [
    "d2g2_recommendations = pd.read_excel(d2g2_path)"
   ]
  },
  {
   "cell_type": "code",
   "execution_count": null,
   "metadata": {},
   "outputs": [],
   "source": [
    "d2g2_recommendations"
   ]
  },
  {
   "cell_type": "code",
   "execution_count": null,
   "metadata": {},
   "outputs": [],
   "source": [
    "d2g2_recommendations.dropna(inplace=True)"
   ]
  },
  {
   "cell_type": "code",
   "execution_count": null,
   "metadata": {},
   "outputs": [],
   "source": [
    "d2g2_processed = d2g2_recommendations.astype({\"book_id\": int, \"model_id\": str,\n",
    "                                                                        \"team_id\": str, \"recommendation_1\":int,\n",
    "                                                                        \"recommendation_2\":int,\n",
    "                                                                        \"recommendation_3\":int, \n",
    "                                                                        \"recommendation_4\":int,\n",
    "                                                                        \"recommendation_5\":int})"
   ]
  },
  {
   "cell_type": "code",
   "execution_count": null,
   "metadata": {},
   "outputs": [],
   "source": [
    "d2g2_processed[\"team_id\"] = \"d2g2\""
   ]
  },
  {
   "cell_type": "code",
   "execution_count": null,
   "metadata": {},
   "outputs": [],
   "source": [
    "d2g2_processed"
   ]
  },
  {
   "cell_type": "code",
   "execution_count": null,
   "metadata": {},
   "outputs": [],
   "source": [
    "firestore_client = connect_to_firestore(credentials=\"../secrets/dmc-book-recommendation-firebase-adminsdk-yebqi-d805561028.json\",\n",
    "                         database_url=\"https://book-recommendation-website.firebaseio.com/\")"
   ]
  },
  {
   "cell_type": "code",
   "execution_count": null,
   "metadata": {},
   "outputs": [],
   "source": [
    "write_documents_to_collection(firestore_client, d2g2_processed, collection=\"recommendations\")"
   ]
  },
  {
   "cell_type": "markdown",
   "metadata": {},
   "source": [
    "Code for dataworms"
   ]
  },
  {
   "cell_type": "code",
   "execution_count": 2,
   "metadata": {},
   "outputs": [],
   "source": [
    "Dataworms_path = \"../data/processed/final_result_Dataworms.csv\""
   ]
  },
  {
   "cell_type": "code",
   "execution_count": 3,
   "metadata": {},
   "outputs": [],
   "source": [
    "Dataworms_recommendations = pd.read_csv(Dataworms_path, \n",
    "                                   dtype={'recommendation_1': str, 'recommendation_2': str,\n",
    "                                          'recommendation_3': str, 'recommendation_4': str, \n",
    "                                          'recommendation_5': str})"
   ]
  },
  {
   "cell_type": "code",
   "execution_count": 4,
   "metadata": {},
   "outputs": [
    {
     "data": {
      "text/html": [
       "<div>\n",
       "<style scoped>\n",
       "    .dataframe tbody tr th:only-of-type {\n",
       "        vertical-align: middle;\n",
       "    }\n",
       "\n",
       "    .dataframe tbody tr th {\n",
       "        vertical-align: top;\n",
       "    }\n",
       "\n",
       "    .dataframe thead th {\n",
       "        text-align: right;\n",
       "    }\n",
       "</style>\n",
       "<table border=\"1\" class=\"dataframe\">\n",
       "  <thead>\n",
       "    <tr style=\"text-align: right;\">\n",
       "      <th></th>\n",
       "      <th>book_id</th>\n",
       "      <th>model_id</th>\n",
       "      <th>team_id</th>\n",
       "      <th>recommendation_1</th>\n",
       "      <th>recommendation_2</th>\n",
       "      <th>recommendation_3</th>\n",
       "      <th>recommendation_4</th>\n",
       "      <th>recommendation_5</th>\n",
       "    </tr>\n",
       "  </thead>\n",
       "  <tbody>\n",
       "    <tr>\n",
       "      <th>0</th>\n",
       "      <td>12</td>\n",
       "      <td>Hybrid_RS</td>\n",
       "      <td>the_dataworms</td>\n",
       "      <td>38044</td>\n",
       "      <td>15978</td>\n",
       "      <td>18081</td>\n",
       "      <td>37565</td>\n",
       "      <td>27058</td>\n",
       "    </tr>\n",
       "    <tr>\n",
       "      <th>1</th>\n",
       "      <td>45274</td>\n",
       "      <td>Hybrid_RS</td>\n",
       "      <td>the_dataworms</td>\n",
       "      <td>1746</td>\n",
       "      <td>63413</td>\n",
       "      <td>7262</td>\n",
       "      <td>6210</td>\n",
       "      <td>62473</td>\n",
       "    </tr>\n",
       "    <tr>\n",
       "      <th>2</th>\n",
       "      <td>10104</td>\n",
       "      <td>Hybrid_RS</td>\n",
       "      <td>the_dataworms</td>\n",
       "      <td>10143</td>\n",
       "      <td>41762</td>\n",
       "      <td>71798</td>\n",
       "      <td>20416</td>\n",
       "      <td>40979</td>\n",
       "    </tr>\n",
       "    <tr>\n",
       "      <th>3</th>\n",
       "      <td>41371</td>\n",
       "      <td>Hybrid_RS</td>\n",
       "      <td>the_dataworms</td>\n",
       "      <td>70558</td>\n",
       "      <td>64698</td>\n",
       "      <td>64050</td>\n",
       "      <td>72736</td>\n",
       "      <td>58150</td>\n",
       "    </tr>\n",
       "    <tr>\n",
       "      <th>4</th>\n",
       "      <td>14015</td>\n",
       "      <td>Hybrid_RS</td>\n",
       "      <td>the_dataworms</td>\n",
       "      <td>13103</td>\n",
       "      <td>47952</td>\n",
       "      <td>19563</td>\n",
       "      <td>66672</td>\n",
       "      <td>21188</td>\n",
       "    </tr>\n",
       "    <tr>\n",
       "      <th>...</th>\n",
       "      <td>...</td>\n",
       "      <td>...</td>\n",
       "      <td>...</td>\n",
       "      <td>...</td>\n",
       "      <td>...</td>\n",
       "      <td>...</td>\n",
       "      <td>...</td>\n",
       "      <td>...</td>\n",
       "    </tr>\n",
       "    <tr>\n",
       "      <th>995</th>\n",
       "      <td>78384</td>\n",
       "      <td>Hybrid_RS</td>\n",
       "      <td>the_dataworms</td>\n",
       "      <td>56354</td>\n",
       "      <td>72389</td>\n",
       "      <td>22154</td>\n",
       "      <td>40979</td>\n",
       "      <td>71593</td>\n",
       "    </tr>\n",
       "    <tr>\n",
       "      <th>996</th>\n",
       "      <td>68157</td>\n",
       "      <td>Hybrid_RS</td>\n",
       "      <td>the_dataworms</td>\n",
       "      <td>21470</td>\n",
       "      <td>19503</td>\n",
       "      <td>66167</td>\n",
       "      <td>55547</td>\n",
       "      <td>58623</td>\n",
       "    </tr>\n",
       "    <tr>\n",
       "      <th>997</th>\n",
       "      <td>44964</td>\n",
       "      <td>Hybrid_RS</td>\n",
       "      <td>the_dataworms</td>\n",
       "      <td>75198</td>\n",
       "      <td>25989</td>\n",
       "      <td>68320</td>\n",
       "      <td>70107</td>\n",
       "      <td>23343</td>\n",
       "    </tr>\n",
       "    <tr>\n",
       "      <th>998</th>\n",
       "      <td>12971</td>\n",
       "      <td>Hybrid_RS</td>\n",
       "      <td>the_dataworms</td>\n",
       "      <td>32816</td>\n",
       "      <td>15800</td>\n",
       "      <td>49248</td>\n",
       "      <td>56107</td>\n",
       "      <td>21904</td>\n",
       "    </tr>\n",
       "    <tr>\n",
       "      <th>999</th>\n",
       "      <td>41078</td>\n",
       "      <td>Hybrid_RS</td>\n",
       "      <td>the_dataworms</td>\n",
       "      <td>23733</td>\n",
       "      <td>11950</td>\n",
       "      <td>36214</td>\n",
       "      <td>22179</td>\n",
       "      <td>43828</td>\n",
       "    </tr>\n",
       "  </tbody>\n",
       "</table>\n",
       "<p>1000 rows × 8 columns</p>\n",
       "</div>"
      ],
      "text/plain": [
       "     book_id   model_id        team_id recommendation_1 recommendation_2  \\\n",
       "0         12  Hybrid_RS  the_dataworms            38044            15978   \n",
       "1      45274  Hybrid_RS  the_dataworms             1746            63413   \n",
       "2      10104  Hybrid_RS  the_dataworms            10143            41762   \n",
       "3      41371  Hybrid_RS  the_dataworms            70558            64698   \n",
       "4      14015  Hybrid_RS  the_dataworms            13103            47952   \n",
       "..       ...        ...            ...              ...              ...   \n",
       "995    78384  Hybrid_RS  the_dataworms            56354            72389   \n",
       "996    68157  Hybrid_RS  the_dataworms            21470            19503   \n",
       "997    44964  Hybrid_RS  the_dataworms            75198            25989   \n",
       "998    12971  Hybrid_RS  the_dataworms            32816            15800   \n",
       "999    41078  Hybrid_RS  the_dataworms            23733            11950   \n",
       "\n",
       "    recommendation_3 recommendation_4 recommendation_5  \n",
       "0              18081            37565            27058  \n",
       "1               7262             6210            62473  \n",
       "2              71798            20416            40979  \n",
       "3              64050            72736            58150  \n",
       "4              19563            66672            21188  \n",
       "..               ...              ...              ...  \n",
       "995            22154            40979            71593  \n",
       "996            66167            55547            58623  \n",
       "997            68320            70107            23343  \n",
       "998            49248            56107            21904  \n",
       "999            36214            22179            43828  \n",
       "\n",
       "[1000 rows x 8 columns]"
      ]
     },
     "execution_count": 4,
     "metadata": {},
     "output_type": "execute_result"
    }
   ],
   "source": [
    "Dataworms_recommendations"
   ]
  },
  {
   "cell_type": "code",
   "execution_count": 5,
   "metadata": {},
   "outputs": [],
   "source": [
    "Dataworms_recommendations.dropna(inplace=True)"
   ]
  },
  {
   "cell_type": "code",
   "execution_count": 6,
   "metadata": {},
   "outputs": [],
   "source": [
    "Dataworms_processed = Dataworms_recommendations.astype({\"book_id\": int, \"model_id\": str,\n",
    "                                                                        \"team_id\": str, \"recommendation_1\":int,\n",
    "                                                                        \"recommendation_2\":int,\n",
    "                                                                        \"recommendation_3\":int, \n",
    "                                                                        \"recommendation_4\":int,\n",
    "                                                                        \"recommendation_5\":int})"
   ]
  },
  {
   "cell_type": "code",
   "execution_count": 7,
   "metadata": {},
   "outputs": [
    {
     "data": {
      "text/html": [
       "<div>\n",
       "<style scoped>\n",
       "    .dataframe tbody tr th:only-of-type {\n",
       "        vertical-align: middle;\n",
       "    }\n",
       "\n",
       "    .dataframe tbody tr th {\n",
       "        vertical-align: top;\n",
       "    }\n",
       "\n",
       "    .dataframe thead th {\n",
       "        text-align: right;\n",
       "    }\n",
       "</style>\n",
       "<table border=\"1\" class=\"dataframe\">\n",
       "  <thead>\n",
       "    <tr style=\"text-align: right;\">\n",
       "      <th></th>\n",
       "      <th>book_id</th>\n",
       "      <th>model_id</th>\n",
       "      <th>team_id</th>\n",
       "      <th>recommendation_1</th>\n",
       "      <th>recommendation_2</th>\n",
       "      <th>recommendation_3</th>\n",
       "      <th>recommendation_4</th>\n",
       "      <th>recommendation_5</th>\n",
       "    </tr>\n",
       "  </thead>\n",
       "  <tbody>\n",
       "    <tr>\n",
       "      <th>0</th>\n",
       "      <td>12</td>\n",
       "      <td>Hybrid_RS</td>\n",
       "      <td>the_dataworms</td>\n",
       "      <td>38044</td>\n",
       "      <td>15978</td>\n",
       "      <td>18081</td>\n",
       "      <td>37565</td>\n",
       "      <td>27058</td>\n",
       "    </tr>\n",
       "    <tr>\n",
       "      <th>1</th>\n",
       "      <td>45274</td>\n",
       "      <td>Hybrid_RS</td>\n",
       "      <td>the_dataworms</td>\n",
       "      <td>1746</td>\n",
       "      <td>63413</td>\n",
       "      <td>7262</td>\n",
       "      <td>6210</td>\n",
       "      <td>62473</td>\n",
       "    </tr>\n",
       "    <tr>\n",
       "      <th>2</th>\n",
       "      <td>10104</td>\n",
       "      <td>Hybrid_RS</td>\n",
       "      <td>the_dataworms</td>\n",
       "      <td>10143</td>\n",
       "      <td>41762</td>\n",
       "      <td>71798</td>\n",
       "      <td>20416</td>\n",
       "      <td>40979</td>\n",
       "    </tr>\n",
       "    <tr>\n",
       "      <th>3</th>\n",
       "      <td>41371</td>\n",
       "      <td>Hybrid_RS</td>\n",
       "      <td>the_dataworms</td>\n",
       "      <td>70558</td>\n",
       "      <td>64698</td>\n",
       "      <td>64050</td>\n",
       "      <td>72736</td>\n",
       "      <td>58150</td>\n",
       "    </tr>\n",
       "    <tr>\n",
       "      <th>4</th>\n",
       "      <td>14015</td>\n",
       "      <td>Hybrid_RS</td>\n",
       "      <td>the_dataworms</td>\n",
       "      <td>13103</td>\n",
       "      <td>47952</td>\n",
       "      <td>19563</td>\n",
       "      <td>66672</td>\n",
       "      <td>21188</td>\n",
       "    </tr>\n",
       "    <tr>\n",
       "      <th>...</th>\n",
       "      <td>...</td>\n",
       "      <td>...</td>\n",
       "      <td>...</td>\n",
       "      <td>...</td>\n",
       "      <td>...</td>\n",
       "      <td>...</td>\n",
       "      <td>...</td>\n",
       "      <td>...</td>\n",
       "    </tr>\n",
       "    <tr>\n",
       "      <th>995</th>\n",
       "      <td>78384</td>\n",
       "      <td>Hybrid_RS</td>\n",
       "      <td>the_dataworms</td>\n",
       "      <td>56354</td>\n",
       "      <td>72389</td>\n",
       "      <td>22154</td>\n",
       "      <td>40979</td>\n",
       "      <td>71593</td>\n",
       "    </tr>\n",
       "    <tr>\n",
       "      <th>996</th>\n",
       "      <td>68157</td>\n",
       "      <td>Hybrid_RS</td>\n",
       "      <td>the_dataworms</td>\n",
       "      <td>21470</td>\n",
       "      <td>19503</td>\n",
       "      <td>66167</td>\n",
       "      <td>55547</td>\n",
       "      <td>58623</td>\n",
       "    </tr>\n",
       "    <tr>\n",
       "      <th>997</th>\n",
       "      <td>44964</td>\n",
       "      <td>Hybrid_RS</td>\n",
       "      <td>the_dataworms</td>\n",
       "      <td>75198</td>\n",
       "      <td>25989</td>\n",
       "      <td>68320</td>\n",
       "      <td>70107</td>\n",
       "      <td>23343</td>\n",
       "    </tr>\n",
       "    <tr>\n",
       "      <th>998</th>\n",
       "      <td>12971</td>\n",
       "      <td>Hybrid_RS</td>\n",
       "      <td>the_dataworms</td>\n",
       "      <td>32816</td>\n",
       "      <td>15800</td>\n",
       "      <td>49248</td>\n",
       "      <td>56107</td>\n",
       "      <td>21904</td>\n",
       "    </tr>\n",
       "    <tr>\n",
       "      <th>999</th>\n",
       "      <td>41078</td>\n",
       "      <td>Hybrid_RS</td>\n",
       "      <td>the_dataworms</td>\n",
       "      <td>23733</td>\n",
       "      <td>11950</td>\n",
       "      <td>36214</td>\n",
       "      <td>22179</td>\n",
       "      <td>43828</td>\n",
       "    </tr>\n",
       "  </tbody>\n",
       "</table>\n",
       "<p>998 rows × 8 columns</p>\n",
       "</div>"
      ],
      "text/plain": [
       "     book_id   model_id        team_id  recommendation_1  recommendation_2  \\\n",
       "0         12  Hybrid_RS  the_dataworms             38044             15978   \n",
       "1      45274  Hybrid_RS  the_dataworms              1746             63413   \n",
       "2      10104  Hybrid_RS  the_dataworms             10143             41762   \n",
       "3      41371  Hybrid_RS  the_dataworms             70558             64698   \n",
       "4      14015  Hybrid_RS  the_dataworms             13103             47952   \n",
       "..       ...        ...            ...               ...               ...   \n",
       "995    78384  Hybrid_RS  the_dataworms             56354             72389   \n",
       "996    68157  Hybrid_RS  the_dataworms             21470             19503   \n",
       "997    44964  Hybrid_RS  the_dataworms             75198             25989   \n",
       "998    12971  Hybrid_RS  the_dataworms             32816             15800   \n",
       "999    41078  Hybrid_RS  the_dataworms             23733             11950   \n",
       "\n",
       "     recommendation_3  recommendation_4  recommendation_5  \n",
       "0               18081             37565             27058  \n",
       "1                7262              6210             62473  \n",
       "2               71798             20416             40979  \n",
       "3               64050             72736             58150  \n",
       "4               19563             66672             21188  \n",
       "..                ...               ...               ...  \n",
       "995             22154             40979             71593  \n",
       "996             66167             55547             58623  \n",
       "997             68320             70107             23343  \n",
       "998             49248             56107             21904  \n",
       "999             36214             22179             43828  \n",
       "\n",
       "[998 rows x 8 columns]"
      ]
     },
     "execution_count": 7,
     "metadata": {},
     "output_type": "execute_result"
    }
   ],
   "source": [
    "Dataworms_processed"
   ]
  },
  {
   "cell_type": "code",
   "execution_count": 8,
   "metadata": {},
   "outputs": [],
   "source": [
    "firestore_client = connect_to_firestore(credentials=\"../secrets/dmc-book-recommendation-firebase-adminsdk-yebqi-d805561028.json\",\n",
    "                         database_url=\"https://book-recommendation-website.firebaseio.com/\")"
   ]
  },
  {
   "cell_type": "code",
   "execution_count": 9,
   "metadata": {},
   "outputs": [
    {
     "name": "stderr",
     "output_type": "stream",
     "text": [
      "100%|██████████| 998/998 [03:25<00:00,  4.85it/s]\n"
     ]
    }
   ],
   "source": [
    "write_documents_to_collection(firestore_client, Dataworms_processed, collection=\"recommendations\")"
   ]
  },
  {
   "cell_type": "markdown",
   "metadata": {},
   "source": [
    "## Update book information to the website"
   ]
  },
  {
   "cell_type": "code",
   "execution_count": 18,
   "metadata": {},
   "outputs": [],
   "source": [
    "import pandas as pd\n",
    "import pickle\n",
    "from src.data.firestore import connect_to_firestore, write_documents_to_collection"
   ]
  },
  {
   "cell_type": "code",
   "execution_count": 19,
   "metadata": {},
   "outputs": [],
   "source": [
    "books_path = \"../data/processed/books.csv\"\n",
    "books_reduced_path = \"../data/processed/books_reduced.pkl\""
   ]
  },
  {
   "cell_type": "code",
   "execution_count": 20,
   "metadata": {},
   "outputs": [],
   "source": [
    "books = pd.read_csv(books_path,index_col = 0)\n",
    "books_reduced_index = pd.read_pickle(books_reduced_path)"
   ]
  },
  {
   "cell_type": "code",
   "execution_count": 21,
   "metadata": {},
   "outputs": [],
   "source": [
    "books_added_index = set(pd.melt(DataMinerz_recommendations, value_vars=['recommendation_1',\n",
    "                                       'recommendation_2',\n",
    "                                       'recommendation_3',\n",
    "                                       'recommendation_4',\n",
    "                                       'recommendation_5']).value.tolist())"
   ]
  },
  {
   "cell_type": "code",
   "execution_count": 22,
   "metadata": {},
   "outputs": [
    {
     "data": {
      "text/plain": [
       "26391"
      ]
     },
     "execution_count": 22,
     "metadata": {},
     "output_type": "execute_result"
    }
   ],
   "source": [
    "len(books_reduced_index)"
   ]
  },
  {
   "cell_type": "code",
   "execution_count": 23,
   "metadata": {},
   "outputs": [
    {
     "data": {
      "text/plain": [
       "4306"
      ]
     },
     "execution_count": 23,
     "metadata": {},
     "output_type": "execute_result"
    }
   ],
   "source": [
    "len(books_added_index)"
   ]
  },
  {
   "cell_type": "code",
   "execution_count": 24,
   "metadata": {},
   "outputs": [],
   "source": [
    "books_reduced_added_index = {index for index in books_added_index if index not in books_reduced_index}"
   ]
  },
  {
   "cell_type": "code",
   "execution_count": 25,
   "metadata": {},
   "outputs": [
    {
     "data": {
      "text/plain": [
       "43"
      ]
     },
     "execution_count": 25,
     "metadata": {},
     "output_type": "execute_result"
    }
   ],
   "source": [
    "len(books_reduced_added_index)"
   ]
  },
  {
   "cell_type": "code",
   "execution_count": 26,
   "metadata": {},
   "outputs": [],
   "source": [
    "books.set_index(\"itemID\", inplace = True)"
   ]
  },
  {
   "cell_type": "code",
   "execution_count": 27,
   "metadata": {},
   "outputs": [],
   "source": [
    "books_reduced_added = books.filter(books_reduced_added_index, axis = 0)"
   ]
  },
  {
   "cell_type": "code",
   "execution_count": 28,
   "metadata": {},
   "outputs": [],
   "source": [
    "books_reduced_added.reset_index(inplace = True)"
   ]
  },
  {
   "cell_type": "code",
   "execution_count": 29,
   "metadata": {},
   "outputs": [
    {
     "data": {
      "text/html": [
       "<div>\n",
       "<style scoped>\n",
       "    .dataframe tbody tr th:only-of-type {\n",
       "        vertical-align: middle;\n",
       "    }\n",
       "\n",
       "    .dataframe tbody tr th {\n",
       "        vertical-align: top;\n",
       "    }\n",
       "\n",
       "    .dataframe thead th {\n",
       "        text-align: right;\n",
       "    }\n",
       "</style>\n",
       "<table border=\"1\" class=\"dataframe\">\n",
       "  <thead>\n",
       "    <tr style=\"text-align: right;\">\n",
       "      <th></th>\n",
       "      <th>itemID</th>\n",
       "      <th>title</th>\n",
       "      <th>author</th>\n",
       "      <th>publisher</th>\n",
       "      <th>category_names</th>\n",
       "      <th>cover_url</th>\n",
       "    </tr>\n",
       "  </thead>\n",
       "  <tbody>\n",
       "    <tr>\n",
       "      <th>0</th>\n",
       "      <td>55695</td>\n",
       "      <td>Ghosthunter U.S.</td>\n",
       "      <td>Pit Vogt</td>\n",
       "      <td>Books on Demand</td>\n",
       "      <td>Fantasy</td>\n",
       "      <td>https://assets.thalia.media/img/artikel/5d3745...</td>\n",
       "    </tr>\n",
       "    <tr>\n",
       "      <th>1</th>\n",
       "      <td>7440</td>\n",
       "      <td>Adel vernichtet - Kalkuliertes Chaos</td>\n",
       "      <td>Jochen Hahn, Karsten Kaeb</td>\n",
       "      <td>Ulisses Spiele</td>\n",
       "      <td>Science fiction: military</td>\n",
       "      <td>https://assets.thalia.media/img/artikel/9b899a...</td>\n",
       "    </tr>\n",
       "    <tr>\n",
       "      <th>2</th>\n",
       "      <td>24340</td>\n",
       "      <td>LEGO® NINJAGO® - 1001 Sticker</td>\n",
       "      <td>NaN</td>\n",
       "      <td>AMEET Verlag</td>\n",
       "      <td>Children’s interactive and activity books and ...</td>\n",
       "      <td>https://assets.thalia.media/img/artikel/3a53d4...</td>\n",
       "    </tr>\n",
       "    <tr>\n",
       "      <th>3</th>\n",
       "      <td>4373</td>\n",
       "      <td>Doktor Maxwells skurriles Zeitexperiment</td>\n",
       "      <td>Jodi Taylor</td>\n",
       "      <td>Blanvalet Taschenbuchverl</td>\n",
       "      <td>Science fiction: time travel</td>\n",
       "      <td>https://assets.thalia.media/img/artikel/82b0c6...</td>\n",
       "    </tr>\n",
       "    <tr>\n",
       "      <th>4</th>\n",
       "      <td>50330</td>\n",
       "      <td>Midnight Chronicles - Blutmagie</td>\n",
       "      <td>Bianca Iosivoni, Laura Kneidl</td>\n",
       "      <td>LYX</td>\n",
       "      <td>Fantasy romance</td>\n",
       "      <td>https://assets.thalia.media/img/artikel/edd401...</td>\n",
       "    </tr>\n",
       "    <tr>\n",
       "      <th>5</th>\n",
       "      <td>1050</td>\n",
       "      <td>Abgrund</td>\n",
       "      <td>Michael Kern</td>\n",
       "      <td>Books on Demand</td>\n",
       "      <td>Adventure fiction</td>\n",
       "      <td>https://assets.thalia.media/img/artikel/88028d...</td>\n",
       "    </tr>\n",
       "    <tr>\n",
       "      <th>6</th>\n",
       "      <td>13210</td>\n",
       "      <td>Der Weg des Assassinen</td>\n",
       "      <td>Ingo Mayer</td>\n",
       "      <td>Books on Demand</td>\n",
       "      <td>Historical fantasy</td>\n",
       "      <td>https://assets.thalia.media/img/artikel/d8e176...</td>\n",
       "    </tr>\n",
       "    <tr>\n",
       "      <th>7</th>\n",
       "      <td>9117</td>\n",
       "      <td>STARGATE ATLANTIS Death Game</td>\n",
       "      <td>Jo Graham</td>\n",
       "      <td>Fandemonium Books</td>\n",
       "      <td>Adventure fiction</td>\n",
       "      <td>https://assets.thalia.media/img/artikel/6db08b...</td>\n",
       "    </tr>\n",
       "    <tr>\n",
       "      <th>8</th>\n",
       "      <td>798</td>\n",
       "      <td>Samurai 06. Der Ring des Feuers</td>\n",
       "      <td>Chris Bradford</td>\n",
       "      <td>Ravensburger Verlag</td>\n",
       "      <td>Children’s / Teenage fiction: Action and adven...</td>\n",
       "      <td>https://assets.thalia.media/img/artikel/c6740d...</td>\n",
       "    </tr>\n",
       "    <tr>\n",
       "      <th>9</th>\n",
       "      <td>5409</td>\n",
       "      <td>Samurai, Band 7: Der Ring des Windes</td>\n",
       "      <td>Chris Bradford</td>\n",
       "      <td>Ravensburger Verlag</td>\n",
       "      <td>Children’s / Teenage fiction: Action and adven...</td>\n",
       "      <td>https://assets.thalia.media/img/artikel/de12e1...</td>\n",
       "    </tr>\n",
       "    <tr>\n",
       "      <th>10</th>\n",
       "      <td>45858</td>\n",
       "      <td>Perry Rhodan - Das größte Abenteuer</td>\n",
       "      <td>Andreas Eschbach</td>\n",
       "      <td>FISCHER TOR</td>\n",
       "      <td>Science fiction: near-future</td>\n",
       "      <td>https://assets.thalia.media/img/artikel/58b846...</td>\n",
       "    </tr>\n",
       "    <tr>\n",
       "      <th>11</th>\n",
       "      <td>40738</td>\n",
       "      <td>Goldröschen</td>\n",
       "      <td>Jenny Völker</td>\n",
       "      <td>Books on Demand</td>\n",
       "      <td>Magical realism</td>\n",
       "      <td>https://assets.thalia.media/img/artikel/55b8d6...</td>\n",
       "    </tr>\n",
       "    <tr>\n",
       "      <th>12</th>\n",
       "      <td>24100</td>\n",
       "      <td>Der kleine Nick auf dem Pausenhof</td>\n",
       "      <td>René Goscinny, Jean-Jacques Sempé</td>\n",
       "      <td>Diogenes Verlag AG</td>\n",
       "      <td>Children’s / Teenage fiction and true stories</td>\n",
       "      <td>https://assets.thalia.media/img/artikel/7dac67...</td>\n",
       "    </tr>\n",
       "    <tr>\n",
       "      <th>13</th>\n",
       "      <td>7973</td>\n",
       "      <td>Necromunda - Blaues Blut</td>\n",
       "      <td>Gordon Rennie, Will McDermott</td>\n",
       "      <td>Black Library</td>\n",
       "      <td>Science fiction: cyberpunk / biopunk</td>\n",
       "      <td>https://assets.thalia.media/img/artikel/ff6569...</td>\n",
       "    </tr>\n",
       "    <tr>\n",
       "      <th>14</th>\n",
       "      <td>3879</td>\n",
       "      <td>PRIMORDIA 2 - Die Rückkehr zur vergessenen Welt</td>\n",
       "      <td>Greig Beck</td>\n",
       "      <td>LUZIFER-Verlag</td>\n",
       "      <td>Contemporary fantasy</td>\n",
       "      <td>https://assets.thalia.media/img/artikel/f6cb2d...</td>\n",
       "    </tr>\n",
       "    <tr>\n",
       "      <th>15</th>\n",
       "      <td>40363</td>\n",
       "      <td>The Plague</td>\n",
       "      <td>Teddy Keller</td>\n",
       "      <td>E-Kitap Projesi &amp; Cheapest Books</td>\n",
       "      <td>Erotic fiction</td>\n",
       "      <td>https://assets.thalia.media/img/artikel/e3cc2d...</td>\n",
       "    </tr>\n",
       "    <tr>\n",
       "      <th>16</th>\n",
       "      <td>35116</td>\n",
       "      <td>Mein Immer-wieder-Stickerbuch: Tiere im Zoo</td>\n",
       "      <td>Holly Bathie</td>\n",
       "      <td>Usborne Verlag</td>\n",
       "      <td>Children’s interactive and activity books and ...</td>\n",
       "      <td>https://assets.thalia.media/img/artikel/e976dc...</td>\n",
       "    </tr>\n",
       "    <tr>\n",
       "      <th>17</th>\n",
       "      <td>16686</td>\n",
       "      <td>Kriegerin und Königin</td>\n",
       "      <td>Nele Pommerening</td>\n",
       "      <td>Sweek</td>\n",
       "      <td>Fantasy</td>\n",
       "      <td>https://assets.thalia.media/img/artikel/860274...</td>\n",
       "    </tr>\n",
       "    <tr>\n",
       "      <th>18</th>\n",
       "      <td>11824</td>\n",
       "      <td>Die Chroniken von Araluen - Wie alles begann. ...</td>\n",
       "      <td>John Flanagan</td>\n",
       "      <td>cbj</td>\n",
       "      <td>Children’s / Teenage fiction: Action and adven...</td>\n",
       "      <td>https://assets.thalia.media/img/artikel/ad3726...</td>\n",
       "    </tr>\n",
       "    <tr>\n",
       "      <th>19</th>\n",
       "      <td>33075</td>\n",
       "      <td>Frostnacht</td>\n",
       "      <td>Jennifer Estep</td>\n",
       "      <td>Piper Verlag GmbH</td>\n",
       "      <td>Urban fantasy</td>\n",
       "      <td>https://assets.thalia.media/img/artikel/7d7f8f...</td>\n",
       "    </tr>\n",
       "    <tr>\n",
       "      <th>20</th>\n",
       "      <td>45875</td>\n",
       "      <td>CARLOS - Meine allerliebsten Lieblingsfreunde</td>\n",
       "      <td>NaN</td>\n",
       "      <td>Buchfink Verlag</td>\n",
       "      <td>Children’s gift books</td>\n",
       "      <td>https://assets.thalia.media/img/artikel/7a5def...</td>\n",
       "    </tr>\n",
       "    <tr>\n",
       "      <th>21</th>\n",
       "      <td>63416</td>\n",
       "      <td>Der Weg des Assassinen</td>\n",
       "      <td>Ingo Mayer</td>\n",
       "      <td>Books on Demand</td>\n",
       "      <td>Historical fantasy</td>\n",
       "      <td>https://assets.thalia.media/img/artikel/d8e176...</td>\n",
       "    </tr>\n",
       "    <tr>\n",
       "      <th>22</th>\n",
       "      <td>3259</td>\n",
       "      <td>Schnippel-Alarm! Das Ausschneidebuch für Kinde...</td>\n",
       "      <td>Silke Weßner</td>\n",
       "      <td>Thekla Verlag</td>\n",
       "      <td>Origami and paper engineering</td>\n",
       "      <td>https://assets.thalia.media/img/artikel/c0df6c...</td>\n",
       "    </tr>\n",
       "    <tr>\n",
       "      <th>23</th>\n",
       "      <td>57787</td>\n",
       "      <td>König Artus</td>\n",
       "      <td>Auguste Lechner</td>\n",
       "      <td>Arena Verlag GmbH</td>\n",
       "      <td>Children’s / Teenage fiction: Traditional stories</td>\n",
       "      <td>https://assets.thalia.media/img/artikel/2b6b6c...</td>\n",
       "    </tr>\n",
       "    <tr>\n",
       "      <th>24</th>\n",
       "      <td>33856</td>\n",
       "      <td>Learning to Color with Rhymes</td>\n",
       "      <td>Burdys D. Page</td>\n",
       "      <td>Sunstone Press</td>\n",
       "      <td>Early years: colours</td>\n",
       "      <td>https://assets.thalia.media/img/artikel/f73359...</td>\n",
       "    </tr>\n",
       "    <tr>\n",
       "      <th>25</th>\n",
       "      <td>67653</td>\n",
       "      <td>Die Saat des weißen Drachen</td>\n",
       "      <td>Uwe Eckardt</td>\n",
       "      <td>Bookmundo Direct</td>\n",
       "      <td>Fantasy</td>\n",
       "      <td>https://assets.thalia.media/img/artikel/6605bc...</td>\n",
       "    </tr>\n",
       "    <tr>\n",
       "      <th>26</th>\n",
       "      <td>8903</td>\n",
       "      <td>TODESKOMMANDO</td>\n",
       "      <td>Alfred Wallon</td>\n",
       "      <td>epubli</td>\n",
       "      <td>Historical fiction</td>\n",
       "      <td>https://assets.thalia.media/img/artikel/793c5b...</td>\n",
       "    </tr>\n",
       "    <tr>\n",
       "      <th>27</th>\n",
       "      <td>14547</td>\n",
       "      <td>Gregs Tagebuch 05 - Geht's noch?</td>\n",
       "      <td>Jeff Kinney</td>\n",
       "      <td>Baumhaus Verlag GmbH</td>\n",
       "      <td>Children’s / Teenage fiction: Humorous stories</td>\n",
       "      <td>https://assets.thalia.media/img/artikel/f7d948...</td>\n",
       "    </tr>\n",
       "    <tr>\n",
       "      <th>28</th>\n",
       "      <td>18772</td>\n",
       "      <td>Age of Trinity - Der Ruf der Nacht</td>\n",
       "      <td>Nalini Singh</td>\n",
       "      <td>LYX</td>\n",
       "      <td>Fantasy romance</td>\n",
       "      <td>https://assets.thalia.media/img/artikel/bcf6ac...</td>\n",
       "    </tr>\n",
       "    <tr>\n",
       "      <th>29</th>\n",
       "      <td>61013</td>\n",
       "      <td>The Wicked Big Toddlah</td>\n",
       "      <td>Kevin Hawkes</td>\n",
       "      <td>DRAGONFLY BOOKS</td>\n",
       "      <td>Children’s / Teenage personal and social topic...</td>\n",
       "      <td>https://assets.thalia.media/img/artikel/4fb292...</td>\n",
       "    </tr>\n",
       "    <tr>\n",
       "      <th>30</th>\n",
       "      <td>18006</td>\n",
       "      <td>The Invisible Life of Addie Larue</td>\n",
       "      <td>V. E. Schwab</td>\n",
       "      <td>TOR BOOKS</td>\n",
       "      <td>Historical fantasy</td>\n",
       "      <td>https://assets.thalia.media/img/artikel/85bfb8...</td>\n",
       "    </tr>\n",
       "    <tr>\n",
       "      <th>31</th>\n",
       "      <td>31955</td>\n",
       "      <td>Die Nibelungen</td>\n",
       "      <td>Auguste Lechner, Friedrich Stephan</td>\n",
       "      <td>Arena Verlag GmbH</td>\n",
       "      <td>Children’s / Teenage fiction: Traditional stories</td>\n",
       "      <td>https://assets.thalia.media/img/artikel/619684...</td>\n",
       "    </tr>\n",
       "    <tr>\n",
       "      <th>32</th>\n",
       "      <td>41819</td>\n",
       "      <td>Drachenzähmen leicht gemacht (1)</td>\n",
       "      <td>Cressida Cowell</td>\n",
       "      <td>Arena Verlag GmbH</td>\n",
       "      <td>Children’s / Teenage fiction: Action and adven...</td>\n",
       "      <td>https://assets.thalia.media/img/artikel/33382e...</td>\n",
       "    </tr>\n",
       "    <tr>\n",
       "      <th>33</th>\n",
       "      <td>12387</td>\n",
       "      <td>Stephen Hawking</td>\n",
       "      <td>María Isabel Sánchez Vegara</td>\n",
       "      <td>Insel Verlag GmbH</td>\n",
       "      <td>Picture storybooks</td>\n",
       "      <td>https://assets.thalia.media/img/artikel/39e820...</td>\n",
       "    </tr>\n",
       "    <tr>\n",
       "      <th>34</th>\n",
       "      <td>78182</td>\n",
       "      <td>The Ministry for the Future</td>\n",
       "      <td>Kim Stanley Robinson</td>\n",
       "      <td>Little, Brown Book Group</td>\n",
       "      <td>Science fiction</td>\n",
       "      <td>https://assets.thalia.media/img/artikel/2a6e18...</td>\n",
       "    </tr>\n",
       "    <tr>\n",
       "      <th>35</th>\n",
       "      <td>871</td>\n",
       "      <td>Mary Poppins - The Complete Collection</td>\n",
       "      <td>Pamela L. Travers</td>\n",
       "      <td>Harper Collins Publ. UK</td>\n",
       "      <td>Children’s / Teenage fiction: Classic fiction</td>\n",
       "      <td>https://assets.thalia.media/img/artikel/b51231...</td>\n",
       "    </tr>\n",
       "    <tr>\n",
       "      <th>36</th>\n",
       "      <td>12909</td>\n",
       "      <td>Krokodil im Nacken</td>\n",
       "      <td>Klaus Kordon</td>\n",
       "      <td>Beltz GmbH, Julius</td>\n",
       "      <td>Educational: Modern (non-native or second) lan...</td>\n",
       "      <td>https://assets.thalia.media/img/artikel/197695...</td>\n",
       "    </tr>\n",
       "    <tr>\n",
       "      <th>37</th>\n",
       "      <td>19054</td>\n",
       "      <td>Der kleine Nick</td>\n",
       "      <td>René Goscinny, Jean-Jacques Sempé</td>\n",
       "      <td>Diogenes Verlag AG</td>\n",
       "      <td>Children’s / Teenage fiction and true stories</td>\n",
       "      <td>https://assets.thalia.media/img/artikel/64862a...</td>\n",
       "    </tr>\n",
       "    <tr>\n",
       "      <th>38</th>\n",
       "      <td>20593</td>\n",
       "      <td>Mein Anziehpuppen-Stickerbuch - Im Ballett</td>\n",
       "      <td>Leonie Pratt</td>\n",
       "      <td>Usborne Verlag</td>\n",
       "      <td>Children’s interactive and activity books and ...</td>\n",
       "      <td>https://assets.thalia.media/img/artikel/d2f14e...</td>\n",
       "    </tr>\n",
       "    <tr>\n",
       "      <th>39</th>\n",
       "      <td>23412</td>\n",
       "      <td>Hazards of Time Travel</td>\n",
       "      <td>Joyce Carol Oates</td>\n",
       "      <td>ECCO PR</td>\n",
       "      <td>Dystopian and utopian fiction</td>\n",
       "      <td>https://assets.thalia.media/img/artikel/e54416...</td>\n",
       "    </tr>\n",
       "    <tr>\n",
       "      <th>40</th>\n",
       "      <td>68471</td>\n",
       "      <td>Junie B., First Grader Cheater Pants</td>\n",
       "      <td>Barbara Park</td>\n",
       "      <td>PERFECTION LEARNING CORP</td>\n",
       "      <td>Children’s / Teenage fiction: Humorous stories</td>\n",
       "      <td>https://assets.thalia.media/img/artikel/c213ca...</td>\n",
       "    </tr>\n",
       "    <tr>\n",
       "      <th>41</th>\n",
       "      <td>8189</td>\n",
       "      <td>Aves-Vademecum</td>\n",
       "      <td>Daniel Simon Richter</td>\n",
       "      <td>Ulisses Spiel &amp; Medien</td>\n",
       "      <td>Fantasy</td>\n",
       "      <td>https://assets.thalia.media/img/artikel/3ac033...</td>\n",
       "    </tr>\n",
       "    <tr>\n",
       "      <th>42</th>\n",
       "      <td>56703</td>\n",
       "      <td>Army Boys in the French Trenches (WWI Centenar...</td>\n",
       "      <td>Homer Randall</td>\n",
       "      <td>Last Post Press</td>\n",
       "      <td>Children’s / Teenage fiction: Historical fiction</td>\n",
       "      <td>https://assets.thalia.media/img/artikel/ad30ec...</td>\n",
       "    </tr>\n",
       "  </tbody>\n",
       "</table>\n",
       "</div>"
      ],
      "text/plain": [
       "    itemID                                              title  \\\n",
       "0    55695                                   Ghosthunter U.S.   \n",
       "1     7440               Adel vernichtet - Kalkuliertes Chaos   \n",
       "2    24340                      LEGO® NINJAGO® - 1001 Sticker   \n",
       "3     4373           Doktor Maxwells skurriles Zeitexperiment   \n",
       "4    50330                    Midnight Chronicles - Blutmagie   \n",
       "5     1050                                            Abgrund   \n",
       "6    13210                             Der Weg des Assassinen   \n",
       "7     9117                       STARGATE ATLANTIS Death Game   \n",
       "8      798                    Samurai 06. Der Ring des Feuers   \n",
       "9     5409               Samurai, Band 7: Der Ring des Windes   \n",
       "10   45858                Perry Rhodan - Das größte Abenteuer   \n",
       "11   40738                                        Goldröschen   \n",
       "12   24100                  Der kleine Nick auf dem Pausenhof   \n",
       "13    7973                           Necromunda - Blaues Blut   \n",
       "14    3879    PRIMORDIA 2 - Die Rückkehr zur vergessenen Welt   \n",
       "15   40363                                         The Plague   \n",
       "16   35116        Mein Immer-wieder-Stickerbuch: Tiere im Zoo   \n",
       "17   16686                              Kriegerin und Königin   \n",
       "18   11824  Die Chroniken von Araluen - Wie alles begann. ...   \n",
       "19   33075                                         Frostnacht   \n",
       "20   45875      CARLOS - Meine allerliebsten Lieblingsfreunde   \n",
       "21   63416                             Der Weg des Assassinen   \n",
       "22    3259  Schnippel-Alarm! Das Ausschneidebuch für Kinde...   \n",
       "23   57787                                        König Artus   \n",
       "24   33856                      Learning to Color with Rhymes   \n",
       "25   67653                        Die Saat des weißen Drachen   \n",
       "26    8903                                      TODESKOMMANDO   \n",
       "27   14547                   Gregs Tagebuch 05 - Geht's noch?   \n",
       "28   18772                 Age of Trinity - Der Ruf der Nacht   \n",
       "29   61013                             The Wicked Big Toddlah   \n",
       "30   18006                  The Invisible Life of Addie Larue   \n",
       "31   31955                                     Die Nibelungen   \n",
       "32   41819                   Drachenzähmen leicht gemacht (1)   \n",
       "33   12387                                    Stephen Hawking   \n",
       "34   78182                        The Ministry for the Future   \n",
       "35     871             Mary Poppins - The Complete Collection   \n",
       "36   12909                                 Krokodil im Nacken   \n",
       "37   19054                                    Der kleine Nick   \n",
       "38   20593         Mein Anziehpuppen-Stickerbuch - Im Ballett   \n",
       "39   23412                             Hazards of Time Travel   \n",
       "40   68471               Junie B., First Grader Cheater Pants   \n",
       "41    8189                                     Aves-Vademecum   \n",
       "42   56703  Army Boys in the French Trenches (WWI Centenar...   \n",
       "\n",
       "                                author                         publisher  \\\n",
       "0                             Pit Vogt                   Books on Demand   \n",
       "1            Jochen Hahn, Karsten Kaeb                    Ulisses Spiele   \n",
       "2                                  NaN                      AMEET Verlag   \n",
       "3                          Jodi Taylor         Blanvalet Taschenbuchverl   \n",
       "4        Bianca Iosivoni, Laura Kneidl                               LYX   \n",
       "5                         Michael Kern                   Books on Demand   \n",
       "6                           Ingo Mayer                   Books on Demand   \n",
       "7                            Jo Graham                 Fandemonium Books   \n",
       "8                       Chris Bradford               Ravensburger Verlag   \n",
       "9                       Chris Bradford               Ravensburger Verlag   \n",
       "10                    Andreas Eschbach                       FISCHER TOR   \n",
       "11                        Jenny Völker                   Books on Demand   \n",
       "12   René Goscinny, Jean-Jacques Sempé                Diogenes Verlag AG   \n",
       "13       Gordon Rennie, Will McDermott                     Black Library   \n",
       "14                          Greig Beck                    LUZIFER-Verlag   \n",
       "15                        Teddy Keller  E-Kitap Projesi & Cheapest Books   \n",
       "16                        Holly Bathie                    Usborne Verlag   \n",
       "17                    Nele Pommerening                             Sweek   \n",
       "18                       John Flanagan                               cbj   \n",
       "19                      Jennifer Estep                 Piper Verlag GmbH   \n",
       "20                                 NaN                   Buchfink Verlag   \n",
       "21                          Ingo Mayer                   Books on Demand   \n",
       "22                        Silke Weßner                     Thekla Verlag   \n",
       "23                     Auguste Lechner                 Arena Verlag GmbH   \n",
       "24                      Burdys D. Page                    Sunstone Press   \n",
       "25                         Uwe Eckardt                  Bookmundo Direct   \n",
       "26                       Alfred Wallon                            epubli   \n",
       "27                         Jeff Kinney              Baumhaus Verlag GmbH   \n",
       "28                        Nalini Singh                               LYX   \n",
       "29                        Kevin Hawkes                   DRAGONFLY BOOKS   \n",
       "30                        V. E. Schwab                         TOR BOOKS   \n",
       "31  Auguste Lechner, Friedrich Stephan                 Arena Verlag GmbH   \n",
       "32                     Cressida Cowell                 Arena Verlag GmbH   \n",
       "33         María Isabel Sánchez Vegara                 Insel Verlag GmbH   \n",
       "34                Kim Stanley Robinson          Little, Brown Book Group   \n",
       "35                   Pamela L. Travers           Harper Collins Publ. UK   \n",
       "36                        Klaus Kordon                Beltz GmbH, Julius   \n",
       "37   René Goscinny, Jean-Jacques Sempé                Diogenes Verlag AG   \n",
       "38                        Leonie Pratt                    Usborne Verlag   \n",
       "39                   Joyce Carol Oates                           ECCO PR   \n",
       "40                        Barbara Park          PERFECTION LEARNING CORP   \n",
       "41                Daniel Simon Richter            Ulisses Spiel & Medien   \n",
       "42                       Homer Randall                   Last Post Press   \n",
       "\n",
       "                                       category_names  \\\n",
       "0                                             Fantasy   \n",
       "1                           Science fiction: military   \n",
       "2   Children’s interactive and activity books and ...   \n",
       "3                        Science fiction: time travel   \n",
       "4                                     Fantasy romance   \n",
       "5                                   Adventure fiction   \n",
       "6                                  Historical fantasy   \n",
       "7                                   Adventure fiction   \n",
       "8   Children’s / Teenage fiction: Action and adven...   \n",
       "9   Children’s / Teenage fiction: Action and adven...   \n",
       "10                       Science fiction: near-future   \n",
       "11                                    Magical realism   \n",
       "12      Children’s / Teenage fiction and true stories   \n",
       "13               Science fiction: cyberpunk / biopunk   \n",
       "14                               Contemporary fantasy   \n",
       "15                                     Erotic fiction   \n",
       "16  Children’s interactive and activity books and ...   \n",
       "17                                            Fantasy   \n",
       "18  Children’s / Teenage fiction: Action and adven...   \n",
       "19                                      Urban fantasy   \n",
       "20                              Children’s gift books   \n",
       "21                                 Historical fantasy   \n",
       "22                      Origami and paper engineering   \n",
       "23  Children’s / Teenage fiction: Traditional stories   \n",
       "24                               Early years: colours   \n",
       "25                                            Fantasy   \n",
       "26                                 Historical fiction   \n",
       "27     Children’s / Teenage fiction: Humorous stories   \n",
       "28                                    Fantasy romance   \n",
       "29  Children’s / Teenage personal and social topic...   \n",
       "30                                 Historical fantasy   \n",
       "31  Children’s / Teenage fiction: Traditional stories   \n",
       "32  Children’s / Teenage fiction: Action and adven...   \n",
       "33                                 Picture storybooks   \n",
       "34                                    Science fiction   \n",
       "35      Children’s / Teenage fiction: Classic fiction   \n",
       "36  Educational: Modern (non-native or second) lan...   \n",
       "37      Children’s / Teenage fiction and true stories   \n",
       "38  Children’s interactive and activity books and ...   \n",
       "39                      Dystopian and utopian fiction   \n",
       "40     Children’s / Teenage fiction: Humorous stories   \n",
       "41                                            Fantasy   \n",
       "42   Children’s / Teenage fiction: Historical fiction   \n",
       "\n",
       "                                            cover_url  \n",
       "0   https://assets.thalia.media/img/artikel/5d3745...  \n",
       "1   https://assets.thalia.media/img/artikel/9b899a...  \n",
       "2   https://assets.thalia.media/img/artikel/3a53d4...  \n",
       "3   https://assets.thalia.media/img/artikel/82b0c6...  \n",
       "4   https://assets.thalia.media/img/artikel/edd401...  \n",
       "5   https://assets.thalia.media/img/artikel/88028d...  \n",
       "6   https://assets.thalia.media/img/artikel/d8e176...  \n",
       "7   https://assets.thalia.media/img/artikel/6db08b...  \n",
       "8   https://assets.thalia.media/img/artikel/c6740d...  \n",
       "9   https://assets.thalia.media/img/artikel/de12e1...  \n",
       "10  https://assets.thalia.media/img/artikel/58b846...  \n",
       "11  https://assets.thalia.media/img/artikel/55b8d6...  \n",
       "12  https://assets.thalia.media/img/artikel/7dac67...  \n",
       "13  https://assets.thalia.media/img/artikel/ff6569...  \n",
       "14  https://assets.thalia.media/img/artikel/f6cb2d...  \n",
       "15  https://assets.thalia.media/img/artikel/e3cc2d...  \n",
       "16  https://assets.thalia.media/img/artikel/e976dc...  \n",
       "17  https://assets.thalia.media/img/artikel/860274...  \n",
       "18  https://assets.thalia.media/img/artikel/ad3726...  \n",
       "19  https://assets.thalia.media/img/artikel/7d7f8f...  \n",
       "20  https://assets.thalia.media/img/artikel/7a5def...  \n",
       "21  https://assets.thalia.media/img/artikel/d8e176...  \n",
       "22  https://assets.thalia.media/img/artikel/c0df6c...  \n",
       "23  https://assets.thalia.media/img/artikel/2b6b6c...  \n",
       "24  https://assets.thalia.media/img/artikel/f73359...  \n",
       "25  https://assets.thalia.media/img/artikel/6605bc...  \n",
       "26  https://assets.thalia.media/img/artikel/793c5b...  \n",
       "27  https://assets.thalia.media/img/artikel/f7d948...  \n",
       "28  https://assets.thalia.media/img/artikel/bcf6ac...  \n",
       "29  https://assets.thalia.media/img/artikel/4fb292...  \n",
       "30  https://assets.thalia.media/img/artikel/85bfb8...  \n",
       "31  https://assets.thalia.media/img/artikel/619684...  \n",
       "32  https://assets.thalia.media/img/artikel/33382e...  \n",
       "33  https://assets.thalia.media/img/artikel/39e820...  \n",
       "34  https://assets.thalia.media/img/artikel/2a6e18...  \n",
       "35  https://assets.thalia.media/img/artikel/b51231...  \n",
       "36  https://assets.thalia.media/img/artikel/197695...  \n",
       "37  https://assets.thalia.media/img/artikel/64862a...  \n",
       "38  https://assets.thalia.media/img/artikel/d2f14e...  \n",
       "39  https://assets.thalia.media/img/artikel/e54416...  \n",
       "40  https://assets.thalia.media/img/artikel/c213ca...  \n",
       "41  https://assets.thalia.media/img/artikel/3ac033...  \n",
       "42  https://assets.thalia.media/img/artikel/ad30ec...  "
      ]
     },
     "execution_count": 29,
     "metadata": {},
     "output_type": "execute_result"
    }
   ],
   "source": [
    "books_reduced_added"
   ]
  },
  {
   "cell_type": "code",
   "execution_count": 30,
   "metadata": {},
   "outputs": [
    {
     "ename": "ValueError",
     "evalue": "The default Firebase app already exists. This means you called initialize_app() more than once without providing an app name as the second argument. In most cases you only need to call initialize_app() once. But if you do want to initialize multiple apps, pass a second argument to initialize_app() to give each app a unique name.",
     "output_type": "error",
     "traceback": [
      "\u001B[0;31m---------------------------------------------------------------------------\u001B[0m",
      "\u001B[0;31mValueError\u001B[0m                                Traceback (most recent call last)",
      "\u001B[0;32m<ipython-input-30-8a57e9b3b0ea>\u001B[0m in \u001B[0;36m<module>\u001B[0;34m\u001B[0m\n\u001B[0;32m----> 1\u001B[0;31m firestore_client = connect_to_firestore(credentials=\"../secrets/dmc-book-recommendation-firebase-adminsdk-yebqi-d805561028.json\",\n\u001B[0m\u001B[1;32m      2\u001B[0m                          database_url=\"https://book-recommendation-website.firebaseio.com/\")\n",
      "\u001B[0;32m~/PycharmProjects/dmcup2021/src/data/firestore.py\u001B[0m in \u001B[0;36mconnect_to_firestore\u001B[0;34m(credentials, database_url)\u001B[0m\n\u001B[1;32m     36\u001B[0m \u001B[0;34m\u001B[0m\u001B[0m\n\u001B[1;32m     37\u001B[0m     \u001B[0mcred\u001B[0m \u001B[0;34m=\u001B[0m \u001B[0mfirebase_admin\u001B[0m\u001B[0;34m.\u001B[0m\u001B[0mcredentials\u001B[0m\u001B[0;34m.\u001B[0m\u001B[0mCertificate\u001B[0m\u001B[0;34m(\u001B[0m\u001B[0mcredentials\u001B[0m\u001B[0;34m)\u001B[0m\u001B[0;34m\u001B[0m\u001B[0;34m\u001B[0m\u001B[0m\n\u001B[0;32m---> 38\u001B[0;31m     firebase_admin.initialize_app(cred, {\n\u001B[0m\u001B[1;32m     39\u001B[0m         \u001B[0;34m\"databaseURL\"\u001B[0m\u001B[0;34m:\u001B[0m \u001B[0mdatabase_url\u001B[0m\u001B[0;34m\u001B[0m\u001B[0;34m\u001B[0m\u001B[0m\n\u001B[1;32m     40\u001B[0m     })\n",
      "\u001B[0;32m~/opt/miniconda3/envs/dmcup2021/lib/python3.8/site-packages/firebase_admin/__init__.py\u001B[0m in \u001B[0;36minitialize_app\u001B[0;34m(credential, options, name)\u001B[0m\n\u001B[1;32m     69\u001B[0m \u001B[0;34m\u001B[0m\u001B[0m\n\u001B[1;32m     70\u001B[0m     \u001B[0;32mif\u001B[0m \u001B[0mname\u001B[0m \u001B[0;34m==\u001B[0m \u001B[0m_DEFAULT_APP_NAME\u001B[0m\u001B[0;34m:\u001B[0m\u001B[0;34m\u001B[0m\u001B[0;34m\u001B[0m\u001B[0m\n\u001B[0;32m---> 71\u001B[0;31m         raise ValueError((\n\u001B[0m\u001B[1;32m     72\u001B[0m             \u001B[0;34m'The default Firebase app already exists. This means you called '\u001B[0m\u001B[0;34m\u001B[0m\u001B[0;34m\u001B[0m\u001B[0m\n\u001B[1;32m     73\u001B[0m             \u001B[0;34m'initialize_app() more than once without providing an app name as '\u001B[0m\u001B[0;34m\u001B[0m\u001B[0;34m\u001B[0m\u001B[0m\n",
      "\u001B[0;31mValueError\u001B[0m: The default Firebase app already exists. This means you called initialize_app() more than once without providing an app name as the second argument. In most cases you only need to call initialize_app() once. But if you do want to initialize multiple apps, pass a second argument to initialize_app() to give each app a unique name."
     ]
    }
   ],
   "source": [
    "firestore_client = connect_to_firestore(credentials=\"../secrets/dmc-book-recommendation-firebase-adminsdk-yebqi-d805561028.json\",\n",
    "                         database_url=\"https://book-recommendation-website.firebaseio.com/\")"
   ]
  },
  {
   "cell_type": "code",
   "execution_count": 31,
   "metadata": {},
   "outputs": [
    {
     "name": "stderr",
     "output_type": "stream",
     "text": [
      "100%|██████████| 43/43 [00:03<00:00, 13.59it/s]\n"
     ]
    }
   ],
   "source": [
    "write_documents_to_collection(firestore_client, books_reduced_added, collection=\"books\")"
   ]
  },
  {
   "cell_type": "code",
   "execution_count": 32,
   "metadata": {},
   "outputs": [
    {
     "data": {
      "text/plain": [
       "26434"
      ]
     },
     "execution_count": 32,
     "metadata": {},
     "output_type": "execute_result"
    }
   ],
   "source": [
    "len(books_reduced_index.union(books_reduced_added_index))"
   ]
  },
  {
   "cell_type": "code",
   "execution_count": 33,
   "metadata": {},
   "outputs": [],
   "source": [
    "with open('../data/processed/books_reduced.pkl', 'wb') as file:\n",
    "    pickle.dump(books_reduced_index.union(books_reduced_added_index), file)"
   ]
  },
  {
   "cell_type": "markdown",
   "metadata": {},
   "source": [
    "## Delete error data"
   ]
  },
  {
   "cell_type": "code",
   "execution_count": null,
   "metadata": {},
   "outputs": [],
   "source": [
    "from src.data.firestore import connect_to_firestore, write_documents_to_collection"
   ]
  },
  {
   "cell_type": "code",
   "execution_count": null,
   "metadata": {},
   "outputs": [],
   "source": [
    "firestore_client = connect_to_firestore(credentials=\"../secrets/dmc-book-recommendation-firebase-adminsdk-yebqi-d805561028.json\",\n",
    "                         database_url=\"https://book-recommendation-website.firebaseio.com/\")"
   ]
  },
  {
   "cell_type": "code",
   "execution_count": null,
   "metadata": {},
   "outputs": [],
   "source": [
    "batch = firestore_client.batch()\n",
    "\n",
    "doc_ref = firestore_client.collection('model_scores').where('score', '!=', False).get()\n",
    "\n",
    "for doc in doc_ref:\n",
    "       batch.delete(doc.reference)\n",
    "\n",
    "batch.commit()"
   ]
  },
  {
   "cell_type": "code",
   "execution_count": null,
   "metadata": {},
   "outputs": [],
   "source": [
    "float('nan')"
   ]
  }
 ],
 "metadata": {
  "kernelspec": {
   "display_name": "Python 3",
   "language": "python",
   "name": "python3"
  },
  "language_info": {
   "codemirror_mode": {
    "name": "ipython",
    "version": 3
   },
   "file_extension": ".py",
   "mimetype": "text/x-python",
   "name": "python",
   "nbconvert_exporter": "python",
   "pygments_lexer": "ipython3",
   "version": "3.8.8"
  }
 },
 "nbformat": 4,
 "nbformat_minor": 1
}