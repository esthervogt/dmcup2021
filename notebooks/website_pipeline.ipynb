{
 "cells": [
  {
   "cell_type": "markdown",
   "metadata": {
    "collapsed": true
   },
   "source": [
    "# Code to work with the website"
   ]
  },
  {
   "cell_type": "markdown",
   "metadata": {},
   "source": [
    "This notebook showcases all processed with the website that Python can do. You need a Firebase Admin key to work with the Firestore database."
   ]
  },
  {
   "cell_type": "markdown",
   "metadata": {},
   "source": [
    "## Create array for the website of evaluation books"
   ]
  },
  {
   "cell_type": "code",
   "execution_count": null,
   "metadata": {},
   "outputs": [],
   "source": [
    "import pandas as pd"
   ]
  },
  {
   "cell_type": "code",
   "execution_count": null,
   "metadata": {},
   "outputs": [],
   "source": [
    "evaluation_books = pd.read_csv(\"../data/external/evaluation.csv\")"
   ]
  },
  {
   "cell_type": "code",
   "execution_count": null,
   "metadata": {},
   "outputs": [],
   "source": [
    "textfile = open(\"../data/interim/evaluation.txt\", \"w\")\n",
    "for element in evaluation_books.itemID.tolist():\n",
    "    textfile.write(str(element) + \",\")\n",
    "textfile.close()"
   ]
  },
  {
   "cell_type": "markdown",
   "metadata": {},
   "source": [
    "## Upload book information to the website"
   ]
  },
  {
   "cell_type": "code",
   "execution_count": 1,
   "metadata": {},
   "outputs": [],
   "source": [
    "import pandas as pd\n",
    "from src.data.firestore import connect_to_firestore, write_documents_to_collection"
   ]
  },
  {
   "cell_type": "code",
   "execution_count": 2,
   "metadata": {},
   "outputs": [],
   "source": [
    "books_path = \"../data/processed/books.csv\"\n",
    "books_reduced_path = \"../data/processed/books_reduced.csv\""
   ]
  },
  {
   "cell_type": "code",
   "execution_count": 3,
   "metadata": {},
   "outputs": [],
   "source": [
    "books = pd.read_csv(books_path,index_col = 0)\n",
    "books_reduced_index = pd.read_csv(books_reduced_path,index_col = 0)"
   ]
  },
  {
   "cell_type": "code",
   "execution_count": 5,
   "metadata": {},
   "outputs": [],
   "source": [
    "books.set_index(\"itemID\", inplace = True)"
   ]
  },
  {
   "cell_type": "code",
   "execution_count": 6,
   "metadata": {},
   "outputs": [],
   "source": [
    "books_reduced = books.filter(books_reduced_index.book_id.tolist(), axis = 0)"
   ]
  },
  {
   "cell_type": "code",
   "execution_count": 7,
   "metadata": {},
   "outputs": [],
   "source": [
    "books_reduced.reset_index(inplace = True)"
   ]
  },
  {
   "cell_type": "code",
   "execution_count": 8,
   "metadata": {},
   "outputs": [
    {
     "data": {
      "text/html": [
       "<div>\n",
       "<style scoped>\n",
       "    .dataframe tbody tr th:only-of-type {\n",
       "        vertical-align: middle;\n",
       "    }\n",
       "\n",
       "    .dataframe tbody tr th {\n",
       "        vertical-align: top;\n",
       "    }\n",
       "\n",
       "    .dataframe thead th {\n",
       "        text-align: right;\n",
       "    }\n",
       "</style>\n",
       "<table border=\"1\" class=\"dataframe\">\n",
       "  <thead>\n",
       "    <tr style=\"text-align: right;\">\n",
       "      <th></th>\n",
       "      <th>itemID</th>\n",
       "      <th>title</th>\n",
       "      <th>author</th>\n",
       "      <th>publisher</th>\n",
       "      <th>category_names</th>\n",
       "      <th>cover_url</th>\n",
       "    </tr>\n",
       "  </thead>\n",
       "  <tbody>\n",
       "    <tr>\n",
       "      <th>0</th>\n",
       "      <td>25488</td>\n",
       "      <td>Stadt aus Wind und Knochen</td>\n",
       "      <td>Fran Wilde</td>\n",
       "      <td>Knaur Taschenbuch</td>\n",
       "      <td>Epic fantasy / heroic fantasy</td>\n",
       "      <td>https://assets.thalia.media/img/artikel/182764...</td>\n",
       "    </tr>\n",
       "    <tr>\n",
       "      <th>1</th>\n",
       "      <td>58262</td>\n",
       "      <td>Biss zur Mittagsstunde (Bella und Edward 2)</td>\n",
       "      <td>Stephenie Meyer</td>\n",
       "      <td>Carlsen Verlag GmbH</td>\n",
       "      <td>Children’s / Teenage fiction: Fantasy romance</td>\n",
       "      <td>https://assets.thalia.media/img/artikel/161321...</td>\n",
       "    </tr>\n",
       "    <tr>\n",
       "      <th>2</th>\n",
       "      <td>38083</td>\n",
       "      <td>Crown of Midnight</td>\n",
       "      <td>Sarah J. Maas</td>\n",
       "      <td>Bloomsbury UK</td>\n",
       "      <td>Children’s / Teenage fiction: General fiction</td>\n",
       "      <td>https://assets.thalia.media/img/artikel/c855b3...</td>\n",
       "    </tr>\n",
       "    <tr>\n",
       "      <th>3</th>\n",
       "      <td>3059</td>\n",
       "      <td>Night Games</td>\n",
       "      <td>Sue Mydliak</td>\n",
       "      <td>BLURB INC</td>\n",
       "      <td>Fantasy</td>\n",
       "      <td>https://assets.thalia.media/img/artikel/74093d...</td>\n",
       "    </tr>\n",
       "    <tr>\n",
       "      <th>4</th>\n",
       "      <td>49587</td>\n",
       "      <td>Five Children and It</td>\n",
       "      <td>Edith Nesbit</td>\n",
       "      <td>WORDSWORTH ED</td>\n",
       "      <td>Children’s / Teenage fiction: Classic fiction</td>\n",
       "      <td>https://assets.thalia.media/img/artikel/efcd25...</td>\n",
       "    </tr>\n",
       "    <tr>\n",
       "      <th>...</th>\n",
       "      <td>...</td>\n",
       "      <td>...</td>\n",
       "      <td>...</td>\n",
       "      <td>...</td>\n",
       "      <td>...</td>\n",
       "      <td>...</td>\n",
       "    </tr>\n",
       "    <tr>\n",
       "      <th>5995</th>\n",
       "      <td>52869</td>\n",
       "      <td>The Fairy Ring (Yesterday's Classics)</td>\n",
       "      <td>Kate Douglas Wiggin, Nora Archibald Smith</td>\n",
       "      <td>Yesterday's Classics</td>\n",
       "      <td>Children’s / Teenage fiction: Traditional stories</td>\n",
       "      <td>https://assets.thalia.media/img/artikel/4f4a17...</td>\n",
       "    </tr>\n",
       "    <tr>\n",
       "      <th>5996</th>\n",
       "      <td>37217</td>\n",
       "      <td>Biom Alpha</td>\n",
       "      <td>Uwe Hermann, Merlin Thomas, Christian Weis, Ni...</td>\n",
       "      <td>Books on Demand</td>\n",
       "      <td>Science fiction: space opera</td>\n",
       "      <td>https://assets.thalia.media/img/artikel/406ce6...</td>\n",
       "    </tr>\n",
       "    <tr>\n",
       "      <th>5997</th>\n",
       "      <td>38557</td>\n",
       "      <td>Romeo and Juliet</td>\n",
       "      <td>William Shakespeare</td>\n",
       "      <td>Penguin Random House Children's UK</td>\n",
       "      <td>Children’s / Teenage fiction: Classic fiction</td>\n",
       "      <td>https://assets.thalia.media/img/artikel/dee3fc...</td>\n",
       "    </tr>\n",
       "    <tr>\n",
       "      <th>5998</th>\n",
       "      <td>9607</td>\n",
       "      <td>Conni und das neue Baby</td>\n",
       "      <td>Liane Schneider, Eva Wenzel-Bürger</td>\n",
       "      <td>Carlsen Verlag GmbH</td>\n",
       "      <td>Picture storybooks</td>\n",
       "      <td>https://assets.thalia.media/img/artikel/276e2b...</td>\n",
       "    </tr>\n",
       "    <tr>\n",
       "      <th>5999</th>\n",
       "      <td>36552</td>\n",
       "      <td>Das Einhorn-Bastelbuch</td>\n",
       "      <td>Pia Deges</td>\n",
       "      <td>Frech Verlag GmbH</td>\n",
       "      <td>Early years / early learning concepts</td>\n",
       "      <td>https://assets.thalia.media/img/artikel/2a0a9d...</td>\n",
       "    </tr>\n",
       "  </tbody>\n",
       "</table>\n",
       "<p>6000 rows × 6 columns</p>\n",
       "</div>"
      ],
      "text/plain": [
       "      itemID                                        title  \\\n",
       "0      25488                   Stadt aus Wind und Knochen   \n",
       "1      58262  Biss zur Mittagsstunde (Bella und Edward 2)   \n",
       "2      38083                            Crown of Midnight   \n",
       "3       3059                                  Night Games   \n",
       "4      49587                         Five Children and It   \n",
       "...      ...                                          ...   \n",
       "5995   52869        The Fairy Ring (Yesterday's Classics)   \n",
       "5996   37217                                   Biom Alpha   \n",
       "5997   38557                             Romeo and Juliet   \n",
       "5998    9607                      Conni und das neue Baby   \n",
       "5999   36552                       Das Einhorn-Bastelbuch   \n",
       "\n",
       "                                                 author  \\\n",
       "0                                            Fran Wilde   \n",
       "1                                       Stephenie Meyer   \n",
       "2                                         Sarah J. Maas   \n",
       "3                                           Sue Mydliak   \n",
       "4                                          Edith Nesbit   \n",
       "...                                                 ...   \n",
       "5995          Kate Douglas Wiggin, Nora Archibald Smith   \n",
       "5996  Uwe Hermann, Merlin Thomas, Christian Weis, Ni...   \n",
       "5997                                William Shakespeare   \n",
       "5998                 Liane Schneider, Eva Wenzel-Bürger   \n",
       "5999                                          Pia Deges   \n",
       "\n",
       "                               publisher  \\\n",
       "0                      Knaur Taschenbuch   \n",
       "1                    Carlsen Verlag GmbH   \n",
       "2                          Bloomsbury UK   \n",
       "3                              BLURB INC   \n",
       "4                          WORDSWORTH ED   \n",
       "...                                  ...   \n",
       "5995                Yesterday's Classics   \n",
       "5996                     Books on Demand   \n",
       "5997  Penguin Random House Children's UK   \n",
       "5998                 Carlsen Verlag GmbH   \n",
       "5999                   Frech Verlag GmbH   \n",
       "\n",
       "                                         category_names  \\\n",
       "0                         Epic fantasy / heroic fantasy   \n",
       "1         Children’s / Teenage fiction: Fantasy romance   \n",
       "2         Children’s / Teenage fiction: General fiction   \n",
       "3                                               Fantasy   \n",
       "4         Children’s / Teenage fiction: Classic fiction   \n",
       "...                                                 ...   \n",
       "5995  Children’s / Teenage fiction: Traditional stories   \n",
       "5996                       Science fiction: space opera   \n",
       "5997      Children’s / Teenage fiction: Classic fiction   \n",
       "5998                                 Picture storybooks   \n",
       "5999              Early years / early learning concepts   \n",
       "\n",
       "                                              cover_url  \n",
       "0     https://assets.thalia.media/img/artikel/182764...  \n",
       "1     https://assets.thalia.media/img/artikel/161321...  \n",
       "2     https://assets.thalia.media/img/artikel/c855b3...  \n",
       "3     https://assets.thalia.media/img/artikel/74093d...  \n",
       "4     https://assets.thalia.media/img/artikel/efcd25...  \n",
       "...                                                 ...  \n",
       "5995  https://assets.thalia.media/img/artikel/4f4a17...  \n",
       "5996  https://assets.thalia.media/img/artikel/406ce6...  \n",
       "5997  https://assets.thalia.media/img/artikel/dee3fc...  \n",
       "5998  https://assets.thalia.media/img/artikel/276e2b...  \n",
       "5999  https://assets.thalia.media/img/artikel/2a0a9d...  \n",
       "\n",
       "[6000 rows x 6 columns]"
      ]
     },
     "execution_count": 8,
     "metadata": {},
     "output_type": "execute_result"
    }
   ],
   "source": [
    "books_reduced"
   ]
  },
  {
   "cell_type": "code",
   "execution_count": 9,
   "metadata": {},
   "outputs": [],
   "source": [
    "firestore_client = connect_to_firestore(credentials=\"../secrets/dmc-book-recommendation-firebase-adminsdk-yebqi-d805561028.json\",\n",
    "                         database_url=\"https://book-recommendation-website.firebaseio.com/\")"
   ]
  },
  {
   "cell_type": "markdown",
   "metadata": {},
   "source": [
    "Since we have a free tier on firebase we need to upload multiple days. In moment we have the first 10.000 online."
   ]
  },
  {
   "cell_type": "code",
   "execution_count": 10,
   "metadata": {},
   "outputs": [],
   "source": [
    "write_documents_to_collection(firestore_client, books_reduced, collection=\"books\")"
   ]
  },
  {
   "cell_type": "markdown",
   "metadata": {},
   "source": [
    "## Upload a new model to the website"
   ]
  },
  {
   "cell_type": "markdown",
   "metadata": {},
   "source": [
    "If a team sends us a new model, we can upload it to the website with a simple function. Before we upload the recommendations, we have to create document in the model_scores collection for the new model. This requires to use the firebase backend."
   ]
  },
  {
   "cell_type": "code",
   "execution_count": null,
   "metadata": {},
   "outputs": [],
   "source": [
    "import pandas as pd\n",
    "from src.data.firestore import connect_to_firestore, write_documents_to_collection"
   ]
  },
  {
   "cell_type": "markdown",
   "metadata": {},
   "source": [
    "Code for Team DataMinerz"
   ]
  },
  {
   "cell_type": "code",
   "execution_count": null,
   "metadata": {},
   "outputs": [],
   "source": [
    "model_path = \"../data/processed/recommendations.csv\""
   ]
  },
  {
   "cell_type": "code",
   "execution_count": null,
   "metadata": {},
   "outputs": [],
   "source": [
    "model_recommendations = pd.read_csv(model_path,index_col = 0)"
   ]
  },
  {
   "cell_type": "code",
   "execution_count": null,
   "metadata": {},
   "outputs": [],
   "source": [
    "model_recommendations"
   ]
  },
  {
   "cell_type": "code",
   "execution_count": null,
   "metadata": {},
   "outputs": [],
   "source": [
    "model_recommendations"
   ]
  },
  {
   "cell_type": "code",
   "execution_count": null,
   "metadata": {},
   "outputs": [],
   "source": [
    "firestore_client = connect_to_firestore(credentials=\"../secrets/dmc-book-recommendation-firebase-adminsdk-yebqi-d805561028.json\",\n",
    "                         database_url=\"https://book-recommendation-website.firebaseio.com/\")"
   ]
  },
  {
   "cell_type": "code",
   "execution_count": null,
   "metadata": {},
   "outputs": [],
   "source": [
    "write_documents_to_collection(firestore_client, model_recommendations, collection=\"recommendations\")"
   ]
  },
  {
   "cell_type": "markdown",
   "metadata": {},
   "source": [
    "Code for Team MannheimMiners"
   ]
  },
  {
   "cell_type": "code",
   "execution_count": 18,
   "metadata": {},
   "outputs": [],
   "source": [
    "mannheimminers_path = \"../data/processed/MannheimMiners.csv\""
   ]
  },
  {
   "cell_type": "code",
   "execution_count": 19,
   "metadata": {},
   "outputs": [],
   "source": [
    "mannheimminers_recommendations = pd.read_csv(mannheimminers_path,index_col = 0)"
   ]
  },
  {
   "cell_type": "code",
   "execution_count": 24,
   "metadata": {},
   "outputs": [],
   "source": [
    "mannheimminers_recommendations.dropna(inplace=True)"
   ]
  },
  {
   "cell_type": "code",
   "execution_count": 28,
   "metadata": {},
   "outputs": [],
   "source": [
    "mannheimminers_processed = mannheimminers_recommendations.astype({\"book_id\": int, \"model_id\": str,\n",
    "                                                                        \"team_id\": str, \"recommendation_1\":int,\n",
    "                                                                        \"recommendation_2\":int,\n",
    "                                                                        \"recommendation_3\":int, \n",
    "                                                                        \"recommendation_4\":int,\n",
    "                                                                        \"recommendation_5\":int})"
   ]
  },
  {
   "cell_type": "code",
   "execution_count": 30,
   "metadata": {},
   "outputs": [
    {
     "data": {
      "text/html": [
       "<div>\n",
       "<style scoped>\n",
       "    .dataframe tbody tr th:only-of-type {\n",
       "        vertical-align: middle;\n",
       "    }\n",
       "\n",
       "    .dataframe tbody tr th {\n",
       "        vertical-align: top;\n",
       "    }\n",
       "\n",
       "    .dataframe thead th {\n",
       "        text-align: right;\n",
       "    }\n",
       "</style>\n",
       "<table border=\"1\" class=\"dataframe\">\n",
       "  <thead>\n",
       "    <tr style=\"text-align: right;\">\n",
       "      <th></th>\n",
       "      <th>book_id</th>\n",
       "      <th>model_id</th>\n",
       "      <th>team_id</th>\n",
       "      <th>recommendation_1</th>\n",
       "      <th>recommendation_2</th>\n",
       "      <th>recommendation_3</th>\n",
       "      <th>recommendation_4</th>\n",
       "      <th>recommendation_5</th>\n",
       "    </tr>\n",
       "  </thead>\n",
       "  <tbody>\n",
       "    <tr>\n",
       "      <th>0</th>\n",
       "      <td>12</td>\n",
       "      <td>1</td>\n",
       "      <td>mannheimminers</td>\n",
       "      <td>56148</td>\n",
       "      <td>33530</td>\n",
       "      <td>10698</td>\n",
       "      <td>72004</td>\n",
       "      <td>70402</td>\n",
       "    </tr>\n",
       "    <tr>\n",
       "      <th>1</th>\n",
       "      <td>45274</td>\n",
       "      <td>1</td>\n",
       "      <td>mannheimminers</td>\n",
       "      <td>7262</td>\n",
       "      <td>15116</td>\n",
       "      <td>6210</td>\n",
       "      <td>65147</td>\n",
       "      <td>32030</td>\n",
       "    </tr>\n",
       "    <tr>\n",
       "      <th>2</th>\n",
       "      <td>10104</td>\n",
       "      <td>1</td>\n",
       "      <td>mannheimminers</td>\n",
       "      <td>10143</td>\n",
       "      <td>58103</td>\n",
       "      <td>10317</td>\n",
       "      <td>72922</td>\n",
       "      <td>50866</td>\n",
       "    </tr>\n",
       "    <tr>\n",
       "      <th>3</th>\n",
       "      <td>41371</td>\n",
       "      <td>1</td>\n",
       "      <td>mannheimminers</td>\n",
       "      <td>5376</td>\n",
       "      <td>46995</td>\n",
       "      <td>28401</td>\n",
       "      <td>18617</td>\n",
       "      <td>46077</td>\n",
       "    </tr>\n",
       "    <tr>\n",
       "      <th>4</th>\n",
       "      <td>14015</td>\n",
       "      <td>1</td>\n",
       "      <td>mannheimminers</td>\n",
       "      <td>20173</td>\n",
       "      <td>59077</td>\n",
       "      <td>13103</td>\n",
       "      <td>40294</td>\n",
       "      <td>54587</td>\n",
       "    </tr>\n",
       "    <tr>\n",
       "      <th>...</th>\n",
       "      <td>...</td>\n",
       "      <td>...</td>\n",
       "      <td>...</td>\n",
       "      <td>...</td>\n",
       "      <td>...</td>\n",
       "      <td>...</td>\n",
       "      <td>...</td>\n",
       "      <td>...</td>\n",
       "    </tr>\n",
       "    <tr>\n",
       "      <th>994</th>\n",
       "      <td>23570</td>\n",
       "      <td>2</td>\n",
       "      <td>mannheimminers</td>\n",
       "      <td>31154</td>\n",
       "      <td>66650</td>\n",
       "      <td>2279</td>\n",
       "      <td>29372</td>\n",
       "      <td>63731</td>\n",
       "    </tr>\n",
       "    <tr>\n",
       "      <th>995</th>\n",
       "      <td>78384</td>\n",
       "      <td>2</td>\n",
       "      <td>mannheimminers</td>\n",
       "      <td>56354</td>\n",
       "      <td>11695</td>\n",
       "      <td>42539</td>\n",
       "      <td>12464</td>\n",
       "      <td>7399</td>\n",
       "    </tr>\n",
       "    <tr>\n",
       "      <th>996</th>\n",
       "      <td>68157</td>\n",
       "      <td>2</td>\n",
       "      <td>mannheimminers</td>\n",
       "      <td>3381</td>\n",
       "      <td>9686</td>\n",
       "      <td>54205</td>\n",
       "      <td>66167</td>\n",
       "      <td>41398</td>\n",
       "    </tr>\n",
       "    <tr>\n",
       "      <th>998</th>\n",
       "      <td>12971</td>\n",
       "      <td>2</td>\n",
       "      <td>mannheimminers</td>\n",
       "      <td>56107</td>\n",
       "      <td>26291</td>\n",
       "      <td>49248</td>\n",
       "      <td>35540</td>\n",
       "      <td>15800</td>\n",
       "    </tr>\n",
       "    <tr>\n",
       "      <th>999</th>\n",
       "      <td>41078</td>\n",
       "      <td>2</td>\n",
       "      <td>mannheimminers</td>\n",
       "      <td>23733</td>\n",
       "      <td>27389</td>\n",
       "      <td>74400</td>\n",
       "      <td>19142</td>\n",
       "      <td>8122</td>\n",
       "    </tr>\n",
       "  </tbody>\n",
       "</table>\n",
       "<p>1880 rows × 8 columns</p>\n",
       "</div>"
      ],
      "text/plain": [
       "     book_id model_id         team_id  recommendation_1  recommendation_2  \\\n",
       "0         12        1  mannheimminers             56148             33530   \n",
       "1      45274        1  mannheimminers              7262             15116   \n",
       "2      10104        1  mannheimminers             10143             58103   \n",
       "3      41371        1  mannheimminers              5376             46995   \n",
       "4      14015        1  mannheimminers             20173             59077   \n",
       "..       ...      ...             ...               ...               ...   \n",
       "994    23570        2  mannheimminers             31154             66650   \n",
       "995    78384        2  mannheimminers             56354             11695   \n",
       "996    68157        2  mannheimminers              3381              9686   \n",
       "998    12971        2  mannheimminers             56107             26291   \n",
       "999    41078        2  mannheimminers             23733             27389   \n",
       "\n",
       "     recommendation_3  recommendation_4  recommendation_5  \n",
       "0               10698             72004             70402  \n",
       "1                6210             65147             32030  \n",
       "2               10317             72922             50866  \n",
       "3               28401             18617             46077  \n",
       "4               13103             40294             54587  \n",
       "..                ...               ...               ...  \n",
       "994              2279             29372             63731  \n",
       "995             42539             12464              7399  \n",
       "996             54205             66167             41398  \n",
       "998             49248             35540             15800  \n",
       "999             74400             19142              8122  \n",
       "\n",
       "[1880 rows x 8 columns]"
      ]
     },
     "execution_count": 30,
     "metadata": {},
     "output_type": "execute_result"
    }
   ],
   "source": [
    "mannheimminers_processed"
   ]
  },
  {
   "cell_type": "code",
   "execution_count": 31,
   "metadata": {},
   "outputs": [
    {
     "ename": "ValueError",
     "evalue": "The default Firebase app already exists. This means you called initialize_app() more than once without providing an app name as the second argument. In most cases you only need to call initialize_app() once. But if you do want to initialize multiple apps, pass a second argument to initialize_app() to give each app a unique name.",
     "output_type": "error",
     "traceback": [
      "\u001B[0;31m---------------------------------------------------------------------------\u001B[0m",
      "\u001B[0;31mValueError\u001B[0m                                Traceback (most recent call last)",
      "\u001B[0;32m<ipython-input-31-8a57e9b3b0ea>\u001B[0m in \u001B[0;36m<module>\u001B[0;34m\u001B[0m\n\u001B[0;32m----> 1\u001B[0;31m firestore_client = connect_to_firestore(credentials=\"../secrets/dmc-book-recommendation-firebase-adminsdk-yebqi-d805561028.json\",\n\u001B[0m\u001B[1;32m      2\u001B[0m                          database_url=\"https://book-recommendation-website.firebaseio.com/\")\n",
      "\u001B[0;32m~/PycharmProjects/dmcup2021/src/data/firestore.py\u001B[0m in \u001B[0;36mconnect_to_firestore\u001B[0;34m(credentials, database_url)\u001B[0m\n\u001B[1;32m     33\u001B[0m \u001B[0;34m\u001B[0m\u001B[0m\n\u001B[1;32m     34\u001B[0m     \u001B[0mcred\u001B[0m \u001B[0;34m=\u001B[0m \u001B[0mfirebase_admin\u001B[0m\u001B[0;34m.\u001B[0m\u001B[0mcredentials\u001B[0m\u001B[0;34m.\u001B[0m\u001B[0mCertificate\u001B[0m\u001B[0;34m(\u001B[0m\u001B[0mcredentials\u001B[0m\u001B[0;34m)\u001B[0m\u001B[0;34m\u001B[0m\u001B[0;34m\u001B[0m\u001B[0m\n\u001B[0;32m---> 35\u001B[0;31m     firebase_admin.initialize_app(cred, {\n\u001B[0m\u001B[1;32m     36\u001B[0m         \u001B[0;34m\"databaseURL\"\u001B[0m\u001B[0;34m:\u001B[0m \u001B[0mdatabase_url\u001B[0m\u001B[0;34m\u001B[0m\u001B[0;34m\u001B[0m\u001B[0m\n\u001B[1;32m     37\u001B[0m     })\n",
      "\u001B[0;32m~/opt/miniconda3/envs/dmcup2021/lib/python3.8/site-packages/firebase_admin/__init__.py\u001B[0m in \u001B[0;36minitialize_app\u001B[0;34m(credential, options, name)\u001B[0m\n\u001B[1;32m     69\u001B[0m \u001B[0;34m\u001B[0m\u001B[0m\n\u001B[1;32m     70\u001B[0m     \u001B[0;32mif\u001B[0m \u001B[0mname\u001B[0m \u001B[0;34m==\u001B[0m \u001B[0m_DEFAULT_APP_NAME\u001B[0m\u001B[0;34m:\u001B[0m\u001B[0;34m\u001B[0m\u001B[0;34m\u001B[0m\u001B[0m\n\u001B[0;32m---> 71\u001B[0;31m         raise ValueError((\n\u001B[0m\u001B[1;32m     72\u001B[0m             \u001B[0;34m'The default Firebase app already exists. This means you called '\u001B[0m\u001B[0;34m\u001B[0m\u001B[0;34m\u001B[0m\u001B[0m\n\u001B[1;32m     73\u001B[0m             \u001B[0;34m'initialize_app() more than once without providing an app name as '\u001B[0m\u001B[0;34m\u001B[0m\u001B[0;34m\u001B[0m\u001B[0m\n",
      "\u001B[0;31mValueError\u001B[0m: The default Firebase app already exists. This means you called initialize_app() more than once without providing an app name as the second argument. In most cases you only need to call initialize_app() once. But if you do want to initialize multiple apps, pass a second argument to initialize_app() to give each app a unique name."
     ]
    }
   ],
   "source": [
    "firestore_client = connect_to_firestore(credentials=\"../secrets/dmc-book-recommendation-firebase-adminsdk-yebqi-d805561028.json\",\n",
    "                         database_url=\"https://book-recommendation-website.firebaseio.com/\")"
   ]
  },
  {
   "cell_type": "code",
   "execution_count": 32,
   "metadata": {},
   "outputs": [],
   "source": [
    "write_documents_to_collection(firestore_client, model_recommendations, collection=\"recommendations\")"
   ]
  },
  {
   "cell_type": "markdown",
   "metadata": {},
   "source": [
    "## Update book information to the website"
   ]
  },
  {
   "cell_type": "code",
   "execution_count": 35,
   "metadata": {},
   "outputs": [],
   "source": [
    "import pandas as pd\n",
    "from src.data.firestore import connect_to_firestore, write_documents_to_collection"
   ]
  },
  {
   "cell_type": "code",
   "execution_count": 36,
   "metadata": {},
   "outputs": [],
   "source": [
    "books_path = \"../data/processed/books.csv\"\n",
    "books_reduced_path = \"../data/processed/books_reduced.csv\""
   ]
  },
  {
   "cell_type": "code",
   "execution_count": 37,
   "metadata": {},
   "outputs": [],
   "source": [
    "books = pd.read_csv(books_path,index_col = 0)\n",
    "books_reduced_index = pd.read_csv(books_reduced_path,index_col = 0)"
   ]
  },
  {
   "cell_type": "code",
   "execution_count": 5,
   "metadata": {},
   "outputs": [],
   "source": [
    "books.set_index(\"itemID\", inplace = True)"
   ]
  },
  {
   "cell_type": "code",
   "execution_count": 40,
   "metadata": {},
   "outputs": [
    {
     "ename": "SyntaxError",
     "evalue": "unexpected EOF while parsing (<ipython-input-40-3a841073086f>, line 5)",
     "output_type": "error",
     "traceback": [
      "\u001B[0;36m  File \u001B[0;32m\"<ipython-input-40-3a841073086f>\"\u001B[0;36m, line \u001B[0;32m5\u001B[0m\n\u001B[0;31m    'recommendation_5']\u001B[0m\n\u001B[0m                       ^\u001B[0m\n\u001B[0;31mSyntaxError\u001B[0m\u001B[0;31m:\u001B[0m unexpected EOF while parsing\n"
     ]
    }
   ],
   "source": [
    "pd.melt(mannheimminers_processed, id_vars=['A'], value_vars=['recommendation_1',\n",
    "                                                             'recommendation_2',\n",
    "                                                            'recommendation_3',\n",
    "                                                            'recommendation_4',\n",
    "                                                            'recommendation_5']"
   ]
  },
  {
   "cell_type": "code",
   "execution_count": 6,
   "metadata": {},
   "outputs": [],
   "source": [
    "books_reduced_added = books.filter(books_reduced_added_index.book_id.tolist(), axis = 0)"
   ]
  },
  {
   "cell_type": "code",
   "execution_count": 7,
   "metadata": {},
   "outputs": [],
   "source": [
    "books_reduced.reset_index(inplace = True)"
   ]
  },
  {
   "cell_type": "code",
   "execution_count": 8,
   "metadata": {},
   "outputs": [
    {
     "data": {
      "text/html": [
       "<div>\n",
       "<style scoped>\n",
       "    .dataframe tbody tr th:only-of-type {\n",
       "        vertical-align: middle;\n",
       "    }\n",
       "\n",
       "    .dataframe tbody tr th {\n",
       "        vertical-align: top;\n",
       "    }\n",
       "\n",
       "    .dataframe thead th {\n",
       "        text-align: right;\n",
       "    }\n",
       "</style>\n",
       "<table border=\"1\" class=\"dataframe\">\n",
       "  <thead>\n",
       "    <tr style=\"text-align: right;\">\n",
       "      <th></th>\n",
       "      <th>itemID</th>\n",
       "      <th>title</th>\n",
       "      <th>author</th>\n",
       "      <th>publisher</th>\n",
       "      <th>category_names</th>\n",
       "      <th>cover_url</th>\n",
       "    </tr>\n",
       "  </thead>\n",
       "  <tbody>\n",
       "    <tr>\n",
       "      <th>0</th>\n",
       "      <td>25488</td>\n",
       "      <td>Stadt aus Wind und Knochen</td>\n",
       "      <td>Fran Wilde</td>\n",
       "      <td>Knaur Taschenbuch</td>\n",
       "      <td>Epic fantasy / heroic fantasy</td>\n",
       "      <td>https://assets.thalia.media/img/artikel/182764...</td>\n",
       "    </tr>\n",
       "    <tr>\n",
       "      <th>1</th>\n",
       "      <td>58262</td>\n",
       "      <td>Biss zur Mittagsstunde (Bella und Edward 2)</td>\n",
       "      <td>Stephenie Meyer</td>\n",
       "      <td>Carlsen Verlag GmbH</td>\n",
       "      <td>Children’s / Teenage fiction: Fantasy romance</td>\n",
       "      <td>https://assets.thalia.media/img/artikel/161321...</td>\n",
       "    </tr>\n",
       "    <tr>\n",
       "      <th>2</th>\n",
       "      <td>38083</td>\n",
       "      <td>Crown of Midnight</td>\n",
       "      <td>Sarah J. Maas</td>\n",
       "      <td>Bloomsbury UK</td>\n",
       "      <td>Children’s / Teenage fiction: General fiction</td>\n",
       "      <td>https://assets.thalia.media/img/artikel/c855b3...</td>\n",
       "    </tr>\n",
       "    <tr>\n",
       "      <th>3</th>\n",
       "      <td>3059</td>\n",
       "      <td>Night Games</td>\n",
       "      <td>Sue Mydliak</td>\n",
       "      <td>BLURB INC</td>\n",
       "      <td>Fantasy</td>\n",
       "      <td>https://assets.thalia.media/img/artikel/74093d...</td>\n",
       "    </tr>\n",
       "    <tr>\n",
       "      <th>4</th>\n",
       "      <td>49587</td>\n",
       "      <td>Five Children and It</td>\n",
       "      <td>Edith Nesbit</td>\n",
       "      <td>WORDSWORTH ED</td>\n",
       "      <td>Children’s / Teenage fiction: Classic fiction</td>\n",
       "      <td>https://assets.thalia.media/img/artikel/efcd25...</td>\n",
       "    </tr>\n",
       "    <tr>\n",
       "      <th>...</th>\n",
       "      <td>...</td>\n",
       "      <td>...</td>\n",
       "      <td>...</td>\n",
       "      <td>...</td>\n",
       "      <td>...</td>\n",
       "      <td>...</td>\n",
       "    </tr>\n",
       "    <tr>\n",
       "      <th>5995</th>\n",
       "      <td>52869</td>\n",
       "      <td>The Fairy Ring (Yesterday's Classics)</td>\n",
       "      <td>Kate Douglas Wiggin, Nora Archibald Smith</td>\n",
       "      <td>Yesterday's Classics</td>\n",
       "      <td>Children’s / Teenage fiction: Traditional stories</td>\n",
       "      <td>https://assets.thalia.media/img/artikel/4f4a17...</td>\n",
       "    </tr>\n",
       "    <tr>\n",
       "      <th>5996</th>\n",
       "      <td>37217</td>\n",
       "      <td>Biom Alpha</td>\n",
       "      <td>Uwe Hermann, Merlin Thomas, Christian Weis, Ni...</td>\n",
       "      <td>Books on Demand</td>\n",
       "      <td>Science fiction: space opera</td>\n",
       "      <td>https://assets.thalia.media/img/artikel/406ce6...</td>\n",
       "    </tr>\n",
       "    <tr>\n",
       "      <th>5997</th>\n",
       "      <td>38557</td>\n",
       "      <td>Romeo and Juliet</td>\n",
       "      <td>William Shakespeare</td>\n",
       "      <td>Penguin Random House Children's UK</td>\n",
       "      <td>Children’s / Teenage fiction: Classic fiction</td>\n",
       "      <td>https://assets.thalia.media/img/artikel/dee3fc...</td>\n",
       "    </tr>\n",
       "    <tr>\n",
       "      <th>5998</th>\n",
       "      <td>9607</td>\n",
       "      <td>Conni und das neue Baby</td>\n",
       "      <td>Liane Schneider, Eva Wenzel-Bürger</td>\n",
       "      <td>Carlsen Verlag GmbH</td>\n",
       "      <td>Picture storybooks</td>\n",
       "      <td>https://assets.thalia.media/img/artikel/276e2b...</td>\n",
       "    </tr>\n",
       "    <tr>\n",
       "      <th>5999</th>\n",
       "      <td>36552</td>\n",
       "      <td>Das Einhorn-Bastelbuch</td>\n",
       "      <td>Pia Deges</td>\n",
       "      <td>Frech Verlag GmbH</td>\n",
       "      <td>Early years / early learning concepts</td>\n",
       "      <td>https://assets.thalia.media/img/artikel/2a0a9d...</td>\n",
       "    </tr>\n",
       "  </tbody>\n",
       "</table>\n",
       "<p>6000 rows × 6 columns</p>\n",
       "</div>"
      ],
      "text/plain": [
       "      itemID                                        title  \\\n",
       "0      25488                   Stadt aus Wind und Knochen   \n",
       "1      58262  Biss zur Mittagsstunde (Bella und Edward 2)   \n",
       "2      38083                            Crown of Midnight   \n",
       "3       3059                                  Night Games   \n",
       "4      49587                         Five Children and It   \n",
       "...      ...                                          ...   \n",
       "5995   52869        The Fairy Ring (Yesterday's Classics)   \n",
       "5996   37217                                   Biom Alpha   \n",
       "5997   38557                             Romeo and Juliet   \n",
       "5998    9607                      Conni und das neue Baby   \n",
       "5999   36552                       Das Einhorn-Bastelbuch   \n",
       "\n",
       "                                                 author  \\\n",
       "0                                            Fran Wilde   \n",
       "1                                       Stephenie Meyer   \n",
       "2                                         Sarah J. Maas   \n",
       "3                                           Sue Mydliak   \n",
       "4                                          Edith Nesbit   \n",
       "...                                                 ...   \n",
       "5995          Kate Douglas Wiggin, Nora Archibald Smith   \n",
       "5996  Uwe Hermann, Merlin Thomas, Christian Weis, Ni...   \n",
       "5997                                William Shakespeare   \n",
       "5998                 Liane Schneider, Eva Wenzel-Bürger   \n",
       "5999                                          Pia Deges   \n",
       "\n",
       "                               publisher  \\\n",
       "0                      Knaur Taschenbuch   \n",
       "1                    Carlsen Verlag GmbH   \n",
       "2                          Bloomsbury UK   \n",
       "3                              BLURB INC   \n",
       "4                          WORDSWORTH ED   \n",
       "...                                  ...   \n",
       "5995                Yesterday's Classics   \n",
       "5996                     Books on Demand   \n",
       "5997  Penguin Random House Children's UK   \n",
       "5998                 Carlsen Verlag GmbH   \n",
       "5999                   Frech Verlag GmbH   \n",
       "\n",
       "                                         category_names  \\\n",
       "0                         Epic fantasy / heroic fantasy   \n",
       "1         Children’s / Teenage fiction: Fantasy romance   \n",
       "2         Children’s / Teenage fiction: General fiction   \n",
       "3                                               Fantasy   \n",
       "4         Children’s / Teenage fiction: Classic fiction   \n",
       "...                                                 ...   \n",
       "5995  Children’s / Teenage fiction: Traditional stories   \n",
       "5996                       Science fiction: space opera   \n",
       "5997      Children’s / Teenage fiction: Classic fiction   \n",
       "5998                                 Picture storybooks   \n",
       "5999              Early years / early learning concepts   \n",
       "\n",
       "                                              cover_url  \n",
       "0     https://assets.thalia.media/img/artikel/182764...  \n",
       "1     https://assets.thalia.media/img/artikel/161321...  \n",
       "2     https://assets.thalia.media/img/artikel/c855b3...  \n",
       "3     https://assets.thalia.media/img/artikel/74093d...  \n",
       "4     https://assets.thalia.media/img/artikel/efcd25...  \n",
       "...                                                 ...  \n",
       "5995  https://assets.thalia.media/img/artikel/4f4a17...  \n",
       "5996  https://assets.thalia.media/img/artikel/406ce6...  \n",
       "5997  https://assets.thalia.media/img/artikel/dee3fc...  \n",
       "5998  https://assets.thalia.media/img/artikel/276e2b...  \n",
       "5999  https://assets.thalia.media/img/artikel/2a0a9d...  \n",
       "\n",
       "[6000 rows x 6 columns]"
      ]
     },
     "execution_count": 8,
     "metadata": {},
     "output_type": "execute_result"
    }
   ],
   "source": [
    "books_reduced"
   ]
  },
  {
   "cell_type": "code",
   "execution_count": 9,
   "metadata": {},
   "outputs": [],
   "source": [
    "firestore_client = connect_to_firestore(credentials=\"../secrets/dmc-book-recommendation-firebase-adminsdk-yebqi-d805561028.json\",\n",
    "                         database_url=\"https://book-recommendation-website.firebaseio.com/\")"
   ]
  },
  {
   "cell_type": "markdown",
   "metadata": {},
   "source": [
    "Since we have a free tier on firebase we need to upload multiple days. In moment we have the first 10.000 online."
   ]
  },
  {
   "cell_type": "code",
   "execution_count": 10,
   "metadata": {},
   "outputs": [],
   "source": [
    "write_documents_to_collection(firestore_client, books_reduced, collection=\"books\")"
   ]
  },
  {
   "cell_type": "code",
   "execution_count": null,
   "metadata": {},
   "outputs": [],
   "source": [
    "## Upload book information to the website\n",
    "\n",
    "import pandas as pd\n",
    "from src.data.firestore import connect_to_firestore, write_documents_to_collection\n",
    "\n",
    "books_path = \"../data/processed/books.csv\"\n",
    "books_reduced_path = \"../data/processed/books_reduced.csv\"\n",
    "\n",
    "books = pd.read_csv(books_path,index_col = 0)\n",
    "books_reduced_index = pd.read_csv(books_reduced_path,index_col = 0)\n",
    "\n",
    "books.set_index(\"itemID\", inplace = True)\n",
    "\n",
    "books_reduced = books.filter(books_reduced_index.book_id.tolist(), axis = 0)\n",
    "\n",
    "books_reduced.reset_index(inplace = True)\n",
    "\n",
    "books_reduced\n",
    "\n",
    "firestore_client = connect_to_firestore(credentials=\"../secrets/dmc-book-recommendation-firebase-adminsdk-yebqi-d805561028.json\",\n",
    "                         database_url=\"https://book-recommendation-website.firebaseio.com/\")\n",
    "\n",
    "Since we have a free tier on firebase we need to upload multiple days. In moment we have the first 10.000 online.\n",
    "\n",
    "write_documents_to_collection(firestore_client, books_reduced, collection=\"books\")"
   ]
  }
 ],
 "metadata": {
  "kernelspec": {
   "display_name": "Python 3",
   "language": "python",
   "name": "python3"
  },
  "language_info": {
   "codemirror_mode": {
    "name": "ipython",
    "version": 3
   },
   "file_extension": ".py",
   "mimetype": "text/x-python",
   "name": "python",
   "nbconvert_exporter": "python",
   "pygments_lexer": "ipython3",
   "version": "3.8.8"
  }
 },
 "nbformat": 4,
 "nbformat_minor": 1
}