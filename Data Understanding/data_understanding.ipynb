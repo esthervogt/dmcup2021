{
 "cells": [
  {
   "cell_type": "markdown",
   "id": "657316a6",
   "metadata": {},
   "source": [
    "# Data Understanding"
   ]
  },
  {
   "cell_type": "raw",
   "id": "427bab2e",
   "metadata": {},
   "source": [
    "# Author: Esther Vogt\n",
    "# Creation Date: 18.04.2021\n",
    "# Purpose: Get a first understanding of the task & corresponding data"
   ]
  },
  {
   "cell_type": "markdown",
   "id": "7c0dd54f",
   "metadata": {},
   "source": [
    "## Settings"
   ]
  },
  {
   "cell_type": "code",
   "execution_count": 24,
   "id": "d6359a11",
   "metadata": {
    "pycharm": {
     "is_executing": true
    }
   },
   "outputs": [],
   "source": [
    "########################################################################################################################\n",
    "# Imports & Settings\n",
    "########################################################################################################################\n",
    "\n",
    "import pandas as pd\n",
    "from collections import Counter\n",
    "import matplotlib.pyplot as plt\n",
    "import seaborn as sns\n",
    "import numpy as np\n",
    "import os\n",
    "import re"
   ]
  },
  {
   "cell_type": "code",
   "execution_count": 25,
   "id": "b1686534",
   "metadata": {
    "pycharm": {
     "is_executing": true
    }
   },
   "outputs": [],
   "source": [
    "# allow display of all rows (with scrollbar)\n",
    "pd.set_option(\"display.max_rows\", 10) #pd.set_option(\"display.max_rows\", None)"
   ]
  },
  {
   "cell_type": "code",
   "execution_count": 26,
   "id": "4038dfe8",
   "metadata": {
    "pycharm": {
     "is_executing": true
    }
   },
   "outputs": [],
   "source": [
    "########################################################################################################################\n",
    "# Global Variables\n",
    "########################################################################################################################\n",
    "\n",
    "# change working dir to access tempData folder\n",
    "if os.getcwd().endswith('Data Understanding'):\n",
    "    os.chdir('..')\n",
    "    print(f'went one level up --> current workdir: {os.getcwd()}')\n",
    "\n",
    "# source data file paths\n",
    "transactions_path = 'tempData/sourceData/transactions.csv'\n",
    "evaluation_path = 'tempData/sourceData/evaluation.csv'\n",
    "items_path = 'tempData/sourceData/items.csv'\n",
    "subject_cats_0_path = 'tempData/sourceData/subject_cats_0.csv'"
   ]
  },
  {
   "cell_type": "code",
   "execution_count": 27,
   "id": "1ce32192",
   "metadata": {
    "pycharm": {
     "is_executing": true
    }
   },
   "outputs": [],
   "source": [
    "########################################################################################################################\n",
    "# Functions\n",
    "########################################################################################################################\n",
    "\n",
    "def clean_alt_list(list_):\n",
    "    list_ = list_.replace(', ', ',')\n",
    "    list_ = list_.replace(',', ',')\n",
    "    list_ = list_.replace('[', '')\n",
    "    list_ = list_.replace(']', '')\n",
    "    return list_"
   ]
  },
  {
   "cell_type": "markdown",
   "id": "58ad9136",
   "metadata": {},
   "source": [
    "## Data load & initial pre-processing"
   ]
  },
  {
   "cell_type": "code",
   "execution_count": 134,
   "id": "9dc42198",
   "metadata": {
    "pycharm": {
     "is_executing": true
    }
   },
   "outputs": [
    {
     "name": "stdout",
     "output_type": "stream",
     "text": [
      "shape transactions_df: (365143, 5)\n",
      "shape items_df: (78030, 6)\n",
      "\n",
      "cols transactions_df: \n",
      "sessionID    int64\n",
      "itemID       int64\n",
      "click        int64\n",
      "basket       int64\n",
      "order        int64\n",
      "dtype: object\n",
      "\n",
      "cols items_df: \n",
      "itemID         int64\n",
      "title         object\n",
      "author        object\n",
      "publisher     object\n",
      "main topic    object\n",
      "subtopics     object\n",
      "dtype: object\n",
      "\n",
      "desc transactions_df: \n",
      "           sessionID         itemID          click         basket  \\\n",
      "count  365143.000000  365143.000000  365143.000000  365143.000000   \n",
      "mean   139586.939175   40051.292307       1.233180       0.141202   \n",
      "std     80795.207871   22493.347334       1.069996       1.107574   \n",
      "min         0.000000       1.000000       0.000000       0.000000   \n",
      "25%     69459.500000   20713.000000       1.000000       0.000000   \n",
      "50%    139608.000000   40692.000000       1.000000       0.000000   \n",
      "75%    209750.500000   58916.000000       1.000000       0.000000   \n",
      "max    279354.000000   79066.000000     118.000000     293.000000   \n",
      "\n",
      "               order  \n",
      "count  365143.000000  \n",
      "mean        0.048403  \n",
      "std         0.268717  \n",
      "min         0.000000  \n",
      "25%         0.000000  \n",
      "50%         0.000000  \n",
      "75%         0.000000  \n",
      "max        28.000000  \n",
      "\n",
      "desc items_df: \n",
      "             itemID\n",
      "count  78030.000000\n",
      "mean   39545.062553\n",
      "std    22825.650252\n",
      "min        0.000000\n",
      "25%    19775.250000\n",
      "50%    39561.500000\n",
      "75%    59306.750000\n",
      "max    79067.000000\n",
      "\n",
      "cnt unqiue sessions: 271983\n",
      "cnt unqiue items: 24909\n"
     ]
    }
   ],
   "source": [
    "########################################################################################################################\n",
    "# Load Data & Print first summary statistics\n",
    "########################################################################################################################\n",
    "\n",
    "# Load the dmc source data\n",
    "# - clicks/baskets/order over a period of 3M\n",
    "# - rows: one transaction for single item\n",
    "transactions_df = pd.read_csv(transactions_path, delimiter='|', sep='.', encoding='utf-8')\n",
    "# - list of product ids (subset of products from items_df) to be used for prediction\n",
    "evaluation_df = pd.read_csv(evaluation_path, sep='.', encoding='utf-8')\n",
    "items_df = pd.read_csv(items_path, delimiter='|', sep='.', encoding='utf-8')\n",
    "\n",
    "# load category lookup table (manually created)\n",
    "subject_cats_0 = pd.read_csv(subject_cats_0_path, delimiter=';', encoding='utf-8')\n",
    "\n",
    "# Print description of dfs\n",
    "\n",
    "# Get shape of dfs\n",
    "print(f'shape transactions_df: {transactions_df.shape}')\n",
    "#print(f'shape evaluation_df: {evaluation_df.shape}')\n",
    "print(f'shape items_df: {items_df.shape}\\n')\n",
    "\n",
    "# Get col names + datatype\n",
    "print(f'cols transactions_df: \\n{transactions_df.dtypes}\\n')\n",
    "#print(f'cols evaluation_df: \\n{evaluation_df.dtypes}\\n')\n",
    "print(f'cols items_df: \\n{items_df.dtypes}\\n')\n",
    "\n",
    "# Get description of dfs\n",
    "print(f'desc transactions_df: \\n{transactions_df.describe()}\\n')\n",
    "#print(f'desc evaluation_df: \\n{evaluation_df.describe()}\\n')\n",
    "print(f'desc items_df: \\n{items_df.describe()}\\n')\n",
    "\n",
    "# Get cnt of unique sessions / items\n",
    "print(f'cnt unqiue sessions: {transactions_df[\"sessionID\"].nunique()}') #271,983\n",
    "print(f'cnt unqiue items: {transactions_df[\"itemID\"].nunique()}') #24,909"
   ]
  },
  {
   "cell_type": "code",
   "execution_count": 149,
   "id": "68a60fc1",
   "metadata": {
    "pycharm": {
     "is_executing": true
    }
   },
   "outputs": [],
   "source": [
    "########################################################################################################################\n",
    "# Preprocessing for further inspection\n",
    "########################################################################################################################\n",
    "\n",
    "# extract list of base cols \n",
    "initial_cols= list(items_df.columns)\n",
    "\n",
    "# normalization: author col\n",
    "items_df.loc[items_df['author'] == 'ohne Autor', 'author'] = None\n",
    "\n",
    "# add col: get len of mt string\n",
    "items_df['mt_len'] = items_df['main topic'].str.len()\n",
    "\n",
    "# add col: get first element (top level category) of mt string\n",
    "items_df['mt_0'] = items_df['main topic'].str[0]\n",
    "\n",
    "# adjust subtopics: set to None if subtopics list is empty\n",
    "items_df['subtopics_str'] = items_df['subtopics'].astype(str).apply(clean_alt_list)\n",
    "items_df.loc[items_df['subtopics_str'].apply(len) ==0, 'subtopics_str'] = None\n",
    "\n",
    "# add col: get click / basket / order flag\n",
    "transactions_df['click_flg'] = np.where(transactions_df['click'] > 0, 1, 0)\n",
    "transactions_df['basket_flg'] = np.where(transactions_df['basket'] > 0, 1, 0)\n",
    "transactions_df['order_flg'] = np.where(transactions_df['order'] > 0, 1, 0)"
   ]
  },
  {
   "cell_type": "code",
   "execution_count": 136,
   "id": "3d5d0988",
   "metadata": {
    "pycharm": {
     "is_executing": true
    }
   },
   "outputs": [
    {
     "name": "stdout",
     "output_type": "stream",
     "text": [
      "items_df after first pre-processing:\n"
     ]
    },
    {
     "data": {
      "text/html": [
       "<div>\n",
       "<style scoped>\n",
       "    .dataframe tbody tr th:only-of-type {\n",
       "        vertical-align: middle;\n",
       "    }\n",
       "\n",
       "    .dataframe tbody tr th {\n",
       "        vertical-align: top;\n",
       "    }\n",
       "\n",
       "    .dataframe thead th {\n",
       "        text-align: right;\n",
       "    }\n",
       "</style>\n",
       "<table border=\"1\" class=\"dataframe\">\n",
       "  <thead>\n",
       "    <tr style=\"text-align: right;\">\n",
       "      <th></th>\n",
       "      <th>itemID</th>\n",
       "      <th>title</th>\n",
       "      <th>author</th>\n",
       "      <th>publisher</th>\n",
       "      <th>main topic</th>\n",
       "      <th>subtopics</th>\n",
       "      <th>mt_len</th>\n",
       "      <th>mt_0</th>\n",
       "      <th>subtopics_str</th>\n",
       "    </tr>\n",
       "  </thead>\n",
       "  <tbody>\n",
       "    <tr>\n",
       "      <th>0</th>\n",
       "      <td>21310</td>\n",
       "      <td>Princess Poppy: The Big Mix Up</td>\n",
       "      <td>Janey Louise Jones</td>\n",
       "      <td>Penguin Random House Children's UK</td>\n",
       "      <td>YFB</td>\n",
       "      <td>[5AH]</td>\n",
       "      <td>3.0</td>\n",
       "      <td>Y</td>\n",
       "      <td>5AH</td>\n",
       "    </tr>\n",
       "    <tr>\n",
       "      <th>1</th>\n",
       "      <td>73018</td>\n",
       "      <td>Einfach zeichnen! Step by Step</td>\n",
       "      <td>Wiebke Krabbe</td>\n",
       "      <td>Schwager und Steinlein</td>\n",
       "      <td>AGZ</td>\n",
       "      <td>[5AJ,AGZ,WFA,YBG,YBL,YNA,YPA]</td>\n",
       "      <td>3.0</td>\n",
       "      <td>A</td>\n",
       "      <td>5AJ,AGZ,WFA,YBG,YBL,YNA,YPA</td>\n",
       "    </tr>\n",
       "  </tbody>\n",
       "</table>\n",
       "</div>"
      ],
      "text/plain": [
       "   itemID                           title              author  \\\n",
       "0   21310  Princess Poppy: The Big Mix Up  Janey Louise Jones   \n",
       "1   73018  Einfach zeichnen! Step by Step       Wiebke Krabbe   \n",
       "\n",
       "                            publisher main topic  \\\n",
       "0  Penguin Random House Children's UK        YFB   \n",
       "1              Schwager und Steinlein        AGZ   \n",
       "\n",
       "                       subtopics  mt_len mt_0                subtopics_str  \n",
       "0                          [5AH]     3.0    Y                          5AH  \n",
       "1  [5AJ,AGZ,WFA,YBG,YBL,YNA,YPA]     3.0    A  5AJ,AGZ,WFA,YBG,YBL,YNA,YPA  "
      ]
     },
     "metadata": {},
     "output_type": "display_data"
    },
    {
     "name": "stdout",
     "output_type": "stream",
     "text": [
      "transactions_df after first pre-processing:\n"
     ]
    },
    {
     "data": {
      "text/html": [
       "<div>\n",
       "<style scoped>\n",
       "    .dataframe tbody tr th:only-of-type {\n",
       "        vertical-align: middle;\n",
       "    }\n",
       "\n",
       "    .dataframe tbody tr th {\n",
       "        vertical-align: top;\n",
       "    }\n",
       "\n",
       "    .dataframe thead th {\n",
       "        text-align: right;\n",
       "    }\n",
       "</style>\n",
       "<table border=\"1\" class=\"dataframe\">\n",
       "  <thead>\n",
       "    <tr style=\"text-align: right;\">\n",
       "      <th></th>\n",
       "      <th>sessionID</th>\n",
       "      <th>itemID</th>\n",
       "      <th>click</th>\n",
       "      <th>basket</th>\n",
       "      <th>order</th>\n",
       "      <th>click_flg</th>\n",
       "      <th>basket_flg</th>\n",
       "      <th>order_flg</th>\n",
       "    </tr>\n",
       "  </thead>\n",
       "  <tbody>\n",
       "    <tr>\n",
       "      <th>0</th>\n",
       "      <td>0</td>\n",
       "      <td>21310</td>\n",
       "      <td>1</td>\n",
       "      <td>0</td>\n",
       "      <td>0</td>\n",
       "      <td>1</td>\n",
       "      <td>0</td>\n",
       "      <td>0</td>\n",
       "    </tr>\n",
       "    <tr>\n",
       "      <th>1</th>\n",
       "      <td>1</td>\n",
       "      <td>73018</td>\n",
       "      <td>1</td>\n",
       "      <td>0</td>\n",
       "      <td>0</td>\n",
       "      <td>1</td>\n",
       "      <td>0</td>\n",
       "      <td>0</td>\n",
       "    </tr>\n",
       "  </tbody>\n",
       "</table>\n",
       "</div>"
      ],
      "text/plain": [
       "   sessionID  itemID  click  basket  order  click_flg  basket_flg  order_flg\n",
       "0          0   21310      1       0      0          1           0          0\n",
       "1          1   73018      1       0      0          1           0          0"
      ]
     },
     "metadata": {},
     "output_type": "display_data"
    }
   ],
   "source": [
    "# show dfs after initial pre-processing\n",
    "print(f'items_df after first pre-processing:')\n",
    "display(items_df.head(2))\n",
    "\n",
    "print(f'transactions_df after first pre-processing:')\n",
    "display(transactions_df.head(2))"
   ]
  },
  {
   "cell_type": "markdown",
   "id": "5b41c07e",
   "metadata": {},
   "source": [
    "## Overview statistics per relation / attribute"
   ]
  },
  {
   "cell_type": "markdown",
   "id": "8b803d8b",
   "metadata": {},
   "source": [
    "### items"
   ]
  },
  {
   "cell_type": "markdown",
   "id": "fcc8cf04",
   "metadata": {},
   "source": [
    "#### author"
   ]
  },
  {
   "cell_type": "code",
   "execution_count": null,
   "id": "a6dd5bd9",
   "metadata": {
    "pycharm": {
     "is_executing": true
    }
   },
   "outputs": [],
   "source": [
    "# count of books per author\n",
    "books_per_author = pd.DataFrame.from_dict(Counter(items_df.loc[:,'author']),\n",
    "                                    orient='index',\n",
    "                                    columns=['book_cnt']).sort_values(by='book_cnt', ascending=False)\n",
    "books_per_author['frac[%]'] = books_per_author['book_cnt'] * 100 / books_per_author['book_cnt'].sum()\n",
    "\n",
    "print(f'# books per author:')\n",
    "display(books_per_author.head(10))\n",
    "\n",
    "print(f'summary statistics of books per author:')\n",
    "display(books_per_author.describe())\n",
    "\n",
    "# distribution of cnt af books among authors\n",
    "books_per_author_cnts = pd.DataFrame(books_per_author['book_cnt'].value_counts().reset_index()).rename(columns={'index': 'book_cnt', \n",
    "                                                                                                                'book_cnt': 'author_cnt'})\n",
    "books_per_author_cnts['author_cnt.cum'] = books_per_author_cnts['author_cnt'].cumsum()\n",
    "books_per_author_cnts['frac[%]'] = books_per_author_cnts['author_cnt'] * 100 / books_per_author_cnts['author_cnt'].sum()\n",
    "books_per_author_cnts['frac.cum[%]'] = books_per_author_cnts['frac[%]'].cumsum()\n",
    "\n",
    "print(f'distribution of books per author:')\n",
    "display(books_per_author_cnts.head(10))\n",
    "sns.set_theme()\n",
    "sns.histplot(books_per_author[books_per_author['book_cnt']<50]['book_cnt'], binwidth=1)\n",
    "plt.show()"
   ]
  },
  {
   "cell_type": "markdown",
   "id": "4190feb5",
   "metadata": {},
   "source": [
    "#### publisher"
   ]
  },
  {
   "cell_type": "code",
   "execution_count": null,
   "id": "003fa335",
   "metadata": {
    "pycharm": {
     "is_executing": true
    }
   },
   "outputs": [],
   "source": [
    "# count of books per publisher\n",
    "books_per_publisher = pd.DataFrame.from_dict(Counter(items_df.loc[:,'publisher']),\n",
    "                                    orient='index',\n",
    "                                    columns=['book_cnt']).sort_values(by='book_cnt', ascending=False)\n",
    "books_per_publisher['frac[%]'] = books_per_publisher['book_cnt'] * 100 / books_per_publisher['book_cnt'].sum()\n",
    "\n",
    "print(f'# books per publisher:')\n",
    "display(books_per_publisher.head(10))\n",
    "\n",
    "print(f'summary statistics of books per publisher:')\n",
    "display(books_per_publisher.describe())\n",
    "\n",
    "# distribution of cnt af books among publishers\n",
    "books_per_publisher_cnts = pd.DataFrame(books_per_publisher['book_cnt'].value_counts().reset_index()).rename(columns={'index': 'book_cnt', \n",
    "                                                                                                                'book_cnt': 'publisher_cnt'})\n",
    "books_per_publisher_cnts['publisher_cnt.cum'] = books_per_publisher_cnts['publisher_cnt'].cumsum()\n",
    "books_per_publisher_cnts['frac[%]'] = books_per_publisher_cnts['publisher_cnt'] * 100 / books_per_publisher_cnts['publisher_cnt'].sum()\n",
    "books_per_publisher_cnts['frac.cum[%]'] = books_per_publisher_cnts['frac[%]'].cumsum()\n",
    "\n",
    "print(f'distribution of books per publisher:')\n",
    "display(books_per_publisher_cnts.head(10))\n",
    "sns.set_theme()\n",
    "sns.histplot(books_per_publisher[books_per_publisher['book_cnt']<50]['book_cnt'], binwidth=1)\n",
    "plt.show()"
   ]
  },
  {
   "cell_type": "markdown",
   "id": "2551d118",
   "metadata": {},
   "source": [
    "#### main topics"
   ]
  },
  {
   "cell_type": "code",
   "execution_count": null,
   "id": "2c085c9d",
   "metadata": {
    "pycharm": {
     "is_executing": true
    }
   },
   "outputs": [],
   "source": [
    "# get depth of main topic tree\n",
    "print(f'str len main topics:')\n",
    "display(pd.DataFrame(items_df[\"mt_len\"].describe()))\n",
    "mt_len_hist = sns.histplot(items_df['mt_len']).set_title(f'distribution of len of main topics')\n",
    "\n",
    "# count of books per main topic (=mt) combo\n",
    "books_per_mt = pd.DataFrame.from_dict(Counter(items_df.loc[:,'main topic']),\n",
    "                                    orient='index',\n",
    "                                    columns=['book_cnt']).sort_values(by='book_cnt', ascending=False)\n",
    "books_per_mt['frac[%]'] = books_per_mt['book_cnt'] * 100 / books_per_mt['book_cnt'].sum()\n",
    "\n",
    "# plot mt_0 distribution\n",
    "sns.set_theme()\n",
    "sns.histplot(items_df['mt_0'].astype(str).sort_values())\n",
    "\n",
    "# count of books per first element of mt\n",
    "books_per_mt_0 = pd.DataFrame.from_dict(Counter(items_df.loc[:,'mt_0']),\n",
    "                                    orient='index',\n",
    "                                    columns=['book_cnt']).sort_values(by='book_cnt', ascending=False).reset_index()\n",
    "books_per_mt_0 = books_per_mt_0.rename(columns={'index': 'Notation'})\n",
    "books_per_mt_0['frac[%]'] = books_per_mt_0['book_cnt'] * 100 / books_per_mt_0['book_cnt'].sum()\n",
    "\n",
    "# join with category heading\n",
    "books_per_mt_0 = books_per_mt_0.merge(subject_cats_0, on='Notation', how='left')\n",
    "print(f'top 5 high level cats:')\n",
    "display(books_per_mt_0.head(5))"
   ]
  },
  {
   "cell_type": "markdown",
   "id": "8fa8955d",
   "metadata": {},
   "source": [
    "### transactions"
   ]
  },
  {
   "cell_type": "markdown",
   "id": "7d1f690a",
   "metadata": {},
   "source": [
    "#### sessionid"
   ]
  },
  {
   "cell_type": "code",
   "execution_count": null,
   "id": "1977d189",
   "metadata": {
    "pycharm": {
     "is_executing": true
    }
   },
   "outputs": [],
   "source": [
    "# get cnt of items per sessionid\n",
    "items_per_session = transactions_df[['sessionID', 'itemID']].groupby('sessionID')['itemID'].count().reset_index().\\\n",
    "    sort_values(by='itemID', ascending=False).rename(columns={'itemID': 'item_cnt'})\n",
    "items_per_session['frac[%]'] = items_per_session['item_cnt'] * 100 / items_per_session['item_cnt'].sum()\n",
    "\n",
    "print(f'items per session:')\n",
    "display(items_per_session.head(10))\n",
    "\n",
    "print(f'items per session summary stats:')\n",
    "display(items_per_session.describe())"
   ]
  },
  {
   "cell_type": "markdown",
   "id": "93070d23",
   "metadata": {},
   "source": [
    "#### click"
   ]
  },
  {
   "cell_type": "code",
   "execution_count": null,
   "id": "55ef2cdc",
   "metadata": {
    "pycharm": {
     "is_executing": true
    }
   },
   "outputs": [],
   "source": [
    "# get cnt of clicks per item\n",
    "clicks_per_item = transactions_df[['itemID', 'click']].groupby('itemID')['click'].sum().reset_index().\\\n",
    "    sort_values(by='click', ascending=False).rename(columns={'click': 'click_cnt'})\n",
    "clicks_per_item['frac[%]'] = clicks_per_item['click_cnt'] * 100 / clicks_per_item['click_cnt'].sum()\n",
    "\n",
    "print(f'clicks per item:')\n",
    "display(clicks_per_item.head(10))\n",
    "\n",
    "print(f'clicks per item summary stats:')\n",
    "display(clicks_per_item.describe())"
   ]
  },
  {
   "cell_type": "markdown",
   "id": "be557db1",
   "metadata": {},
   "source": [
    "#### basket vs order\n",
    "- basket: items that were added to basekt but not necessarily bought\n",
    "- order: items that where finally bought"
   ]
  },
  {
   "cell_type": "code",
   "execution_count": null,
   "id": "52e0a959",
   "metadata": {
    "pycharm": {
     "is_executing": true
    }
   },
   "outputs": [],
   "source": [
    "# get cnt of orders per session\n",
    "orders_per_session = transactions_df[['sessionID', 'order_flg']].groupby('sessionID')['order_flg'].sum().reset_index().\\\n",
    "    sort_values(by='order_flg', ascending=False).rename(columns={'order_flg': 'order_cnt'})\n",
    "orders_per_session['frac[%]'] = orders_per_session['order_cnt'] * 100 / orders_per_session['order_cnt'].sum()\n",
    "\n",
    "print(f'distinct orders per session (binary, w/o qty):')\n",
    "display(orders_per_session.head(10))\n",
    "\n",
    "print(f'distinct orders per session summary stats:')\n",
    "display(orders_per_session.describe())\n",
    "\n",
    "# get cnt of orders per item\n",
    "orders_per_item = transactions_df[['itemID', 'order_flg']].groupby('itemID')['order_flg'].sum().reset_index().\\\n",
    "    sort_values(by='order_flg', ascending=False).rename(columns={'order_flg': 'order_cnt'})\n",
    "orders_per_item['frac[%]'] = orders_per_item['order_cnt'] * 100 / orders_per_item['order_cnt'].sum()\n",
    "\n",
    "print(f'distinct orders per item (binary, w/o qty):')\n",
    "display(orders_per_item.head(10))\n",
    "\n",
    "print(f'distinct orders per item summary stats:')\n",
    "display(orders_per_item.describe())\n",
    "\n",
    "# get frac of items that were added to basket but not bought\n",
    "items_per_basket_order = transactions_df[['itemID',\n",
    "                                          'basket_flg',\n",
    "                                          'order_flg']].groupby(['basket_flg',\n",
    "                                                                 'order_flg'])['itemID'].count().reset_index().rename(columns={'itemID': 'item_cnt'})\n",
    "items_per_basket_order['frac[%]'] = items_per_basket_order['item_cnt'] * 100 / items_per_basket_order['item_cnt'].sum()\n",
    "print(f'basket to order conversion:')\n",
    "display(items_per_basket_order)"
   ]
  },
  {
   "cell_type": "markdown",
   "id": "580451a3",
   "metadata": {},
   "source": [
    "## Anomaly Detection"
   ]
  },
  {
   "cell_type": "markdown",
   "id": "d505931a",
   "metadata": {},
   "source": [
    "### Missing Values\n",
    "- 9 items w/o publisher: \n",
    "    - could be anything, cannot be imputed\n",
    "    - not such a crucial information to be missing\n",
    "    - thus: no handling \n",
    "- 3240 items w/o author:\n",
    "    - correct author might not be uniquely determinable or there might not even be a senseful author\n",
    "    - thus: no handling\n",
    "- 258 items w/o main topic:\n",
    "    - at least subtopic is given\n",
    "    - only 32 of these also have the author missing\n",
    "- 36,904 items w/o subtopic:\n",
    "    - in all of the cases, a main topic is given \n",
    "    - thus: still enough information available"
   ]
  },
  {
   "cell_type": "code",
   "execution_count": 31,
   "id": "60ca0023",
   "metadata": {
    "pycharm": {
     "is_executing": true
    }
   },
   "outputs": [
    {
     "name": "stdout",
     "output_type": "stream",
     "text": [
      "null values per column:\n"
     ]
    },
    {
     "data": {
      "text/html": [
       "<div>\n",
       "<style scoped>\n",
       "    .dataframe tbody tr th:only-of-type {\n",
       "        vertical-align: middle;\n",
       "    }\n",
       "\n",
       "    .dataframe tbody tr th {\n",
       "        vertical-align: top;\n",
       "    }\n",
       "\n",
       "    .dataframe thead th {\n",
       "        text-align: right;\n",
       "    }\n",
       "</style>\n",
       "<table border=\"1\" class=\"dataframe\">\n",
       "  <thead>\n",
       "    <tr style=\"text-align: right;\">\n",
       "      <th></th>\n",
       "      <th>itemID</th>\n",
       "      <th>title</th>\n",
       "      <th>author</th>\n",
       "      <th>publisher</th>\n",
       "      <th>main topic</th>\n",
       "      <th>subtopics</th>\n",
       "      <th>mt_len</th>\n",
       "      <th>mt_0</th>\n",
       "      <th>subtopics_str</th>\n",
       "    </tr>\n",
       "  </thead>\n",
       "  <tbody>\n",
       "    <tr>\n",
       "      <th>cnt</th>\n",
       "      <td>0.0</td>\n",
       "      <td>0.0</td>\n",
       "      <td>3240.000000</td>\n",
       "      <td>9.000000</td>\n",
       "      <td>258.000000</td>\n",
       "      <td>1.000000</td>\n",
       "      <td>258.000000</td>\n",
       "      <td>258.000000</td>\n",
       "      <td>36904.00000</td>\n",
       "    </tr>\n",
       "    <tr>\n",
       "      <th>frac[%]</th>\n",
       "      <td>0.0</td>\n",
       "      <td>0.0</td>\n",
       "      <td>4.152249</td>\n",
       "      <td>0.011534</td>\n",
       "      <td>0.330642</td>\n",
       "      <td>0.001282</td>\n",
       "      <td>0.330642</td>\n",
       "      <td>0.330642</td>\n",
       "      <td>47.29463</td>\n",
       "    </tr>\n",
       "  </tbody>\n",
       "</table>\n",
       "</div>"
      ],
      "text/plain": [
       "         itemID  title       author  publisher  main topic  subtopics  \\\n",
       "cnt         0.0    0.0  3240.000000   9.000000  258.000000   1.000000   \n",
       "frac[%]     0.0    0.0     4.152249   0.011534    0.330642   0.001282   \n",
       "\n",
       "             mt_len        mt_0  subtopics_str  \n",
       "cnt      258.000000  258.000000    36904.00000  \n",
       "frac[%]    0.330642    0.330642       47.29463  "
      ]
     },
     "metadata": {},
     "output_type": "display_data"
    },
    {
     "name": "stdout",
     "output_type": "stream",
     "text": [
      "\n",
      "# rows with null values in more than one col: 901\n",
      "\n",
      "distribution of null values over cols (1=null, 0=not null):\n"
     ]
    },
    {
     "data": {
      "text/html": [
       "<div>\n",
       "<style scoped>\n",
       "    .dataframe tbody tr th:only-of-type {\n",
       "        vertical-align: middle;\n",
       "    }\n",
       "\n",
       "    .dataframe tbody tr th {\n",
       "        vertical-align: top;\n",
       "    }\n",
       "\n",
       "    .dataframe thead th {\n",
       "        text-align: right;\n",
       "    }\n",
       "</style>\n",
       "<table border=\"1\" class=\"dataframe\">\n",
       "  <thead>\n",
       "    <tr style=\"text-align: right;\">\n",
       "      <th></th>\n",
       "      <th>itemID</th>\n",
       "      <th>title</th>\n",
       "      <th>author</th>\n",
       "      <th>publisher</th>\n",
       "      <th>main topic</th>\n",
       "      <th>subtopics</th>\n",
       "      <th>subtopics_str</th>\n",
       "      <th>0</th>\n",
       "    </tr>\n",
       "  </thead>\n",
       "  <tbody>\n",
       "    <tr>\n",
       "      <th>0</th>\n",
       "      <td>0</td>\n",
       "      <td>0</td>\n",
       "      <td>0</td>\n",
       "      <td>0</td>\n",
       "      <td>0</td>\n",
       "      <td>0</td>\n",
       "      <td>0</td>\n",
       "      <td>38519</td>\n",
       "    </tr>\n",
       "    <tr>\n",
       "      <th>1</th>\n",
       "      <td>0</td>\n",
       "      <td>0</td>\n",
       "      <td>0</td>\n",
       "      <td>0</td>\n",
       "      <td>0</td>\n",
       "      <td>0</td>\n",
       "      <td>1</td>\n",
       "      <td>36035</td>\n",
       "    </tr>\n",
       "    <tr>\n",
       "      <th>2</th>\n",
       "      <td>0</td>\n",
       "      <td>0</td>\n",
       "      <td>1</td>\n",
       "      <td>0</td>\n",
       "      <td>0</td>\n",
       "      <td>0</td>\n",
       "      <td>0</td>\n",
       "      <td>2348</td>\n",
       "    </tr>\n",
       "    <tr>\n",
       "      <th>3</th>\n",
       "      <td>0</td>\n",
       "      <td>0</td>\n",
       "      <td>1</td>\n",
       "      <td>0</td>\n",
       "      <td>0</td>\n",
       "      <td>0</td>\n",
       "      <td>1</td>\n",
       "      <td>860</td>\n",
       "    </tr>\n",
       "    <tr>\n",
       "      <th>4</th>\n",
       "      <td>0</td>\n",
       "      <td>0</td>\n",
       "      <td>0</td>\n",
       "      <td>0</td>\n",
       "      <td>1</td>\n",
       "      <td>0</td>\n",
       "      <td>0</td>\n",
       "      <td>226</td>\n",
       "    </tr>\n",
       "    <tr>\n",
       "      <th>5</th>\n",
       "      <td>0</td>\n",
       "      <td>0</td>\n",
       "      <td>1</td>\n",
       "      <td>0</td>\n",
       "      <td>1</td>\n",
       "      <td>0</td>\n",
       "      <td>0</td>\n",
       "      <td>32</td>\n",
       "    </tr>\n",
       "    <tr>\n",
       "      <th>6</th>\n",
       "      <td>0</td>\n",
       "      <td>0</td>\n",
       "      <td>0</td>\n",
       "      <td>1</td>\n",
       "      <td>0</td>\n",
       "      <td>0</td>\n",
       "      <td>1</td>\n",
       "      <td>9</td>\n",
       "    </tr>\n",
       "    <tr>\n",
       "      <th>7</th>\n",
       "      <td>0</td>\n",
       "      <td>0</td>\n",
       "      <td>0</td>\n",
       "      <td>0</td>\n",
       "      <td>0</td>\n",
       "      <td>1</td>\n",
       "      <td>0</td>\n",
       "      <td>1</td>\n",
       "    </tr>\n",
       "  </tbody>\n",
       "</table>\n",
       "</div>"
      ],
      "text/plain": [
       "   itemID  title  author  publisher  main topic  subtopics  subtopics_str  \\\n",
       "0       0      0       0          0           0          0              0   \n",
       "1       0      0       0          0           0          0              1   \n",
       "2       0      0       1          0           0          0              0   \n",
       "3       0      0       1          0           0          0              1   \n",
       "4       0      0       0          0           1          0              0   \n",
       "5       0      0       1          0           1          0              0   \n",
       "6       0      0       0          1           0          0              1   \n",
       "7       0      0       0          0           0          1              0   \n",
       "\n",
       "       0  \n",
       "0  38519  \n",
       "1  36035  \n",
       "2   2348  \n",
       "3    860  \n",
       "4    226  \n",
       "5     32  \n",
       "6      9  \n",
       "7      1  "
      ]
     },
     "metadata": {},
     "output_type": "display_data"
    }
   ],
   "source": [
    "# get cnt of missing values per column\n",
    "missing_values = pd.DataFrame(items_df.isnull().sum()).rename(columns={0: 'cnt'})\n",
    "missing_values['frac[%]'] = missing_values['cnt'] * 100 / len(items_df)\n",
    "print(f'null values per column:')\n",
    "display(missing_values.transpose())\n",
    "\n",
    "# get cnt of combined null values: sum null values per row and cnt rows with #null > 1\n",
    "print(f'\\n# rows with null values in more than one col: {(items_df[initial_cols + [\"subtopics_str\"]].isnull().sum(axis=1) > 1).sum()}')\n",
    "print(f'\\ndistribution of null values over cols (1=null, 0=not null):')\n",
    "display(pd.DataFrame((items_df[initial_cols + ['subtopics_str']].isnull() * 1).value_counts().reset_index()))"
   ]
  },
  {
   "cell_type": "markdown",
   "id": "2dc67e53",
   "metadata": {},
   "source": [
    "#### Missing publisher"
   ]
  },
  {
   "cell_type": "code",
   "execution_count": null,
   "id": "be18bec6",
   "metadata": {
    "pycharm": {
     "is_executing": true
    }
   },
   "outputs": [],
   "source": [
    "# check all items with missing publisher\n",
    "print('all items with missing publisher:')\n",
    "display(items_df[items_df['publisher'].isnull()])\n",
    "\n",
    "# check whether there might be other entries with publisher given\n",
    "missing_publisher_title = items_df[items_df['publisher'].isnull()]['title']\n",
    "print(f'books with same title that appear twice: {(items_df[items_df[\"title\"].isin(missing_publisher_title)].groupby(\"title\")[\"itemID\"].count() > 1).sum()}\\n')\n",
    "\n",
    "# inspect sample with missing publisher \n",
    "# > missing publisher is most likely to be 'TEKTIME' > however: could also be different\n",
    "print('entries for title \"Back to Earth\" with missing publisher for some editions:')\n",
    "display(items_df[items_df['title'].str.contains('Back to Earth')])\n",
    "print('entries for author \"Danilo Clementoni\" with missing publisher for some items:')\n",
    "display(items_df[items_df['author'] == 'Danilo Clementoni'])"
   ]
  },
  {
   "cell_type": "markdown",
   "id": "0d217beb",
   "metadata": {},
   "source": [
    "#### Missing author\n",
    "- __problem__: \n",
    "    - there is a lot of items with very generalistic titles like 'Dinosaurier' or 'Die Weihnachtsgeschichte' that do not allow to uniquely determine the correct author\n",
    "    - there might not even be a unique author, like for 'Freundebuch - Einhorn-Paradies - Meine Freunde' or 'Kritzkratz-Spaß Glitzer'\n",
    "    - there might be the same item but several different authors, like for 'Goldilocks and the Three Bears'\n",
    "    \n",
    "- __approach__: \n",
    "    - try to not impute author, use other attributes instead, e.g. topic or publisher"
   ]
  },
  {
   "cell_type": "code",
   "execution_count": null,
   "id": "0786d088",
   "metadata": {
    "pycharm": {
     "is_executing": true
    }
   },
   "outputs": [],
   "source": [
    "# check all items with missing author\n",
    "print('first 10 items with missing author:')\n",
    "display(items_df[items_df['author'].isnull()].head(10))\n",
    "\n",
    "# check whether there might be other entries with author given\n",
    "missing_author_title = items_df[items_df['author'].isnull()]['title']\n",
    "missing_author_cnt_dups = pd.DataFrame(items_df[items_df[\"title\"].isin(missing_author_title)].groupby(\"title\")[\"itemID\"].count())\n",
    "print(f'\\nbooks with same title that appear twice (see df below): {(missing_author_cnt_dups[\"itemID\"] > 1).sum()}')\n",
    "\n",
    "# check whether author can be retried\n",
    "missing_author_dups = missing_author_cnt_dups[missing_author_cnt_dups[\"itemID\"] > 1].reset_index()['title']\n",
    "display(items_df[items_df['title'].isin(missing_author_dups)].sort_values(by='title'))\n"
   ]
  },
  {
   "cell_type": "markdown",
   "id": "74b61623",
   "metadata": {},
   "source": [
    "#### Missing topic"
   ]
  },
  {
   "cell_type": "code",
   "execution_count": null,
   "id": "1631db1f",
   "metadata": {
    "pycharm": {
     "is_executing": true
    }
   },
   "outputs": [],
   "source": [
    "# check whether there are items with no topic at all\n",
    "print(f'cnt of items with both, main topic and subtopic == null: {((items_df[\"subtopics_str\"].isnull()) & (items_df[\"main topic\"].isnull())).sum()}')"
   ]
  },
  {
   "cell_type": "markdown",
   "id": "01cf2440",
   "metadata": {},
   "source": [
    "##### main"
   ]
  },
  {
   "cell_type": "code",
   "execution_count": null,
   "id": "e8bb4113",
   "metadata": {
    "pycharm": {
     "is_executing": true
    },
    "scrolled": true
   },
   "outputs": [],
   "source": [
    "# check all items with missing topic\n",
    "print('first 10 items with missing topic:')\n",
    "display(items_df[items_df['main topic'].isnull()].head(10))\n",
    "\n",
    "# check whether there might be other entries with topic given\n",
    "missing_topic_title = items_df[items_df['main topic'].isnull()]['title']\n",
    "missing_topic_cnt_dups = pd.DataFrame(items_df[items_df[\"title\"].isin(missing_topic_title)].groupby(\"title\")[\"itemID\"].count())\n",
    "print(f'\\nbooks with same title that appear twice (see df below): {(missing_topic_cnt_dups[\"itemID\"] > 1).sum()}')\n",
    "\n",
    "# check whether topic can be retried\n",
    "missing_topic_dups = missing_topic_cnt_dups[missing_topic_cnt_dups[\"itemID\"] > 1].reset_index()['title']\n",
    "display(items_df[items_df['title'].isin(missing_topic_dups)].sort_values(by='title'))\n",
    "\n",
    "# check cnt of items with main topic and subtopic missing\n"
   ]
  },
  {
   "cell_type": "markdown",
   "id": "f68309f2",
   "metadata": {},
   "source": [
    "##### sub\n",
    "- no scalable solution for imputing subtopics\n",
    "- out of the 36,904 missing subtopics, only 2,668 items appear multiple times\n",
    "    - out of these, only 1,574 actually have a duplicate with a subtopic given"
   ]
  },
  {
   "cell_type": "code",
   "execution_count": null,
   "id": "d291d94b",
   "metadata": {
    "pycharm": {
     "is_executing": true
    }
   },
   "outputs": [],
   "source": [
    "# check all items with missing topic\n",
    "print('first 10 items with missing topic:')\n",
    "display(items_df[items_df['subtopics_str'].isnull()])\n",
    "\n",
    "# check whether there might be other entries with topic given\n",
    "missing_topic_title = items_df[items_df['subtopics_str'].isnull()]['title']\n",
    "missing_topic_cnt_dups = pd.DataFrame(items_df[items_df[\"title\"].isin(missing_topic_title)].groupby(\"title\")[\"itemID\"].count())\n",
    "print(f'\\nbooks with same title that appear twice (see df below): {(missing_topic_cnt_dups[\"itemID\"] > 1).sum()}')\n",
    "\n",
    "# check whether topic can be retried\n",
    "missing_topic_dups = missing_topic_cnt_dups[(missing_topic_cnt_dups[\"itemID\"] > 1)].reset_index()['title']\n",
    "display(items_df[(items_df['title'].isin(missing_topic_dups)) & (~items_df['subtopics_str'].isnull())].sort_values(by='title'))"
   ]
  },
  {
   "cell_type": "markdown",
   "id": "a873af8d",
   "metadata": {},
   "source": [
    "### Duplicates\n",
    "\n",
    "__To keep in mind:__\n",
    "1. other relevant attributes are not given, e.g.:\n",
    "    - actual __language__ might not be that of title\n",
    "    - __publication date__ might differ between itemIDs (=Neuauflage)\n",
    "    - title might not be complete (e.g. __subtitle__ missing)\n",
    "        - e.g. '[Ära der Lichtwächter](https://www.amazon.com/s?k=%C3%84ra+der+Lichtw%C3%A4chter&ref=nb_sb_noss)' from 'Klaus Pfrommer' (itemID = (40200,18242)) is collection with differing subtitles \"Die Täuschung\", \"Das Vermächtnis\", \"Die Unschuld\" \n",
    "    - thus: itemID would be unique identifier for actually different items\n",
    "2. __transactions__ might help to differentiate between items and __rank their relevance__"
   ]
  },
  {
   "cell_type": "markdown",
   "id": "110503d2",
   "metadata": {},
   "source": [
    "#### duplicate entries per column"
   ]
  },
  {
   "cell_type": "code",
   "execution_count": 44,
   "id": "ff4497c1",
   "metadata": {},
   "outputs": [
    {
     "name": "stdout",
     "output_type": "stream",
     "text": [
      "cnt of duplicate itemID: 0\n",
      "cnt of duplicate title: 4193\n",
      "cnt of duplicate author: 10120\n",
      "cnt of duplicate publisher: 3426\n",
      "cnt of duplicate main topic: 478\n",
      "cnt of duplicate subtopics: 2599\n"
     ]
    }
   ],
   "source": [
    "# cnt column-wise duplication\n",
    "sc_cnt = 1\n",
    "for col in initial_cols:\n",
    "    print(f'cnt of duplicate {col}: {(items_df[col].value_counts() > 1).sum()}')\n",
    "    \n",
    "# inspect title duplicates\n",
    "title_cnts = (items_df[\"title\"].value_counts().reset_index())\n",
    "title_dups_lst = title_cnts[title_cnts[\"title\"]>1][\"index\"]\n",
    "items_df[(items_df[\"title\"].isin(title_dups_lst))].sort_values(by=\"title\")"
   ]
  },
  {
   "cell_type": "markdown",
   "id": "44b9f307",
   "metadata": {},
   "source": [
    "#### everything identical except of single column\n",
    "- only cases for duplicated items with same attributes but different itemID"
   ]
  },
  {
   "cell_type": "code",
   "execution_count": 48,
   "id": "f9c780cc",
   "metadata": {
    "pycharm": {
     "is_executing": true
    }
   },
   "outputs": [
    {
     "name": "stdout",
     "output_type": "stream",
     "text": [
      "everything identical except of itemID = 464\n",
      "everything identical except of title = 0\n",
      "everything identical except of author = 0\n",
      "everything identical except of publisher = 0\n",
      "everything identical except of main topic = 0\n",
      "everything identical except of subtopics = 0\n"
     ]
    }
   ],
   "source": [
    "col_list = initial_cols #['itemID'] \n",
    "for col in col_list:\n",
    "    \n",
    "    # check all cols except of current one\n",
    "    col_list_lim = [c for c in items_df.columns if c != col]\n",
    "    #print(f'{col}: {col_list_lim}')\n",
    "\n",
    "    # compute duplicate cnt\n",
    "    dup = pd.DataFrame(items_df.groupby(col_list_lim)[col].count().reset_index())\n",
    "    print(f'everything identical except of {col} = {(dup[col] > 1).sum()}')\n",
    "    #display(dup[dup[col] > 1].sort_values(by=col))\n",
    "    #display(dup.sort_values(by=col))"
   ]
  },
  {
   "cell_type": "code",
   "execution_count": null,
   "id": "463b68c5",
   "metadata": {
    "pycharm": {
     "is_executing": true
    }
   },
   "outputs": [],
   "source": [
    "# deep dive: everything identical except of ID\n",
    "print(f'sample entry for sc1: everything identical except of itemID')\n",
    "display(items_df[items_df['title']=='Reisestipendien'])"
   ]
  },
  {
   "cell_type": "markdown",
   "id": "6cda15bc",
   "metadata": {},
   "source": [
    "### String normalization\n",
    "\n",
    "1. capitalization\n",
    "- e.g. publisher = 'TEKTIME' or 'Tektime' or author = 'V. S. Nesby' and 'Vs Nesby'\n",
    "2. special characters\n",
    "3. unicode characters\n",
    "    - remove any Unicode character, i.e. in Switzerland, multiple German (ä,ö,ü), French (à,é,è) or Italian umlaut are used, and we want to get rid of them as well.\n",
    "4. weird entries\n",
    "    - author: der Authhhhor\n",
    "    - diverse Autoren, Autoren\n",
    "5. "
   ]
  },
  {
   "cell_type": "code",
   "execution_count": 88,
   "id": "b37684db",
   "metadata": {},
   "outputs": [],
   "source": [
    "pd.set_option(\"display.max_rows\", 100)"
   ]
  },
  {
   "cell_type": "code",
   "execution_count": null,
   "id": "2476fad6",
   "metadata": {},
   "outputs": [],
   "source": [
    "items_df.dtypes"
   ]
  },
  {
   "cell_type": "code",
   "execution_count": 143,
   "id": "690772d5",
   "metadata": {},
   "outputs": [
    {
     "data": {
      "text/html": [
       "<div>\n",
       "<style scoped>\n",
       "    .dataframe tbody tr th:only-of-type {\n",
       "        vertical-align: middle;\n",
       "    }\n",
       "\n",
       "    .dataframe tbody tr th {\n",
       "        vertical-align: top;\n",
       "    }\n",
       "\n",
       "    .dataframe thead th {\n",
       "        text-align: right;\n",
       "    }\n",
       "</style>\n",
       "<table border=\"1\" class=\"dataframe\">\n",
       "  <thead>\n",
       "    <tr style=\"text-align: right;\">\n",
       "      <th></th>\n",
       "      <th>itemID</th>\n",
       "      <th>title</th>\n",
       "      <th>author</th>\n",
       "      <th>publisher</th>\n",
       "      <th>main topic</th>\n",
       "      <th>subtopics</th>\n",
       "      <th>mt_len</th>\n",
       "      <th>mt_0</th>\n",
       "      <th>subtopics_str</th>\n",
       "    </tr>\n",
       "  </thead>\n",
       "  <tbody>\n",
       "    <tr>\n",
       "      <th>0</th>\n",
       "      <td>21310</td>\n",
       "      <td>Princess Poppy: The Big Mix Up</td>\n",
       "      <td>Janey Louise Jones</td>\n",
       "      <td>Penguin Random House Children's UK</td>\n",
       "      <td>YFB</td>\n",
       "      <td>[5AH]</td>\n",
       "      <td>3.0</td>\n",
       "      <td>Y</td>\n",
       "      <td>5AH</td>\n",
       "    </tr>\n",
       "    <tr>\n",
       "      <th>1</th>\n",
       "      <td>73018</td>\n",
       "      <td>Einfach zeichnen! Step by Step</td>\n",
       "      <td>Wiebke Krabbe</td>\n",
       "      <td>Schwager und Steinlein</td>\n",
       "      <td>AGZ</td>\n",
       "      <td>[5AJ,AGZ,WFA,YBG,YBL,YNA,YPA]</td>\n",
       "      <td>3.0</td>\n",
       "      <td>A</td>\n",
       "      <td>5AJ,AGZ,WFA,YBG,YBL,YNA,YPA</td>\n",
       "    </tr>\n",
       "    <tr>\n",
       "      <th>2</th>\n",
       "      <td>19194</td>\n",
       "      <td>Red Queen 1</td>\n",
       "      <td>Victoria Aveyard</td>\n",
       "      <td>Orion Publishing Group</td>\n",
       "      <td>YFH</td>\n",
       "      <td>[5AP,FBA]</td>\n",
       "      <td>3.0</td>\n",
       "      <td>Y</td>\n",
       "      <td>5AP,FBA</td>\n",
       "    </tr>\n",
       "    <tr>\n",
       "      <th>3</th>\n",
       "      <td>40250</td>\n",
       "      <td>Meine Kindergarten-Freunde (Pirat)</td>\n",
       "      <td>NaN</td>\n",
       "      <td>Ars Edition GmbH</td>\n",
       "      <td>YB</td>\n",
       "      <td>[5AC,5AD,YBG,YBL,YF]</td>\n",
       "      <td>2.0</td>\n",
       "      <td>Y</td>\n",
       "      <td>5AC,5AD,YBG,YBL,YF</td>\n",
       "    </tr>\n",
       "    <tr>\n",
       "      <th>4</th>\n",
       "      <td>46107</td>\n",
       "      <td>Mein großes Schablonen-Buch - Wilde Tiere</td>\n",
       "      <td>Elizabeth Golding</td>\n",
       "      <td>Edition Michael Fischer</td>\n",
       "      <td>WFTM</td>\n",
       "      <td>[WD,WFTM,YBG,YBL,YBLD,YBLN1]</td>\n",
       "      <td>4.0</td>\n",
       "      <td>W</td>\n",
       "      <td>WD,WFTM,YBG,YBL,YBLD,YBLN1</td>\n",
       "    </tr>\n",
       "    <tr>\n",
       "      <th>5</th>\n",
       "      <td>34217</td>\n",
       "      <td>Ewig geliebt</td>\n",
       "      <td>J. R. Ward</td>\n",
       "      <td>Heyne Taschenbuch</td>\n",
       "      <td>FMR</td>\n",
       "      <td>[1KBB-US-NAK,FMX,FRX,3MRBF]</td>\n",
       "      <td>3.0</td>\n",
       "      <td>F</td>\n",
       "      <td>1KBB-US-NAK,FMX,FRX,3MRBF</td>\n",
       "    </tr>\n",
       "    <tr>\n",
       "      <th>6</th>\n",
       "      <td>31436</td>\n",
       "      <td>Meine Sticker-Tiere</td>\n",
       "      <td>NaN</td>\n",
       "      <td>Ars Edition GmbH</td>\n",
       "      <td>YBG</td>\n",
       "      <td>[5AD,YBG,YBLL]</td>\n",
       "      <td>3.0</td>\n",
       "      <td>Y</td>\n",
       "      <td>5AD,YBG,YBLL</td>\n",
       "    </tr>\n",
       "    <tr>\n",
       "      <th>7</th>\n",
       "      <td>14576</td>\n",
       "      <td>Unsterblich 01 - Tor der Dämmerung</td>\n",
       "      <td>Julie Kagawa</td>\n",
       "      <td>Heyne Taschenbuch</td>\n",
       "      <td>YFE</td>\n",
       "      <td>[5AQ,FM,YFE,YFH]</td>\n",
       "      <td>3.0</td>\n",
       "      <td>Y</td>\n",
       "      <td>5AQ,FM,YFE,YFH</td>\n",
       "    </tr>\n",
       "    <tr>\n",
       "      <th>8</th>\n",
       "      <td>17731</td>\n",
       "      <td>Unsterblich 02 - Tor der Nacht</td>\n",
       "      <td>Julie Kagawa</td>\n",
       "      <td>Heyne Taschenbuch</td>\n",
       "      <td>YFH</td>\n",
       "      <td>[5AQ,FM,YFE,YFH]</td>\n",
       "      <td>3.0</td>\n",
       "      <td>Y</td>\n",
       "      <td>5AQ,FM,YFE,YFH</td>\n",
       "    </tr>\n",
       "    <tr>\n",
       "      <th>9</th>\n",
       "      <td>58723</td>\n",
       "      <td>Pedro und die Bettler von Cartagena</td>\n",
       "      <td>Ursula Hasler</td>\n",
       "      <td>dtv Verlagsgesellschaft</td>\n",
       "      <td>YFB</td>\n",
       "      <td>[5AM,1KLSC]</td>\n",
       "      <td>3.0</td>\n",
       "      <td>Y</td>\n",
       "      <td>5AM,1KLSC</td>\n",
       "    </tr>\n",
       "  </tbody>\n",
       "</table>\n",
       "</div>"
      ],
      "text/plain": [
       "   itemID                                      title              author  \\\n",
       "0   21310             Princess Poppy: The Big Mix Up  Janey Louise Jones   \n",
       "1   73018             Einfach zeichnen! Step by Step       Wiebke Krabbe   \n",
       "2   19194                                Red Queen 1    Victoria Aveyard   \n",
       "3   40250         Meine Kindergarten-Freunde (Pirat)                 NaN   \n",
       "4   46107  Mein großes Schablonen-Buch - Wilde Tiere   Elizabeth Golding   \n",
       "5   34217                               Ewig geliebt          J. R. Ward   \n",
       "6   31436                        Meine Sticker-Tiere                 NaN   \n",
       "7   14576         Unsterblich 01 - Tor der Dämmerung        Julie Kagawa   \n",
       "8   17731             Unsterblich 02 - Tor der Nacht        Julie Kagawa   \n",
       "9   58723        Pedro und die Bettler von Cartagena       Ursula Hasler   \n",
       "\n",
       "                            publisher main topic  \\\n",
       "0  Penguin Random House Children's UK        YFB   \n",
       "1              Schwager und Steinlein        AGZ   \n",
       "2              Orion Publishing Group        YFH   \n",
       "3                    Ars Edition GmbH         YB   \n",
       "4             Edition Michael Fischer       WFTM   \n",
       "5                   Heyne Taschenbuch        FMR   \n",
       "6                    Ars Edition GmbH        YBG   \n",
       "7                   Heyne Taschenbuch        YFE   \n",
       "8                   Heyne Taschenbuch        YFH   \n",
       "9             dtv Verlagsgesellschaft        YFB   \n",
       "\n",
       "                       subtopics  mt_len mt_0                subtopics_str  \n",
       "0                          [5AH]     3.0    Y                          5AH  \n",
       "1  [5AJ,AGZ,WFA,YBG,YBL,YNA,YPA]     3.0    A  5AJ,AGZ,WFA,YBG,YBL,YNA,YPA  \n",
       "2                      [5AP,FBA]     3.0    Y                      5AP,FBA  \n",
       "3           [5AC,5AD,YBG,YBL,YF]     2.0    Y           5AC,5AD,YBG,YBL,YF  \n",
       "4   [WD,WFTM,YBG,YBL,YBLD,YBLN1]     4.0    W   WD,WFTM,YBG,YBL,YBLD,YBLN1  \n",
       "5    [1KBB-US-NAK,FMX,FRX,3MRBF]     3.0    F    1KBB-US-NAK,FMX,FRX,3MRBF  \n",
       "6                 [5AD,YBG,YBLL]     3.0    Y                 5AD,YBG,YBLL  \n",
       "7               [5AQ,FM,YFE,YFH]     3.0    Y               5AQ,FM,YFE,YFH  \n",
       "8               [5AQ,FM,YFE,YFH]     3.0    Y               5AQ,FM,YFE,YFH  \n",
       "9                    [5AM,1KLSC]     3.0    Y                    5AM,1KLSC  "
      ]
     },
     "metadata": {},
     "output_type": "display_data"
    }
   ],
   "source": [
    "# generate copy of original df\n",
    "items_df_cl = items_df.copy()\n",
    "display(items_df_cl.head(10))\n",
    "#display(items_df.head(10))"
   ]
  },
  {
   "cell_type": "code",
   "execution_count": 154,
   "id": "e82239fe",
   "metadata": {},
   "outputs": [],
   "source": [
    "# convert all strings to lowercase\n",
    "items_df_cl = items_df.applymap(lambda s:s.lower() if type(s) == str else s)\n",
    "#display(items_df_cl.head(10))"
   ]
  },
  {
   "cell_type": "code",
   "execution_count": 157,
   "id": "57192818",
   "metadata": {},
   "outputs": [],
   "source": [
    "# insert dot after single characters\n",
    "items_df_cl[\"author_cl\"] = items_df_cl[\"author\"].astype(str).apply(lambda x: re.sub(r'([A-Z])\\.?(?![a-z])\\s*', r'\\g<1>. ', x))"
   ]
  },
  {
   "cell_type": "code",
   "execution_count": 153,
   "id": "39358202",
   "metadata": {},
   "outputs": [
    {
     "data": {
      "text/html": [
       "<div>\n",
       "<style scoped>\n",
       "    .dataframe tbody tr th:only-of-type {\n",
       "        vertical-align: middle;\n",
       "    }\n",
       "\n",
       "    .dataframe tbody tr th {\n",
       "        vertical-align: top;\n",
       "    }\n",
       "\n",
       "    .dataframe thead th {\n",
       "        text-align: right;\n",
       "    }\n",
       "</style>\n",
       "<table border=\"1\" class=\"dataframe\">\n",
       "  <thead>\n",
       "    <tr style=\"text-align: right;\">\n",
       "      <th></th>\n",
       "      <th>itemID</th>\n",
       "      <th>title</th>\n",
       "      <th>author</th>\n",
       "      <th>publisher</th>\n",
       "      <th>main topic</th>\n",
       "      <th>subtopics</th>\n",
       "      <th>mt_len</th>\n",
       "      <th>mt_0</th>\n",
       "      <th>subtopics_str</th>\n",
       "      <th>author_cl</th>\n",
       "    </tr>\n",
       "  </thead>\n",
       "  <tbody>\n",
       "    <tr>\n",
       "      <th>30784</th>\n",
       "      <td>69287</td>\n",
       "      <td>13 Kings</td>\n",
       "      <td>V. S. Nesby</td>\n",
       "      <td>Xlibris</td>\n",
       "      <td>FL</td>\n",
       "      <td>[]</td>\n",
       "      <td>2.0</td>\n",
       "      <td>F</td>\n",
       "      <td>None</td>\n",
       "      <td>V. S. Nesby</td>\n",
       "    </tr>\n",
       "    <tr>\n",
       "      <th>55425</th>\n",
       "      <td>55553</td>\n",
       "      <td>13 Kings</td>\n",
       "      <td>Vs Nesby</td>\n",
       "      <td>Xlibris US</td>\n",
       "      <td>FL</td>\n",
       "      <td>[]</td>\n",
       "      <td>2.0</td>\n",
       "      <td>F</td>\n",
       "      <td>None</td>\n",
       "      <td>Vs Nesby</td>\n",
       "    </tr>\n",
       "    <tr>\n",
       "      <th>59340</th>\n",
       "      <td>60335</td>\n",
       "      <td>13Kings</td>\n",
       "      <td>Vs Nesby</td>\n",
       "      <td>Xlibris US</td>\n",
       "      <td>FL</td>\n",
       "      <td>[]</td>\n",
       "      <td>2.0</td>\n",
       "      <td>F</td>\n",
       "      <td>None</td>\n",
       "      <td>Vs Nesby</td>\n",
       "    </tr>\n",
       "  </tbody>\n",
       "</table>\n",
       "</div>"
      ],
      "text/plain": [
       "       itemID     title       author   publisher main topic subtopics  mt_len  \\\n",
       "30784   69287  13 Kings  V. S. Nesby     Xlibris         FL        []     2.0   \n",
       "55425   55553  13 Kings     Vs Nesby  Xlibris US         FL        []     2.0   \n",
       "59340   60335   13Kings     Vs Nesby  Xlibris US         FL        []     2.0   \n",
       "\n",
       "      mt_0 subtopics_str    author_cl  \n",
       "30784    F          None  V. S. Nesby  \n",
       "55425    F          None     Vs Nesby  \n",
       "59340    F          None     Vs Nesby  "
      ]
     },
     "execution_count": 153,
     "metadata": {},
     "output_type": "execute_result"
    }
   ],
   "source": [
    "items_df_cl[items_df_cl[\"author_cl\"].str.contains('Nesby')]"
   ]
  },
  {
   "cell_type": "code",
   "execution_count": 158,
   "id": "a7ecc98b",
   "metadata": {},
   "outputs": [
    {
     "data": {
      "text/html": [
       "<div>\n",
       "<style scoped>\n",
       "    .dataframe tbody tr th:only-of-type {\n",
       "        vertical-align: middle;\n",
       "    }\n",
       "\n",
       "    .dataframe tbody tr th {\n",
       "        vertical-align: top;\n",
       "    }\n",
       "\n",
       "    .dataframe thead th {\n",
       "        text-align: right;\n",
       "    }\n",
       "</style>\n",
       "<table border=\"1\" class=\"dataframe\">\n",
       "  <thead>\n",
       "    <tr style=\"text-align: right;\">\n",
       "      <th></th>\n",
       "      <th>itemID</th>\n",
       "      <th>title</th>\n",
       "      <th>author</th>\n",
       "      <th>author_cl</th>\n",
       "    </tr>\n",
       "  </thead>\n",
       "  <tbody>\n",
       "    <tr>\n",
       "      <th>42562</th>\n",
       "      <td>30689</td>\n",
       "      <td>''2046 (back to 2046,chinese edition)</td>\n",
       "      <td>''</td>\n",
       "      <td>''</td>\n",
       "    </tr>\n",
       "    <tr>\n",
       "      <th>2011</th>\n",
       "      <td>46571</td>\n",
       "      <td>triad blood</td>\n",
       "      <td>'nathan burgoine</td>\n",
       "      <td>'nathan burgoine</td>\n",
       "    </tr>\n",
       "    <tr>\n",
       "      <th>47587</th>\n",
       "      <td>9838</td>\n",
       "      <td>el jaguar y el aguila/the jaguar and the eagle</td>\n",
       "      <td>(mixtli) graycloud</td>\n",
       "      <td>(mixtli) graycloud</td>\n",
       "    </tr>\n",
       "    <tr>\n",
       "      <th>34388</th>\n",
       "      <td>38680</td>\n",
       "      <td>can you survive an alien invasion?: an interac...</td>\n",
       "      <td>,blake hoena</td>\n",
       "      <td>,blake hoena</td>\n",
       "    </tr>\n",
       "    <tr>\n",
       "      <th>34398</th>\n",
       "      <td>44836</td>\n",
       "      <td>christmas carol</td>\n",
       "      <td>,charles dickens</td>\n",
       "      <td>,charles dickens</td>\n",
       "    </tr>\n",
       "    <tr>\n",
       "      <th>...</th>\n",
       "      <td>...</td>\n",
       "      <td>...</td>\n",
       "      <td>...</td>\n",
       "      <td>...</td>\n",
       "    </tr>\n",
       "    <tr>\n",
       "      <th>72017</th>\n",
       "      <td>1409</td>\n",
       "      <td>dark stars - complete trilogy</td>\n",
       "      <td>a. k. duboff</td>\n",
       "      <td>a. k. duboff</td>\n",
       "    </tr>\n",
       "    <tr>\n",
       "      <th>31969</th>\n",
       "      <td>29050</td>\n",
       "      <td>schattenkrieger</td>\n",
       "      <td>a. k. hardware</td>\n",
       "      <td>a. k. hardware</td>\n",
       "    </tr>\n",
       "    <tr>\n",
       "      <th>56624</th>\n",
       "      <td>73329</td>\n",
       "      <td>god is my superhero</td>\n",
       "      <td>a. k. kronicles</td>\n",
       "      <td>a. k. kronicles</td>\n",
       "    </tr>\n",
       "    <tr>\n",
       "      <th>72539</th>\n",
       "      <td>7358</td>\n",
       "      <td>imperium heirs</td>\n",
       "      <td>a. k. kuykendall</td>\n",
       "      <td>a. k. kuykendall</td>\n",
       "    </tr>\n",
       "    <tr>\n",
       "      <th>10843</th>\n",
       "      <td>40579</td>\n",
       "      <td>die dunklen pfade der magie</td>\n",
       "      <td>a. k. larkwood</td>\n",
       "      <td>a. k. larkwood</td>\n",
       "    </tr>\n",
       "  </tbody>\n",
       "</table>\n",
       "<p>200 rows × 4 columns</p>\n",
       "</div>"
      ],
      "text/plain": [
       "       itemID                                              title  \\\n",
       "42562   30689              ''2046 (back to 2046,chinese edition)   \n",
       "2011    46571                                        triad blood   \n",
       "47587    9838     el jaguar y el aguila/the jaguar and the eagle   \n",
       "34388   38680  can you survive an alien invasion?: an interac...   \n",
       "34398   44836                                    christmas carol   \n",
       "...       ...                                                ...   \n",
       "72017    1409                      dark stars - complete trilogy   \n",
       "31969   29050                                    schattenkrieger   \n",
       "56624   73329                                god is my superhero   \n",
       "72539    7358                                     imperium heirs   \n",
       "10843   40579                        die dunklen pfade der magie   \n",
       "\n",
       "                   author           author_cl  \n",
       "42562                  ''                  ''  \n",
       "2011     'nathan burgoine    'nathan burgoine  \n",
       "47587  (mixtli) graycloud  (mixtli) graycloud  \n",
       "34388        ,blake hoena        ,blake hoena  \n",
       "34398    ,charles dickens    ,charles dickens  \n",
       "...                   ...                 ...  \n",
       "72017        a. k. duboff        a. k. duboff  \n",
       "31969      a. k. hardware      a. k. hardware  \n",
       "56624     a. k. kronicles     a. k. kronicles  \n",
       "72539    a. k. kuykendall    a. k. kuykendall  \n",
       "10843      a. k. larkwood      a. k. larkwood  \n",
       "\n",
       "[200 rows x 4 columns]"
      ]
     },
     "execution_count": 158,
     "metadata": {},
     "output_type": "execute_result"
    }
   ],
   "source": [
    "# inspect df\n",
    "items_df_cl[~items_df_cl['author'].isna()].sort_values(by='author').head(200)[['itemID','title', 'author','author_cl']]"
   ]
  },
  {
   "cell_type": "markdown",
   "id": "dfbe3a19",
   "metadata": {},
   "source": [
    "## Feature Engineering"
   ]
  },
  {
   "cell_type": "markdown",
   "id": "de54f822",
   "metadata": {},
   "source": [
    "### Language flag"
   ]
  },
  {
   "cell_type": "markdown",
   "id": "f2313093",
   "metadata": {},
   "source": [
    "### Topic Similarity"
   ]
  }
 ],
 "metadata": {
  "kernelspec": {
   "display_name": "Python 3",
   "language": "python",
   "name": "python3"
  },
  "language_info": {
   "codemirror_mode": {
    "name": "ipython",
    "version": 3
   },
   "file_extension": ".py",
   "mimetype": "text/x-python",
   "name": "python",
   "nbconvert_exporter": "python",
   "pygments_lexer": "ipython3",
   "version": "3.9.2"
  },
  "toc": {
   "base_numbering": 1,
   "nav_menu": {
    "height": "12px",
    "width": "160px"
   },
   "number_sections": true,
   "sideBar": true,
   "skip_h1_title": true,
   "title_cell": "Table of Contents",
   "title_sidebar": "Contents",
   "toc_cell": false,
   "toc_position": {
    "height": "calc(100% - 180px)",
    "left": "10px",
    "top": "150px",
    "width": "294px"
   },
   "toc_section_display": true,
   "toc_window_display": true
  }
 },
 "nbformat": 4,
 "nbformat_minor": 5
}