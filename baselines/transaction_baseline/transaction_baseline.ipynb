{
 "cells": [
  {
   "cell_type": "markdown",
   "metadata": {},
   "source": [
    "# Demo of Transaction Baseline"
   ]
  },
  {
   "cell_type": "code",
   "execution_count": 2,
   "metadata": {},
   "outputs": [
    {
     "name": "stderr",
     "output_type": "stream",
     "text": [
      "[nltk_data] Downloading package stopwords to\n",
      "[nltk_data]     C:\\Users\\esthe\\AppData\\Roaming\\nltk_data...\n",
      "[nltk_data]   Unzipping corpora\\stopwords.zip.\n"
     ]
    },
    {
     "data": {
      "text/plain": "   sessionID  itemID  click  basket  order\n0          0   21310      1       0      0\n1          1   73018      1       0      0\n2          2   19194      1       0      0\n3          3   40250      1       0      0\n4          4   46107      1       0      0",
      "text/html": "<div>\n<style scoped>\n    .dataframe tbody tr th:only-of-type {\n        vertical-align: middle;\n    }\n\n    .dataframe tbody tr th {\n        vertical-align: top;\n    }\n\n    .dataframe thead th {\n        text-align: right;\n    }\n</style>\n<table border=\"1\" class=\"dataframe\">\n  <thead>\n    <tr style=\"text-align: right;\">\n      <th></th>\n      <th>sessionID</th>\n      <th>itemID</th>\n      <th>click</th>\n      <th>basket</th>\n      <th>order</th>\n    </tr>\n  </thead>\n  <tbody>\n    <tr>\n      <th>0</th>\n      <td>0</td>\n      <td>21310</td>\n      <td>1</td>\n      <td>0</td>\n      <td>0</td>\n    </tr>\n    <tr>\n      <th>1</th>\n      <td>1</td>\n      <td>73018</td>\n      <td>1</td>\n      <td>0</td>\n      <td>0</td>\n    </tr>\n    <tr>\n      <th>2</th>\n      <td>2</td>\n      <td>19194</td>\n      <td>1</td>\n      <td>0</td>\n      <td>0</td>\n    </tr>\n    <tr>\n      <th>3</th>\n      <td>3</td>\n      <td>40250</td>\n      <td>1</td>\n      <td>0</td>\n      <td>0</td>\n    </tr>\n    <tr>\n      <th>4</th>\n      <td>4</td>\n      <td>46107</td>\n      <td>1</td>\n      <td>0</td>\n      <td>0</td>\n    </tr>\n  </tbody>\n</table>\n</div>"
     },
     "execution_count": 2,
     "metadata": {},
     "output_type": "execute_result"
    }
   ],
   "source": [
    "import pandas as pd\n",
    "import sys\n",
    "from baseline_transaction import recommend_based_on_transactions\n",
    "\n",
    "\n",
    "df_transactions = pd.read_csv(r'../../tempData/sourceData/transactions.csv', sep = '|')\n",
    "df_items = pd.read_csv(r'../../tempData/sourceData/items.csv', sep = '|')\n",
    "df_transactions.head()"
   ]
  },
  {
   "cell_type": "markdown",
   "metadata": {},
   "source": [
    "## Example of Recommendations"
   ]
  },
  {
   "cell_type": "code",
   "execution_count": 2,
   "metadata": {},
   "outputs": [
    {
     "name": "stdout",
     "output_type": "stream",
     "text": [
      "Find recommendations based on: \n",
      "Einfach zeichnen! Step by Step by Wiebke Krabbe.\n",
      "\n",
      "\n",
      "We recommend: \n",
      "1. Ich kann 1000 Dinge zeichnen. Kritzeln wie ein Profi! by Norbert Pautner.\n",
      "2. Die Kunst des Zeichnens für Kinder by Gecko Keck.\n",
      "3. Und plötzlich war Frau Honig da by Sabine Bohlmann.\n",
      "4. Die Kunst des Zeichnens für Kinder Übungsbuch by Gecko Keck.\n",
      "5. All die schönen Tiere zeichnen. Ganz einfach in vier Schritten. Eine Zeichenschule für Kinder ab 5 J by Barroux.\n"
     ]
    },
    {
     "data": {
      "text/plain": [
       "[63730, 69185, 18805, 17783, 61619]"
      ]
     },
     "execution_count": 2,
     "metadata": {},
     "output_type": "execute_result"
    }
   ],
   "source": [
    "# Choose Item ID\n",
    "given_item_id = 73018\n",
    "\n",
    "recommend_based_on_transactions(df_transactions, df_items, given_item_id, sort_by=\"sum\", \n",
    "                                max_number_recommendation=5, verbose=1)"
   ]
  },
  {
   "cell_type": "code",
   "execution_count": 3,
   "metadata": {},
   "outputs": [
    {
     "name": "stdout",
     "output_type": "stream",
     "text": [
      "Find recommendations based on: \n",
      "Unsere Erde by Angela Weinhold.\n",
      "\n",
      "\n",
      "We recommend: \n",
      "1. Wir entdecken den Weltraum by Andrea Erne, Peter Nieländer.\n",
      "2. Experimentieren und Entdecken by Angela Weinhold.\n",
      "3. Die Uhr und die Zeit by Angela Weinhold.\n",
      "4. Kindergartenfreunde by Pia Loewe.\n",
      "5. Feuerwehrmann Sam: Kindergartenfreundebuch by nan.\n"
     ]
    },
    {
     "data": {
      "text/plain": [
       "[26340, 69619, 4521, 43126, 63186]"
      ]
     },
     "execution_count": 3,
     "metadata": {},
     "output_type": "execute_result"
    }
   ],
   "source": [
    "# Choose Item ID\n",
    "given_item_id = 54876\n",
    "\n",
    "recommend_based_on_transactions(df_transactions, df_items, given_item_id, sort_by=\"sum\", \n",
    "                                max_number_recommendation=5, verbose=1)"
   ]
  },
  {
   "cell_type": "code",
   "execution_count": 4,
   "metadata": {},
   "outputs": [
    {
     "name": "stdout",
     "output_type": "stream",
     "text": [
      "Find recommendations based on: \n",
      "Der Herr der Ringe by J. R. R. Tolkien.\n",
      "\n",
      "\n",
      "We recommend: \n",
      "1. Der Herr der Ringe - Neuausgabe 2012 by John R Tolkien.\n",
      "2. Der Hobbit by John Ronald Reuel Tolkien.\n",
      "3. The Lord of the Rings Boxed Set. 60th Anniversary edition by J. R. R. Tolkien.\n",
      "4. Das große Hobbit-Buch by John R Tolkien.\n",
      "5. Der kleine Hobbit Normalformat by John Ronald Reuel Tolkien.\n"
     ]
    },
    {
     "data": {
      "text/plain": [
       "[20936, 64181, 36080, 20454, 46305]"
      ]
     },
     "execution_count": 4,
     "metadata": {},
     "output_type": "execute_result"
    }
   ],
   "source": [
    "# Choose Item ID\n",
    "given_item_id = 15581\n",
    "\n",
    "recommend_based_on_transactions(df_transactions, df_items, given_item_id, sort_by=\"sum\", \n",
    "                                max_number_recommendation=5, verbose=1)"
   ]
  },
  {
   "cell_type": "markdown",
   "metadata": {},
   "source": [
    "## Example of not enough data"
   ]
  },
  {
   "cell_type": "code",
   "execution_count": 5,
   "metadata": {},
   "outputs": [
    {
     "name": "stdout",
     "output_type": "stream",
     "text": [
      "Find recommendations based on: \n",
      "Princess Poppy: The Big Mix Up by Janey Louise Jones.\n",
      "\n",
      "\n",
      "We recommend: \n",
      "1. Not enough data to give recommendation\n",
      "2. Not enough data to give recommendation\n",
      "3. Not enough data to give recommendation\n",
      "4. Not enough data to give recommendation\n",
      "5. Not enough data to give recommendation\n"
     ]
    },
    {
     "data": {
      "text/plain": [
       "[]"
      ]
     },
     "execution_count": 5,
     "metadata": {},
     "output_type": "execute_result"
    }
   ],
   "source": [
    "# Choose Item ID\n",
    "given_item_id = 21310\n",
    "\n",
    "recommend_based_on_transactions(df_transactions, df_items, given_item_id, sort_by=\"sum\", \n",
    "                                max_number_recommendation=5, verbose=1)"
   ]
  },
  {
   "cell_type": "code",
   "execution_count": 6,
   "metadata": {},
   "outputs": [
    {
     "name": "stdout",
     "output_type": "stream",
     "text": [
      "Find recommendations based on: \n",
      "Princess Poppy: The Big Mix Up by Janey Louise Jones.\n",
      "\n",
      "\n",
      "We recommend: \n",
      "1. Not enough data to give recommendation\n",
      "2. Not enough data to give recommendation\n",
      "3. Not enough data to give recommendation\n",
      "4. Not enough data to give recommendation\n",
      "5. Not enough data to give recommendation\n"
     ]
    },
    {
     "data": {
      "text/plain": [
       "[]"
      ]
     },
     "execution_count": 6,
     "metadata": {},
     "output_type": "execute_result"
    }
   ],
   "source": [
    "recommend_based_on_transactions(df_transactions, df_items, given_item_id, sort_by=\"sum\", \n",
    "                                max_number_recommendation=5, verbose=1)"
   ]
  }
 ],
 "metadata": {
  "kernelspec": {
   "display_name": "Python 3",
   "language": "python",
   "name": "python3"
  },
  "language_info": {
   "codemirror_mode": {
    "name": "ipython",
    "version": 3
   },
   "file_extension": ".py",
   "mimetype": "text/x-python",
   "name": "python",
   "nbconvert_exporter": "python",
   "pygments_lexer": "ipython3",
   "version": "3.6.12"
  }
 },
 "nbformat": 4,
 "nbformat_minor": 4
}